{
  "nbformat": 4,
  "nbformat_minor": 0,
  "metadata": {
    "colab": {
      "provenance": [],
      "gpuType": "T4",
      "authorship_tag": "ABX9TyPovkA22pUYMTCwIJwwX7xN",
      "include_colab_link": true
    },
    "kernelspec": {
      "name": "python3",
      "display_name": "Python 3"
    },
    "language_info": {
      "name": "python"
    },
    "accelerator": "GPU"
  },
  "cells": [
    {
      "cell_type": "markdown",
      "metadata": {
        "id": "view-in-github",
        "colab_type": "text"
      },
      "source": [
        "<a href=\"https://colab.research.google.com/github/Rajnishmaurya/ML-/blob/main/Ensemble_learning_(Stacking).ipynb\" target=\"_parent\"><img src=\"https://colab.research.google.com/assets/colab-badge.svg\" alt=\"Open In Colab\"/></a>"
      ]
    },
    {
      "cell_type": "markdown",
      "source": [
        "Stacking is a type of ensemble technique which combines the predictions of two or more models, also called base model, and use the combination as the input for a new model(meta-model) i.e. a new model is trainedon the predictions of the base models."
      ],
      "metadata": {
        "id": "zYrFFxvF5zKl"
      }
    },
    {
      "cell_type": "code",
      "execution_count": 37,
      "metadata": {
        "id": "CDQCJZyxtmS8"
      },
      "outputs": [],
      "source": [
        "import pandas as pd\n",
        "from sklearn.svm import SVC\n",
        "from sklearn.neighbors import KNeighborsClassifier\n",
        "from sklearn.ensemble import RandomForestClassifier\n",
        "from sklearn import tree\n",
        "from sklearn.model_selection import train_test_split,GridSearchCV\n",
        "import numpy as np"
      ]
    },
    {
      "cell_type": "code",
      "source": [
        "url=\"https://raw.githubusercontent.com/Rajnishmaurya/ML-/main/diabetes.csv\"\n",
        "data=pd.read_csv(url)"
      ],
      "metadata": {
        "id": "dX6Wttz06400"
      },
      "execution_count": 3,
      "outputs": []
    },
    {
      "cell_type": "code",
      "source": [
        "data"
      ],
      "metadata": {
        "colab": {
          "base_uri": "https://localhost:8080/",
          "height": 423
        },
        "id": "j4JYckhw7BDb",
        "outputId": "9c9e148c-f783-45d6-972e-42bcd6b0f0e6"
      },
      "execution_count": 4,
      "outputs": [
        {
          "output_type": "execute_result",
          "data": {
            "text/plain": [
              "     Pregnancies  Glucose  BloodPressure  SkinThickness  Insulin   BMI  \\\n",
              "0              6      148             72             35        0  33.6   \n",
              "1              1       85             66             29        0  26.6   \n",
              "2              8      183             64              0        0  23.3   \n",
              "3              1       89             66             23       94  28.1   \n",
              "4              0      137             40             35      168  43.1   \n",
              "..           ...      ...            ...            ...      ...   ...   \n",
              "763           10      101             76             48      180  32.9   \n",
              "764            2      122             70             27        0  36.8   \n",
              "765            5      121             72             23      112  26.2   \n",
              "766            1      126             60              0        0  30.1   \n",
              "767            1       93             70             31        0  30.4   \n",
              "\n",
              "     DiabetesPedigreeFunction  Age  Outcome  \n",
              "0                       0.627   50        1  \n",
              "1                       0.351   31        0  \n",
              "2                       0.672   32        1  \n",
              "3                       0.167   21        0  \n",
              "4                       2.288   33        1  \n",
              "..                        ...  ...      ...  \n",
              "763                     0.171   63        0  \n",
              "764                     0.340   27        0  \n",
              "765                     0.245   30        0  \n",
              "766                     0.349   47        1  \n",
              "767                     0.315   23        0  \n",
              "\n",
              "[768 rows x 9 columns]"
            ],
            "text/html": [
              "\n",
              "  <div id=\"df-229bd467-eb66-4447-bff0-b8e4e52231a6\" class=\"colab-df-container\">\n",
              "    <div>\n",
              "<style scoped>\n",
              "    .dataframe tbody tr th:only-of-type {\n",
              "        vertical-align: middle;\n",
              "    }\n",
              "\n",
              "    .dataframe tbody tr th {\n",
              "        vertical-align: top;\n",
              "    }\n",
              "\n",
              "    .dataframe thead th {\n",
              "        text-align: right;\n",
              "    }\n",
              "</style>\n",
              "<table border=\"1\" class=\"dataframe\">\n",
              "  <thead>\n",
              "    <tr style=\"text-align: right;\">\n",
              "      <th></th>\n",
              "      <th>Pregnancies</th>\n",
              "      <th>Glucose</th>\n",
              "      <th>BloodPressure</th>\n",
              "      <th>SkinThickness</th>\n",
              "      <th>Insulin</th>\n",
              "      <th>BMI</th>\n",
              "      <th>DiabetesPedigreeFunction</th>\n",
              "      <th>Age</th>\n",
              "      <th>Outcome</th>\n",
              "    </tr>\n",
              "  </thead>\n",
              "  <tbody>\n",
              "    <tr>\n",
              "      <th>0</th>\n",
              "      <td>6</td>\n",
              "      <td>148</td>\n",
              "      <td>72</td>\n",
              "      <td>35</td>\n",
              "      <td>0</td>\n",
              "      <td>33.6</td>\n",
              "      <td>0.627</td>\n",
              "      <td>50</td>\n",
              "      <td>1</td>\n",
              "    </tr>\n",
              "    <tr>\n",
              "      <th>1</th>\n",
              "      <td>1</td>\n",
              "      <td>85</td>\n",
              "      <td>66</td>\n",
              "      <td>29</td>\n",
              "      <td>0</td>\n",
              "      <td>26.6</td>\n",
              "      <td>0.351</td>\n",
              "      <td>31</td>\n",
              "      <td>0</td>\n",
              "    </tr>\n",
              "    <tr>\n",
              "      <th>2</th>\n",
              "      <td>8</td>\n",
              "      <td>183</td>\n",
              "      <td>64</td>\n",
              "      <td>0</td>\n",
              "      <td>0</td>\n",
              "      <td>23.3</td>\n",
              "      <td>0.672</td>\n",
              "      <td>32</td>\n",
              "      <td>1</td>\n",
              "    </tr>\n",
              "    <tr>\n",
              "      <th>3</th>\n",
              "      <td>1</td>\n",
              "      <td>89</td>\n",
              "      <td>66</td>\n",
              "      <td>23</td>\n",
              "      <td>94</td>\n",
              "      <td>28.1</td>\n",
              "      <td>0.167</td>\n",
              "      <td>21</td>\n",
              "      <td>0</td>\n",
              "    </tr>\n",
              "    <tr>\n",
              "      <th>4</th>\n",
              "      <td>0</td>\n",
              "      <td>137</td>\n",
              "      <td>40</td>\n",
              "      <td>35</td>\n",
              "      <td>168</td>\n",
              "      <td>43.1</td>\n",
              "      <td>2.288</td>\n",
              "      <td>33</td>\n",
              "      <td>1</td>\n",
              "    </tr>\n",
              "    <tr>\n",
              "      <th>...</th>\n",
              "      <td>...</td>\n",
              "      <td>...</td>\n",
              "      <td>...</td>\n",
              "      <td>...</td>\n",
              "      <td>...</td>\n",
              "      <td>...</td>\n",
              "      <td>...</td>\n",
              "      <td>...</td>\n",
              "      <td>...</td>\n",
              "    </tr>\n",
              "    <tr>\n",
              "      <th>763</th>\n",
              "      <td>10</td>\n",
              "      <td>101</td>\n",
              "      <td>76</td>\n",
              "      <td>48</td>\n",
              "      <td>180</td>\n",
              "      <td>32.9</td>\n",
              "      <td>0.171</td>\n",
              "      <td>63</td>\n",
              "      <td>0</td>\n",
              "    </tr>\n",
              "    <tr>\n",
              "      <th>764</th>\n",
              "      <td>2</td>\n",
              "      <td>122</td>\n",
              "      <td>70</td>\n",
              "      <td>27</td>\n",
              "      <td>0</td>\n",
              "      <td>36.8</td>\n",
              "      <td>0.340</td>\n",
              "      <td>27</td>\n",
              "      <td>0</td>\n",
              "    </tr>\n",
              "    <tr>\n",
              "      <th>765</th>\n",
              "      <td>5</td>\n",
              "      <td>121</td>\n",
              "      <td>72</td>\n",
              "      <td>23</td>\n",
              "      <td>112</td>\n",
              "      <td>26.2</td>\n",
              "      <td>0.245</td>\n",
              "      <td>30</td>\n",
              "      <td>0</td>\n",
              "    </tr>\n",
              "    <tr>\n",
              "      <th>766</th>\n",
              "      <td>1</td>\n",
              "      <td>126</td>\n",
              "      <td>60</td>\n",
              "      <td>0</td>\n",
              "      <td>0</td>\n",
              "      <td>30.1</td>\n",
              "      <td>0.349</td>\n",
              "      <td>47</td>\n",
              "      <td>1</td>\n",
              "    </tr>\n",
              "    <tr>\n",
              "      <th>767</th>\n",
              "      <td>1</td>\n",
              "      <td>93</td>\n",
              "      <td>70</td>\n",
              "      <td>31</td>\n",
              "      <td>0</td>\n",
              "      <td>30.4</td>\n",
              "      <td>0.315</td>\n",
              "      <td>23</td>\n",
              "      <td>0</td>\n",
              "    </tr>\n",
              "  </tbody>\n",
              "</table>\n",
              "<p>768 rows × 9 columns</p>\n",
              "</div>\n",
              "    <div class=\"colab-df-buttons\">\n",
              "\n",
              "  <div class=\"colab-df-container\">\n",
              "    <button class=\"colab-df-convert\" onclick=\"convertToInteractive('df-229bd467-eb66-4447-bff0-b8e4e52231a6')\"\n",
              "            title=\"Convert this dataframe to an interactive table.\"\n",
              "            style=\"display:none;\">\n",
              "\n",
              "  <svg xmlns=\"http://www.w3.org/2000/svg\" height=\"24px\" viewBox=\"0 -960 960 960\">\n",
              "    <path d=\"M120-120v-720h720v720H120Zm60-500h600v-160H180v160Zm220 220h160v-160H400v160Zm0 220h160v-160H400v160ZM180-400h160v-160H180v160Zm440 0h160v-160H620v160ZM180-180h160v-160H180v160Zm440 0h160v-160H620v160Z\"/>\n",
              "  </svg>\n",
              "    </button>\n",
              "\n",
              "  <style>\n",
              "    .colab-df-container {\n",
              "      display:flex;\n",
              "      gap: 12px;\n",
              "    }\n",
              "\n",
              "    .colab-df-convert {\n",
              "      background-color: #E8F0FE;\n",
              "      border: none;\n",
              "      border-radius: 50%;\n",
              "      cursor: pointer;\n",
              "      display: none;\n",
              "      fill: #1967D2;\n",
              "      height: 32px;\n",
              "      padding: 0 0 0 0;\n",
              "      width: 32px;\n",
              "    }\n",
              "\n",
              "    .colab-df-convert:hover {\n",
              "      background-color: #E2EBFA;\n",
              "      box-shadow: 0px 1px 2px rgba(60, 64, 67, 0.3), 0px 1px 3px 1px rgba(60, 64, 67, 0.15);\n",
              "      fill: #174EA6;\n",
              "    }\n",
              "\n",
              "    .colab-df-buttons div {\n",
              "      margin-bottom: 4px;\n",
              "    }\n",
              "\n",
              "    [theme=dark] .colab-df-convert {\n",
              "      background-color: #3B4455;\n",
              "      fill: #D2E3FC;\n",
              "    }\n",
              "\n",
              "    [theme=dark] .colab-df-convert:hover {\n",
              "      background-color: #434B5C;\n",
              "      box-shadow: 0px 1px 3px 1px rgba(0, 0, 0, 0.15);\n",
              "      filter: drop-shadow(0px 1px 2px rgba(0, 0, 0, 0.3));\n",
              "      fill: #FFFFFF;\n",
              "    }\n",
              "  </style>\n",
              "\n",
              "    <script>\n",
              "      const buttonEl =\n",
              "        document.querySelector('#df-229bd467-eb66-4447-bff0-b8e4e52231a6 button.colab-df-convert');\n",
              "      buttonEl.style.display =\n",
              "        google.colab.kernel.accessAllowed ? 'block' : 'none';\n",
              "\n",
              "      async function convertToInteractive(key) {\n",
              "        const element = document.querySelector('#df-229bd467-eb66-4447-bff0-b8e4e52231a6');\n",
              "        const dataTable =\n",
              "          await google.colab.kernel.invokeFunction('convertToInteractive',\n",
              "                                                    [key], {});\n",
              "        if (!dataTable) return;\n",
              "\n",
              "        const docLinkHtml = 'Like what you see? Visit the ' +\n",
              "          '<a target=\"_blank\" href=https://colab.research.google.com/notebooks/data_table.ipynb>data table notebook</a>'\n",
              "          + ' to learn more about interactive tables.';\n",
              "        element.innerHTML = '';\n",
              "        dataTable['output_type'] = 'display_data';\n",
              "        await google.colab.output.renderOutput(dataTable, element);\n",
              "        const docLink = document.createElement('div');\n",
              "        docLink.innerHTML = docLinkHtml;\n",
              "        element.appendChild(docLink);\n",
              "      }\n",
              "    </script>\n",
              "  </div>\n",
              "\n",
              "\n",
              "<div id=\"df-9944847b-45dc-4381-bd3c-959d22393164\">\n",
              "  <button class=\"colab-df-quickchart\" onclick=\"quickchart('df-9944847b-45dc-4381-bd3c-959d22393164')\"\n",
              "            title=\"Suggest charts\"\n",
              "            style=\"display:none;\">\n",
              "\n",
              "<svg xmlns=\"http://www.w3.org/2000/svg\" height=\"24px\"viewBox=\"0 0 24 24\"\n",
              "     width=\"24px\">\n",
              "    <g>\n",
              "        <path d=\"M19 3H5c-1.1 0-2 .9-2 2v14c0 1.1.9 2 2 2h14c1.1 0 2-.9 2-2V5c0-1.1-.9-2-2-2zM9 17H7v-7h2v7zm4 0h-2V7h2v10zm4 0h-2v-4h2v4z\"/>\n",
              "    </g>\n",
              "</svg>\n",
              "  </button>\n",
              "\n",
              "<style>\n",
              "  .colab-df-quickchart {\n",
              "      --bg-color: #E8F0FE;\n",
              "      --fill-color: #1967D2;\n",
              "      --hover-bg-color: #E2EBFA;\n",
              "      --hover-fill-color: #174EA6;\n",
              "      --disabled-fill-color: #AAA;\n",
              "      --disabled-bg-color: #DDD;\n",
              "  }\n",
              "\n",
              "  [theme=dark] .colab-df-quickchart {\n",
              "      --bg-color: #3B4455;\n",
              "      --fill-color: #D2E3FC;\n",
              "      --hover-bg-color: #434B5C;\n",
              "      --hover-fill-color: #FFFFFF;\n",
              "      --disabled-bg-color: #3B4455;\n",
              "      --disabled-fill-color: #666;\n",
              "  }\n",
              "\n",
              "  .colab-df-quickchart {\n",
              "    background-color: var(--bg-color);\n",
              "    border: none;\n",
              "    border-radius: 50%;\n",
              "    cursor: pointer;\n",
              "    display: none;\n",
              "    fill: var(--fill-color);\n",
              "    height: 32px;\n",
              "    padding: 0;\n",
              "    width: 32px;\n",
              "  }\n",
              "\n",
              "  .colab-df-quickchart:hover {\n",
              "    background-color: var(--hover-bg-color);\n",
              "    box-shadow: 0 1px 2px rgba(60, 64, 67, 0.3), 0 1px 3px 1px rgba(60, 64, 67, 0.15);\n",
              "    fill: var(--button-hover-fill-color);\n",
              "  }\n",
              "\n",
              "  .colab-df-quickchart-complete:disabled,\n",
              "  .colab-df-quickchart-complete:disabled:hover {\n",
              "    background-color: var(--disabled-bg-color);\n",
              "    fill: var(--disabled-fill-color);\n",
              "    box-shadow: none;\n",
              "  }\n",
              "\n",
              "  .colab-df-spinner {\n",
              "    border: 2px solid var(--fill-color);\n",
              "    border-color: transparent;\n",
              "    border-bottom-color: var(--fill-color);\n",
              "    animation:\n",
              "      spin 1s steps(1) infinite;\n",
              "  }\n",
              "\n",
              "  @keyframes spin {\n",
              "    0% {\n",
              "      border-color: transparent;\n",
              "      border-bottom-color: var(--fill-color);\n",
              "      border-left-color: var(--fill-color);\n",
              "    }\n",
              "    20% {\n",
              "      border-color: transparent;\n",
              "      border-left-color: var(--fill-color);\n",
              "      border-top-color: var(--fill-color);\n",
              "    }\n",
              "    30% {\n",
              "      border-color: transparent;\n",
              "      border-left-color: var(--fill-color);\n",
              "      border-top-color: var(--fill-color);\n",
              "      border-right-color: var(--fill-color);\n",
              "    }\n",
              "    40% {\n",
              "      border-color: transparent;\n",
              "      border-right-color: var(--fill-color);\n",
              "      border-top-color: var(--fill-color);\n",
              "    }\n",
              "    60% {\n",
              "      border-color: transparent;\n",
              "      border-right-color: var(--fill-color);\n",
              "    }\n",
              "    80% {\n",
              "      border-color: transparent;\n",
              "      border-right-color: var(--fill-color);\n",
              "      border-bottom-color: var(--fill-color);\n",
              "    }\n",
              "    90% {\n",
              "      border-color: transparent;\n",
              "      border-bottom-color: var(--fill-color);\n",
              "    }\n",
              "  }\n",
              "</style>\n",
              "\n",
              "  <script>\n",
              "    async function quickchart(key) {\n",
              "      const quickchartButtonEl =\n",
              "        document.querySelector('#' + key + ' button');\n",
              "      quickchartButtonEl.disabled = true;  // To prevent multiple clicks.\n",
              "      quickchartButtonEl.classList.add('colab-df-spinner');\n",
              "      try {\n",
              "        const charts = await google.colab.kernel.invokeFunction(\n",
              "            'suggestCharts', [key], {});\n",
              "      } catch (error) {\n",
              "        console.error('Error during call to suggestCharts:', error);\n",
              "      }\n",
              "      quickchartButtonEl.classList.remove('colab-df-spinner');\n",
              "      quickchartButtonEl.classList.add('colab-df-quickchart-complete');\n",
              "    }\n",
              "    (() => {\n",
              "      let quickchartButtonEl =\n",
              "        document.querySelector('#df-9944847b-45dc-4381-bd3c-959d22393164 button');\n",
              "      quickchartButtonEl.style.display =\n",
              "        google.colab.kernel.accessAllowed ? 'block' : 'none';\n",
              "    })();\n",
              "  </script>\n",
              "</div>\n",
              "\n",
              "  <div id=\"id_7afe7f96-055d-42fd-bcab-a31555088059\">\n",
              "    <style>\n",
              "      .colab-df-generate {\n",
              "        background-color: #E8F0FE;\n",
              "        border: none;\n",
              "        border-radius: 50%;\n",
              "        cursor: pointer;\n",
              "        display: none;\n",
              "        fill: #1967D2;\n",
              "        height: 32px;\n",
              "        padding: 0 0 0 0;\n",
              "        width: 32px;\n",
              "      }\n",
              "\n",
              "      .colab-df-generate:hover {\n",
              "        background-color: #E2EBFA;\n",
              "        box-shadow: 0px 1px 2px rgba(60, 64, 67, 0.3), 0px 1px 3px 1px rgba(60, 64, 67, 0.15);\n",
              "        fill: #174EA6;\n",
              "      }\n",
              "\n",
              "      [theme=dark] .colab-df-generate {\n",
              "        background-color: #3B4455;\n",
              "        fill: #D2E3FC;\n",
              "      }\n",
              "\n",
              "      [theme=dark] .colab-df-generate:hover {\n",
              "        background-color: #434B5C;\n",
              "        box-shadow: 0px 1px 3px 1px rgba(0, 0, 0, 0.15);\n",
              "        filter: drop-shadow(0px 1px 2px rgba(0, 0, 0, 0.3));\n",
              "        fill: #FFFFFF;\n",
              "      }\n",
              "    </style>\n",
              "    <button class=\"colab-df-generate\" onclick=\"generateWithVariable('data')\"\n",
              "            title=\"Generate code using this dataframe.\"\n",
              "            style=\"display:none;\">\n",
              "\n",
              "  <svg xmlns=\"http://www.w3.org/2000/svg\" height=\"24px\"viewBox=\"0 0 24 24\"\n",
              "       width=\"24px\">\n",
              "    <path d=\"M7,19H8.4L18.45,9,17,7.55,7,17.6ZM5,21V16.75L18.45,3.32a2,2,0,0,1,2.83,0l1.4,1.43a1.91,1.91,0,0,1,.58,1.4,1.91,1.91,0,0,1-.58,1.4L9.25,21ZM18.45,9,17,7.55Zm-12,3A5.31,5.31,0,0,0,4.9,8.1,5.31,5.31,0,0,0,1,6.5,5.31,5.31,0,0,0,4.9,4.9,5.31,5.31,0,0,0,6.5,1,5.31,5.31,0,0,0,8.1,4.9,5.31,5.31,0,0,0,12,6.5,5.46,5.46,0,0,0,6.5,12Z\"/>\n",
              "  </svg>\n",
              "    </button>\n",
              "    <script>\n",
              "      (() => {\n",
              "      const buttonEl =\n",
              "        document.querySelector('#id_7afe7f96-055d-42fd-bcab-a31555088059 button.colab-df-generate');\n",
              "      buttonEl.style.display =\n",
              "        google.colab.kernel.accessAllowed ? 'block' : 'none';\n",
              "\n",
              "      buttonEl.onclick = () => {\n",
              "        google.colab.notebook.generateWithVariable('data');\n",
              "      }\n",
              "      })();\n",
              "    </script>\n",
              "  </div>\n",
              "\n",
              "    </div>\n",
              "  </div>\n"
            ],
            "application/vnd.google.colaboratory.intrinsic+json": {
              "type": "dataframe",
              "variable_name": "data",
              "summary": "{\n  \"name\": \"data\",\n  \"rows\": 768,\n  \"fields\": [\n    {\n      \"column\": \"Pregnancies\",\n      \"properties\": {\n        \"dtype\": \"number\",\n        \"std\": 3,\n        \"min\": 0,\n        \"max\": 17,\n        \"num_unique_values\": 17,\n        \"samples\": [\n          6,\n          1,\n          3\n        ],\n        \"semantic_type\": \"\",\n        \"description\": \"\"\n      }\n    },\n    {\n      \"column\": \"Glucose\",\n      \"properties\": {\n        \"dtype\": \"number\",\n        \"std\": 31,\n        \"min\": 0,\n        \"max\": 199,\n        \"num_unique_values\": 136,\n        \"samples\": [\n          151,\n          101,\n          112\n        ],\n        \"semantic_type\": \"\",\n        \"description\": \"\"\n      }\n    },\n    {\n      \"column\": \"BloodPressure\",\n      \"properties\": {\n        \"dtype\": \"number\",\n        \"std\": 19,\n        \"min\": 0,\n        \"max\": 122,\n        \"num_unique_values\": 47,\n        \"samples\": [\n          86,\n          46,\n          85\n        ],\n        \"semantic_type\": \"\",\n        \"description\": \"\"\n      }\n    },\n    {\n      \"column\": \"SkinThickness\",\n      \"properties\": {\n        \"dtype\": \"number\",\n        \"std\": 15,\n        \"min\": 0,\n        \"max\": 99,\n        \"num_unique_values\": 51,\n        \"samples\": [\n          7,\n          12,\n          48\n        ],\n        \"semantic_type\": \"\",\n        \"description\": \"\"\n      }\n    },\n    {\n      \"column\": \"Insulin\",\n      \"properties\": {\n        \"dtype\": \"number\",\n        \"std\": 115,\n        \"min\": 0,\n        \"max\": 846,\n        \"num_unique_values\": 186,\n        \"samples\": [\n          52,\n          41,\n          183\n        ],\n        \"semantic_type\": \"\",\n        \"description\": \"\"\n      }\n    },\n    {\n      \"column\": \"BMI\",\n      \"properties\": {\n        \"dtype\": \"number\",\n        \"std\": 7.884160320375446,\n        \"min\": 0.0,\n        \"max\": 67.1,\n        \"num_unique_values\": 248,\n        \"samples\": [\n          19.9,\n          31.0,\n          38.1\n        ],\n        \"semantic_type\": \"\",\n        \"description\": \"\"\n      }\n    },\n    {\n      \"column\": \"DiabetesPedigreeFunction\",\n      \"properties\": {\n        \"dtype\": \"number\",\n        \"std\": 0.3313285950127749,\n        \"min\": 0.078,\n        \"max\": 2.42,\n        \"num_unique_values\": 517,\n        \"samples\": [\n          1.731,\n          0.426,\n          0.138\n        ],\n        \"semantic_type\": \"\",\n        \"description\": \"\"\n      }\n    },\n    {\n      \"column\": \"Age\",\n      \"properties\": {\n        \"dtype\": \"number\",\n        \"std\": 11,\n        \"min\": 21,\n        \"max\": 81,\n        \"num_unique_values\": 52,\n        \"samples\": [\n          60,\n          47,\n          72\n        ],\n        \"semantic_type\": \"\",\n        \"description\": \"\"\n      }\n    },\n    {\n      \"column\": \"Outcome\",\n      \"properties\": {\n        \"dtype\": \"number\",\n        \"std\": 0,\n        \"min\": 0,\n        \"max\": 1,\n        \"num_unique_values\": 2,\n        \"samples\": [\n          0,\n          1\n        ],\n        \"semantic_type\": \"\",\n        \"description\": \"\"\n      }\n    }\n  ]\n}"
            }
          },
          "metadata": {},
          "execution_count": 4
        }
      ]
    },
    {
      "cell_type": "code",
      "source": [
        "data.isna().sum()"
      ],
      "metadata": {
        "colab": {
          "base_uri": "https://localhost:8080/"
        },
        "id": "WCkQzopk7Btr",
        "outputId": "9ada1000-b0f5-459f-bb2f-1cc499c4b116"
      },
      "execution_count": 5,
      "outputs": [
        {
          "output_type": "execute_result",
          "data": {
            "text/plain": [
              "Pregnancies                 0\n",
              "Glucose                     0\n",
              "BloodPressure               0\n",
              "SkinThickness               0\n",
              "Insulin                     0\n",
              "BMI                         0\n",
              "DiabetesPedigreeFunction    0\n",
              "Age                         0\n",
              "Outcome                     0\n",
              "dtype: int64"
            ]
          },
          "metadata": {},
          "execution_count": 5
        }
      ]
    },
    {
      "cell_type": "code",
      "source": [
        "data.describe()"
      ],
      "metadata": {
        "colab": {
          "base_uri": "https://localhost:8080/",
          "height": 300
        },
        "id": "sPBesl6u7FJc",
        "outputId": "3209fe4a-a3ce-4860-9193-4c2347bbe115"
      },
      "execution_count": 6,
      "outputs": [
        {
          "output_type": "execute_result",
          "data": {
            "text/plain": [
              "       Pregnancies     Glucose  BloodPressure  SkinThickness     Insulin  \\\n",
              "count   768.000000  768.000000     768.000000     768.000000  768.000000   \n",
              "mean      3.845052  120.894531      69.105469      20.536458   79.799479   \n",
              "std       3.369578   31.972618      19.355807      15.952218  115.244002   \n",
              "min       0.000000    0.000000       0.000000       0.000000    0.000000   \n",
              "25%       1.000000   99.000000      62.000000       0.000000    0.000000   \n",
              "50%       3.000000  117.000000      72.000000      23.000000   30.500000   \n",
              "75%       6.000000  140.250000      80.000000      32.000000  127.250000   \n",
              "max      17.000000  199.000000     122.000000      99.000000  846.000000   \n",
              "\n",
              "              BMI  DiabetesPedigreeFunction         Age     Outcome  \n",
              "count  768.000000                768.000000  768.000000  768.000000  \n",
              "mean    31.992578                  0.471876   33.240885    0.348958  \n",
              "std      7.884160                  0.331329   11.760232    0.476951  \n",
              "min      0.000000                  0.078000   21.000000    0.000000  \n",
              "25%     27.300000                  0.243750   24.000000    0.000000  \n",
              "50%     32.000000                  0.372500   29.000000    0.000000  \n",
              "75%     36.600000                  0.626250   41.000000    1.000000  \n",
              "max     67.100000                  2.420000   81.000000    1.000000  "
            ],
            "text/html": [
              "\n",
              "  <div id=\"df-0cb9cb1d-f1b4-422e-b506-05b5c3b918ac\" class=\"colab-df-container\">\n",
              "    <div>\n",
              "<style scoped>\n",
              "    .dataframe tbody tr th:only-of-type {\n",
              "        vertical-align: middle;\n",
              "    }\n",
              "\n",
              "    .dataframe tbody tr th {\n",
              "        vertical-align: top;\n",
              "    }\n",
              "\n",
              "    .dataframe thead th {\n",
              "        text-align: right;\n",
              "    }\n",
              "</style>\n",
              "<table border=\"1\" class=\"dataframe\">\n",
              "  <thead>\n",
              "    <tr style=\"text-align: right;\">\n",
              "      <th></th>\n",
              "      <th>Pregnancies</th>\n",
              "      <th>Glucose</th>\n",
              "      <th>BloodPressure</th>\n",
              "      <th>SkinThickness</th>\n",
              "      <th>Insulin</th>\n",
              "      <th>BMI</th>\n",
              "      <th>DiabetesPedigreeFunction</th>\n",
              "      <th>Age</th>\n",
              "      <th>Outcome</th>\n",
              "    </tr>\n",
              "  </thead>\n",
              "  <tbody>\n",
              "    <tr>\n",
              "      <th>count</th>\n",
              "      <td>768.000000</td>\n",
              "      <td>768.000000</td>\n",
              "      <td>768.000000</td>\n",
              "      <td>768.000000</td>\n",
              "      <td>768.000000</td>\n",
              "      <td>768.000000</td>\n",
              "      <td>768.000000</td>\n",
              "      <td>768.000000</td>\n",
              "      <td>768.000000</td>\n",
              "    </tr>\n",
              "    <tr>\n",
              "      <th>mean</th>\n",
              "      <td>3.845052</td>\n",
              "      <td>120.894531</td>\n",
              "      <td>69.105469</td>\n",
              "      <td>20.536458</td>\n",
              "      <td>79.799479</td>\n",
              "      <td>31.992578</td>\n",
              "      <td>0.471876</td>\n",
              "      <td>33.240885</td>\n",
              "      <td>0.348958</td>\n",
              "    </tr>\n",
              "    <tr>\n",
              "      <th>std</th>\n",
              "      <td>3.369578</td>\n",
              "      <td>31.972618</td>\n",
              "      <td>19.355807</td>\n",
              "      <td>15.952218</td>\n",
              "      <td>115.244002</td>\n",
              "      <td>7.884160</td>\n",
              "      <td>0.331329</td>\n",
              "      <td>11.760232</td>\n",
              "      <td>0.476951</td>\n",
              "    </tr>\n",
              "    <tr>\n",
              "      <th>min</th>\n",
              "      <td>0.000000</td>\n",
              "      <td>0.000000</td>\n",
              "      <td>0.000000</td>\n",
              "      <td>0.000000</td>\n",
              "      <td>0.000000</td>\n",
              "      <td>0.000000</td>\n",
              "      <td>0.078000</td>\n",
              "      <td>21.000000</td>\n",
              "      <td>0.000000</td>\n",
              "    </tr>\n",
              "    <tr>\n",
              "      <th>25%</th>\n",
              "      <td>1.000000</td>\n",
              "      <td>99.000000</td>\n",
              "      <td>62.000000</td>\n",
              "      <td>0.000000</td>\n",
              "      <td>0.000000</td>\n",
              "      <td>27.300000</td>\n",
              "      <td>0.243750</td>\n",
              "      <td>24.000000</td>\n",
              "      <td>0.000000</td>\n",
              "    </tr>\n",
              "    <tr>\n",
              "      <th>50%</th>\n",
              "      <td>3.000000</td>\n",
              "      <td>117.000000</td>\n",
              "      <td>72.000000</td>\n",
              "      <td>23.000000</td>\n",
              "      <td>30.500000</td>\n",
              "      <td>32.000000</td>\n",
              "      <td>0.372500</td>\n",
              "      <td>29.000000</td>\n",
              "      <td>0.000000</td>\n",
              "    </tr>\n",
              "    <tr>\n",
              "      <th>75%</th>\n",
              "      <td>6.000000</td>\n",
              "      <td>140.250000</td>\n",
              "      <td>80.000000</td>\n",
              "      <td>32.000000</td>\n",
              "      <td>127.250000</td>\n",
              "      <td>36.600000</td>\n",
              "      <td>0.626250</td>\n",
              "      <td>41.000000</td>\n",
              "      <td>1.000000</td>\n",
              "    </tr>\n",
              "    <tr>\n",
              "      <th>max</th>\n",
              "      <td>17.000000</td>\n",
              "      <td>199.000000</td>\n",
              "      <td>122.000000</td>\n",
              "      <td>99.000000</td>\n",
              "      <td>846.000000</td>\n",
              "      <td>67.100000</td>\n",
              "      <td>2.420000</td>\n",
              "      <td>81.000000</td>\n",
              "      <td>1.000000</td>\n",
              "    </tr>\n",
              "  </tbody>\n",
              "</table>\n",
              "</div>\n",
              "    <div class=\"colab-df-buttons\">\n",
              "\n",
              "  <div class=\"colab-df-container\">\n",
              "    <button class=\"colab-df-convert\" onclick=\"convertToInteractive('df-0cb9cb1d-f1b4-422e-b506-05b5c3b918ac')\"\n",
              "            title=\"Convert this dataframe to an interactive table.\"\n",
              "            style=\"display:none;\">\n",
              "\n",
              "  <svg xmlns=\"http://www.w3.org/2000/svg\" height=\"24px\" viewBox=\"0 -960 960 960\">\n",
              "    <path d=\"M120-120v-720h720v720H120Zm60-500h600v-160H180v160Zm220 220h160v-160H400v160Zm0 220h160v-160H400v160ZM180-400h160v-160H180v160Zm440 0h160v-160H620v160ZM180-180h160v-160H180v160Zm440 0h160v-160H620v160Z\"/>\n",
              "  </svg>\n",
              "    </button>\n",
              "\n",
              "  <style>\n",
              "    .colab-df-container {\n",
              "      display:flex;\n",
              "      gap: 12px;\n",
              "    }\n",
              "\n",
              "    .colab-df-convert {\n",
              "      background-color: #E8F0FE;\n",
              "      border: none;\n",
              "      border-radius: 50%;\n",
              "      cursor: pointer;\n",
              "      display: none;\n",
              "      fill: #1967D2;\n",
              "      height: 32px;\n",
              "      padding: 0 0 0 0;\n",
              "      width: 32px;\n",
              "    }\n",
              "\n",
              "    .colab-df-convert:hover {\n",
              "      background-color: #E2EBFA;\n",
              "      box-shadow: 0px 1px 2px rgba(60, 64, 67, 0.3), 0px 1px 3px 1px rgba(60, 64, 67, 0.15);\n",
              "      fill: #174EA6;\n",
              "    }\n",
              "\n",
              "    .colab-df-buttons div {\n",
              "      margin-bottom: 4px;\n",
              "    }\n",
              "\n",
              "    [theme=dark] .colab-df-convert {\n",
              "      background-color: #3B4455;\n",
              "      fill: #D2E3FC;\n",
              "    }\n",
              "\n",
              "    [theme=dark] .colab-df-convert:hover {\n",
              "      background-color: #434B5C;\n",
              "      box-shadow: 0px 1px 3px 1px rgba(0, 0, 0, 0.15);\n",
              "      filter: drop-shadow(0px 1px 2px rgba(0, 0, 0, 0.3));\n",
              "      fill: #FFFFFF;\n",
              "    }\n",
              "  </style>\n",
              "\n",
              "    <script>\n",
              "      const buttonEl =\n",
              "        document.querySelector('#df-0cb9cb1d-f1b4-422e-b506-05b5c3b918ac button.colab-df-convert');\n",
              "      buttonEl.style.display =\n",
              "        google.colab.kernel.accessAllowed ? 'block' : 'none';\n",
              "\n",
              "      async function convertToInteractive(key) {\n",
              "        const element = document.querySelector('#df-0cb9cb1d-f1b4-422e-b506-05b5c3b918ac');\n",
              "        const dataTable =\n",
              "          await google.colab.kernel.invokeFunction('convertToInteractive',\n",
              "                                                    [key], {});\n",
              "        if (!dataTable) return;\n",
              "\n",
              "        const docLinkHtml = 'Like what you see? Visit the ' +\n",
              "          '<a target=\"_blank\" href=https://colab.research.google.com/notebooks/data_table.ipynb>data table notebook</a>'\n",
              "          + ' to learn more about interactive tables.';\n",
              "        element.innerHTML = '';\n",
              "        dataTable['output_type'] = 'display_data';\n",
              "        await google.colab.output.renderOutput(dataTable, element);\n",
              "        const docLink = document.createElement('div');\n",
              "        docLink.innerHTML = docLinkHtml;\n",
              "        element.appendChild(docLink);\n",
              "      }\n",
              "    </script>\n",
              "  </div>\n",
              "\n",
              "\n",
              "<div id=\"df-dc878574-5a3b-41ad-9c36-ee5df1c16ca2\">\n",
              "  <button class=\"colab-df-quickchart\" onclick=\"quickchart('df-dc878574-5a3b-41ad-9c36-ee5df1c16ca2')\"\n",
              "            title=\"Suggest charts\"\n",
              "            style=\"display:none;\">\n",
              "\n",
              "<svg xmlns=\"http://www.w3.org/2000/svg\" height=\"24px\"viewBox=\"0 0 24 24\"\n",
              "     width=\"24px\">\n",
              "    <g>\n",
              "        <path d=\"M19 3H5c-1.1 0-2 .9-2 2v14c0 1.1.9 2 2 2h14c1.1 0 2-.9 2-2V5c0-1.1-.9-2-2-2zM9 17H7v-7h2v7zm4 0h-2V7h2v10zm4 0h-2v-4h2v4z\"/>\n",
              "    </g>\n",
              "</svg>\n",
              "  </button>\n",
              "\n",
              "<style>\n",
              "  .colab-df-quickchart {\n",
              "      --bg-color: #E8F0FE;\n",
              "      --fill-color: #1967D2;\n",
              "      --hover-bg-color: #E2EBFA;\n",
              "      --hover-fill-color: #174EA6;\n",
              "      --disabled-fill-color: #AAA;\n",
              "      --disabled-bg-color: #DDD;\n",
              "  }\n",
              "\n",
              "  [theme=dark] .colab-df-quickchart {\n",
              "      --bg-color: #3B4455;\n",
              "      --fill-color: #D2E3FC;\n",
              "      --hover-bg-color: #434B5C;\n",
              "      --hover-fill-color: #FFFFFF;\n",
              "      --disabled-bg-color: #3B4455;\n",
              "      --disabled-fill-color: #666;\n",
              "  }\n",
              "\n",
              "  .colab-df-quickchart {\n",
              "    background-color: var(--bg-color);\n",
              "    border: none;\n",
              "    border-radius: 50%;\n",
              "    cursor: pointer;\n",
              "    display: none;\n",
              "    fill: var(--fill-color);\n",
              "    height: 32px;\n",
              "    padding: 0;\n",
              "    width: 32px;\n",
              "  }\n",
              "\n",
              "  .colab-df-quickchart:hover {\n",
              "    background-color: var(--hover-bg-color);\n",
              "    box-shadow: 0 1px 2px rgba(60, 64, 67, 0.3), 0 1px 3px 1px rgba(60, 64, 67, 0.15);\n",
              "    fill: var(--button-hover-fill-color);\n",
              "  }\n",
              "\n",
              "  .colab-df-quickchart-complete:disabled,\n",
              "  .colab-df-quickchart-complete:disabled:hover {\n",
              "    background-color: var(--disabled-bg-color);\n",
              "    fill: var(--disabled-fill-color);\n",
              "    box-shadow: none;\n",
              "  }\n",
              "\n",
              "  .colab-df-spinner {\n",
              "    border: 2px solid var(--fill-color);\n",
              "    border-color: transparent;\n",
              "    border-bottom-color: var(--fill-color);\n",
              "    animation:\n",
              "      spin 1s steps(1) infinite;\n",
              "  }\n",
              "\n",
              "  @keyframes spin {\n",
              "    0% {\n",
              "      border-color: transparent;\n",
              "      border-bottom-color: var(--fill-color);\n",
              "      border-left-color: var(--fill-color);\n",
              "    }\n",
              "    20% {\n",
              "      border-color: transparent;\n",
              "      border-left-color: var(--fill-color);\n",
              "      border-top-color: var(--fill-color);\n",
              "    }\n",
              "    30% {\n",
              "      border-color: transparent;\n",
              "      border-left-color: var(--fill-color);\n",
              "      border-top-color: var(--fill-color);\n",
              "      border-right-color: var(--fill-color);\n",
              "    }\n",
              "    40% {\n",
              "      border-color: transparent;\n",
              "      border-right-color: var(--fill-color);\n",
              "      border-top-color: var(--fill-color);\n",
              "    }\n",
              "    60% {\n",
              "      border-color: transparent;\n",
              "      border-right-color: var(--fill-color);\n",
              "    }\n",
              "    80% {\n",
              "      border-color: transparent;\n",
              "      border-right-color: var(--fill-color);\n",
              "      border-bottom-color: var(--fill-color);\n",
              "    }\n",
              "    90% {\n",
              "      border-color: transparent;\n",
              "      border-bottom-color: var(--fill-color);\n",
              "    }\n",
              "  }\n",
              "</style>\n",
              "\n",
              "  <script>\n",
              "    async function quickchart(key) {\n",
              "      const quickchartButtonEl =\n",
              "        document.querySelector('#' + key + ' button');\n",
              "      quickchartButtonEl.disabled = true;  // To prevent multiple clicks.\n",
              "      quickchartButtonEl.classList.add('colab-df-spinner');\n",
              "      try {\n",
              "        const charts = await google.colab.kernel.invokeFunction(\n",
              "            'suggestCharts', [key], {});\n",
              "      } catch (error) {\n",
              "        console.error('Error during call to suggestCharts:', error);\n",
              "      }\n",
              "      quickchartButtonEl.classList.remove('colab-df-spinner');\n",
              "      quickchartButtonEl.classList.add('colab-df-quickchart-complete');\n",
              "    }\n",
              "    (() => {\n",
              "      let quickchartButtonEl =\n",
              "        document.querySelector('#df-dc878574-5a3b-41ad-9c36-ee5df1c16ca2 button');\n",
              "      quickchartButtonEl.style.display =\n",
              "        google.colab.kernel.accessAllowed ? 'block' : 'none';\n",
              "    })();\n",
              "  </script>\n",
              "</div>\n",
              "\n",
              "    </div>\n",
              "  </div>\n"
            ],
            "application/vnd.google.colaboratory.intrinsic+json": {
              "type": "dataframe",
              "summary": "{\n  \"name\": \"data\",\n  \"rows\": 8,\n  \"fields\": [\n    {\n      \"column\": \"Pregnancies\",\n      \"properties\": {\n        \"dtype\": \"number\",\n        \"std\": 269.85223453356366,\n        \"min\": 0.0,\n        \"max\": 768.0,\n        \"num_unique_values\": 8,\n        \"samples\": [\n          3.8450520833333335,\n          3.0,\n          768.0\n        ],\n        \"semantic_type\": \"\",\n        \"description\": \"\"\n      }\n    },\n    {\n      \"column\": \"Glucose\",\n      \"properties\": {\n        \"dtype\": \"number\",\n        \"std\": 243.73802348295857,\n        \"min\": 0.0,\n        \"max\": 768.0,\n        \"num_unique_values\": 8,\n        \"samples\": [\n          120.89453125,\n          117.0,\n          768.0\n        ],\n        \"semantic_type\": \"\",\n        \"description\": \"\"\n      }\n    },\n    {\n      \"column\": \"BloodPressure\",\n      \"properties\": {\n        \"dtype\": \"number\",\n        \"std\": 252.8525053581062,\n        \"min\": 0.0,\n        \"max\": 768.0,\n        \"num_unique_values\": 8,\n        \"samples\": [\n          69.10546875,\n          72.0,\n          768.0\n        ],\n        \"semantic_type\": \"\",\n        \"description\": \"\"\n      }\n    },\n    {\n      \"column\": \"SkinThickness\",\n      \"properties\": {\n        \"dtype\": \"number\",\n        \"std\": 263.7684730531098,\n        \"min\": 0.0,\n        \"max\": 768.0,\n        \"num_unique_values\": 7,\n        \"samples\": [\n          768.0,\n          20.536458333333332,\n          32.0\n        ],\n        \"semantic_type\": \"\",\n        \"description\": \"\"\n      }\n    },\n    {\n      \"column\": \"Insulin\",\n      \"properties\": {\n        \"dtype\": \"number\",\n        \"std\": 350.26059167945886,\n        \"min\": 0.0,\n        \"max\": 846.0,\n        \"num_unique_values\": 7,\n        \"samples\": [\n          768.0,\n          79.79947916666667,\n          127.25\n        ],\n        \"semantic_type\": \"\",\n        \"description\": \"\"\n      }\n    },\n    {\n      \"column\": \"BMI\",\n      \"properties\": {\n        \"dtype\": \"number\",\n        \"std\": 262.05117817552093,\n        \"min\": 0.0,\n        \"max\": 768.0,\n        \"num_unique_values\": 8,\n        \"samples\": [\n          31.992578124999998,\n          32.0,\n          768.0\n        ],\n        \"semantic_type\": \"\",\n        \"description\": \"\"\n      }\n    },\n    {\n      \"column\": \"DiabetesPedigreeFunction\",\n      \"properties\": {\n        \"dtype\": \"number\",\n        \"std\": 271.3005221658502,\n        \"min\": 0.078,\n        \"max\": 768.0,\n        \"num_unique_values\": 8,\n        \"samples\": [\n          0.47187630208333325,\n          0.3725,\n          768.0\n        ],\n        \"semantic_type\": \"\",\n        \"description\": \"\"\n      }\n    },\n    {\n      \"column\": \"Age\",\n      \"properties\": {\n        \"dtype\": \"number\",\n        \"std\": 260.1941178528413,\n        \"min\": 11.760231540678685,\n        \"max\": 768.0,\n        \"num_unique_values\": 8,\n        \"samples\": [\n          33.240885416666664,\n          29.0,\n          768.0\n        ],\n        \"semantic_type\": \"\",\n        \"description\": \"\"\n      }\n    },\n    {\n      \"column\": \"Outcome\",\n      \"properties\": {\n        \"dtype\": \"number\",\n        \"std\": 271.3865920388932,\n        \"min\": 0.0,\n        \"max\": 768.0,\n        \"num_unique_values\": 5,\n        \"samples\": [\n          0.3489583333333333,\n          1.0,\n          0.47695137724279896\n        ],\n        \"semantic_type\": \"\",\n        \"description\": \"\"\n      }\n    }\n  ]\n}"
            }
          },
          "metadata": {},
          "execution_count": 6
        }
      ]
    },
    {
      "cell_type": "code",
      "source": [
        "X=data.drop(columns=['Outcome'])\n",
        "y=data['Outcome']"
      ],
      "metadata": {
        "id": "6SRgKAU37IOJ"
      },
      "execution_count": 7,
      "outputs": []
    },
    {
      "cell_type": "code",
      "source": [
        "X"
      ],
      "metadata": {
        "colab": {
          "base_uri": "https://localhost:8080/",
          "height": 423
        },
        "id": "WBDTdiXV7SsI",
        "outputId": "95e70afe-0d0e-47a5-d08e-bee53af35647"
      },
      "execution_count": 8,
      "outputs": [
        {
          "output_type": "execute_result",
          "data": {
            "text/plain": [
              "     Pregnancies  Glucose  BloodPressure  SkinThickness  Insulin   BMI  \\\n",
              "0              6      148             72             35        0  33.6   \n",
              "1              1       85             66             29        0  26.6   \n",
              "2              8      183             64              0        0  23.3   \n",
              "3              1       89             66             23       94  28.1   \n",
              "4              0      137             40             35      168  43.1   \n",
              "..           ...      ...            ...            ...      ...   ...   \n",
              "763           10      101             76             48      180  32.9   \n",
              "764            2      122             70             27        0  36.8   \n",
              "765            5      121             72             23      112  26.2   \n",
              "766            1      126             60              0        0  30.1   \n",
              "767            1       93             70             31        0  30.4   \n",
              "\n",
              "     DiabetesPedigreeFunction  Age  \n",
              "0                       0.627   50  \n",
              "1                       0.351   31  \n",
              "2                       0.672   32  \n",
              "3                       0.167   21  \n",
              "4                       2.288   33  \n",
              "..                        ...  ...  \n",
              "763                     0.171   63  \n",
              "764                     0.340   27  \n",
              "765                     0.245   30  \n",
              "766                     0.349   47  \n",
              "767                     0.315   23  \n",
              "\n",
              "[768 rows x 8 columns]"
            ],
            "text/html": [
              "\n",
              "  <div id=\"df-a39cc533-3e4b-491e-9a34-b6de0b6e03aa\" class=\"colab-df-container\">\n",
              "    <div>\n",
              "<style scoped>\n",
              "    .dataframe tbody tr th:only-of-type {\n",
              "        vertical-align: middle;\n",
              "    }\n",
              "\n",
              "    .dataframe tbody tr th {\n",
              "        vertical-align: top;\n",
              "    }\n",
              "\n",
              "    .dataframe thead th {\n",
              "        text-align: right;\n",
              "    }\n",
              "</style>\n",
              "<table border=\"1\" class=\"dataframe\">\n",
              "  <thead>\n",
              "    <tr style=\"text-align: right;\">\n",
              "      <th></th>\n",
              "      <th>Pregnancies</th>\n",
              "      <th>Glucose</th>\n",
              "      <th>BloodPressure</th>\n",
              "      <th>SkinThickness</th>\n",
              "      <th>Insulin</th>\n",
              "      <th>BMI</th>\n",
              "      <th>DiabetesPedigreeFunction</th>\n",
              "      <th>Age</th>\n",
              "    </tr>\n",
              "  </thead>\n",
              "  <tbody>\n",
              "    <tr>\n",
              "      <th>0</th>\n",
              "      <td>6</td>\n",
              "      <td>148</td>\n",
              "      <td>72</td>\n",
              "      <td>35</td>\n",
              "      <td>0</td>\n",
              "      <td>33.6</td>\n",
              "      <td>0.627</td>\n",
              "      <td>50</td>\n",
              "    </tr>\n",
              "    <tr>\n",
              "      <th>1</th>\n",
              "      <td>1</td>\n",
              "      <td>85</td>\n",
              "      <td>66</td>\n",
              "      <td>29</td>\n",
              "      <td>0</td>\n",
              "      <td>26.6</td>\n",
              "      <td>0.351</td>\n",
              "      <td>31</td>\n",
              "    </tr>\n",
              "    <tr>\n",
              "      <th>2</th>\n",
              "      <td>8</td>\n",
              "      <td>183</td>\n",
              "      <td>64</td>\n",
              "      <td>0</td>\n",
              "      <td>0</td>\n",
              "      <td>23.3</td>\n",
              "      <td>0.672</td>\n",
              "      <td>32</td>\n",
              "    </tr>\n",
              "    <tr>\n",
              "      <th>3</th>\n",
              "      <td>1</td>\n",
              "      <td>89</td>\n",
              "      <td>66</td>\n",
              "      <td>23</td>\n",
              "      <td>94</td>\n",
              "      <td>28.1</td>\n",
              "      <td>0.167</td>\n",
              "      <td>21</td>\n",
              "    </tr>\n",
              "    <tr>\n",
              "      <th>4</th>\n",
              "      <td>0</td>\n",
              "      <td>137</td>\n",
              "      <td>40</td>\n",
              "      <td>35</td>\n",
              "      <td>168</td>\n",
              "      <td>43.1</td>\n",
              "      <td>2.288</td>\n",
              "      <td>33</td>\n",
              "    </tr>\n",
              "    <tr>\n",
              "      <th>...</th>\n",
              "      <td>...</td>\n",
              "      <td>...</td>\n",
              "      <td>...</td>\n",
              "      <td>...</td>\n",
              "      <td>...</td>\n",
              "      <td>...</td>\n",
              "      <td>...</td>\n",
              "      <td>...</td>\n",
              "    </tr>\n",
              "    <tr>\n",
              "      <th>763</th>\n",
              "      <td>10</td>\n",
              "      <td>101</td>\n",
              "      <td>76</td>\n",
              "      <td>48</td>\n",
              "      <td>180</td>\n",
              "      <td>32.9</td>\n",
              "      <td>0.171</td>\n",
              "      <td>63</td>\n",
              "    </tr>\n",
              "    <tr>\n",
              "      <th>764</th>\n",
              "      <td>2</td>\n",
              "      <td>122</td>\n",
              "      <td>70</td>\n",
              "      <td>27</td>\n",
              "      <td>0</td>\n",
              "      <td>36.8</td>\n",
              "      <td>0.340</td>\n",
              "      <td>27</td>\n",
              "    </tr>\n",
              "    <tr>\n",
              "      <th>765</th>\n",
              "      <td>5</td>\n",
              "      <td>121</td>\n",
              "      <td>72</td>\n",
              "      <td>23</td>\n",
              "      <td>112</td>\n",
              "      <td>26.2</td>\n",
              "      <td>0.245</td>\n",
              "      <td>30</td>\n",
              "    </tr>\n",
              "    <tr>\n",
              "      <th>766</th>\n",
              "      <td>1</td>\n",
              "      <td>126</td>\n",
              "      <td>60</td>\n",
              "      <td>0</td>\n",
              "      <td>0</td>\n",
              "      <td>30.1</td>\n",
              "      <td>0.349</td>\n",
              "      <td>47</td>\n",
              "    </tr>\n",
              "    <tr>\n",
              "      <th>767</th>\n",
              "      <td>1</td>\n",
              "      <td>93</td>\n",
              "      <td>70</td>\n",
              "      <td>31</td>\n",
              "      <td>0</td>\n",
              "      <td>30.4</td>\n",
              "      <td>0.315</td>\n",
              "      <td>23</td>\n",
              "    </tr>\n",
              "  </tbody>\n",
              "</table>\n",
              "<p>768 rows × 8 columns</p>\n",
              "</div>\n",
              "    <div class=\"colab-df-buttons\">\n",
              "\n",
              "  <div class=\"colab-df-container\">\n",
              "    <button class=\"colab-df-convert\" onclick=\"convertToInteractive('df-a39cc533-3e4b-491e-9a34-b6de0b6e03aa')\"\n",
              "            title=\"Convert this dataframe to an interactive table.\"\n",
              "            style=\"display:none;\">\n",
              "\n",
              "  <svg xmlns=\"http://www.w3.org/2000/svg\" height=\"24px\" viewBox=\"0 -960 960 960\">\n",
              "    <path d=\"M120-120v-720h720v720H120Zm60-500h600v-160H180v160Zm220 220h160v-160H400v160Zm0 220h160v-160H400v160ZM180-400h160v-160H180v160Zm440 0h160v-160H620v160ZM180-180h160v-160H180v160Zm440 0h160v-160H620v160Z\"/>\n",
              "  </svg>\n",
              "    </button>\n",
              "\n",
              "  <style>\n",
              "    .colab-df-container {\n",
              "      display:flex;\n",
              "      gap: 12px;\n",
              "    }\n",
              "\n",
              "    .colab-df-convert {\n",
              "      background-color: #E8F0FE;\n",
              "      border: none;\n",
              "      border-radius: 50%;\n",
              "      cursor: pointer;\n",
              "      display: none;\n",
              "      fill: #1967D2;\n",
              "      height: 32px;\n",
              "      padding: 0 0 0 0;\n",
              "      width: 32px;\n",
              "    }\n",
              "\n",
              "    .colab-df-convert:hover {\n",
              "      background-color: #E2EBFA;\n",
              "      box-shadow: 0px 1px 2px rgba(60, 64, 67, 0.3), 0px 1px 3px 1px rgba(60, 64, 67, 0.15);\n",
              "      fill: #174EA6;\n",
              "    }\n",
              "\n",
              "    .colab-df-buttons div {\n",
              "      margin-bottom: 4px;\n",
              "    }\n",
              "\n",
              "    [theme=dark] .colab-df-convert {\n",
              "      background-color: #3B4455;\n",
              "      fill: #D2E3FC;\n",
              "    }\n",
              "\n",
              "    [theme=dark] .colab-df-convert:hover {\n",
              "      background-color: #434B5C;\n",
              "      box-shadow: 0px 1px 3px 1px rgba(0, 0, 0, 0.15);\n",
              "      filter: drop-shadow(0px 1px 2px rgba(0, 0, 0, 0.3));\n",
              "      fill: #FFFFFF;\n",
              "    }\n",
              "  </style>\n",
              "\n",
              "    <script>\n",
              "      const buttonEl =\n",
              "        document.querySelector('#df-a39cc533-3e4b-491e-9a34-b6de0b6e03aa button.colab-df-convert');\n",
              "      buttonEl.style.display =\n",
              "        google.colab.kernel.accessAllowed ? 'block' : 'none';\n",
              "\n",
              "      async function convertToInteractive(key) {\n",
              "        const element = document.querySelector('#df-a39cc533-3e4b-491e-9a34-b6de0b6e03aa');\n",
              "        const dataTable =\n",
              "          await google.colab.kernel.invokeFunction('convertToInteractive',\n",
              "                                                    [key], {});\n",
              "        if (!dataTable) return;\n",
              "\n",
              "        const docLinkHtml = 'Like what you see? Visit the ' +\n",
              "          '<a target=\"_blank\" href=https://colab.research.google.com/notebooks/data_table.ipynb>data table notebook</a>'\n",
              "          + ' to learn more about interactive tables.';\n",
              "        element.innerHTML = '';\n",
              "        dataTable['output_type'] = 'display_data';\n",
              "        await google.colab.output.renderOutput(dataTable, element);\n",
              "        const docLink = document.createElement('div');\n",
              "        docLink.innerHTML = docLinkHtml;\n",
              "        element.appendChild(docLink);\n",
              "      }\n",
              "    </script>\n",
              "  </div>\n",
              "\n",
              "\n",
              "<div id=\"df-2104bc21-8658-4624-b2ce-83c818caf354\">\n",
              "  <button class=\"colab-df-quickchart\" onclick=\"quickchart('df-2104bc21-8658-4624-b2ce-83c818caf354')\"\n",
              "            title=\"Suggest charts\"\n",
              "            style=\"display:none;\">\n",
              "\n",
              "<svg xmlns=\"http://www.w3.org/2000/svg\" height=\"24px\"viewBox=\"0 0 24 24\"\n",
              "     width=\"24px\">\n",
              "    <g>\n",
              "        <path d=\"M19 3H5c-1.1 0-2 .9-2 2v14c0 1.1.9 2 2 2h14c1.1 0 2-.9 2-2V5c0-1.1-.9-2-2-2zM9 17H7v-7h2v7zm4 0h-2V7h2v10zm4 0h-2v-4h2v4z\"/>\n",
              "    </g>\n",
              "</svg>\n",
              "  </button>\n",
              "\n",
              "<style>\n",
              "  .colab-df-quickchart {\n",
              "      --bg-color: #E8F0FE;\n",
              "      --fill-color: #1967D2;\n",
              "      --hover-bg-color: #E2EBFA;\n",
              "      --hover-fill-color: #174EA6;\n",
              "      --disabled-fill-color: #AAA;\n",
              "      --disabled-bg-color: #DDD;\n",
              "  }\n",
              "\n",
              "  [theme=dark] .colab-df-quickchart {\n",
              "      --bg-color: #3B4455;\n",
              "      --fill-color: #D2E3FC;\n",
              "      --hover-bg-color: #434B5C;\n",
              "      --hover-fill-color: #FFFFFF;\n",
              "      --disabled-bg-color: #3B4455;\n",
              "      --disabled-fill-color: #666;\n",
              "  }\n",
              "\n",
              "  .colab-df-quickchart {\n",
              "    background-color: var(--bg-color);\n",
              "    border: none;\n",
              "    border-radius: 50%;\n",
              "    cursor: pointer;\n",
              "    display: none;\n",
              "    fill: var(--fill-color);\n",
              "    height: 32px;\n",
              "    padding: 0;\n",
              "    width: 32px;\n",
              "  }\n",
              "\n",
              "  .colab-df-quickchart:hover {\n",
              "    background-color: var(--hover-bg-color);\n",
              "    box-shadow: 0 1px 2px rgba(60, 64, 67, 0.3), 0 1px 3px 1px rgba(60, 64, 67, 0.15);\n",
              "    fill: var(--button-hover-fill-color);\n",
              "  }\n",
              "\n",
              "  .colab-df-quickchart-complete:disabled,\n",
              "  .colab-df-quickchart-complete:disabled:hover {\n",
              "    background-color: var(--disabled-bg-color);\n",
              "    fill: var(--disabled-fill-color);\n",
              "    box-shadow: none;\n",
              "  }\n",
              "\n",
              "  .colab-df-spinner {\n",
              "    border: 2px solid var(--fill-color);\n",
              "    border-color: transparent;\n",
              "    border-bottom-color: var(--fill-color);\n",
              "    animation:\n",
              "      spin 1s steps(1) infinite;\n",
              "  }\n",
              "\n",
              "  @keyframes spin {\n",
              "    0% {\n",
              "      border-color: transparent;\n",
              "      border-bottom-color: var(--fill-color);\n",
              "      border-left-color: var(--fill-color);\n",
              "    }\n",
              "    20% {\n",
              "      border-color: transparent;\n",
              "      border-left-color: var(--fill-color);\n",
              "      border-top-color: var(--fill-color);\n",
              "    }\n",
              "    30% {\n",
              "      border-color: transparent;\n",
              "      border-left-color: var(--fill-color);\n",
              "      border-top-color: var(--fill-color);\n",
              "      border-right-color: var(--fill-color);\n",
              "    }\n",
              "    40% {\n",
              "      border-color: transparent;\n",
              "      border-right-color: var(--fill-color);\n",
              "      border-top-color: var(--fill-color);\n",
              "    }\n",
              "    60% {\n",
              "      border-color: transparent;\n",
              "      border-right-color: var(--fill-color);\n",
              "    }\n",
              "    80% {\n",
              "      border-color: transparent;\n",
              "      border-right-color: var(--fill-color);\n",
              "      border-bottom-color: var(--fill-color);\n",
              "    }\n",
              "    90% {\n",
              "      border-color: transparent;\n",
              "      border-bottom-color: var(--fill-color);\n",
              "    }\n",
              "  }\n",
              "</style>\n",
              "\n",
              "  <script>\n",
              "    async function quickchart(key) {\n",
              "      const quickchartButtonEl =\n",
              "        document.querySelector('#' + key + ' button');\n",
              "      quickchartButtonEl.disabled = true;  // To prevent multiple clicks.\n",
              "      quickchartButtonEl.classList.add('colab-df-spinner');\n",
              "      try {\n",
              "        const charts = await google.colab.kernel.invokeFunction(\n",
              "            'suggestCharts', [key], {});\n",
              "      } catch (error) {\n",
              "        console.error('Error during call to suggestCharts:', error);\n",
              "      }\n",
              "      quickchartButtonEl.classList.remove('colab-df-spinner');\n",
              "      quickchartButtonEl.classList.add('colab-df-quickchart-complete');\n",
              "    }\n",
              "    (() => {\n",
              "      let quickchartButtonEl =\n",
              "        document.querySelector('#df-2104bc21-8658-4624-b2ce-83c818caf354 button');\n",
              "      quickchartButtonEl.style.display =\n",
              "        google.colab.kernel.accessAllowed ? 'block' : 'none';\n",
              "    })();\n",
              "  </script>\n",
              "</div>\n",
              "\n",
              "  <div id=\"id_5d80efff-4932-4bff-9b4a-bcfae1da3d95\">\n",
              "    <style>\n",
              "      .colab-df-generate {\n",
              "        background-color: #E8F0FE;\n",
              "        border: none;\n",
              "        border-radius: 50%;\n",
              "        cursor: pointer;\n",
              "        display: none;\n",
              "        fill: #1967D2;\n",
              "        height: 32px;\n",
              "        padding: 0 0 0 0;\n",
              "        width: 32px;\n",
              "      }\n",
              "\n",
              "      .colab-df-generate:hover {\n",
              "        background-color: #E2EBFA;\n",
              "        box-shadow: 0px 1px 2px rgba(60, 64, 67, 0.3), 0px 1px 3px 1px rgba(60, 64, 67, 0.15);\n",
              "        fill: #174EA6;\n",
              "      }\n",
              "\n",
              "      [theme=dark] .colab-df-generate {\n",
              "        background-color: #3B4455;\n",
              "        fill: #D2E3FC;\n",
              "      }\n",
              "\n",
              "      [theme=dark] .colab-df-generate:hover {\n",
              "        background-color: #434B5C;\n",
              "        box-shadow: 0px 1px 3px 1px rgba(0, 0, 0, 0.15);\n",
              "        filter: drop-shadow(0px 1px 2px rgba(0, 0, 0, 0.3));\n",
              "        fill: #FFFFFF;\n",
              "      }\n",
              "    </style>\n",
              "    <button class=\"colab-df-generate\" onclick=\"generateWithVariable('X')\"\n",
              "            title=\"Generate code using this dataframe.\"\n",
              "            style=\"display:none;\">\n",
              "\n",
              "  <svg xmlns=\"http://www.w3.org/2000/svg\" height=\"24px\"viewBox=\"0 0 24 24\"\n",
              "       width=\"24px\">\n",
              "    <path d=\"M7,19H8.4L18.45,9,17,7.55,7,17.6ZM5,21V16.75L18.45,3.32a2,2,0,0,1,2.83,0l1.4,1.43a1.91,1.91,0,0,1,.58,1.4,1.91,1.91,0,0,1-.58,1.4L9.25,21ZM18.45,9,17,7.55Zm-12,3A5.31,5.31,0,0,0,4.9,8.1,5.31,5.31,0,0,0,1,6.5,5.31,5.31,0,0,0,4.9,4.9,5.31,5.31,0,0,0,6.5,1,5.31,5.31,0,0,0,8.1,4.9,5.31,5.31,0,0,0,12,6.5,5.46,5.46,0,0,0,6.5,12Z\"/>\n",
              "  </svg>\n",
              "    </button>\n",
              "    <script>\n",
              "      (() => {\n",
              "      const buttonEl =\n",
              "        document.querySelector('#id_5d80efff-4932-4bff-9b4a-bcfae1da3d95 button.colab-df-generate');\n",
              "      buttonEl.style.display =\n",
              "        google.colab.kernel.accessAllowed ? 'block' : 'none';\n",
              "\n",
              "      buttonEl.onclick = () => {\n",
              "        google.colab.notebook.generateWithVariable('X');\n",
              "      }\n",
              "      })();\n",
              "    </script>\n",
              "  </div>\n",
              "\n",
              "    </div>\n",
              "  </div>\n"
            ],
            "application/vnd.google.colaboratory.intrinsic+json": {
              "type": "dataframe",
              "variable_name": "X",
              "summary": "{\n  \"name\": \"X\",\n  \"rows\": 768,\n  \"fields\": [\n    {\n      \"column\": \"Pregnancies\",\n      \"properties\": {\n        \"dtype\": \"number\",\n        \"std\": 3,\n        \"min\": 0,\n        \"max\": 17,\n        \"num_unique_values\": 17,\n        \"samples\": [\n          6,\n          1,\n          3\n        ],\n        \"semantic_type\": \"\",\n        \"description\": \"\"\n      }\n    },\n    {\n      \"column\": \"Glucose\",\n      \"properties\": {\n        \"dtype\": \"number\",\n        \"std\": 31,\n        \"min\": 0,\n        \"max\": 199,\n        \"num_unique_values\": 136,\n        \"samples\": [\n          151,\n          101,\n          112\n        ],\n        \"semantic_type\": \"\",\n        \"description\": \"\"\n      }\n    },\n    {\n      \"column\": \"BloodPressure\",\n      \"properties\": {\n        \"dtype\": \"number\",\n        \"std\": 19,\n        \"min\": 0,\n        \"max\": 122,\n        \"num_unique_values\": 47,\n        \"samples\": [\n          86,\n          46,\n          85\n        ],\n        \"semantic_type\": \"\",\n        \"description\": \"\"\n      }\n    },\n    {\n      \"column\": \"SkinThickness\",\n      \"properties\": {\n        \"dtype\": \"number\",\n        \"std\": 15,\n        \"min\": 0,\n        \"max\": 99,\n        \"num_unique_values\": 51,\n        \"samples\": [\n          7,\n          12,\n          48\n        ],\n        \"semantic_type\": \"\",\n        \"description\": \"\"\n      }\n    },\n    {\n      \"column\": \"Insulin\",\n      \"properties\": {\n        \"dtype\": \"number\",\n        \"std\": 115,\n        \"min\": 0,\n        \"max\": 846,\n        \"num_unique_values\": 186,\n        \"samples\": [\n          52,\n          41,\n          183\n        ],\n        \"semantic_type\": \"\",\n        \"description\": \"\"\n      }\n    },\n    {\n      \"column\": \"BMI\",\n      \"properties\": {\n        \"dtype\": \"number\",\n        \"std\": 7.884160320375446,\n        \"min\": 0.0,\n        \"max\": 67.1,\n        \"num_unique_values\": 248,\n        \"samples\": [\n          19.9,\n          31.0,\n          38.1\n        ],\n        \"semantic_type\": \"\",\n        \"description\": \"\"\n      }\n    },\n    {\n      \"column\": \"DiabetesPedigreeFunction\",\n      \"properties\": {\n        \"dtype\": \"number\",\n        \"std\": 0.3313285950127749,\n        \"min\": 0.078,\n        \"max\": 2.42,\n        \"num_unique_values\": 517,\n        \"samples\": [\n          1.731,\n          0.426,\n          0.138\n        ],\n        \"semantic_type\": \"\",\n        \"description\": \"\"\n      }\n    },\n    {\n      \"column\": \"Age\",\n      \"properties\": {\n        \"dtype\": \"number\",\n        \"std\": 11,\n        \"min\": 21,\n        \"max\": 81,\n        \"num_unique_values\": 52,\n        \"samples\": [\n          60,\n          47,\n          72\n        ],\n        \"semantic_type\": \"\",\n        \"description\": \"\"\n      }\n    }\n  ]\n}"
            }
          },
          "metadata": {},
          "execution_count": 8
        }
      ]
    },
    {
      "cell_type": "code",
      "source": [
        "y"
      ],
      "metadata": {
        "colab": {
          "base_uri": "https://localhost:8080/"
        },
        "id": "JBw4mKRr7S_I",
        "outputId": "3274b207-f058-4c2b-d588-35fbf3f88778"
      },
      "execution_count": 9,
      "outputs": [
        {
          "output_type": "execute_result",
          "data": {
            "text/plain": [
              "0      1\n",
              "1      0\n",
              "2      1\n",
              "3      0\n",
              "4      1\n",
              "      ..\n",
              "763    0\n",
              "764    0\n",
              "765    0\n",
              "766    1\n",
              "767    0\n",
              "Name: Outcome, Length: 768, dtype: int64"
            ]
          },
          "metadata": {},
          "execution_count": 9
        }
      ]
    },
    {
      "cell_type": "code",
      "source": [
        "# let's divide our dataset into training and hold out set by 50%\n",
        "train,validation_train,test,validation_test=train_test_split(X,y,test_size=0.5,random_state=355)"
      ],
      "metadata": {
        "id": "DB5ua56-7Tiu"
      },
      "execution_count": 10,
      "outputs": []
    },
    {
      "cell_type": "code",
      "source": [
        "# let's split the training set again into training and test dataset\n",
        "x_train,x_test,y_train,y_test=train_test_split(train,test,test_size=0.2,random_state=355)"
      ],
      "metadata": {
        "id": "Hgiza9we7yuI"
      },
      "execution_count": 11,
      "outputs": []
    },
    {
      "cell_type": "markdown",
      "source": [
        "I am using KNN and SVM algorithm as our base models.\n",
        "\n"
      ],
      "metadata": {
        "id": "y2UiSRbd8Ur8"
      }
    },
    {
      "cell_type": "code",
      "source": [
        "knn=KNeighborsClassifier()\n",
        "knn.fit(x_train,y_train)"
      ],
      "metadata": {
        "colab": {
          "base_uri": "https://localhost:8080/",
          "height": 74
        },
        "id": "_Z1Xe-c58Rek",
        "outputId": "d58bc864-6f01-4215-ed1d-6b66102092d1"
      },
      "execution_count": 17,
      "outputs": [
        {
          "output_type": "execute_result",
          "data": {
            "text/plain": [
              "KNeighborsClassifier()"
            ],
            "text/html": [
              "<style>#sk-container-id-4 {color: black;background-color: white;}#sk-container-id-4 pre{padding: 0;}#sk-container-id-4 div.sk-toggleable {background-color: white;}#sk-container-id-4 label.sk-toggleable__label {cursor: pointer;display: block;width: 100%;margin-bottom: 0;padding: 0.3em;box-sizing: border-box;text-align: center;}#sk-container-id-4 label.sk-toggleable__label-arrow:before {content: \"▸\";float: left;margin-right: 0.25em;color: #696969;}#sk-container-id-4 label.sk-toggleable__label-arrow:hover:before {color: black;}#sk-container-id-4 div.sk-estimator:hover label.sk-toggleable__label-arrow:before {color: black;}#sk-container-id-4 div.sk-toggleable__content {max-height: 0;max-width: 0;overflow: hidden;text-align: left;background-color: #f0f8ff;}#sk-container-id-4 div.sk-toggleable__content pre {margin: 0.2em;color: black;border-radius: 0.25em;background-color: #f0f8ff;}#sk-container-id-4 input.sk-toggleable__control:checked~div.sk-toggleable__content {max-height: 200px;max-width: 100%;overflow: auto;}#sk-container-id-4 input.sk-toggleable__control:checked~label.sk-toggleable__label-arrow:before {content: \"▾\";}#sk-container-id-4 div.sk-estimator input.sk-toggleable__control:checked~label.sk-toggleable__label {background-color: #d4ebff;}#sk-container-id-4 div.sk-label input.sk-toggleable__control:checked~label.sk-toggleable__label {background-color: #d4ebff;}#sk-container-id-4 input.sk-hidden--visually {border: 0;clip: rect(1px 1px 1px 1px);clip: rect(1px, 1px, 1px, 1px);height: 1px;margin: -1px;overflow: hidden;padding: 0;position: absolute;width: 1px;}#sk-container-id-4 div.sk-estimator {font-family: monospace;background-color: #f0f8ff;border: 1px dotted black;border-radius: 0.25em;box-sizing: border-box;margin-bottom: 0.5em;}#sk-container-id-4 div.sk-estimator:hover {background-color: #d4ebff;}#sk-container-id-4 div.sk-parallel-item::after {content: \"\";width: 100%;border-bottom: 1px solid gray;flex-grow: 1;}#sk-container-id-4 div.sk-label:hover label.sk-toggleable__label {background-color: #d4ebff;}#sk-container-id-4 div.sk-serial::before {content: \"\";position: absolute;border-left: 1px solid gray;box-sizing: border-box;top: 0;bottom: 0;left: 50%;z-index: 0;}#sk-container-id-4 div.sk-serial {display: flex;flex-direction: column;align-items: center;background-color: white;padding-right: 0.2em;padding-left: 0.2em;position: relative;}#sk-container-id-4 div.sk-item {position: relative;z-index: 1;}#sk-container-id-4 div.sk-parallel {display: flex;align-items: stretch;justify-content: center;background-color: white;position: relative;}#sk-container-id-4 div.sk-item::before, #sk-container-id-4 div.sk-parallel-item::before {content: \"\";position: absolute;border-left: 1px solid gray;box-sizing: border-box;top: 0;bottom: 0;left: 50%;z-index: -1;}#sk-container-id-4 div.sk-parallel-item {display: flex;flex-direction: column;z-index: 1;position: relative;background-color: white;}#sk-container-id-4 div.sk-parallel-item:first-child::after {align-self: flex-end;width: 50%;}#sk-container-id-4 div.sk-parallel-item:last-child::after {align-self: flex-start;width: 50%;}#sk-container-id-4 div.sk-parallel-item:only-child::after {width: 0;}#sk-container-id-4 div.sk-dashed-wrapped {border: 1px dashed gray;margin: 0 0.4em 0.5em 0.4em;box-sizing: border-box;padding-bottom: 0.4em;background-color: white;}#sk-container-id-4 div.sk-label label {font-family: monospace;font-weight: bold;display: inline-block;line-height: 1.2em;}#sk-container-id-4 div.sk-label-container {text-align: center;}#sk-container-id-4 div.sk-container {/* jupyter's `normalize.less` sets `[hidden] { display: none; }` but bootstrap.min.css set `[hidden] { display: none !important; }` so we also need the `!important` here to be able to override the default hidden behavior on the sphinx rendered scikit-learn.org. See: https://github.com/scikit-learn/scikit-learn/issues/21755 */display: inline-block !important;position: relative;}#sk-container-id-4 div.sk-text-repr-fallback {display: none;}</style><div id=\"sk-container-id-4\" class=\"sk-top-container\"><div class=\"sk-text-repr-fallback\"><pre>KNeighborsClassifier()</pre><b>In a Jupyter environment, please rerun this cell to show the HTML representation or trust the notebook. <br />On GitHub, the HTML representation is unable to render, please try loading this page with nbviewer.org.</b></div><div class=\"sk-container\" hidden><div class=\"sk-item\"><div class=\"sk-estimator sk-toggleable\"><input class=\"sk-toggleable__control sk-hidden--visually\" id=\"sk-estimator-id-4\" type=\"checkbox\" checked><label for=\"sk-estimator-id-4\" class=\"sk-toggleable__label sk-toggleable__label-arrow\">KNeighborsClassifier</label><div class=\"sk-toggleable__content\"><pre>KNeighborsClassifier()</pre></div></div></div></div></div>"
            ]
          },
          "metadata": {},
          "execution_count": 17
        }
      ]
    },
    {
      "cell_type": "code",
      "source": [
        "knn.score(x_test,y_test)"
      ],
      "metadata": {
        "colab": {
          "base_uri": "https://localhost:8080/"
        },
        "id": "9djqutAo8lsh",
        "outputId": "6b43aa5e-d664-46e7-88c3-8da706a82bda"
      },
      "execution_count": 18,
      "outputs": [
        {
          "output_type": "execute_result",
          "data": {
            "text/plain": [
              "0.7402597402597403"
            ]
          },
          "metadata": {},
          "execution_count": 18
        }
      ]
    },
    {
      "cell_type": "code",
      "source": [
        "svc=SVC()\n",
        "svc.fit(x_train,y_train)"
      ],
      "metadata": {
        "colab": {
          "base_uri": "https://localhost:8080/",
          "height": 74
        },
        "id": "rZbdHVLR8soB",
        "outputId": "6120230d-6368-457d-d631-32ddd72e6950"
      },
      "execution_count": 19,
      "outputs": [
        {
          "output_type": "execute_result",
          "data": {
            "text/plain": [
              "SVC()"
            ],
            "text/html": [
              "<style>#sk-container-id-5 {color: black;background-color: white;}#sk-container-id-5 pre{padding: 0;}#sk-container-id-5 div.sk-toggleable {background-color: white;}#sk-container-id-5 label.sk-toggleable__label {cursor: pointer;display: block;width: 100%;margin-bottom: 0;padding: 0.3em;box-sizing: border-box;text-align: center;}#sk-container-id-5 label.sk-toggleable__label-arrow:before {content: \"▸\";float: left;margin-right: 0.25em;color: #696969;}#sk-container-id-5 label.sk-toggleable__label-arrow:hover:before {color: black;}#sk-container-id-5 div.sk-estimator:hover label.sk-toggleable__label-arrow:before {color: black;}#sk-container-id-5 div.sk-toggleable__content {max-height: 0;max-width: 0;overflow: hidden;text-align: left;background-color: #f0f8ff;}#sk-container-id-5 div.sk-toggleable__content pre {margin: 0.2em;color: black;border-radius: 0.25em;background-color: #f0f8ff;}#sk-container-id-5 input.sk-toggleable__control:checked~div.sk-toggleable__content {max-height: 200px;max-width: 100%;overflow: auto;}#sk-container-id-5 input.sk-toggleable__control:checked~label.sk-toggleable__label-arrow:before {content: \"▾\";}#sk-container-id-5 div.sk-estimator input.sk-toggleable__control:checked~label.sk-toggleable__label {background-color: #d4ebff;}#sk-container-id-5 div.sk-label input.sk-toggleable__control:checked~label.sk-toggleable__label {background-color: #d4ebff;}#sk-container-id-5 input.sk-hidden--visually {border: 0;clip: rect(1px 1px 1px 1px);clip: rect(1px, 1px, 1px, 1px);height: 1px;margin: -1px;overflow: hidden;padding: 0;position: absolute;width: 1px;}#sk-container-id-5 div.sk-estimator {font-family: monospace;background-color: #f0f8ff;border: 1px dotted black;border-radius: 0.25em;box-sizing: border-box;margin-bottom: 0.5em;}#sk-container-id-5 div.sk-estimator:hover {background-color: #d4ebff;}#sk-container-id-5 div.sk-parallel-item::after {content: \"\";width: 100%;border-bottom: 1px solid gray;flex-grow: 1;}#sk-container-id-5 div.sk-label:hover label.sk-toggleable__label {background-color: #d4ebff;}#sk-container-id-5 div.sk-serial::before {content: \"\";position: absolute;border-left: 1px solid gray;box-sizing: border-box;top: 0;bottom: 0;left: 50%;z-index: 0;}#sk-container-id-5 div.sk-serial {display: flex;flex-direction: column;align-items: center;background-color: white;padding-right: 0.2em;padding-left: 0.2em;position: relative;}#sk-container-id-5 div.sk-item {position: relative;z-index: 1;}#sk-container-id-5 div.sk-parallel {display: flex;align-items: stretch;justify-content: center;background-color: white;position: relative;}#sk-container-id-5 div.sk-item::before, #sk-container-id-5 div.sk-parallel-item::before {content: \"\";position: absolute;border-left: 1px solid gray;box-sizing: border-box;top: 0;bottom: 0;left: 50%;z-index: -1;}#sk-container-id-5 div.sk-parallel-item {display: flex;flex-direction: column;z-index: 1;position: relative;background-color: white;}#sk-container-id-5 div.sk-parallel-item:first-child::after {align-self: flex-end;width: 50%;}#sk-container-id-5 div.sk-parallel-item:last-child::after {align-self: flex-start;width: 50%;}#sk-container-id-5 div.sk-parallel-item:only-child::after {width: 0;}#sk-container-id-5 div.sk-dashed-wrapped {border: 1px dashed gray;margin: 0 0.4em 0.5em 0.4em;box-sizing: border-box;padding-bottom: 0.4em;background-color: white;}#sk-container-id-5 div.sk-label label {font-family: monospace;font-weight: bold;display: inline-block;line-height: 1.2em;}#sk-container-id-5 div.sk-label-container {text-align: center;}#sk-container-id-5 div.sk-container {/* jupyter's `normalize.less` sets `[hidden] { display: none; }` but bootstrap.min.css set `[hidden] { display: none !important; }` so we also need the `!important` here to be able to override the default hidden behavior on the sphinx rendered scikit-learn.org. See: https://github.com/scikit-learn/scikit-learn/issues/21755 */display: inline-block !important;position: relative;}#sk-container-id-5 div.sk-text-repr-fallback {display: none;}</style><div id=\"sk-container-id-5\" class=\"sk-top-container\"><div class=\"sk-text-repr-fallback\"><pre>SVC()</pre><b>In a Jupyter environment, please rerun this cell to show the HTML representation or trust the notebook. <br />On GitHub, the HTML representation is unable to render, please try loading this page with nbviewer.org.</b></div><div class=\"sk-container\" hidden><div class=\"sk-item\"><div class=\"sk-estimator sk-toggleable\"><input class=\"sk-toggleable__control sk-hidden--visually\" id=\"sk-estimator-id-5\" type=\"checkbox\" checked><label for=\"sk-estimator-id-5\" class=\"sk-toggleable__label sk-toggleable__label-arrow\">SVC</label><div class=\"sk-toggleable__content\"><pre>SVC()</pre></div></div></div></div></div>"
            ]
          },
          "metadata": {},
          "execution_count": 19
        }
      ]
    },
    {
      "cell_type": "code",
      "source": [
        "svc.score(x_test,y_test)"
      ],
      "metadata": {
        "colab": {
          "base_uri": "https://localhost:8080/"
        },
        "id": "UWfOKzYu85Hv",
        "outputId": "9f058b7d-b68a-48b1-a158-98ce089b5b9e"
      },
      "execution_count": 20,
      "outputs": [
        {
          "output_type": "execute_result",
          "data": {
            "text/plain": [
              "0.7402597402597403"
            ]
          },
          "metadata": {},
          "execution_count": 20
        }
      ]
    },
    {
      "cell_type": "markdown",
      "source": [
        "Let's stack the prediction values for validation set together as \"predict_val\""
      ],
      "metadata": {
        "id": "ZXsHa32F9Pry"
      }
    },
    {
      "cell_type": "code",
      "source": [
        "predict1=knn.predict(validation_train)\n",
        "predict2=svc.predict(validation_train)"
      ],
      "metadata": {
        "id": "KwaYreD39CTf"
      },
      "execution_count": 21,
      "outputs": []
    },
    {
      "cell_type": "code",
      "source": [
        "predict_val=np.column_stack((predict1,predict2))"
      ],
      "metadata": {
        "id": "6nh8awZ-9rDZ"
      },
      "execution_count": 23,
      "outputs": []
    },
    {
      "cell_type": "code",
      "source": [
        "predict_val"
      ],
      "metadata": {
        "colab": {
          "base_uri": "https://localhost:8080/"
        },
        "id": "oa-mHj3w9zei",
        "outputId": "d59b981e-98c0-4677-9e38-1a06c2729f27"
      },
      "execution_count": 24,
      "outputs": [
        {
          "output_type": "execute_result",
          "data": {
            "text/plain": [
              "array([[0, 0],\n",
              "       [0, 0],\n",
              "       [1, 1],\n",
              "       [0, 0],\n",
              "       [0, 0],\n",
              "       [0, 0],\n",
              "       [0, 0],\n",
              "       [0, 0],\n",
              "       [0, 0],\n",
              "       [1, 0],\n",
              "       [1, 0],\n",
              "       [0, 0],\n",
              "       [0, 0],\n",
              "       [0, 0],\n",
              "       [1, 1],\n",
              "       [0, 0],\n",
              "       [0, 0],\n",
              "       [0, 0],\n",
              "       [0, 0],\n",
              "       [0, 0],\n",
              "       [0, 0],\n",
              "       [1, 1],\n",
              "       [1, 0],\n",
              "       [0, 0],\n",
              "       [1, 1],\n",
              "       [0, 0],\n",
              "       [0, 0],\n",
              "       [0, 0],\n",
              "       [0, 0],\n",
              "       [0, 0],\n",
              "       [1, 0],\n",
              "       [0, 0],\n",
              "       [1, 1],\n",
              "       [1, 0],\n",
              "       [0, 0],\n",
              "       [0, 0],\n",
              "       [0, 0],\n",
              "       [0, 0],\n",
              "       [0, 0],\n",
              "       [0, 0],\n",
              "       [0, 0],\n",
              "       [0, 0],\n",
              "       [1, 1],\n",
              "       [1, 1],\n",
              "       [0, 0],\n",
              "       [0, 0],\n",
              "       [0, 0],\n",
              "       [0, 0],\n",
              "       [0, 0],\n",
              "       [1, 1],\n",
              "       [1, 0],\n",
              "       [1, 1],\n",
              "       [0, 0],\n",
              "       [0, 0],\n",
              "       [0, 0],\n",
              "       [0, 0],\n",
              "       [0, 0],\n",
              "       [0, 0],\n",
              "       [1, 1],\n",
              "       [1, 0],\n",
              "       [0, 0],\n",
              "       [0, 0],\n",
              "       [1, 1],\n",
              "       [1, 0],\n",
              "       [1, 1],\n",
              "       [1, 1],\n",
              "       [1, 0],\n",
              "       [0, 0],\n",
              "       [0, 0],\n",
              "       [0, 0],\n",
              "       [0, 0],\n",
              "       [0, 0],\n",
              "       [1, 0],\n",
              "       [1, 1],\n",
              "       [0, 1],\n",
              "       [0, 0],\n",
              "       [0, 0],\n",
              "       [1, 1],\n",
              "       [1, 1],\n",
              "       [0, 0],\n",
              "       [0, 0],\n",
              "       [0, 0],\n",
              "       [0, 0],\n",
              "       [0, 0],\n",
              "       [1, 1],\n",
              "       [0, 0],\n",
              "       [1, 0],\n",
              "       [1, 1],\n",
              "       [0, 0],\n",
              "       [0, 0],\n",
              "       [1, 1],\n",
              "       [0, 0],\n",
              "       [0, 0],\n",
              "       [0, 0],\n",
              "       [0, 0],\n",
              "       [0, 1],\n",
              "       [0, 0],\n",
              "       [0, 0],\n",
              "       [0, 0],\n",
              "       [0, 0],\n",
              "       [0, 0],\n",
              "       [1, 1],\n",
              "       [0, 0],\n",
              "       [0, 0],\n",
              "       [0, 0],\n",
              "       [1, 1],\n",
              "       [0, 0],\n",
              "       [0, 0],\n",
              "       [0, 0],\n",
              "       [0, 0],\n",
              "       [1, 0],\n",
              "       [0, 0],\n",
              "       [0, 0],\n",
              "       [0, 1],\n",
              "       [1, 1],\n",
              "       [0, 1],\n",
              "       [0, 0],\n",
              "       [1, 0],\n",
              "       [0, 0],\n",
              "       [0, 0],\n",
              "       [1, 1],\n",
              "       [0, 0],\n",
              "       [0, 0],\n",
              "       [0, 0],\n",
              "       [1, 1],\n",
              "       [1, 1],\n",
              "       [0, 0],\n",
              "       [0, 0],\n",
              "       [0, 0],\n",
              "       [0, 0],\n",
              "       [1, 0],\n",
              "       [1, 0],\n",
              "       [0, 0],\n",
              "       [0, 0],\n",
              "       [0, 0],\n",
              "       [0, 0],\n",
              "       [1, 1],\n",
              "       [0, 0],\n",
              "       [1, 1],\n",
              "       [0, 0],\n",
              "       [0, 0],\n",
              "       [0, 0],\n",
              "       [0, 0],\n",
              "       [1, 1],\n",
              "       [0, 0],\n",
              "       [0, 0],\n",
              "       [1, 1],\n",
              "       [0, 0],\n",
              "       [0, 0],\n",
              "       [0, 0],\n",
              "       [0, 0],\n",
              "       [1, 1],\n",
              "       [1, 1],\n",
              "       [0, 0],\n",
              "       [0, 1],\n",
              "       [1, 1],\n",
              "       [1, 0],\n",
              "       [0, 0],\n",
              "       [0, 0],\n",
              "       [0, 0],\n",
              "       [1, 1],\n",
              "       [0, 0],\n",
              "       [1, 1],\n",
              "       [1, 0],\n",
              "       [0, 0],\n",
              "       [0, 0],\n",
              "       [1, 1],\n",
              "       [1, 1],\n",
              "       [1, 0],\n",
              "       [0, 1],\n",
              "       [0, 0],\n",
              "       [0, 0],\n",
              "       [0, 0],\n",
              "       [0, 0],\n",
              "       [0, 0],\n",
              "       [1, 1],\n",
              "       [0, 0],\n",
              "       [0, 0],\n",
              "       [1, 1],\n",
              "       [0, 0],\n",
              "       [0, 0],\n",
              "       [0, 0],\n",
              "       [0, 0],\n",
              "       [0, 0],\n",
              "       [0, 0],\n",
              "       [0, 0],\n",
              "       [0, 0],\n",
              "       [0, 0],\n",
              "       [1, 1],\n",
              "       [0, 0],\n",
              "       [1, 1],\n",
              "       [0, 0],\n",
              "       [0, 0],\n",
              "       [0, 0],\n",
              "       [1, 0],\n",
              "       [0, 1],\n",
              "       [1, 1],\n",
              "       [0, 0],\n",
              "       [0, 0],\n",
              "       [0, 0],\n",
              "       [1, 1],\n",
              "       [0, 0],\n",
              "       [0, 0],\n",
              "       [0, 0],\n",
              "       [0, 0],\n",
              "       [0, 0],\n",
              "       [1, 1],\n",
              "       [1, 1],\n",
              "       [0, 0],\n",
              "       [0, 0],\n",
              "       [0, 0],\n",
              "       [0, 0],\n",
              "       [0, 0],\n",
              "       [0, 0],\n",
              "       [0, 0],\n",
              "       [0, 0],\n",
              "       [1, 0],\n",
              "       [0, 0],\n",
              "       [0, 0],\n",
              "       [0, 1],\n",
              "       [0, 0],\n",
              "       [0, 0],\n",
              "       [0, 0],\n",
              "       [0, 0],\n",
              "       [0, 0],\n",
              "       [0, 0],\n",
              "       [0, 0],\n",
              "       [0, 0],\n",
              "       [1, 1],\n",
              "       [0, 0],\n",
              "       [1, 0],\n",
              "       [1, 1],\n",
              "       [0, 0],\n",
              "       [1, 1],\n",
              "       [0, 0],\n",
              "       [0, 0],\n",
              "       [0, 0],\n",
              "       [1, 0],\n",
              "       [0, 0],\n",
              "       [1, 0],\n",
              "       [0, 0],\n",
              "       [1, 0],\n",
              "       [0, 0],\n",
              "       [1, 0],\n",
              "       [0, 0],\n",
              "       [0, 0],\n",
              "       [1, 0],\n",
              "       [0, 0],\n",
              "       [0, 0],\n",
              "       [0, 0],\n",
              "       [0, 0],\n",
              "       [1, 0],\n",
              "       [0, 1],\n",
              "       [0, 0],\n",
              "       [0, 0],\n",
              "       [0, 0],\n",
              "       [0, 0],\n",
              "       [1, 1],\n",
              "       [0, 0],\n",
              "       [0, 0],\n",
              "       [0, 0],\n",
              "       [0, 0],\n",
              "       [1, 0],\n",
              "       [1, 0],\n",
              "       [0, 1],\n",
              "       [0, 0],\n",
              "       [1, 0],\n",
              "       [0, 0],\n",
              "       [1, 1],\n",
              "       [0, 0],\n",
              "       [0, 0],\n",
              "       [0, 0],\n",
              "       [0, 0],\n",
              "       [1, 1],\n",
              "       [0, 0],\n",
              "       [0, 0],\n",
              "       [0, 0],\n",
              "       [0, 0],\n",
              "       [0, 0],\n",
              "       [0, 0],\n",
              "       [0, 0],\n",
              "       [1, 1],\n",
              "       [0, 0],\n",
              "       [0, 0],\n",
              "       [0, 0],\n",
              "       [1, 1],\n",
              "       [0, 0],\n",
              "       [0, 0],\n",
              "       [0, 0],\n",
              "       [0, 1],\n",
              "       [0, 1],\n",
              "       [1, 0],\n",
              "       [0, 0],\n",
              "       [0, 0],\n",
              "       [0, 0],\n",
              "       [1, 1],\n",
              "       [1, 0],\n",
              "       [0, 0],\n",
              "       [1, 1],\n",
              "       [0, 0],\n",
              "       [1, 1],\n",
              "       [1, 1],\n",
              "       [1, 1],\n",
              "       [1, 1],\n",
              "       [0, 0],\n",
              "       [0, 0],\n",
              "       [0, 0],\n",
              "       [0, 0],\n",
              "       [1, 0],\n",
              "       [0, 0],\n",
              "       [0, 0],\n",
              "       [0, 0],\n",
              "       [0, 0],\n",
              "       [1, 0],\n",
              "       [0, 0],\n",
              "       [1, 1],\n",
              "       [1, 1],\n",
              "       [0, 0],\n",
              "       [0, 0],\n",
              "       [0, 0],\n",
              "       [1, 1],\n",
              "       [1, 1],\n",
              "       [0, 0],\n",
              "       [0, 0],\n",
              "       [0, 0],\n",
              "       [0, 0],\n",
              "       [1, 0],\n",
              "       [1, 1],\n",
              "       [0, 0],\n",
              "       [1, 1],\n",
              "       [0, 0],\n",
              "       [0, 0],\n",
              "       [0, 0],\n",
              "       [0, 0],\n",
              "       [0, 0],\n",
              "       [1, 0],\n",
              "       [1, 1],\n",
              "       [0, 0],\n",
              "       [0, 0],\n",
              "       [1, 1],\n",
              "       [0, 0],\n",
              "       [0, 0],\n",
              "       [0, 0],\n",
              "       [0, 0],\n",
              "       [0, 1],\n",
              "       [1, 1],\n",
              "       [1, 0],\n",
              "       [0, 0],\n",
              "       [0, 0],\n",
              "       [1, 0],\n",
              "       [0, 1],\n",
              "       [1, 0],\n",
              "       [0, 0],\n",
              "       [1, 1],\n",
              "       [1, 0],\n",
              "       [0, 0],\n",
              "       [0, 0],\n",
              "       [0, 0],\n",
              "       [0, 0],\n",
              "       [0, 0],\n",
              "       [0, 0],\n",
              "       [1, 1],\n",
              "       [1, 1],\n",
              "       [0, 0],\n",
              "       [0, 0],\n",
              "       [0, 0],\n",
              "       [1, 1],\n",
              "       [0, 0],\n",
              "       [1, 1],\n",
              "       [0, 1],\n",
              "       [1, 0],\n",
              "       [1, 1],\n",
              "       [0, 1],\n",
              "       [0, 0],\n",
              "       [0, 1],\n",
              "       [0, 0],\n",
              "       [0, 0],\n",
              "       [0, 0],\n",
              "       [1, 1],\n",
              "       [1, 1],\n",
              "       [1, 1],\n",
              "       [1, 0],\n",
              "       [0, 0],\n",
              "       [1, 0]])"
            ]
          },
          "metadata": {},
          "execution_count": 24
        }
      ]
    },
    {
      "cell_type": "markdown",
      "source": [
        "Let's get the predict for all the base models on the test set x_test"
      ],
      "metadata": {
        "id": "in6mEMbL-qg3"
      }
    },
    {
      "cell_type": "code",
      "source": [
        "predict_test1=knn.predict(x_test)\n",
        "predict_test2=svc.predict(x_test)"
      ],
      "metadata": {
        "id": "HM_SreU992nu"
      },
      "execution_count": 27,
      "outputs": []
    },
    {
      "cell_type": "code",
      "source": [
        "predict_test=np.column_stack((predict_test1,predict_test2))"
      ],
      "metadata": {
        "id": "JMpXp4dX95dO"
      },
      "execution_count": 28,
      "outputs": []
    },
    {
      "cell_type": "code",
      "source": [
        "predict_test"
      ],
      "metadata": {
        "colab": {
          "base_uri": "https://localhost:8080/"
        },
        "id": "qCOlIBhp_GLh",
        "outputId": "4b6d167d-9dbc-4435-9987-7f4a705fc7b4"
      },
      "execution_count": 29,
      "outputs": [
        {
          "output_type": "execute_result",
          "data": {
            "text/plain": [
              "array([[1, 0],\n",
              "       [0, 0],\n",
              "       [1, 1],\n",
              "       [1, 0],\n",
              "       [0, 0],\n",
              "       [1, 1],\n",
              "       [1, 1],\n",
              "       [1, 1],\n",
              "       [0, 0],\n",
              "       [0, 0],\n",
              "       [0, 0],\n",
              "       [0, 0],\n",
              "       [0, 0],\n",
              "       [0, 0],\n",
              "       [0, 0],\n",
              "       [0, 0],\n",
              "       [0, 0],\n",
              "       [0, 0],\n",
              "       [0, 0],\n",
              "       [1, 0],\n",
              "       [0, 0],\n",
              "       [1, 1],\n",
              "       [0, 0],\n",
              "       [0, 0],\n",
              "       [0, 0],\n",
              "       [0, 0],\n",
              "       [0, 0],\n",
              "       [1, 1],\n",
              "       [1, 0],\n",
              "       [0, 0],\n",
              "       [0, 0],\n",
              "       [1, 0],\n",
              "       [0, 1],\n",
              "       [1, 1],\n",
              "       [1, 0],\n",
              "       [0, 0],\n",
              "       [0, 0],\n",
              "       [0, 0],\n",
              "       [0, 0],\n",
              "       [1, 0],\n",
              "       [0, 0],\n",
              "       [0, 0],\n",
              "       [0, 0],\n",
              "       [1, 1],\n",
              "       [1, 1],\n",
              "       [0, 0],\n",
              "       [1, 1],\n",
              "       [1, 0],\n",
              "       [1, 0],\n",
              "       [0, 0],\n",
              "       [0, 0],\n",
              "       [1, 0],\n",
              "       [0, 0],\n",
              "       [0, 0],\n",
              "       [1, 1],\n",
              "       [0, 0],\n",
              "       [0, 0],\n",
              "       [0, 0],\n",
              "       [0, 0],\n",
              "       [0, 0],\n",
              "       [0, 0],\n",
              "       [1, 0],\n",
              "       [0, 0],\n",
              "       [0, 0],\n",
              "       [1, 0],\n",
              "       [0, 0],\n",
              "       [1, 0],\n",
              "       [1, 0],\n",
              "       [1, 1],\n",
              "       [0, 0],\n",
              "       [0, 0],\n",
              "       [1, 0],\n",
              "       [0, 0],\n",
              "       [0, 0],\n",
              "       [1, 1],\n",
              "       [0, 0],\n",
              "       [1, 1]])"
            ]
          },
          "metadata": {},
          "execution_count": 29
        }
      ]
    },
    {
      "cell_type": "code",
      "source": [],
      "metadata": {
        "id": "bB07T7dn_HeQ"
      },
      "execution_count": null,
      "outputs": []
    },
    {
      "cell_type": "markdown",
      "source": [
        "Let's use the tacked data predict_val and predict-test as the input for meta-model i.e. randomforest classifier."
      ],
      "metadata": {
        "id": "annFtGIc_dx0"
      }
    },
    {
      "cell_type": "code",
      "source": [
        "rand_clf=RandomForestClassifier()\n",
        "rand_clf.fit(predict_val,validation_test)"
      ],
      "metadata": {
        "colab": {
          "base_uri": "https://localhost:8080/",
          "height": 74
        },
        "id": "dp3BeM_a_wnk",
        "outputId": "5f377843-79eb-4d69-8c7f-483ea6ea092c"
      },
      "execution_count": 32,
      "outputs": [
        {
          "output_type": "execute_result",
          "data": {
            "text/plain": [
              "RandomForestClassifier()"
            ],
            "text/html": [
              "<style>#sk-container-id-6 {color: black;background-color: white;}#sk-container-id-6 pre{padding: 0;}#sk-container-id-6 div.sk-toggleable {background-color: white;}#sk-container-id-6 label.sk-toggleable__label {cursor: pointer;display: block;width: 100%;margin-bottom: 0;padding: 0.3em;box-sizing: border-box;text-align: center;}#sk-container-id-6 label.sk-toggleable__label-arrow:before {content: \"▸\";float: left;margin-right: 0.25em;color: #696969;}#sk-container-id-6 label.sk-toggleable__label-arrow:hover:before {color: black;}#sk-container-id-6 div.sk-estimator:hover label.sk-toggleable__label-arrow:before {color: black;}#sk-container-id-6 div.sk-toggleable__content {max-height: 0;max-width: 0;overflow: hidden;text-align: left;background-color: #f0f8ff;}#sk-container-id-6 div.sk-toggleable__content pre {margin: 0.2em;color: black;border-radius: 0.25em;background-color: #f0f8ff;}#sk-container-id-6 input.sk-toggleable__control:checked~div.sk-toggleable__content {max-height: 200px;max-width: 100%;overflow: auto;}#sk-container-id-6 input.sk-toggleable__control:checked~label.sk-toggleable__label-arrow:before {content: \"▾\";}#sk-container-id-6 div.sk-estimator input.sk-toggleable__control:checked~label.sk-toggleable__label {background-color: #d4ebff;}#sk-container-id-6 div.sk-label input.sk-toggleable__control:checked~label.sk-toggleable__label {background-color: #d4ebff;}#sk-container-id-6 input.sk-hidden--visually {border: 0;clip: rect(1px 1px 1px 1px);clip: rect(1px, 1px, 1px, 1px);height: 1px;margin: -1px;overflow: hidden;padding: 0;position: absolute;width: 1px;}#sk-container-id-6 div.sk-estimator {font-family: monospace;background-color: #f0f8ff;border: 1px dotted black;border-radius: 0.25em;box-sizing: border-box;margin-bottom: 0.5em;}#sk-container-id-6 div.sk-estimator:hover {background-color: #d4ebff;}#sk-container-id-6 div.sk-parallel-item::after {content: \"\";width: 100%;border-bottom: 1px solid gray;flex-grow: 1;}#sk-container-id-6 div.sk-label:hover label.sk-toggleable__label {background-color: #d4ebff;}#sk-container-id-6 div.sk-serial::before {content: \"\";position: absolute;border-left: 1px solid gray;box-sizing: border-box;top: 0;bottom: 0;left: 50%;z-index: 0;}#sk-container-id-6 div.sk-serial {display: flex;flex-direction: column;align-items: center;background-color: white;padding-right: 0.2em;padding-left: 0.2em;position: relative;}#sk-container-id-6 div.sk-item {position: relative;z-index: 1;}#sk-container-id-6 div.sk-parallel {display: flex;align-items: stretch;justify-content: center;background-color: white;position: relative;}#sk-container-id-6 div.sk-item::before, #sk-container-id-6 div.sk-parallel-item::before {content: \"\";position: absolute;border-left: 1px solid gray;box-sizing: border-box;top: 0;bottom: 0;left: 50%;z-index: -1;}#sk-container-id-6 div.sk-parallel-item {display: flex;flex-direction: column;z-index: 1;position: relative;background-color: white;}#sk-container-id-6 div.sk-parallel-item:first-child::after {align-self: flex-end;width: 50%;}#sk-container-id-6 div.sk-parallel-item:last-child::after {align-self: flex-start;width: 50%;}#sk-container-id-6 div.sk-parallel-item:only-child::after {width: 0;}#sk-container-id-6 div.sk-dashed-wrapped {border: 1px dashed gray;margin: 0 0.4em 0.5em 0.4em;box-sizing: border-box;padding-bottom: 0.4em;background-color: white;}#sk-container-id-6 div.sk-label label {font-family: monospace;font-weight: bold;display: inline-block;line-height: 1.2em;}#sk-container-id-6 div.sk-label-container {text-align: center;}#sk-container-id-6 div.sk-container {/* jupyter's `normalize.less` sets `[hidden] { display: none; }` but bootstrap.min.css set `[hidden] { display: none !important; }` so we also need the `!important` here to be able to override the default hidden behavior on the sphinx rendered scikit-learn.org. See: https://github.com/scikit-learn/scikit-learn/issues/21755 */display: inline-block !important;position: relative;}#sk-container-id-6 div.sk-text-repr-fallback {display: none;}</style><div id=\"sk-container-id-6\" class=\"sk-top-container\"><div class=\"sk-text-repr-fallback\"><pre>RandomForestClassifier()</pre><b>In a Jupyter environment, please rerun this cell to show the HTML representation or trust the notebook. <br />On GitHub, the HTML representation is unable to render, please try loading this page with nbviewer.org.</b></div><div class=\"sk-container\" hidden><div class=\"sk-item\"><div class=\"sk-estimator sk-toggleable\"><input class=\"sk-toggleable__control sk-hidden--visually\" id=\"sk-estimator-id-6\" type=\"checkbox\" checked><label for=\"sk-estimator-id-6\" class=\"sk-toggleable__label sk-toggleable__label-arrow\">RandomForestClassifier</label><div class=\"sk-toggleable__content\"><pre>RandomForestClassifier()</pre></div></div></div></div></div>"
            ]
          },
          "metadata": {},
          "execution_count": 32
        }
      ]
    },
    {
      "cell_type": "code",
      "source": [
        "rand_clf.score(predict_test,y_test)\n"
      ],
      "metadata": {
        "colab": {
          "base_uri": "https://localhost:8080/"
        },
        "id": "y0xKGw27_7YS",
        "outputId": "31aaf027-35b7-439c-eba2-ab0350bad4f7"
      },
      "execution_count": 33,
      "outputs": [
        {
          "output_type": "execute_result",
          "data": {
            "text/plain": [
              "0.7402597402597403"
            ]
          },
          "metadata": {},
          "execution_count": 33
        }
      ]
    },
    {
      "cell_type": "code",
      "source": [
        "# Let's tune the hyperparameter right now\n",
        "\n",
        "grid_param={\n",
        "    \"n_estimators\":[90,100,115],\n",
        "    'criterion':['gini','entropy'],\n",
        "    'min_samples_leaf':[1,2,3,4,5],\n",
        "    'min_samples_split':[4,5,6,7,8],\n",
        "    'max_features':['auto','log2']\n",
        "}"
      ],
      "metadata": {
        "id": "vQEsgT8JAVxF"
      },
      "execution_count": 35,
      "outputs": []
    },
    {
      "cell_type": "code",
      "source": [
        "grid_search=GridSearchCV(estimator=rand_clf,param_grid=grid_param,cv=5,verbose=3)"
      ],
      "metadata": {
        "id": "x3BBmhJIBJ2Y"
      },
      "execution_count": 39,
      "outputs": []
    },
    {
      "cell_type": "code",
      "source": [
        "grid_search.fit(predict_val,validation_test)"
      ],
      "metadata": {
        "colab": {
          "base_uri": "https://localhost:8080/",
          "height": 1000
        },
        "id": "SyR0jkmJBcBo",
        "outputId": "07a7b756-5ccf-4a3b-faa1-8792f3475d38"
      },
      "execution_count": 40,
      "outputs": [
        {
          "output_type": "stream",
          "name": "stdout",
          "text": [
            "Fitting 5 folds for each of 300 candidates, totalling 1500 fits\n"
          ]
        },
        {
          "output_type": "stream",
          "name": "stderr",
          "text": [
            "/usr/local/lib/python3.10/dist-packages/sklearn/ensemble/_forest.py:424: FutureWarning: `max_features='auto'` has been deprecated in 1.1 and will be removed in 1.3. To keep the past behaviour, explicitly set `max_features='sqrt'` or remove this parameter as it is also the default value for RandomForestClassifiers and ExtraTreesClassifiers.\n",
            "  warn(\n"
          ]
        },
        {
          "output_type": "stream",
          "name": "stdout",
          "text": [
            "[CV 1/5] END criterion=gini, max_features=auto, min_samples_leaf=1, min_samples_split=4, n_estimators=90;, score=0.675 total time=   0.6s\n"
          ]
        },
        {
          "output_type": "stream",
          "name": "stderr",
          "text": [
            "/usr/local/lib/python3.10/dist-packages/sklearn/ensemble/_forest.py:424: FutureWarning: `max_features='auto'` has been deprecated in 1.1 and will be removed in 1.3. To keep the past behaviour, explicitly set `max_features='sqrt'` or remove this parameter as it is also the default value for RandomForestClassifiers and ExtraTreesClassifiers.\n",
            "  warn(\n"
          ]
        },
        {
          "output_type": "stream",
          "name": "stdout",
          "text": [
            "[CV 2/5] END criterion=gini, max_features=auto, min_samples_leaf=1, min_samples_split=4, n_estimators=90;, score=0.740 total time=   0.3s\n"
          ]
        },
        {
          "output_type": "stream",
          "name": "stderr",
          "text": [
            "/usr/local/lib/python3.10/dist-packages/sklearn/ensemble/_forest.py:424: FutureWarning: `max_features='auto'` has been deprecated in 1.1 and will be removed in 1.3. To keep the past behaviour, explicitly set `max_features='sqrt'` or remove this parameter as it is also the default value for RandomForestClassifiers and ExtraTreesClassifiers.\n",
            "  warn(\n"
          ]
        },
        {
          "output_type": "stream",
          "name": "stdout",
          "text": [
            "[CV 3/5] END criterion=gini, max_features=auto, min_samples_leaf=1, min_samples_split=4, n_estimators=90;, score=0.805 total time=   0.3s\n"
          ]
        },
        {
          "output_type": "stream",
          "name": "stderr",
          "text": [
            "/usr/local/lib/python3.10/dist-packages/sklearn/ensemble/_forest.py:424: FutureWarning: `max_features='auto'` has been deprecated in 1.1 and will be removed in 1.3. To keep the past behaviour, explicitly set `max_features='sqrt'` or remove this parameter as it is also the default value for RandomForestClassifiers and ExtraTreesClassifiers.\n",
            "  warn(\n"
          ]
        },
        {
          "output_type": "stream",
          "name": "stdout",
          "text": [
            "[CV 4/5] END criterion=gini, max_features=auto, min_samples_leaf=1, min_samples_split=4, n_estimators=90;, score=0.701 total time=   0.2s\n"
          ]
        },
        {
          "output_type": "stream",
          "name": "stderr",
          "text": [
            "/usr/local/lib/python3.10/dist-packages/sklearn/ensemble/_forest.py:424: FutureWarning: `max_features='auto'` has been deprecated in 1.1 and will be removed in 1.3. To keep the past behaviour, explicitly set `max_features='sqrt'` or remove this parameter as it is also the default value for RandomForestClassifiers and ExtraTreesClassifiers.\n",
            "  warn(\n"
          ]
        },
        {
          "output_type": "stream",
          "name": "stdout",
          "text": [
            "[CV 5/5] END criterion=gini, max_features=auto, min_samples_leaf=1, min_samples_split=4, n_estimators=90;, score=0.789 total time=   0.3s\n"
          ]
        },
        {
          "output_type": "stream",
          "name": "stderr",
          "text": [
            "/usr/local/lib/python3.10/dist-packages/sklearn/ensemble/_forest.py:424: FutureWarning: `max_features='auto'` has been deprecated in 1.1 and will be removed in 1.3. To keep the past behaviour, explicitly set `max_features='sqrt'` or remove this parameter as it is also the default value for RandomForestClassifiers and ExtraTreesClassifiers.\n",
            "  warn(\n"
          ]
        },
        {
          "output_type": "stream",
          "name": "stdout",
          "text": [
            "[CV 1/5] END criterion=gini, max_features=auto, min_samples_leaf=1, min_samples_split=4, n_estimators=100;, score=0.675 total time=   0.3s\n"
          ]
        },
        {
          "output_type": "stream",
          "name": "stderr",
          "text": [
            "/usr/local/lib/python3.10/dist-packages/sklearn/ensemble/_forest.py:424: FutureWarning: `max_features='auto'` has been deprecated in 1.1 and will be removed in 1.3. To keep the past behaviour, explicitly set `max_features='sqrt'` or remove this parameter as it is also the default value for RandomForestClassifiers and ExtraTreesClassifiers.\n",
            "  warn(\n"
          ]
        },
        {
          "output_type": "stream",
          "name": "stdout",
          "text": [
            "[CV 2/5] END criterion=gini, max_features=auto, min_samples_leaf=1, min_samples_split=4, n_estimators=100;, score=0.740 total time=   0.3s\n"
          ]
        },
        {
          "output_type": "stream",
          "name": "stderr",
          "text": [
            "/usr/local/lib/python3.10/dist-packages/sklearn/ensemble/_forest.py:424: FutureWarning: `max_features='auto'` has been deprecated in 1.1 and will be removed in 1.3. To keep the past behaviour, explicitly set `max_features='sqrt'` or remove this parameter as it is also the default value for RandomForestClassifiers and ExtraTreesClassifiers.\n",
            "  warn(\n"
          ]
        },
        {
          "output_type": "stream",
          "name": "stdout",
          "text": [
            "[CV 3/5] END criterion=gini, max_features=auto, min_samples_leaf=1, min_samples_split=4, n_estimators=100;, score=0.805 total time=   0.3s\n"
          ]
        },
        {
          "output_type": "stream",
          "name": "stderr",
          "text": [
            "/usr/local/lib/python3.10/dist-packages/sklearn/ensemble/_forest.py:424: FutureWarning: `max_features='auto'` has been deprecated in 1.1 and will be removed in 1.3. To keep the past behaviour, explicitly set `max_features='sqrt'` or remove this parameter as it is also the default value for RandomForestClassifiers and ExtraTreesClassifiers.\n",
            "  warn(\n"
          ]
        },
        {
          "output_type": "stream",
          "name": "stdout",
          "text": [
            "[CV 4/5] END criterion=gini, max_features=auto, min_samples_leaf=1, min_samples_split=4, n_estimators=100;, score=0.701 total time=   0.2s\n"
          ]
        },
        {
          "output_type": "stream",
          "name": "stderr",
          "text": [
            "/usr/local/lib/python3.10/dist-packages/sklearn/ensemble/_forest.py:424: FutureWarning: `max_features='auto'` has been deprecated in 1.1 and will be removed in 1.3. To keep the past behaviour, explicitly set `max_features='sqrt'` or remove this parameter as it is also the default value for RandomForestClassifiers and ExtraTreesClassifiers.\n",
            "  warn(\n"
          ]
        },
        {
          "output_type": "stream",
          "name": "stdout",
          "text": [
            "[CV 5/5] END criterion=gini, max_features=auto, min_samples_leaf=1, min_samples_split=4, n_estimators=100;, score=0.789 total time=   0.2s\n"
          ]
        },
        {
          "output_type": "stream",
          "name": "stderr",
          "text": [
            "/usr/local/lib/python3.10/dist-packages/sklearn/ensemble/_forest.py:424: FutureWarning: `max_features='auto'` has been deprecated in 1.1 and will be removed in 1.3. To keep the past behaviour, explicitly set `max_features='sqrt'` or remove this parameter as it is also the default value for RandomForestClassifiers and ExtraTreesClassifiers.\n",
            "  warn(\n"
          ]
        },
        {
          "output_type": "stream",
          "name": "stdout",
          "text": [
            "[CV 1/5] END criterion=gini, max_features=auto, min_samples_leaf=1, min_samples_split=4, n_estimators=115;, score=0.675 total time=   0.3s\n",
            "[CV 2/5] END criterion=gini, max_features=auto, min_samples_leaf=1, min_samples_split=4, n_estimators=115;, score=0.740 total time=   0.1s\n"
          ]
        },
        {
          "output_type": "stream",
          "name": "stderr",
          "text": [
            "/usr/local/lib/python3.10/dist-packages/sklearn/ensemble/_forest.py:424: FutureWarning: `max_features='auto'` has been deprecated in 1.1 and will be removed in 1.3. To keep the past behaviour, explicitly set `max_features='sqrt'` or remove this parameter as it is also the default value for RandomForestClassifiers and ExtraTreesClassifiers.\n",
            "  warn(\n",
            "/usr/local/lib/python3.10/dist-packages/sklearn/ensemble/_forest.py:424: FutureWarning: `max_features='auto'` has been deprecated in 1.1 and will be removed in 1.3. To keep the past behaviour, explicitly set `max_features='sqrt'` or remove this parameter as it is also the default value for RandomForestClassifiers and ExtraTreesClassifiers.\n",
            "  warn(\n"
          ]
        },
        {
          "output_type": "stream",
          "name": "stdout",
          "text": [
            "[CV 3/5] END criterion=gini, max_features=auto, min_samples_leaf=1, min_samples_split=4, n_estimators=115;, score=0.805 total time=   0.2s\n",
            "[CV 4/5] END criterion=gini, max_features=auto, min_samples_leaf=1, min_samples_split=4, n_estimators=115;, score=0.701 total time=   0.1s\n"
          ]
        },
        {
          "output_type": "stream",
          "name": "stderr",
          "text": [
            "/usr/local/lib/python3.10/dist-packages/sklearn/ensemble/_forest.py:424: FutureWarning: `max_features='auto'` has been deprecated in 1.1 and will be removed in 1.3. To keep the past behaviour, explicitly set `max_features='sqrt'` or remove this parameter as it is also the default value for RandomForestClassifiers and ExtraTreesClassifiers.\n",
            "  warn(\n",
            "/usr/local/lib/python3.10/dist-packages/sklearn/ensemble/_forest.py:424: FutureWarning: `max_features='auto'` has been deprecated in 1.1 and will be removed in 1.3. To keep the past behaviour, explicitly set `max_features='sqrt'` or remove this parameter as it is also the default value for RandomForestClassifiers and ExtraTreesClassifiers.\n",
            "  warn(\n"
          ]
        },
        {
          "output_type": "stream",
          "name": "stdout",
          "text": [
            "[CV 5/5] END criterion=gini, max_features=auto, min_samples_leaf=1, min_samples_split=4, n_estimators=115;, score=0.789 total time=   0.2s\n",
            "[CV 1/5] END criterion=gini, max_features=auto, min_samples_leaf=1, min_samples_split=5, n_estimators=90;, score=0.675 total time=   0.1s\n"
          ]
        },
        {
          "output_type": "stream",
          "name": "stderr",
          "text": [
            "/usr/local/lib/python3.10/dist-packages/sklearn/ensemble/_forest.py:424: FutureWarning: `max_features='auto'` has been deprecated in 1.1 and will be removed in 1.3. To keep the past behaviour, explicitly set `max_features='sqrt'` or remove this parameter as it is also the default value for RandomForestClassifiers and ExtraTreesClassifiers.\n",
            "  warn(\n",
            "/usr/local/lib/python3.10/dist-packages/sklearn/ensemble/_forest.py:424: FutureWarning: `max_features='auto'` has been deprecated in 1.1 and will be removed in 1.3. To keep the past behaviour, explicitly set `max_features='sqrt'` or remove this parameter as it is also the default value for RandomForestClassifiers and ExtraTreesClassifiers.\n",
            "  warn(\n"
          ]
        },
        {
          "output_type": "stream",
          "name": "stdout",
          "text": [
            "[CV 2/5] END criterion=gini, max_features=auto, min_samples_leaf=1, min_samples_split=5, n_estimators=90;, score=0.740 total time=   0.1s\n",
            "[CV 3/5] END criterion=gini, max_features=auto, min_samples_leaf=1, min_samples_split=5, n_estimators=90;, score=0.805 total time=   0.1s\n"
          ]
        },
        {
          "output_type": "stream",
          "name": "stderr",
          "text": [
            "/usr/local/lib/python3.10/dist-packages/sklearn/ensemble/_forest.py:424: FutureWarning: `max_features='auto'` has been deprecated in 1.1 and will be removed in 1.3. To keep the past behaviour, explicitly set `max_features='sqrt'` or remove this parameter as it is also the default value for RandomForestClassifiers and ExtraTreesClassifiers.\n",
            "  warn(\n",
            "/usr/local/lib/python3.10/dist-packages/sklearn/ensemble/_forest.py:424: FutureWarning: `max_features='auto'` has been deprecated in 1.1 and will be removed in 1.3. To keep the past behaviour, explicitly set `max_features='sqrt'` or remove this parameter as it is also the default value for RandomForestClassifiers and ExtraTreesClassifiers.\n",
            "  warn(\n"
          ]
        },
        {
          "output_type": "stream",
          "name": "stdout",
          "text": [
            "[CV 4/5] END criterion=gini, max_features=auto, min_samples_leaf=1, min_samples_split=5, n_estimators=90;, score=0.701 total time=   0.1s\n",
            "[CV 5/5] END criterion=gini, max_features=auto, min_samples_leaf=1, min_samples_split=5, n_estimators=90;, score=0.789 total time=   0.1s\n"
          ]
        },
        {
          "output_type": "stream",
          "name": "stderr",
          "text": [
            "/usr/local/lib/python3.10/dist-packages/sklearn/ensemble/_forest.py:424: FutureWarning: `max_features='auto'` has been deprecated in 1.1 and will be removed in 1.3. To keep the past behaviour, explicitly set `max_features='sqrt'` or remove this parameter as it is also the default value for RandomForestClassifiers and ExtraTreesClassifiers.\n",
            "  warn(\n",
            "/usr/local/lib/python3.10/dist-packages/sklearn/ensemble/_forest.py:424: FutureWarning: `max_features='auto'` has been deprecated in 1.1 and will be removed in 1.3. To keep the past behaviour, explicitly set `max_features='sqrt'` or remove this parameter as it is also the default value for RandomForestClassifiers and ExtraTreesClassifiers.\n",
            "  warn(\n"
          ]
        },
        {
          "output_type": "stream",
          "name": "stdout",
          "text": [
            "[CV 1/5] END criterion=gini, max_features=auto, min_samples_leaf=1, min_samples_split=5, n_estimators=100;, score=0.675 total time=   0.1s\n",
            "[CV 2/5] END criterion=gini, max_features=auto, min_samples_leaf=1, min_samples_split=5, n_estimators=100;, score=0.740 total time=   0.1s\n"
          ]
        },
        {
          "output_type": "stream",
          "name": "stderr",
          "text": [
            "/usr/local/lib/python3.10/dist-packages/sklearn/ensemble/_forest.py:424: FutureWarning: `max_features='auto'` has been deprecated in 1.1 and will be removed in 1.3. To keep the past behaviour, explicitly set `max_features='sqrt'` or remove this parameter as it is also the default value for RandomForestClassifiers and ExtraTreesClassifiers.\n",
            "  warn(\n",
            "/usr/local/lib/python3.10/dist-packages/sklearn/ensemble/_forest.py:424: FutureWarning: `max_features='auto'` has been deprecated in 1.1 and will be removed in 1.3. To keep the past behaviour, explicitly set `max_features='sqrt'` or remove this parameter as it is also the default value for RandomForestClassifiers and ExtraTreesClassifiers.\n",
            "  warn(\n"
          ]
        },
        {
          "output_type": "stream",
          "name": "stdout",
          "text": [
            "[CV 3/5] END criterion=gini, max_features=auto, min_samples_leaf=1, min_samples_split=5, n_estimators=100;, score=0.805 total time=   0.1s\n",
            "[CV 4/5] END criterion=gini, max_features=auto, min_samples_leaf=1, min_samples_split=5, n_estimators=100;, score=0.701 total time=   0.1s\n"
          ]
        },
        {
          "output_type": "stream",
          "name": "stderr",
          "text": [
            "/usr/local/lib/python3.10/dist-packages/sklearn/ensemble/_forest.py:424: FutureWarning: `max_features='auto'` has been deprecated in 1.1 and will be removed in 1.3. To keep the past behaviour, explicitly set `max_features='sqrt'` or remove this parameter as it is also the default value for RandomForestClassifiers and ExtraTreesClassifiers.\n",
            "  warn(\n",
            "/usr/local/lib/python3.10/dist-packages/sklearn/ensemble/_forest.py:424: FutureWarning: `max_features='auto'` has been deprecated in 1.1 and will be removed in 1.3. To keep the past behaviour, explicitly set `max_features='sqrt'` or remove this parameter as it is also the default value for RandomForestClassifiers and ExtraTreesClassifiers.\n",
            "  warn(\n"
          ]
        },
        {
          "output_type": "stream",
          "name": "stdout",
          "text": [
            "[CV 5/5] END criterion=gini, max_features=auto, min_samples_leaf=1, min_samples_split=5, n_estimators=100;, score=0.789 total time=   0.1s\n",
            "[CV 1/5] END criterion=gini, max_features=auto, min_samples_leaf=1, min_samples_split=5, n_estimators=115;, score=0.675 total time=   0.1s\n"
          ]
        },
        {
          "output_type": "stream",
          "name": "stderr",
          "text": [
            "/usr/local/lib/python3.10/dist-packages/sklearn/ensemble/_forest.py:424: FutureWarning: `max_features='auto'` has been deprecated in 1.1 and will be removed in 1.3. To keep the past behaviour, explicitly set `max_features='sqrt'` or remove this parameter as it is also the default value for RandomForestClassifiers and ExtraTreesClassifiers.\n",
            "  warn(\n",
            "/usr/local/lib/python3.10/dist-packages/sklearn/ensemble/_forest.py:424: FutureWarning: `max_features='auto'` has been deprecated in 1.1 and will be removed in 1.3. To keep the past behaviour, explicitly set `max_features='sqrt'` or remove this parameter as it is also the default value for RandomForestClassifiers and ExtraTreesClassifiers.\n",
            "  warn(\n"
          ]
        },
        {
          "output_type": "stream",
          "name": "stdout",
          "text": [
            "[CV 2/5] END criterion=gini, max_features=auto, min_samples_leaf=1, min_samples_split=5, n_estimators=115;, score=0.740 total time=   0.2s\n"
          ]
        },
        {
          "output_type": "stream",
          "name": "stderr",
          "text": [
            "/usr/local/lib/python3.10/dist-packages/sklearn/ensemble/_forest.py:424: FutureWarning: `max_features='auto'` has been deprecated in 1.1 and will be removed in 1.3. To keep the past behaviour, explicitly set `max_features='sqrt'` or remove this parameter as it is also the default value for RandomForestClassifiers and ExtraTreesClassifiers.\n",
            "  warn(\n"
          ]
        },
        {
          "output_type": "stream",
          "name": "stdout",
          "text": [
            "[CV 3/5] END criterion=gini, max_features=auto, min_samples_leaf=1, min_samples_split=5, n_estimators=115;, score=0.805 total time=   0.3s\n"
          ]
        },
        {
          "output_type": "stream",
          "name": "stderr",
          "text": [
            "/usr/local/lib/python3.10/dist-packages/sklearn/ensemble/_forest.py:424: FutureWarning: `max_features='auto'` has been deprecated in 1.1 and will be removed in 1.3. To keep the past behaviour, explicitly set `max_features='sqrt'` or remove this parameter as it is also the default value for RandomForestClassifiers and ExtraTreesClassifiers.\n",
            "  warn(\n"
          ]
        },
        {
          "output_type": "stream",
          "name": "stdout",
          "text": [
            "[CV 4/5] END criterion=gini, max_features=auto, min_samples_leaf=1, min_samples_split=5, n_estimators=115;, score=0.701 total time=   0.2s\n"
          ]
        },
        {
          "output_type": "stream",
          "name": "stderr",
          "text": [
            "/usr/local/lib/python3.10/dist-packages/sklearn/ensemble/_forest.py:424: FutureWarning: `max_features='auto'` has been deprecated in 1.1 and will be removed in 1.3. To keep the past behaviour, explicitly set `max_features='sqrt'` or remove this parameter as it is also the default value for RandomForestClassifiers and ExtraTreesClassifiers.\n",
            "  warn(\n"
          ]
        },
        {
          "output_type": "stream",
          "name": "stdout",
          "text": [
            "[CV 5/5] END criterion=gini, max_features=auto, min_samples_leaf=1, min_samples_split=5, n_estimators=115;, score=0.789 total time=   0.2s\n",
            "[CV 1/5] END criterion=gini, max_features=auto, min_samples_leaf=1, min_samples_split=6, n_estimators=90;, score=0.675 total time=   0.2s\n"
          ]
        },
        {
          "output_type": "stream",
          "name": "stderr",
          "text": [
            "/usr/local/lib/python3.10/dist-packages/sklearn/ensemble/_forest.py:424: FutureWarning: `max_features='auto'` has been deprecated in 1.1 and will be removed in 1.3. To keep the past behaviour, explicitly set `max_features='sqrt'` or remove this parameter as it is also the default value for RandomForestClassifiers and ExtraTreesClassifiers.\n",
            "  warn(\n",
            "/usr/local/lib/python3.10/dist-packages/sklearn/ensemble/_forest.py:424: FutureWarning: `max_features='auto'` has been deprecated in 1.1 and will be removed in 1.3. To keep the past behaviour, explicitly set `max_features='sqrt'` or remove this parameter as it is also the default value for RandomForestClassifiers and ExtraTreesClassifiers.\n",
            "  warn(\n"
          ]
        },
        {
          "output_type": "stream",
          "name": "stdout",
          "text": [
            "[CV 2/5] END criterion=gini, max_features=auto, min_samples_leaf=1, min_samples_split=6, n_estimators=90;, score=0.740 total time=   0.2s\n",
            "[CV 3/5] END criterion=gini, max_features=auto, min_samples_leaf=1, min_samples_split=6, n_estimators=90;, score=0.805 total time=   0.2s\n"
          ]
        },
        {
          "output_type": "stream",
          "name": "stderr",
          "text": [
            "/usr/local/lib/python3.10/dist-packages/sklearn/ensemble/_forest.py:424: FutureWarning: `max_features='auto'` has been deprecated in 1.1 and will be removed in 1.3. To keep the past behaviour, explicitly set `max_features='sqrt'` or remove this parameter as it is also the default value for RandomForestClassifiers and ExtraTreesClassifiers.\n",
            "  warn(\n",
            "/usr/local/lib/python3.10/dist-packages/sklearn/ensemble/_forest.py:424: FutureWarning: `max_features='auto'` has been deprecated in 1.1 and will be removed in 1.3. To keep the past behaviour, explicitly set `max_features='sqrt'` or remove this parameter as it is also the default value for RandomForestClassifiers and ExtraTreesClassifiers.\n",
            "  warn(\n"
          ]
        },
        {
          "output_type": "stream",
          "name": "stdout",
          "text": [
            "[CV 4/5] END criterion=gini, max_features=auto, min_samples_leaf=1, min_samples_split=6, n_estimators=90;, score=0.701 total time=   0.2s\n",
            "[CV 5/5] END criterion=gini, max_features=auto, min_samples_leaf=1, min_samples_split=6, n_estimators=90;, score=0.789 total time=   0.2s\n"
          ]
        },
        {
          "output_type": "stream",
          "name": "stderr",
          "text": [
            "/usr/local/lib/python3.10/dist-packages/sklearn/ensemble/_forest.py:424: FutureWarning: `max_features='auto'` has been deprecated in 1.1 and will be removed in 1.3. To keep the past behaviour, explicitly set `max_features='sqrt'` or remove this parameter as it is also the default value for RandomForestClassifiers and ExtraTreesClassifiers.\n",
            "  warn(\n",
            "/usr/local/lib/python3.10/dist-packages/sklearn/ensemble/_forest.py:424: FutureWarning: `max_features='auto'` has been deprecated in 1.1 and will be removed in 1.3. To keep the past behaviour, explicitly set `max_features='sqrt'` or remove this parameter as it is also the default value for RandomForestClassifiers and ExtraTreesClassifiers.\n",
            "  warn(\n"
          ]
        },
        {
          "output_type": "stream",
          "name": "stdout",
          "text": [
            "[CV 1/5] END criterion=gini, max_features=auto, min_samples_leaf=1, min_samples_split=6, n_estimators=100;, score=0.675 total time=   0.2s\n"
          ]
        },
        {
          "output_type": "stream",
          "name": "stderr",
          "text": [
            "/usr/local/lib/python3.10/dist-packages/sklearn/ensemble/_forest.py:424: FutureWarning: `max_features='auto'` has been deprecated in 1.1 and will be removed in 1.3. To keep the past behaviour, explicitly set `max_features='sqrt'` or remove this parameter as it is also the default value for RandomForestClassifiers and ExtraTreesClassifiers.\n",
            "  warn(\n"
          ]
        },
        {
          "output_type": "stream",
          "name": "stdout",
          "text": [
            "[CV 2/5] END criterion=gini, max_features=auto, min_samples_leaf=1, min_samples_split=6, n_estimators=100;, score=0.740 total time=   0.2s\n"
          ]
        },
        {
          "output_type": "stream",
          "name": "stderr",
          "text": [
            "/usr/local/lib/python3.10/dist-packages/sklearn/ensemble/_forest.py:424: FutureWarning: `max_features='auto'` has been deprecated in 1.1 and will be removed in 1.3. To keep the past behaviour, explicitly set `max_features='sqrt'` or remove this parameter as it is also the default value for RandomForestClassifiers and ExtraTreesClassifiers.\n",
            "  warn(\n"
          ]
        },
        {
          "output_type": "stream",
          "name": "stdout",
          "text": [
            "[CV 3/5] END criterion=gini, max_features=auto, min_samples_leaf=1, min_samples_split=6, n_estimators=100;, score=0.805 total time=   0.2s\n"
          ]
        },
        {
          "output_type": "stream",
          "name": "stderr",
          "text": [
            "/usr/local/lib/python3.10/dist-packages/sklearn/ensemble/_forest.py:424: FutureWarning: `max_features='auto'` has been deprecated in 1.1 and will be removed in 1.3. To keep the past behaviour, explicitly set `max_features='sqrt'` or remove this parameter as it is also the default value for RandomForestClassifiers and ExtraTreesClassifiers.\n",
            "  warn(\n"
          ]
        },
        {
          "output_type": "stream",
          "name": "stdout",
          "text": [
            "[CV 4/5] END criterion=gini, max_features=auto, min_samples_leaf=1, min_samples_split=6, n_estimators=100;, score=0.701 total time=   0.2s\n"
          ]
        },
        {
          "output_type": "stream",
          "name": "stderr",
          "text": [
            "/usr/local/lib/python3.10/dist-packages/sklearn/ensemble/_forest.py:424: FutureWarning: `max_features='auto'` has been deprecated in 1.1 and will be removed in 1.3. To keep the past behaviour, explicitly set `max_features='sqrt'` or remove this parameter as it is also the default value for RandomForestClassifiers and ExtraTreesClassifiers.\n",
            "  warn(\n"
          ]
        },
        {
          "output_type": "stream",
          "name": "stdout",
          "text": [
            "[CV 5/5] END criterion=gini, max_features=auto, min_samples_leaf=1, min_samples_split=6, n_estimators=100;, score=0.789 total time=   0.2s\n"
          ]
        },
        {
          "output_type": "stream",
          "name": "stderr",
          "text": [
            "/usr/local/lib/python3.10/dist-packages/sklearn/ensemble/_forest.py:424: FutureWarning: `max_features='auto'` has been deprecated in 1.1 and will be removed in 1.3. To keep the past behaviour, explicitly set `max_features='sqrt'` or remove this parameter as it is also the default value for RandomForestClassifiers and ExtraTreesClassifiers.\n",
            "  warn(\n"
          ]
        },
        {
          "output_type": "stream",
          "name": "stdout",
          "text": [
            "[CV 1/5] END criterion=gini, max_features=auto, min_samples_leaf=1, min_samples_split=6, n_estimators=115;, score=0.675 total time=   0.2s\n"
          ]
        },
        {
          "output_type": "stream",
          "name": "stderr",
          "text": [
            "/usr/local/lib/python3.10/dist-packages/sklearn/ensemble/_forest.py:424: FutureWarning: `max_features='auto'` has been deprecated in 1.1 and will be removed in 1.3. To keep the past behaviour, explicitly set `max_features='sqrt'` or remove this parameter as it is also the default value for RandomForestClassifiers and ExtraTreesClassifiers.\n",
            "  warn(\n"
          ]
        },
        {
          "output_type": "stream",
          "name": "stdout",
          "text": [
            "[CV 2/5] END criterion=gini, max_features=auto, min_samples_leaf=1, min_samples_split=6, n_estimators=115;, score=0.740 total time=   0.2s\n",
            "[CV 3/5] END criterion=gini, max_features=auto, min_samples_leaf=1, min_samples_split=6, n_estimators=115;, score=0.805 total time=   0.2s\n"
          ]
        },
        {
          "output_type": "stream",
          "name": "stderr",
          "text": [
            "/usr/local/lib/python3.10/dist-packages/sklearn/ensemble/_forest.py:424: FutureWarning: `max_features='auto'` has been deprecated in 1.1 and will be removed in 1.3. To keep the past behaviour, explicitly set `max_features='sqrt'` or remove this parameter as it is also the default value for RandomForestClassifiers and ExtraTreesClassifiers.\n",
            "  warn(\n",
            "/usr/local/lib/python3.10/dist-packages/sklearn/ensemble/_forest.py:424: FutureWarning: `max_features='auto'` has been deprecated in 1.1 and will be removed in 1.3. To keep the past behaviour, explicitly set `max_features='sqrt'` or remove this parameter as it is also the default value for RandomForestClassifiers and ExtraTreesClassifiers.\n",
            "  warn(\n"
          ]
        },
        {
          "output_type": "stream",
          "name": "stdout",
          "text": [
            "[CV 4/5] END criterion=gini, max_features=auto, min_samples_leaf=1, min_samples_split=6, n_estimators=115;, score=0.701 total time=   0.2s\n",
            "[CV 5/5] END criterion=gini, max_features=auto, min_samples_leaf=1, min_samples_split=6, n_estimators=115;, score=0.789 total time=   0.1s\n"
          ]
        },
        {
          "output_type": "stream",
          "name": "stderr",
          "text": [
            "/usr/local/lib/python3.10/dist-packages/sklearn/ensemble/_forest.py:424: FutureWarning: `max_features='auto'` has been deprecated in 1.1 and will be removed in 1.3. To keep the past behaviour, explicitly set `max_features='sqrt'` or remove this parameter as it is also the default value for RandomForestClassifiers and ExtraTreesClassifiers.\n",
            "  warn(\n",
            "/usr/local/lib/python3.10/dist-packages/sklearn/ensemble/_forest.py:424: FutureWarning: `max_features='auto'` has been deprecated in 1.1 and will be removed in 1.3. To keep the past behaviour, explicitly set `max_features='sqrt'` or remove this parameter as it is also the default value for RandomForestClassifiers and ExtraTreesClassifiers.\n",
            "  warn(\n"
          ]
        },
        {
          "output_type": "stream",
          "name": "stdout",
          "text": [
            "[CV 1/5] END criterion=gini, max_features=auto, min_samples_leaf=1, min_samples_split=7, n_estimators=90;, score=0.675 total time=   0.1s\n",
            "[CV 2/5] END criterion=gini, max_features=auto, min_samples_leaf=1, min_samples_split=7, n_estimators=90;, score=0.740 total time=   0.1s\n"
          ]
        },
        {
          "output_type": "stream",
          "name": "stderr",
          "text": [
            "/usr/local/lib/python3.10/dist-packages/sklearn/ensemble/_forest.py:424: FutureWarning: `max_features='auto'` has been deprecated in 1.1 and will be removed in 1.3. To keep the past behaviour, explicitly set `max_features='sqrt'` or remove this parameter as it is also the default value for RandomForestClassifiers and ExtraTreesClassifiers.\n",
            "  warn(\n",
            "/usr/local/lib/python3.10/dist-packages/sklearn/ensemble/_forest.py:424: FutureWarning: `max_features='auto'` has been deprecated in 1.1 and will be removed in 1.3. To keep the past behaviour, explicitly set `max_features='sqrt'` or remove this parameter as it is also the default value for RandomForestClassifiers and ExtraTreesClassifiers.\n",
            "  warn(\n"
          ]
        },
        {
          "output_type": "stream",
          "name": "stdout",
          "text": [
            "[CV 3/5] END criterion=gini, max_features=auto, min_samples_leaf=1, min_samples_split=7, n_estimators=90;, score=0.805 total time=   0.1s\n",
            "[CV 4/5] END criterion=gini, max_features=auto, min_samples_leaf=1, min_samples_split=7, n_estimators=90;, score=0.701 total time=   0.1s\n"
          ]
        },
        {
          "output_type": "stream",
          "name": "stderr",
          "text": [
            "/usr/local/lib/python3.10/dist-packages/sklearn/ensemble/_forest.py:424: FutureWarning: `max_features='auto'` has been deprecated in 1.1 and will be removed in 1.3. To keep the past behaviour, explicitly set `max_features='sqrt'` or remove this parameter as it is also the default value for RandomForestClassifiers and ExtraTreesClassifiers.\n",
            "  warn(\n",
            "/usr/local/lib/python3.10/dist-packages/sklearn/ensemble/_forest.py:424: FutureWarning: `max_features='auto'` has been deprecated in 1.1 and will be removed in 1.3. To keep the past behaviour, explicitly set `max_features='sqrt'` or remove this parameter as it is also the default value for RandomForestClassifiers and ExtraTreesClassifiers.\n",
            "  warn(\n"
          ]
        },
        {
          "output_type": "stream",
          "name": "stdout",
          "text": [
            "[CV 5/5] END criterion=gini, max_features=auto, min_samples_leaf=1, min_samples_split=7, n_estimators=90;, score=0.789 total time=   0.1s\n",
            "[CV 1/5] END criterion=gini, max_features=auto, min_samples_leaf=1, min_samples_split=7, n_estimators=100;, score=0.675 total time=   0.1s\n"
          ]
        },
        {
          "output_type": "stream",
          "name": "stderr",
          "text": [
            "/usr/local/lib/python3.10/dist-packages/sklearn/ensemble/_forest.py:424: FutureWarning: `max_features='auto'` has been deprecated in 1.1 and will be removed in 1.3. To keep the past behaviour, explicitly set `max_features='sqrt'` or remove this parameter as it is also the default value for RandomForestClassifiers and ExtraTreesClassifiers.\n",
            "  warn(\n",
            "/usr/local/lib/python3.10/dist-packages/sklearn/ensemble/_forest.py:424: FutureWarning: `max_features='auto'` has been deprecated in 1.1 and will be removed in 1.3. To keep the past behaviour, explicitly set `max_features='sqrt'` or remove this parameter as it is also the default value for RandomForestClassifiers and ExtraTreesClassifiers.\n",
            "  warn(\n"
          ]
        },
        {
          "output_type": "stream",
          "name": "stdout",
          "text": [
            "[CV 2/5] END criterion=gini, max_features=auto, min_samples_leaf=1, min_samples_split=7, n_estimators=100;, score=0.740 total time=   0.1s\n",
            "[CV 3/5] END criterion=gini, max_features=auto, min_samples_leaf=1, min_samples_split=7, n_estimators=100;, score=0.805 total time=   0.1s\n"
          ]
        },
        {
          "output_type": "stream",
          "name": "stderr",
          "text": [
            "/usr/local/lib/python3.10/dist-packages/sklearn/ensemble/_forest.py:424: FutureWarning: `max_features='auto'` has been deprecated in 1.1 and will be removed in 1.3. To keep the past behaviour, explicitly set `max_features='sqrt'` or remove this parameter as it is also the default value for RandomForestClassifiers and ExtraTreesClassifiers.\n",
            "  warn(\n",
            "/usr/local/lib/python3.10/dist-packages/sklearn/ensemble/_forest.py:424: FutureWarning: `max_features='auto'` has been deprecated in 1.1 and will be removed in 1.3. To keep the past behaviour, explicitly set `max_features='sqrt'` or remove this parameter as it is also the default value for RandomForestClassifiers and ExtraTreesClassifiers.\n",
            "  warn(\n"
          ]
        },
        {
          "output_type": "stream",
          "name": "stdout",
          "text": [
            "[CV 4/5] END criterion=gini, max_features=auto, min_samples_leaf=1, min_samples_split=7, n_estimators=100;, score=0.701 total time=   0.1s\n",
            "[CV 5/5] END criterion=gini, max_features=auto, min_samples_leaf=1, min_samples_split=7, n_estimators=100;, score=0.789 total time=   0.1s\n"
          ]
        },
        {
          "output_type": "stream",
          "name": "stderr",
          "text": [
            "/usr/local/lib/python3.10/dist-packages/sklearn/ensemble/_forest.py:424: FutureWarning: `max_features='auto'` has been deprecated in 1.1 and will be removed in 1.3. To keep the past behaviour, explicitly set `max_features='sqrt'` or remove this parameter as it is also the default value for RandomForestClassifiers and ExtraTreesClassifiers.\n",
            "  warn(\n",
            "/usr/local/lib/python3.10/dist-packages/sklearn/ensemble/_forest.py:424: FutureWarning: `max_features='auto'` has been deprecated in 1.1 and will be removed in 1.3. To keep the past behaviour, explicitly set `max_features='sqrt'` or remove this parameter as it is also the default value for RandomForestClassifiers and ExtraTreesClassifiers.\n",
            "  warn(\n"
          ]
        },
        {
          "output_type": "stream",
          "name": "stdout",
          "text": [
            "[CV 1/5] END criterion=gini, max_features=auto, min_samples_leaf=1, min_samples_split=7, n_estimators=115;, score=0.675 total time=   0.2s\n",
            "[CV 2/5] END criterion=gini, max_features=auto, min_samples_leaf=1, min_samples_split=7, n_estimators=115;, score=0.740 total time=   0.2s\n"
          ]
        },
        {
          "output_type": "stream",
          "name": "stderr",
          "text": [
            "/usr/local/lib/python3.10/dist-packages/sklearn/ensemble/_forest.py:424: FutureWarning: `max_features='auto'` has been deprecated in 1.1 and will be removed in 1.3. To keep the past behaviour, explicitly set `max_features='sqrt'` or remove this parameter as it is also the default value for RandomForestClassifiers and ExtraTreesClassifiers.\n",
            "  warn(\n",
            "/usr/local/lib/python3.10/dist-packages/sklearn/ensemble/_forest.py:424: FutureWarning: `max_features='auto'` has been deprecated in 1.1 and will be removed in 1.3. To keep the past behaviour, explicitly set `max_features='sqrt'` or remove this parameter as it is also the default value for RandomForestClassifiers and ExtraTreesClassifiers.\n",
            "  warn(\n"
          ]
        },
        {
          "output_type": "stream",
          "name": "stdout",
          "text": [
            "[CV 3/5] END criterion=gini, max_features=auto, min_samples_leaf=1, min_samples_split=7, n_estimators=115;, score=0.805 total time=   0.2s\n",
            "[CV 4/5] END criterion=gini, max_features=auto, min_samples_leaf=1, min_samples_split=7, n_estimators=115;, score=0.701 total time=   0.2s\n"
          ]
        },
        {
          "output_type": "stream",
          "name": "stderr",
          "text": [
            "/usr/local/lib/python3.10/dist-packages/sklearn/ensemble/_forest.py:424: FutureWarning: `max_features='auto'` has been deprecated in 1.1 and will be removed in 1.3. To keep the past behaviour, explicitly set `max_features='sqrt'` or remove this parameter as it is also the default value for RandomForestClassifiers and ExtraTreesClassifiers.\n",
            "  warn(\n",
            "/usr/local/lib/python3.10/dist-packages/sklearn/ensemble/_forest.py:424: FutureWarning: `max_features='auto'` has been deprecated in 1.1 and will be removed in 1.3. To keep the past behaviour, explicitly set `max_features='sqrt'` or remove this parameter as it is also the default value for RandomForestClassifiers and ExtraTreesClassifiers.\n",
            "  warn(\n"
          ]
        },
        {
          "output_type": "stream",
          "name": "stdout",
          "text": [
            "[CV 5/5] END criterion=gini, max_features=auto, min_samples_leaf=1, min_samples_split=7, n_estimators=115;, score=0.789 total time=   0.2s\n",
            "[CV 1/5] END criterion=gini, max_features=auto, min_samples_leaf=1, min_samples_split=8, n_estimators=90;, score=0.675 total time=   0.1s\n"
          ]
        },
        {
          "output_type": "stream",
          "name": "stderr",
          "text": [
            "/usr/local/lib/python3.10/dist-packages/sklearn/ensemble/_forest.py:424: FutureWarning: `max_features='auto'` has been deprecated in 1.1 and will be removed in 1.3. To keep the past behaviour, explicitly set `max_features='sqrt'` or remove this parameter as it is also the default value for RandomForestClassifiers and ExtraTreesClassifiers.\n",
            "  warn(\n",
            "/usr/local/lib/python3.10/dist-packages/sklearn/ensemble/_forest.py:424: FutureWarning: `max_features='auto'` has been deprecated in 1.1 and will be removed in 1.3. To keep the past behaviour, explicitly set `max_features='sqrt'` or remove this parameter as it is also the default value for RandomForestClassifiers and ExtraTreesClassifiers.\n",
            "  warn(\n"
          ]
        },
        {
          "output_type": "stream",
          "name": "stdout",
          "text": [
            "[CV 2/5] END criterion=gini, max_features=auto, min_samples_leaf=1, min_samples_split=8, n_estimators=90;, score=0.740 total time=   0.1s\n",
            "[CV 3/5] END criterion=gini, max_features=auto, min_samples_leaf=1, min_samples_split=8, n_estimators=90;, score=0.805 total time=   0.1s\n"
          ]
        },
        {
          "output_type": "stream",
          "name": "stderr",
          "text": [
            "/usr/local/lib/python3.10/dist-packages/sklearn/ensemble/_forest.py:424: FutureWarning: `max_features='auto'` has been deprecated in 1.1 and will be removed in 1.3. To keep the past behaviour, explicitly set `max_features='sqrt'` or remove this parameter as it is also the default value for RandomForestClassifiers and ExtraTreesClassifiers.\n",
            "  warn(\n",
            "/usr/local/lib/python3.10/dist-packages/sklearn/ensemble/_forest.py:424: FutureWarning: `max_features='auto'` has been deprecated in 1.1 and will be removed in 1.3. To keep the past behaviour, explicitly set `max_features='sqrt'` or remove this parameter as it is also the default value for RandomForestClassifiers and ExtraTreesClassifiers.\n",
            "  warn(\n"
          ]
        },
        {
          "output_type": "stream",
          "name": "stdout",
          "text": [
            "[CV 4/5] END criterion=gini, max_features=auto, min_samples_leaf=1, min_samples_split=8, n_estimators=90;, score=0.701 total time=   0.1s\n",
            "[CV 5/5] END criterion=gini, max_features=auto, min_samples_leaf=1, min_samples_split=8, n_estimators=90;, score=0.789 total time=   0.1s\n"
          ]
        },
        {
          "output_type": "stream",
          "name": "stderr",
          "text": [
            "/usr/local/lib/python3.10/dist-packages/sklearn/ensemble/_forest.py:424: FutureWarning: `max_features='auto'` has been deprecated in 1.1 and will be removed in 1.3. To keep the past behaviour, explicitly set `max_features='sqrt'` or remove this parameter as it is also the default value for RandomForestClassifiers and ExtraTreesClassifiers.\n",
            "  warn(\n",
            "/usr/local/lib/python3.10/dist-packages/sklearn/ensemble/_forest.py:424: FutureWarning: `max_features='auto'` has been deprecated in 1.1 and will be removed in 1.3. To keep the past behaviour, explicitly set `max_features='sqrt'` or remove this parameter as it is also the default value for RandomForestClassifiers and ExtraTreesClassifiers.\n",
            "  warn(\n"
          ]
        },
        {
          "output_type": "stream",
          "name": "stdout",
          "text": [
            "[CV 1/5] END criterion=gini, max_features=auto, min_samples_leaf=1, min_samples_split=8, n_estimators=100;, score=0.675 total time=   0.1s\n",
            "[CV 2/5] END criterion=gini, max_features=auto, min_samples_leaf=1, min_samples_split=8, n_estimators=100;, score=0.740 total time=   0.1s\n"
          ]
        },
        {
          "output_type": "stream",
          "name": "stderr",
          "text": [
            "/usr/local/lib/python3.10/dist-packages/sklearn/ensemble/_forest.py:424: FutureWarning: `max_features='auto'` has been deprecated in 1.1 and will be removed in 1.3. To keep the past behaviour, explicitly set `max_features='sqrt'` or remove this parameter as it is also the default value for RandomForestClassifiers and ExtraTreesClassifiers.\n",
            "  warn(\n",
            "/usr/local/lib/python3.10/dist-packages/sklearn/ensemble/_forest.py:424: FutureWarning: `max_features='auto'` has been deprecated in 1.1 and will be removed in 1.3. To keep the past behaviour, explicitly set `max_features='sqrt'` or remove this parameter as it is also the default value for RandomForestClassifiers and ExtraTreesClassifiers.\n",
            "  warn(\n"
          ]
        },
        {
          "output_type": "stream",
          "name": "stdout",
          "text": [
            "[CV 3/5] END criterion=gini, max_features=auto, min_samples_leaf=1, min_samples_split=8, n_estimators=100;, score=0.805 total time=   0.1s\n",
            "[CV 4/5] END criterion=gini, max_features=auto, min_samples_leaf=1, min_samples_split=8, n_estimators=100;, score=0.701 total time=   0.1s\n"
          ]
        },
        {
          "output_type": "stream",
          "name": "stderr",
          "text": [
            "/usr/local/lib/python3.10/dist-packages/sklearn/ensemble/_forest.py:424: FutureWarning: `max_features='auto'` has been deprecated in 1.1 and will be removed in 1.3. To keep the past behaviour, explicitly set `max_features='sqrt'` or remove this parameter as it is also the default value for RandomForestClassifiers and ExtraTreesClassifiers.\n",
            "  warn(\n",
            "/usr/local/lib/python3.10/dist-packages/sklearn/ensemble/_forest.py:424: FutureWarning: `max_features='auto'` has been deprecated in 1.1 and will be removed in 1.3. To keep the past behaviour, explicitly set `max_features='sqrt'` or remove this parameter as it is also the default value for RandomForestClassifiers and ExtraTreesClassifiers.\n",
            "  warn(\n"
          ]
        },
        {
          "output_type": "stream",
          "name": "stdout",
          "text": [
            "[CV 5/5] END criterion=gini, max_features=auto, min_samples_leaf=1, min_samples_split=8, n_estimators=100;, score=0.789 total time=   0.1s\n",
            "[CV 1/5] END criterion=gini, max_features=auto, min_samples_leaf=1, min_samples_split=8, n_estimators=115;, score=0.675 total time=   0.1s\n"
          ]
        },
        {
          "output_type": "stream",
          "name": "stderr",
          "text": [
            "/usr/local/lib/python3.10/dist-packages/sklearn/ensemble/_forest.py:424: FutureWarning: `max_features='auto'` has been deprecated in 1.1 and will be removed in 1.3. To keep the past behaviour, explicitly set `max_features='sqrt'` or remove this parameter as it is also the default value for RandomForestClassifiers and ExtraTreesClassifiers.\n",
            "  warn(\n",
            "/usr/local/lib/python3.10/dist-packages/sklearn/ensemble/_forest.py:424: FutureWarning: `max_features='auto'` has been deprecated in 1.1 and will be removed in 1.3. To keep the past behaviour, explicitly set `max_features='sqrt'` or remove this parameter as it is also the default value for RandomForestClassifiers and ExtraTreesClassifiers.\n",
            "  warn(\n"
          ]
        },
        {
          "output_type": "stream",
          "name": "stdout",
          "text": [
            "[CV 2/5] END criterion=gini, max_features=auto, min_samples_leaf=1, min_samples_split=8, n_estimators=115;, score=0.740 total time=   0.2s\n",
            "[CV 3/5] END criterion=gini, max_features=auto, min_samples_leaf=1, min_samples_split=8, n_estimators=115;, score=0.805 total time=   0.1s\n"
          ]
        },
        {
          "output_type": "stream",
          "name": "stderr",
          "text": [
            "/usr/local/lib/python3.10/dist-packages/sklearn/ensemble/_forest.py:424: FutureWarning: `max_features='auto'` has been deprecated in 1.1 and will be removed in 1.3. To keep the past behaviour, explicitly set `max_features='sqrt'` or remove this parameter as it is also the default value for RandomForestClassifiers and ExtraTreesClassifiers.\n",
            "  warn(\n",
            "/usr/local/lib/python3.10/dist-packages/sklearn/ensemble/_forest.py:424: FutureWarning: `max_features='auto'` has been deprecated in 1.1 and will be removed in 1.3. To keep the past behaviour, explicitly set `max_features='sqrt'` or remove this parameter as it is also the default value for RandomForestClassifiers and ExtraTreesClassifiers.\n",
            "  warn(\n"
          ]
        },
        {
          "output_type": "stream",
          "name": "stdout",
          "text": [
            "[CV 4/5] END criterion=gini, max_features=auto, min_samples_leaf=1, min_samples_split=8, n_estimators=115;, score=0.701 total time=   0.2s\n",
            "[CV 5/5] END criterion=gini, max_features=auto, min_samples_leaf=1, min_samples_split=8, n_estimators=115;, score=0.789 total time=   0.1s\n"
          ]
        },
        {
          "output_type": "stream",
          "name": "stderr",
          "text": [
            "/usr/local/lib/python3.10/dist-packages/sklearn/ensemble/_forest.py:424: FutureWarning: `max_features='auto'` has been deprecated in 1.1 and will be removed in 1.3. To keep the past behaviour, explicitly set `max_features='sqrt'` or remove this parameter as it is also the default value for RandomForestClassifiers and ExtraTreesClassifiers.\n",
            "  warn(\n",
            "/usr/local/lib/python3.10/dist-packages/sklearn/ensemble/_forest.py:424: FutureWarning: `max_features='auto'` has been deprecated in 1.1 and will be removed in 1.3. To keep the past behaviour, explicitly set `max_features='sqrt'` or remove this parameter as it is also the default value for RandomForestClassifiers and ExtraTreesClassifiers.\n",
            "  warn(\n"
          ]
        },
        {
          "output_type": "stream",
          "name": "stdout",
          "text": [
            "[CV 1/5] END criterion=gini, max_features=auto, min_samples_leaf=2, min_samples_split=4, n_estimators=90;, score=0.675 total time=   0.1s\n",
            "[CV 2/5] END criterion=gini, max_features=auto, min_samples_leaf=2, min_samples_split=4, n_estimators=90;, score=0.740 total time=   0.1s\n"
          ]
        },
        {
          "output_type": "stream",
          "name": "stderr",
          "text": [
            "/usr/local/lib/python3.10/dist-packages/sklearn/ensemble/_forest.py:424: FutureWarning: `max_features='auto'` has been deprecated in 1.1 and will be removed in 1.3. To keep the past behaviour, explicitly set `max_features='sqrt'` or remove this parameter as it is also the default value for RandomForestClassifiers and ExtraTreesClassifiers.\n",
            "  warn(\n",
            "/usr/local/lib/python3.10/dist-packages/sklearn/ensemble/_forest.py:424: FutureWarning: `max_features='auto'` has been deprecated in 1.1 and will be removed in 1.3. To keep the past behaviour, explicitly set `max_features='sqrt'` or remove this parameter as it is also the default value for RandomForestClassifiers and ExtraTreesClassifiers.\n",
            "  warn(\n"
          ]
        },
        {
          "output_type": "stream",
          "name": "stdout",
          "text": [
            "[CV 3/5] END criterion=gini, max_features=auto, min_samples_leaf=2, min_samples_split=4, n_estimators=90;, score=0.805 total time=   0.1s\n",
            "[CV 4/5] END criterion=gini, max_features=auto, min_samples_leaf=2, min_samples_split=4, n_estimators=90;, score=0.701 total time=   0.1s\n"
          ]
        },
        {
          "output_type": "stream",
          "name": "stderr",
          "text": [
            "/usr/local/lib/python3.10/dist-packages/sklearn/ensemble/_forest.py:424: FutureWarning: `max_features='auto'` has been deprecated in 1.1 and will be removed in 1.3. To keep the past behaviour, explicitly set `max_features='sqrt'` or remove this parameter as it is also the default value for RandomForestClassifiers and ExtraTreesClassifiers.\n",
            "  warn(\n",
            "/usr/local/lib/python3.10/dist-packages/sklearn/ensemble/_forest.py:424: FutureWarning: `max_features='auto'` has been deprecated in 1.1 and will be removed in 1.3. To keep the past behaviour, explicitly set `max_features='sqrt'` or remove this parameter as it is also the default value for RandomForestClassifiers and ExtraTreesClassifiers.\n",
            "  warn(\n"
          ]
        },
        {
          "output_type": "stream",
          "name": "stdout",
          "text": [
            "[CV 5/5] END criterion=gini, max_features=auto, min_samples_leaf=2, min_samples_split=4, n_estimators=90;, score=0.789 total time=   0.1s\n",
            "[CV 1/5] END criterion=gini, max_features=auto, min_samples_leaf=2, min_samples_split=4, n_estimators=100;, score=0.675 total time=   0.1s\n"
          ]
        },
        {
          "output_type": "stream",
          "name": "stderr",
          "text": [
            "/usr/local/lib/python3.10/dist-packages/sklearn/ensemble/_forest.py:424: FutureWarning: `max_features='auto'` has been deprecated in 1.1 and will be removed in 1.3. To keep the past behaviour, explicitly set `max_features='sqrt'` or remove this parameter as it is also the default value for RandomForestClassifiers and ExtraTreesClassifiers.\n",
            "  warn(\n",
            "/usr/local/lib/python3.10/dist-packages/sklearn/ensemble/_forest.py:424: FutureWarning: `max_features='auto'` has been deprecated in 1.1 and will be removed in 1.3. To keep the past behaviour, explicitly set `max_features='sqrt'` or remove this parameter as it is also the default value for RandomForestClassifiers and ExtraTreesClassifiers.\n",
            "  warn(\n"
          ]
        },
        {
          "output_type": "stream",
          "name": "stdout",
          "text": [
            "[CV 2/5] END criterion=gini, max_features=auto, min_samples_leaf=2, min_samples_split=4, n_estimators=100;, score=0.740 total time=   0.1s\n",
            "[CV 3/5] END criterion=gini, max_features=auto, min_samples_leaf=2, min_samples_split=4, n_estimators=100;, score=0.805 total time=   0.1s\n"
          ]
        },
        {
          "output_type": "stream",
          "name": "stderr",
          "text": [
            "/usr/local/lib/python3.10/dist-packages/sklearn/ensemble/_forest.py:424: FutureWarning: `max_features='auto'` has been deprecated in 1.1 and will be removed in 1.3. To keep the past behaviour, explicitly set `max_features='sqrt'` or remove this parameter as it is also the default value for RandomForestClassifiers and ExtraTreesClassifiers.\n",
            "  warn(\n",
            "/usr/local/lib/python3.10/dist-packages/sklearn/ensemble/_forest.py:424: FutureWarning: `max_features='auto'` has been deprecated in 1.1 and will be removed in 1.3. To keep the past behaviour, explicitly set `max_features='sqrt'` or remove this parameter as it is also the default value for RandomForestClassifiers and ExtraTreesClassifiers.\n",
            "  warn(\n"
          ]
        },
        {
          "output_type": "stream",
          "name": "stdout",
          "text": [
            "[CV 4/5] END criterion=gini, max_features=auto, min_samples_leaf=2, min_samples_split=4, n_estimators=100;, score=0.701 total time=   0.1s\n",
            "[CV 5/5] END criterion=gini, max_features=auto, min_samples_leaf=2, min_samples_split=4, n_estimators=100;, score=0.789 total time=   0.1s\n"
          ]
        },
        {
          "output_type": "stream",
          "name": "stderr",
          "text": [
            "/usr/local/lib/python3.10/dist-packages/sklearn/ensemble/_forest.py:424: FutureWarning: `max_features='auto'` has been deprecated in 1.1 and will be removed in 1.3. To keep the past behaviour, explicitly set `max_features='sqrt'` or remove this parameter as it is also the default value for RandomForestClassifiers and ExtraTreesClassifiers.\n",
            "  warn(\n",
            "/usr/local/lib/python3.10/dist-packages/sklearn/ensemble/_forest.py:424: FutureWarning: `max_features='auto'` has been deprecated in 1.1 and will be removed in 1.3. To keep the past behaviour, explicitly set `max_features='sqrt'` or remove this parameter as it is also the default value for RandomForestClassifiers and ExtraTreesClassifiers.\n",
            "  warn(\n"
          ]
        },
        {
          "output_type": "stream",
          "name": "stdout",
          "text": [
            "[CV 1/5] END criterion=gini, max_features=auto, min_samples_leaf=2, min_samples_split=4, n_estimators=115;, score=0.675 total time=   0.1s\n",
            "[CV 2/5] END criterion=gini, max_features=auto, min_samples_leaf=2, min_samples_split=4, n_estimators=115;, score=0.740 total time=   0.2s\n"
          ]
        },
        {
          "output_type": "stream",
          "name": "stderr",
          "text": [
            "/usr/local/lib/python3.10/dist-packages/sklearn/ensemble/_forest.py:424: FutureWarning: `max_features='auto'` has been deprecated in 1.1 and will be removed in 1.3. To keep the past behaviour, explicitly set `max_features='sqrt'` or remove this parameter as it is also the default value for RandomForestClassifiers and ExtraTreesClassifiers.\n",
            "  warn(\n",
            "/usr/local/lib/python3.10/dist-packages/sklearn/ensemble/_forest.py:424: FutureWarning: `max_features='auto'` has been deprecated in 1.1 and will be removed in 1.3. To keep the past behaviour, explicitly set `max_features='sqrt'` or remove this parameter as it is also the default value for RandomForestClassifiers and ExtraTreesClassifiers.\n",
            "  warn(\n"
          ]
        },
        {
          "output_type": "stream",
          "name": "stdout",
          "text": [
            "[CV 3/5] END criterion=gini, max_features=auto, min_samples_leaf=2, min_samples_split=4, n_estimators=115;, score=0.805 total time=   0.2s\n",
            "[CV 4/5] END criterion=gini, max_features=auto, min_samples_leaf=2, min_samples_split=4, n_estimators=115;, score=0.701 total time=   0.1s\n"
          ]
        },
        {
          "output_type": "stream",
          "name": "stderr",
          "text": [
            "/usr/local/lib/python3.10/dist-packages/sklearn/ensemble/_forest.py:424: FutureWarning: `max_features='auto'` has been deprecated in 1.1 and will be removed in 1.3. To keep the past behaviour, explicitly set `max_features='sqrt'` or remove this parameter as it is also the default value for RandomForestClassifiers and ExtraTreesClassifiers.\n",
            "  warn(\n",
            "/usr/local/lib/python3.10/dist-packages/sklearn/ensemble/_forest.py:424: FutureWarning: `max_features='auto'` has been deprecated in 1.1 and will be removed in 1.3. To keep the past behaviour, explicitly set `max_features='sqrt'` or remove this parameter as it is also the default value for RandomForestClassifiers and ExtraTreesClassifiers.\n",
            "  warn(\n"
          ]
        },
        {
          "output_type": "stream",
          "name": "stdout",
          "text": [
            "[CV 5/5] END criterion=gini, max_features=auto, min_samples_leaf=2, min_samples_split=4, n_estimators=115;, score=0.789 total time=   0.2s\n",
            "[CV 1/5] END criterion=gini, max_features=auto, min_samples_leaf=2, min_samples_split=5, n_estimators=90;, score=0.675 total time=   0.1s\n"
          ]
        },
        {
          "output_type": "stream",
          "name": "stderr",
          "text": [
            "/usr/local/lib/python3.10/dist-packages/sklearn/ensemble/_forest.py:424: FutureWarning: `max_features='auto'` has been deprecated in 1.1 and will be removed in 1.3. To keep the past behaviour, explicitly set `max_features='sqrt'` or remove this parameter as it is also the default value for RandomForestClassifiers and ExtraTreesClassifiers.\n",
            "  warn(\n",
            "/usr/local/lib/python3.10/dist-packages/sklearn/ensemble/_forest.py:424: FutureWarning: `max_features='auto'` has been deprecated in 1.1 and will be removed in 1.3. To keep the past behaviour, explicitly set `max_features='sqrt'` or remove this parameter as it is also the default value for RandomForestClassifiers and ExtraTreesClassifiers.\n",
            "  warn(\n"
          ]
        },
        {
          "output_type": "stream",
          "name": "stdout",
          "text": [
            "[CV 2/5] END criterion=gini, max_features=auto, min_samples_leaf=2, min_samples_split=5, n_estimators=90;, score=0.740 total time=   0.1s\n",
            "[CV 3/5] END criterion=gini, max_features=auto, min_samples_leaf=2, min_samples_split=5, n_estimators=90;, score=0.805 total time=   0.1s\n"
          ]
        },
        {
          "output_type": "stream",
          "name": "stderr",
          "text": [
            "/usr/local/lib/python3.10/dist-packages/sklearn/ensemble/_forest.py:424: FutureWarning: `max_features='auto'` has been deprecated in 1.1 and will be removed in 1.3. To keep the past behaviour, explicitly set `max_features='sqrt'` or remove this parameter as it is also the default value for RandomForestClassifiers and ExtraTreesClassifiers.\n",
            "  warn(\n",
            "/usr/local/lib/python3.10/dist-packages/sklearn/ensemble/_forest.py:424: FutureWarning: `max_features='auto'` has been deprecated in 1.1 and will be removed in 1.3. To keep the past behaviour, explicitly set `max_features='sqrt'` or remove this parameter as it is also the default value for RandomForestClassifiers and ExtraTreesClassifiers.\n",
            "  warn(\n"
          ]
        },
        {
          "output_type": "stream",
          "name": "stdout",
          "text": [
            "[CV 4/5] END criterion=gini, max_features=auto, min_samples_leaf=2, min_samples_split=5, n_estimators=90;, score=0.701 total time=   0.1s\n",
            "[CV 5/5] END criterion=gini, max_features=auto, min_samples_leaf=2, min_samples_split=5, n_estimators=90;, score=0.789 total time=   0.1s\n"
          ]
        },
        {
          "output_type": "stream",
          "name": "stderr",
          "text": [
            "/usr/local/lib/python3.10/dist-packages/sklearn/ensemble/_forest.py:424: FutureWarning: `max_features='auto'` has been deprecated in 1.1 and will be removed in 1.3. To keep the past behaviour, explicitly set `max_features='sqrt'` or remove this parameter as it is also the default value for RandomForestClassifiers and ExtraTreesClassifiers.\n",
            "  warn(\n",
            "/usr/local/lib/python3.10/dist-packages/sklearn/ensemble/_forest.py:424: FutureWarning: `max_features='auto'` has been deprecated in 1.1 and will be removed in 1.3. To keep the past behaviour, explicitly set `max_features='sqrt'` or remove this parameter as it is also the default value for RandomForestClassifiers and ExtraTreesClassifiers.\n",
            "  warn(\n"
          ]
        },
        {
          "output_type": "stream",
          "name": "stdout",
          "text": [
            "[CV 1/5] END criterion=gini, max_features=auto, min_samples_leaf=2, min_samples_split=5, n_estimators=100;, score=0.675 total time=   0.1s\n",
            "[CV 2/5] END criterion=gini, max_features=auto, min_samples_leaf=2, min_samples_split=5, n_estimators=100;, score=0.740 total time=   0.1s\n"
          ]
        },
        {
          "output_type": "stream",
          "name": "stderr",
          "text": [
            "/usr/local/lib/python3.10/dist-packages/sklearn/ensemble/_forest.py:424: FutureWarning: `max_features='auto'` has been deprecated in 1.1 and will be removed in 1.3. To keep the past behaviour, explicitly set `max_features='sqrt'` or remove this parameter as it is also the default value for RandomForestClassifiers and ExtraTreesClassifiers.\n",
            "  warn(\n",
            "/usr/local/lib/python3.10/dist-packages/sklearn/ensemble/_forest.py:424: FutureWarning: `max_features='auto'` has been deprecated in 1.1 and will be removed in 1.3. To keep the past behaviour, explicitly set `max_features='sqrt'` or remove this parameter as it is also the default value for RandomForestClassifiers and ExtraTreesClassifiers.\n",
            "  warn(\n"
          ]
        },
        {
          "output_type": "stream",
          "name": "stdout",
          "text": [
            "[CV 3/5] END criterion=gini, max_features=auto, min_samples_leaf=2, min_samples_split=5, n_estimators=100;, score=0.805 total time=   0.1s\n",
            "[CV 4/5] END criterion=gini, max_features=auto, min_samples_leaf=2, min_samples_split=5, n_estimators=100;, score=0.701 total time=   0.1s\n"
          ]
        },
        {
          "output_type": "stream",
          "name": "stderr",
          "text": [
            "/usr/local/lib/python3.10/dist-packages/sklearn/ensemble/_forest.py:424: FutureWarning: `max_features='auto'` has been deprecated in 1.1 and will be removed in 1.3. To keep the past behaviour, explicitly set `max_features='sqrt'` or remove this parameter as it is also the default value for RandomForestClassifiers and ExtraTreesClassifiers.\n",
            "  warn(\n",
            "/usr/local/lib/python3.10/dist-packages/sklearn/ensemble/_forest.py:424: FutureWarning: `max_features='auto'` has been deprecated in 1.1 and will be removed in 1.3. To keep the past behaviour, explicitly set `max_features='sqrt'` or remove this parameter as it is also the default value for RandomForestClassifiers and ExtraTreesClassifiers.\n",
            "  warn(\n"
          ]
        },
        {
          "output_type": "stream",
          "name": "stdout",
          "text": [
            "[CV 5/5] END criterion=gini, max_features=auto, min_samples_leaf=2, min_samples_split=5, n_estimators=100;, score=0.789 total time=   0.1s\n",
            "[CV 1/5] END criterion=gini, max_features=auto, min_samples_leaf=2, min_samples_split=5, n_estimators=115;, score=0.675 total time=   0.2s\n"
          ]
        },
        {
          "output_type": "stream",
          "name": "stderr",
          "text": [
            "/usr/local/lib/python3.10/dist-packages/sklearn/ensemble/_forest.py:424: FutureWarning: `max_features='auto'` has been deprecated in 1.1 and will be removed in 1.3. To keep the past behaviour, explicitly set `max_features='sqrt'` or remove this parameter as it is also the default value for RandomForestClassifiers and ExtraTreesClassifiers.\n",
            "  warn(\n",
            "/usr/local/lib/python3.10/dist-packages/sklearn/ensemble/_forest.py:424: FutureWarning: `max_features='auto'` has been deprecated in 1.1 and will be removed in 1.3. To keep the past behaviour, explicitly set `max_features='sqrt'` or remove this parameter as it is also the default value for RandomForestClassifiers and ExtraTreesClassifiers.\n",
            "  warn(\n"
          ]
        },
        {
          "output_type": "stream",
          "name": "stdout",
          "text": [
            "[CV 2/5] END criterion=gini, max_features=auto, min_samples_leaf=2, min_samples_split=5, n_estimators=115;, score=0.740 total time=   0.2s\n",
            "[CV 3/5] END criterion=gini, max_features=auto, min_samples_leaf=2, min_samples_split=5, n_estimators=115;, score=0.805 total time=   0.2s\n"
          ]
        },
        {
          "output_type": "stream",
          "name": "stderr",
          "text": [
            "/usr/local/lib/python3.10/dist-packages/sklearn/ensemble/_forest.py:424: FutureWarning: `max_features='auto'` has been deprecated in 1.1 and will be removed in 1.3. To keep the past behaviour, explicitly set `max_features='sqrt'` or remove this parameter as it is also the default value for RandomForestClassifiers and ExtraTreesClassifiers.\n",
            "  warn(\n",
            "/usr/local/lib/python3.10/dist-packages/sklearn/ensemble/_forest.py:424: FutureWarning: `max_features='auto'` has been deprecated in 1.1 and will be removed in 1.3. To keep the past behaviour, explicitly set `max_features='sqrt'` or remove this parameter as it is also the default value for RandomForestClassifiers and ExtraTreesClassifiers.\n",
            "  warn(\n"
          ]
        },
        {
          "output_type": "stream",
          "name": "stdout",
          "text": [
            "[CV 4/5] END criterion=gini, max_features=auto, min_samples_leaf=2, min_samples_split=5, n_estimators=115;, score=0.701 total time=   0.2s\n",
            "[CV 5/5] END criterion=gini, max_features=auto, min_samples_leaf=2, min_samples_split=5, n_estimators=115;, score=0.789 total time=   0.1s\n"
          ]
        },
        {
          "output_type": "stream",
          "name": "stderr",
          "text": [
            "/usr/local/lib/python3.10/dist-packages/sklearn/ensemble/_forest.py:424: FutureWarning: `max_features='auto'` has been deprecated in 1.1 and will be removed in 1.3. To keep the past behaviour, explicitly set `max_features='sqrt'` or remove this parameter as it is also the default value for RandomForestClassifiers and ExtraTreesClassifiers.\n",
            "  warn(\n",
            "/usr/local/lib/python3.10/dist-packages/sklearn/ensemble/_forest.py:424: FutureWarning: `max_features='auto'` has been deprecated in 1.1 and will be removed in 1.3. To keep the past behaviour, explicitly set `max_features='sqrt'` or remove this parameter as it is also the default value for RandomForestClassifiers and ExtraTreesClassifiers.\n",
            "  warn(\n"
          ]
        },
        {
          "output_type": "stream",
          "name": "stdout",
          "text": [
            "[CV 1/5] END criterion=gini, max_features=auto, min_samples_leaf=2, min_samples_split=6, n_estimators=90;, score=0.675 total time=   0.1s\n",
            "[CV 2/5] END criterion=gini, max_features=auto, min_samples_leaf=2, min_samples_split=6, n_estimators=90;, score=0.740 total time=   0.1s\n"
          ]
        },
        {
          "output_type": "stream",
          "name": "stderr",
          "text": [
            "/usr/local/lib/python3.10/dist-packages/sklearn/ensemble/_forest.py:424: FutureWarning: `max_features='auto'` has been deprecated in 1.1 and will be removed in 1.3. To keep the past behaviour, explicitly set `max_features='sqrt'` or remove this parameter as it is also the default value for RandomForestClassifiers and ExtraTreesClassifiers.\n",
            "  warn(\n",
            "/usr/local/lib/python3.10/dist-packages/sklearn/ensemble/_forest.py:424: FutureWarning: `max_features='auto'` has been deprecated in 1.1 and will be removed in 1.3. To keep the past behaviour, explicitly set `max_features='sqrt'` or remove this parameter as it is also the default value for RandomForestClassifiers and ExtraTreesClassifiers.\n",
            "  warn(\n"
          ]
        },
        {
          "output_type": "stream",
          "name": "stdout",
          "text": [
            "[CV 3/5] END criterion=gini, max_features=auto, min_samples_leaf=2, min_samples_split=6, n_estimators=90;, score=0.805 total time=   0.1s\n",
            "[CV 4/5] END criterion=gini, max_features=auto, min_samples_leaf=2, min_samples_split=6, n_estimators=90;, score=0.701 total time=   0.1s\n"
          ]
        },
        {
          "output_type": "stream",
          "name": "stderr",
          "text": [
            "/usr/local/lib/python3.10/dist-packages/sklearn/ensemble/_forest.py:424: FutureWarning: `max_features='auto'` has been deprecated in 1.1 and will be removed in 1.3. To keep the past behaviour, explicitly set `max_features='sqrt'` or remove this parameter as it is also the default value for RandomForestClassifiers and ExtraTreesClassifiers.\n",
            "  warn(\n",
            "/usr/local/lib/python3.10/dist-packages/sklearn/ensemble/_forest.py:424: FutureWarning: `max_features='auto'` has been deprecated in 1.1 and will be removed in 1.3. To keep the past behaviour, explicitly set `max_features='sqrt'` or remove this parameter as it is also the default value for RandomForestClassifiers and ExtraTreesClassifiers.\n",
            "  warn(\n"
          ]
        },
        {
          "output_type": "stream",
          "name": "stdout",
          "text": [
            "[CV 5/5] END criterion=gini, max_features=auto, min_samples_leaf=2, min_samples_split=6, n_estimators=90;, score=0.789 total time=   0.1s\n",
            "[CV 1/5] END criterion=gini, max_features=auto, min_samples_leaf=2, min_samples_split=6, n_estimators=100;, score=0.675 total time=   0.1s\n"
          ]
        },
        {
          "output_type": "stream",
          "name": "stderr",
          "text": [
            "/usr/local/lib/python3.10/dist-packages/sklearn/ensemble/_forest.py:424: FutureWarning: `max_features='auto'` has been deprecated in 1.1 and will be removed in 1.3. To keep the past behaviour, explicitly set `max_features='sqrt'` or remove this parameter as it is also the default value for RandomForestClassifiers and ExtraTreesClassifiers.\n",
            "  warn(\n",
            "/usr/local/lib/python3.10/dist-packages/sklearn/ensemble/_forest.py:424: FutureWarning: `max_features='auto'` has been deprecated in 1.1 and will be removed in 1.3. To keep the past behaviour, explicitly set `max_features='sqrt'` or remove this parameter as it is also the default value for RandomForestClassifiers and ExtraTreesClassifiers.\n",
            "  warn(\n"
          ]
        },
        {
          "output_type": "stream",
          "name": "stdout",
          "text": [
            "[CV 2/5] END criterion=gini, max_features=auto, min_samples_leaf=2, min_samples_split=6, n_estimators=100;, score=0.740 total time=   0.1s\n",
            "[CV 3/5] END criterion=gini, max_features=auto, min_samples_leaf=2, min_samples_split=6, n_estimators=100;, score=0.805 total time=   0.1s\n"
          ]
        },
        {
          "output_type": "stream",
          "name": "stderr",
          "text": [
            "/usr/local/lib/python3.10/dist-packages/sklearn/ensemble/_forest.py:424: FutureWarning: `max_features='auto'` has been deprecated in 1.1 and will be removed in 1.3. To keep the past behaviour, explicitly set `max_features='sqrt'` or remove this parameter as it is also the default value for RandomForestClassifiers and ExtraTreesClassifiers.\n",
            "  warn(\n",
            "/usr/local/lib/python3.10/dist-packages/sklearn/ensemble/_forest.py:424: FutureWarning: `max_features='auto'` has been deprecated in 1.1 and will be removed in 1.3. To keep the past behaviour, explicitly set `max_features='sqrt'` or remove this parameter as it is also the default value for RandomForestClassifiers and ExtraTreesClassifiers.\n",
            "  warn(\n"
          ]
        },
        {
          "output_type": "stream",
          "name": "stdout",
          "text": [
            "[CV 4/5] END criterion=gini, max_features=auto, min_samples_leaf=2, min_samples_split=6, n_estimators=100;, score=0.701 total time=   0.1s\n",
            "[CV 5/5] END criterion=gini, max_features=auto, min_samples_leaf=2, min_samples_split=6, n_estimators=100;, score=0.789 total time=   0.2s\n"
          ]
        },
        {
          "output_type": "stream",
          "name": "stderr",
          "text": [
            "/usr/local/lib/python3.10/dist-packages/sklearn/ensemble/_forest.py:424: FutureWarning: `max_features='auto'` has been deprecated in 1.1 and will be removed in 1.3. To keep the past behaviour, explicitly set `max_features='sqrt'` or remove this parameter as it is also the default value for RandomForestClassifiers and ExtraTreesClassifiers.\n",
            "  warn(\n",
            "/usr/local/lib/python3.10/dist-packages/sklearn/ensemble/_forest.py:424: FutureWarning: `max_features='auto'` has been deprecated in 1.1 and will be removed in 1.3. To keep the past behaviour, explicitly set `max_features='sqrt'` or remove this parameter as it is also the default value for RandomForestClassifiers and ExtraTreesClassifiers.\n",
            "  warn(\n"
          ]
        },
        {
          "output_type": "stream",
          "name": "stdout",
          "text": [
            "[CV 1/5] END criterion=gini, max_features=auto, min_samples_leaf=2, min_samples_split=6, n_estimators=115;, score=0.675 total time=   0.3s\n"
          ]
        },
        {
          "output_type": "stream",
          "name": "stderr",
          "text": [
            "/usr/local/lib/python3.10/dist-packages/sklearn/ensemble/_forest.py:424: FutureWarning: `max_features='auto'` has been deprecated in 1.1 and will be removed in 1.3. To keep the past behaviour, explicitly set `max_features='sqrt'` or remove this parameter as it is also the default value for RandomForestClassifiers and ExtraTreesClassifiers.\n",
            "  warn(\n"
          ]
        },
        {
          "output_type": "stream",
          "name": "stdout",
          "text": [
            "[CV 2/5] END criterion=gini, max_features=auto, min_samples_leaf=2, min_samples_split=6, n_estimators=115;, score=0.740 total time=   0.2s\n"
          ]
        },
        {
          "output_type": "stream",
          "name": "stderr",
          "text": [
            "/usr/local/lib/python3.10/dist-packages/sklearn/ensemble/_forest.py:424: FutureWarning: `max_features='auto'` has been deprecated in 1.1 and will be removed in 1.3. To keep the past behaviour, explicitly set `max_features='sqrt'` or remove this parameter as it is also the default value for RandomForestClassifiers and ExtraTreesClassifiers.\n",
            "  warn(\n"
          ]
        },
        {
          "output_type": "stream",
          "name": "stdout",
          "text": [
            "[CV 3/5] END criterion=gini, max_features=auto, min_samples_leaf=2, min_samples_split=6, n_estimators=115;, score=0.805 total time=   0.2s\n"
          ]
        },
        {
          "output_type": "stream",
          "name": "stderr",
          "text": [
            "/usr/local/lib/python3.10/dist-packages/sklearn/ensemble/_forest.py:424: FutureWarning: `max_features='auto'` has been deprecated in 1.1 and will be removed in 1.3. To keep the past behaviour, explicitly set `max_features='sqrt'` or remove this parameter as it is also the default value for RandomForestClassifiers and ExtraTreesClassifiers.\n",
            "  warn(\n"
          ]
        },
        {
          "output_type": "stream",
          "name": "stdout",
          "text": [
            "[CV 4/5] END criterion=gini, max_features=auto, min_samples_leaf=2, min_samples_split=6, n_estimators=115;, score=0.701 total time=   0.2s\n"
          ]
        },
        {
          "output_type": "stream",
          "name": "stderr",
          "text": [
            "/usr/local/lib/python3.10/dist-packages/sklearn/ensemble/_forest.py:424: FutureWarning: `max_features='auto'` has been deprecated in 1.1 and will be removed in 1.3. To keep the past behaviour, explicitly set `max_features='sqrt'` or remove this parameter as it is also the default value for RandomForestClassifiers and ExtraTreesClassifiers.\n",
            "  warn(\n"
          ]
        },
        {
          "output_type": "stream",
          "name": "stdout",
          "text": [
            "[CV 5/5] END criterion=gini, max_features=auto, min_samples_leaf=2, min_samples_split=6, n_estimators=115;, score=0.789 total time=   0.2s\n",
            "[CV 1/5] END criterion=gini, max_features=auto, min_samples_leaf=2, min_samples_split=7, n_estimators=90;, score=0.675 total time=   0.2s\n"
          ]
        },
        {
          "output_type": "stream",
          "name": "stderr",
          "text": [
            "/usr/local/lib/python3.10/dist-packages/sklearn/ensemble/_forest.py:424: FutureWarning: `max_features='auto'` has been deprecated in 1.1 and will be removed in 1.3. To keep the past behaviour, explicitly set `max_features='sqrt'` or remove this parameter as it is also the default value for RandomForestClassifiers and ExtraTreesClassifiers.\n",
            "  warn(\n",
            "/usr/local/lib/python3.10/dist-packages/sklearn/ensemble/_forest.py:424: FutureWarning: `max_features='auto'` has been deprecated in 1.1 and will be removed in 1.3. To keep the past behaviour, explicitly set `max_features='sqrt'` or remove this parameter as it is also the default value for RandomForestClassifiers and ExtraTreesClassifiers.\n",
            "  warn(\n"
          ]
        },
        {
          "output_type": "stream",
          "name": "stdout",
          "text": [
            "[CV 2/5] END criterion=gini, max_features=auto, min_samples_leaf=2, min_samples_split=7, n_estimators=90;, score=0.740 total time=   0.2s\n",
            "[CV 3/5] END criterion=gini, max_features=auto, min_samples_leaf=2, min_samples_split=7, n_estimators=90;, score=0.805 total time=   0.2s\n"
          ]
        },
        {
          "output_type": "stream",
          "name": "stderr",
          "text": [
            "/usr/local/lib/python3.10/dist-packages/sklearn/ensemble/_forest.py:424: FutureWarning: `max_features='auto'` has been deprecated in 1.1 and will be removed in 1.3. To keep the past behaviour, explicitly set `max_features='sqrt'` or remove this parameter as it is also the default value for RandomForestClassifiers and ExtraTreesClassifiers.\n",
            "  warn(\n",
            "/usr/local/lib/python3.10/dist-packages/sklearn/ensemble/_forest.py:424: FutureWarning: `max_features='auto'` has been deprecated in 1.1 and will be removed in 1.3. To keep the past behaviour, explicitly set `max_features='sqrt'` or remove this parameter as it is also the default value for RandomForestClassifiers and ExtraTreesClassifiers.\n",
            "  warn(\n"
          ]
        },
        {
          "output_type": "stream",
          "name": "stdout",
          "text": [
            "[CV 4/5] END criterion=gini, max_features=auto, min_samples_leaf=2, min_samples_split=7, n_estimators=90;, score=0.701 total time=   0.2s\n",
            "[CV 5/5] END criterion=gini, max_features=auto, min_samples_leaf=2, min_samples_split=7, n_estimators=90;, score=0.789 total time=   0.2s\n"
          ]
        },
        {
          "output_type": "stream",
          "name": "stderr",
          "text": [
            "/usr/local/lib/python3.10/dist-packages/sklearn/ensemble/_forest.py:424: FutureWarning: `max_features='auto'` has been deprecated in 1.1 and will be removed in 1.3. To keep the past behaviour, explicitly set `max_features='sqrt'` or remove this parameter as it is also the default value for RandomForestClassifiers and ExtraTreesClassifiers.\n",
            "  warn(\n",
            "/usr/local/lib/python3.10/dist-packages/sklearn/ensemble/_forest.py:424: FutureWarning: `max_features='auto'` has been deprecated in 1.1 and will be removed in 1.3. To keep the past behaviour, explicitly set `max_features='sqrt'` or remove this parameter as it is also the default value for RandomForestClassifiers and ExtraTreesClassifiers.\n",
            "  warn(\n"
          ]
        },
        {
          "output_type": "stream",
          "name": "stdout",
          "text": [
            "[CV 1/5] END criterion=gini, max_features=auto, min_samples_leaf=2, min_samples_split=7, n_estimators=100;, score=0.675 total time=   0.2s\n"
          ]
        },
        {
          "output_type": "stream",
          "name": "stderr",
          "text": [
            "/usr/local/lib/python3.10/dist-packages/sklearn/ensemble/_forest.py:424: FutureWarning: `max_features='auto'` has been deprecated in 1.1 and will be removed in 1.3. To keep the past behaviour, explicitly set `max_features='sqrt'` or remove this parameter as it is also the default value for RandomForestClassifiers and ExtraTreesClassifiers.\n",
            "  warn(\n"
          ]
        },
        {
          "output_type": "stream",
          "name": "stdout",
          "text": [
            "[CV 2/5] END criterion=gini, max_features=auto, min_samples_leaf=2, min_samples_split=7, n_estimators=100;, score=0.740 total time=   0.2s\n",
            "[CV 3/5] END criterion=gini, max_features=auto, min_samples_leaf=2, min_samples_split=7, n_estimators=100;, score=0.805 total time=   0.2s\n"
          ]
        },
        {
          "output_type": "stream",
          "name": "stderr",
          "text": [
            "/usr/local/lib/python3.10/dist-packages/sklearn/ensemble/_forest.py:424: FutureWarning: `max_features='auto'` has been deprecated in 1.1 and will be removed in 1.3. To keep the past behaviour, explicitly set `max_features='sqrt'` or remove this parameter as it is also the default value for RandomForestClassifiers and ExtraTreesClassifiers.\n",
            "  warn(\n",
            "/usr/local/lib/python3.10/dist-packages/sklearn/ensemble/_forest.py:424: FutureWarning: `max_features='auto'` has been deprecated in 1.1 and will be removed in 1.3. To keep the past behaviour, explicitly set `max_features='sqrt'` or remove this parameter as it is also the default value for RandomForestClassifiers and ExtraTreesClassifiers.\n",
            "  warn(\n"
          ]
        },
        {
          "output_type": "stream",
          "name": "stdout",
          "text": [
            "[CV 4/5] END criterion=gini, max_features=auto, min_samples_leaf=2, min_samples_split=7, n_estimators=100;, score=0.701 total time=   0.1s\n",
            "[CV 5/5] END criterion=gini, max_features=auto, min_samples_leaf=2, min_samples_split=7, n_estimators=100;, score=0.789 total time=   0.1s\n"
          ]
        },
        {
          "output_type": "stream",
          "name": "stderr",
          "text": [
            "/usr/local/lib/python3.10/dist-packages/sklearn/ensemble/_forest.py:424: FutureWarning: `max_features='auto'` has been deprecated in 1.1 and will be removed in 1.3. To keep the past behaviour, explicitly set `max_features='sqrt'` or remove this parameter as it is also the default value for RandomForestClassifiers and ExtraTreesClassifiers.\n",
            "  warn(\n",
            "/usr/local/lib/python3.10/dist-packages/sklearn/ensemble/_forest.py:424: FutureWarning: `max_features='auto'` has been deprecated in 1.1 and will be removed in 1.3. To keep the past behaviour, explicitly set `max_features='sqrt'` or remove this parameter as it is also the default value for RandomForestClassifiers and ExtraTreesClassifiers.\n",
            "  warn(\n"
          ]
        },
        {
          "output_type": "stream",
          "name": "stdout",
          "text": [
            "[CV 1/5] END criterion=gini, max_features=auto, min_samples_leaf=2, min_samples_split=7, n_estimators=115;, score=0.675 total time=   0.2s\n",
            "[CV 2/5] END criterion=gini, max_features=auto, min_samples_leaf=2, min_samples_split=7, n_estimators=115;, score=0.740 total time=   0.2s\n"
          ]
        },
        {
          "output_type": "stream",
          "name": "stderr",
          "text": [
            "/usr/local/lib/python3.10/dist-packages/sklearn/ensemble/_forest.py:424: FutureWarning: `max_features='auto'` has been deprecated in 1.1 and will be removed in 1.3. To keep the past behaviour, explicitly set `max_features='sqrt'` or remove this parameter as it is also the default value for RandomForestClassifiers and ExtraTreesClassifiers.\n",
            "  warn(\n",
            "/usr/local/lib/python3.10/dist-packages/sklearn/ensemble/_forest.py:424: FutureWarning: `max_features='auto'` has been deprecated in 1.1 and will be removed in 1.3. To keep the past behaviour, explicitly set `max_features='sqrt'` or remove this parameter as it is also the default value for RandomForestClassifiers and ExtraTreesClassifiers.\n",
            "  warn(\n"
          ]
        },
        {
          "output_type": "stream",
          "name": "stdout",
          "text": [
            "[CV 3/5] END criterion=gini, max_features=auto, min_samples_leaf=2, min_samples_split=7, n_estimators=115;, score=0.805 total time=   0.2s\n",
            "[CV 4/5] END criterion=gini, max_features=auto, min_samples_leaf=2, min_samples_split=7, n_estimators=115;, score=0.701 total time=   0.1s\n"
          ]
        },
        {
          "output_type": "stream",
          "name": "stderr",
          "text": [
            "/usr/local/lib/python3.10/dist-packages/sklearn/ensemble/_forest.py:424: FutureWarning: `max_features='auto'` has been deprecated in 1.1 and will be removed in 1.3. To keep the past behaviour, explicitly set `max_features='sqrt'` or remove this parameter as it is also the default value for RandomForestClassifiers and ExtraTreesClassifiers.\n",
            "  warn(\n",
            "/usr/local/lib/python3.10/dist-packages/sklearn/ensemble/_forest.py:424: FutureWarning: `max_features='auto'` has been deprecated in 1.1 and will be removed in 1.3. To keep the past behaviour, explicitly set `max_features='sqrt'` or remove this parameter as it is also the default value for RandomForestClassifiers and ExtraTreesClassifiers.\n",
            "  warn(\n"
          ]
        },
        {
          "output_type": "stream",
          "name": "stdout",
          "text": [
            "[CV 5/5] END criterion=gini, max_features=auto, min_samples_leaf=2, min_samples_split=7, n_estimators=115;, score=0.789 total time=   0.2s\n",
            "[CV 1/5] END criterion=gini, max_features=auto, min_samples_leaf=2, min_samples_split=8, n_estimators=90;, score=0.675 total time=   0.1s\n"
          ]
        },
        {
          "output_type": "stream",
          "name": "stderr",
          "text": [
            "/usr/local/lib/python3.10/dist-packages/sklearn/ensemble/_forest.py:424: FutureWarning: `max_features='auto'` has been deprecated in 1.1 and will be removed in 1.3. To keep the past behaviour, explicitly set `max_features='sqrt'` or remove this parameter as it is also the default value for RandomForestClassifiers and ExtraTreesClassifiers.\n",
            "  warn(\n",
            "/usr/local/lib/python3.10/dist-packages/sklearn/ensemble/_forest.py:424: FutureWarning: `max_features='auto'` has been deprecated in 1.1 and will be removed in 1.3. To keep the past behaviour, explicitly set `max_features='sqrt'` or remove this parameter as it is also the default value for RandomForestClassifiers and ExtraTreesClassifiers.\n",
            "  warn(\n"
          ]
        },
        {
          "output_type": "stream",
          "name": "stdout",
          "text": [
            "[CV 2/5] END criterion=gini, max_features=auto, min_samples_leaf=2, min_samples_split=8, n_estimators=90;, score=0.740 total time=   0.1s\n",
            "[CV 3/5] END criterion=gini, max_features=auto, min_samples_leaf=2, min_samples_split=8, n_estimators=90;, score=0.805 total time=   0.1s\n"
          ]
        },
        {
          "output_type": "stream",
          "name": "stderr",
          "text": [
            "/usr/local/lib/python3.10/dist-packages/sklearn/ensemble/_forest.py:424: FutureWarning: `max_features='auto'` has been deprecated in 1.1 and will be removed in 1.3. To keep the past behaviour, explicitly set `max_features='sqrt'` or remove this parameter as it is also the default value for RandomForestClassifiers and ExtraTreesClassifiers.\n",
            "  warn(\n",
            "/usr/local/lib/python3.10/dist-packages/sklearn/ensemble/_forest.py:424: FutureWarning: `max_features='auto'` has been deprecated in 1.1 and will be removed in 1.3. To keep the past behaviour, explicitly set `max_features='sqrt'` or remove this parameter as it is also the default value for RandomForestClassifiers and ExtraTreesClassifiers.\n",
            "  warn(\n"
          ]
        },
        {
          "output_type": "stream",
          "name": "stdout",
          "text": [
            "[CV 4/5] END criterion=gini, max_features=auto, min_samples_leaf=2, min_samples_split=8, n_estimators=90;, score=0.701 total time=   0.1s\n",
            "[CV 5/5] END criterion=gini, max_features=auto, min_samples_leaf=2, min_samples_split=8, n_estimators=90;, score=0.789 total time=   0.1s\n"
          ]
        },
        {
          "output_type": "stream",
          "name": "stderr",
          "text": [
            "/usr/local/lib/python3.10/dist-packages/sklearn/ensemble/_forest.py:424: FutureWarning: `max_features='auto'` has been deprecated in 1.1 and will be removed in 1.3. To keep the past behaviour, explicitly set `max_features='sqrt'` or remove this parameter as it is also the default value for RandomForestClassifiers and ExtraTreesClassifiers.\n",
            "  warn(\n",
            "/usr/local/lib/python3.10/dist-packages/sklearn/ensemble/_forest.py:424: FutureWarning: `max_features='auto'` has been deprecated in 1.1 and will be removed in 1.3. To keep the past behaviour, explicitly set `max_features='sqrt'` or remove this parameter as it is also the default value for RandomForestClassifiers and ExtraTreesClassifiers.\n",
            "  warn(\n"
          ]
        },
        {
          "output_type": "stream",
          "name": "stdout",
          "text": [
            "[CV 1/5] END criterion=gini, max_features=auto, min_samples_leaf=2, min_samples_split=8, n_estimators=100;, score=0.675 total time=   0.1s\n",
            "[CV 2/5] END criterion=gini, max_features=auto, min_samples_leaf=2, min_samples_split=8, n_estimators=100;, score=0.740 total time=   0.1s\n"
          ]
        },
        {
          "output_type": "stream",
          "name": "stderr",
          "text": [
            "/usr/local/lib/python3.10/dist-packages/sklearn/ensemble/_forest.py:424: FutureWarning: `max_features='auto'` has been deprecated in 1.1 and will be removed in 1.3. To keep the past behaviour, explicitly set `max_features='sqrt'` or remove this parameter as it is also the default value for RandomForestClassifiers and ExtraTreesClassifiers.\n",
            "  warn(\n",
            "/usr/local/lib/python3.10/dist-packages/sklearn/ensemble/_forest.py:424: FutureWarning: `max_features='auto'` has been deprecated in 1.1 and will be removed in 1.3. To keep the past behaviour, explicitly set `max_features='sqrt'` or remove this parameter as it is also the default value for RandomForestClassifiers and ExtraTreesClassifiers.\n",
            "  warn(\n"
          ]
        },
        {
          "output_type": "stream",
          "name": "stdout",
          "text": [
            "[CV 3/5] END criterion=gini, max_features=auto, min_samples_leaf=2, min_samples_split=8, n_estimators=100;, score=0.805 total time=   0.1s\n",
            "[CV 4/5] END criterion=gini, max_features=auto, min_samples_leaf=2, min_samples_split=8, n_estimators=100;, score=0.701 total time=   0.1s\n"
          ]
        },
        {
          "output_type": "stream",
          "name": "stderr",
          "text": [
            "/usr/local/lib/python3.10/dist-packages/sklearn/ensemble/_forest.py:424: FutureWarning: `max_features='auto'` has been deprecated in 1.1 and will be removed in 1.3. To keep the past behaviour, explicitly set `max_features='sqrt'` or remove this parameter as it is also the default value for RandomForestClassifiers and ExtraTreesClassifiers.\n",
            "  warn(\n",
            "/usr/local/lib/python3.10/dist-packages/sklearn/ensemble/_forest.py:424: FutureWarning: `max_features='auto'` has been deprecated in 1.1 and will be removed in 1.3. To keep the past behaviour, explicitly set `max_features='sqrt'` or remove this parameter as it is also the default value for RandomForestClassifiers and ExtraTreesClassifiers.\n",
            "  warn(\n"
          ]
        },
        {
          "output_type": "stream",
          "name": "stdout",
          "text": [
            "[CV 5/5] END criterion=gini, max_features=auto, min_samples_leaf=2, min_samples_split=8, n_estimators=100;, score=0.789 total time=   0.1s\n",
            "[CV 1/5] END criterion=gini, max_features=auto, min_samples_leaf=2, min_samples_split=8, n_estimators=115;, score=0.675 total time=   0.1s\n"
          ]
        },
        {
          "output_type": "stream",
          "name": "stderr",
          "text": [
            "/usr/local/lib/python3.10/dist-packages/sklearn/ensemble/_forest.py:424: FutureWarning: `max_features='auto'` has been deprecated in 1.1 and will be removed in 1.3. To keep the past behaviour, explicitly set `max_features='sqrt'` or remove this parameter as it is also the default value for RandomForestClassifiers and ExtraTreesClassifiers.\n",
            "  warn(\n",
            "/usr/local/lib/python3.10/dist-packages/sklearn/ensemble/_forest.py:424: FutureWarning: `max_features='auto'` has been deprecated in 1.1 and will be removed in 1.3. To keep the past behaviour, explicitly set `max_features='sqrt'` or remove this parameter as it is also the default value for RandomForestClassifiers and ExtraTreesClassifiers.\n",
            "  warn(\n"
          ]
        },
        {
          "output_type": "stream",
          "name": "stdout",
          "text": [
            "[CV 2/5] END criterion=gini, max_features=auto, min_samples_leaf=2, min_samples_split=8, n_estimators=115;, score=0.740 total time=   0.2s\n",
            "[CV 3/5] END criterion=gini, max_features=auto, min_samples_leaf=2, min_samples_split=8, n_estimators=115;, score=0.805 total time=   0.1s\n"
          ]
        },
        {
          "output_type": "stream",
          "name": "stderr",
          "text": [
            "/usr/local/lib/python3.10/dist-packages/sklearn/ensemble/_forest.py:424: FutureWarning: `max_features='auto'` has been deprecated in 1.1 and will be removed in 1.3. To keep the past behaviour, explicitly set `max_features='sqrt'` or remove this parameter as it is also the default value for RandomForestClassifiers and ExtraTreesClassifiers.\n",
            "  warn(\n",
            "/usr/local/lib/python3.10/dist-packages/sklearn/ensemble/_forest.py:424: FutureWarning: `max_features='auto'` has been deprecated in 1.1 and will be removed in 1.3. To keep the past behaviour, explicitly set `max_features='sqrt'` or remove this parameter as it is also the default value for RandomForestClassifiers and ExtraTreesClassifiers.\n",
            "  warn(\n"
          ]
        },
        {
          "output_type": "stream",
          "name": "stdout",
          "text": [
            "[CV 4/5] END criterion=gini, max_features=auto, min_samples_leaf=2, min_samples_split=8, n_estimators=115;, score=0.701 total time=   0.2s\n",
            "[CV 5/5] END criterion=gini, max_features=auto, min_samples_leaf=2, min_samples_split=8, n_estimators=115;, score=0.789 total time=   0.2s\n"
          ]
        },
        {
          "output_type": "stream",
          "name": "stderr",
          "text": [
            "/usr/local/lib/python3.10/dist-packages/sklearn/ensemble/_forest.py:424: FutureWarning: `max_features='auto'` has been deprecated in 1.1 and will be removed in 1.3. To keep the past behaviour, explicitly set `max_features='sqrt'` or remove this parameter as it is also the default value for RandomForestClassifiers and ExtraTreesClassifiers.\n",
            "  warn(\n",
            "/usr/local/lib/python3.10/dist-packages/sklearn/ensemble/_forest.py:424: FutureWarning: `max_features='auto'` has been deprecated in 1.1 and will be removed in 1.3. To keep the past behaviour, explicitly set `max_features='sqrt'` or remove this parameter as it is also the default value for RandomForestClassifiers and ExtraTreesClassifiers.\n",
            "  warn(\n"
          ]
        },
        {
          "output_type": "stream",
          "name": "stdout",
          "text": [
            "[CV 1/5] END criterion=gini, max_features=auto, min_samples_leaf=3, min_samples_split=4, n_estimators=90;, score=0.675 total time=   0.1s\n",
            "[CV 2/5] END criterion=gini, max_features=auto, min_samples_leaf=3, min_samples_split=4, n_estimators=90;, score=0.740 total time=   0.1s\n"
          ]
        },
        {
          "output_type": "stream",
          "name": "stderr",
          "text": [
            "/usr/local/lib/python3.10/dist-packages/sklearn/ensemble/_forest.py:424: FutureWarning: `max_features='auto'` has been deprecated in 1.1 and will be removed in 1.3. To keep the past behaviour, explicitly set `max_features='sqrt'` or remove this parameter as it is also the default value for RandomForestClassifiers and ExtraTreesClassifiers.\n",
            "  warn(\n",
            "/usr/local/lib/python3.10/dist-packages/sklearn/ensemble/_forest.py:424: FutureWarning: `max_features='auto'` has been deprecated in 1.1 and will be removed in 1.3. To keep the past behaviour, explicitly set `max_features='sqrt'` or remove this parameter as it is also the default value for RandomForestClassifiers and ExtraTreesClassifiers.\n",
            "  warn(\n"
          ]
        },
        {
          "output_type": "stream",
          "name": "stdout",
          "text": [
            "[CV 3/5] END criterion=gini, max_features=auto, min_samples_leaf=3, min_samples_split=4, n_estimators=90;, score=0.805 total time=   0.1s\n",
            "[CV 4/5] END criterion=gini, max_features=auto, min_samples_leaf=3, min_samples_split=4, n_estimators=90;, score=0.701 total time=   0.1s\n"
          ]
        },
        {
          "output_type": "stream",
          "name": "stderr",
          "text": [
            "/usr/local/lib/python3.10/dist-packages/sklearn/ensemble/_forest.py:424: FutureWarning: `max_features='auto'` has been deprecated in 1.1 and will be removed in 1.3. To keep the past behaviour, explicitly set `max_features='sqrt'` or remove this parameter as it is also the default value for RandomForestClassifiers and ExtraTreesClassifiers.\n",
            "  warn(\n",
            "/usr/local/lib/python3.10/dist-packages/sklearn/ensemble/_forest.py:424: FutureWarning: `max_features='auto'` has been deprecated in 1.1 and will be removed in 1.3. To keep the past behaviour, explicitly set `max_features='sqrt'` or remove this parameter as it is also the default value for RandomForestClassifiers and ExtraTreesClassifiers.\n",
            "  warn(\n"
          ]
        },
        {
          "output_type": "stream",
          "name": "stdout",
          "text": [
            "[CV 5/5] END criterion=gini, max_features=auto, min_samples_leaf=3, min_samples_split=4, n_estimators=90;, score=0.789 total time=   0.1s\n",
            "[CV 1/5] END criterion=gini, max_features=auto, min_samples_leaf=3, min_samples_split=4, n_estimators=100;, score=0.675 total time=   0.1s\n"
          ]
        },
        {
          "output_type": "stream",
          "name": "stderr",
          "text": [
            "/usr/local/lib/python3.10/dist-packages/sklearn/ensemble/_forest.py:424: FutureWarning: `max_features='auto'` has been deprecated in 1.1 and will be removed in 1.3. To keep the past behaviour, explicitly set `max_features='sqrt'` or remove this parameter as it is also the default value for RandomForestClassifiers and ExtraTreesClassifiers.\n",
            "  warn(\n",
            "/usr/local/lib/python3.10/dist-packages/sklearn/ensemble/_forest.py:424: FutureWarning: `max_features='auto'` has been deprecated in 1.1 and will be removed in 1.3. To keep the past behaviour, explicitly set `max_features='sqrt'` or remove this parameter as it is also the default value for RandomForestClassifiers and ExtraTreesClassifiers.\n",
            "  warn(\n"
          ]
        },
        {
          "output_type": "stream",
          "name": "stdout",
          "text": [
            "[CV 2/5] END criterion=gini, max_features=auto, min_samples_leaf=3, min_samples_split=4, n_estimators=100;, score=0.740 total time=   0.1s\n",
            "[CV 3/5] END criterion=gini, max_features=auto, min_samples_leaf=3, min_samples_split=4, n_estimators=100;, score=0.805 total time=   0.1s\n"
          ]
        },
        {
          "output_type": "stream",
          "name": "stderr",
          "text": [
            "/usr/local/lib/python3.10/dist-packages/sklearn/ensemble/_forest.py:424: FutureWarning: `max_features='auto'` has been deprecated in 1.1 and will be removed in 1.3. To keep the past behaviour, explicitly set `max_features='sqrt'` or remove this parameter as it is also the default value for RandomForestClassifiers and ExtraTreesClassifiers.\n",
            "  warn(\n",
            "/usr/local/lib/python3.10/dist-packages/sklearn/ensemble/_forest.py:424: FutureWarning: `max_features='auto'` has been deprecated in 1.1 and will be removed in 1.3. To keep the past behaviour, explicitly set `max_features='sqrt'` or remove this parameter as it is also the default value for RandomForestClassifiers and ExtraTreesClassifiers.\n",
            "  warn(\n"
          ]
        },
        {
          "output_type": "stream",
          "name": "stdout",
          "text": [
            "[CV 4/5] END criterion=gini, max_features=auto, min_samples_leaf=3, min_samples_split=4, n_estimators=100;, score=0.701 total time=   0.1s\n",
            "[CV 5/5] END criterion=gini, max_features=auto, min_samples_leaf=3, min_samples_split=4, n_estimators=100;, score=0.789 total time=   0.1s\n"
          ]
        },
        {
          "output_type": "stream",
          "name": "stderr",
          "text": [
            "/usr/local/lib/python3.10/dist-packages/sklearn/ensemble/_forest.py:424: FutureWarning: `max_features='auto'` has been deprecated in 1.1 and will be removed in 1.3. To keep the past behaviour, explicitly set `max_features='sqrt'` or remove this parameter as it is also the default value for RandomForestClassifiers and ExtraTreesClassifiers.\n",
            "  warn(\n",
            "/usr/local/lib/python3.10/dist-packages/sklearn/ensemble/_forest.py:424: FutureWarning: `max_features='auto'` has been deprecated in 1.1 and will be removed in 1.3. To keep the past behaviour, explicitly set `max_features='sqrt'` or remove this parameter as it is also the default value for RandomForestClassifiers and ExtraTreesClassifiers.\n",
            "  warn(\n"
          ]
        },
        {
          "output_type": "stream",
          "name": "stdout",
          "text": [
            "[CV 1/5] END criterion=gini, max_features=auto, min_samples_leaf=3, min_samples_split=4, n_estimators=115;, score=0.675 total time=   0.2s\n",
            "[CV 2/5] END criterion=gini, max_features=auto, min_samples_leaf=3, min_samples_split=4, n_estimators=115;, score=0.740 total time=   0.2s\n"
          ]
        },
        {
          "output_type": "stream",
          "name": "stderr",
          "text": [
            "/usr/local/lib/python3.10/dist-packages/sklearn/ensemble/_forest.py:424: FutureWarning: `max_features='auto'` has been deprecated in 1.1 and will be removed in 1.3. To keep the past behaviour, explicitly set `max_features='sqrt'` or remove this parameter as it is also the default value for RandomForestClassifiers and ExtraTreesClassifiers.\n",
            "  warn(\n",
            "/usr/local/lib/python3.10/dist-packages/sklearn/ensemble/_forest.py:424: FutureWarning: `max_features='auto'` has been deprecated in 1.1 and will be removed in 1.3. To keep the past behaviour, explicitly set `max_features='sqrt'` or remove this parameter as it is also the default value for RandomForestClassifiers and ExtraTreesClassifiers.\n",
            "  warn(\n"
          ]
        },
        {
          "output_type": "stream",
          "name": "stdout",
          "text": [
            "[CV 3/5] END criterion=gini, max_features=auto, min_samples_leaf=3, min_samples_split=4, n_estimators=115;, score=0.805 total time=   0.2s\n",
            "[CV 4/5] END criterion=gini, max_features=auto, min_samples_leaf=3, min_samples_split=4, n_estimators=115;, score=0.701 total time=   0.2s\n"
          ]
        },
        {
          "output_type": "stream",
          "name": "stderr",
          "text": [
            "/usr/local/lib/python3.10/dist-packages/sklearn/ensemble/_forest.py:424: FutureWarning: `max_features='auto'` has been deprecated in 1.1 and will be removed in 1.3. To keep the past behaviour, explicitly set `max_features='sqrt'` or remove this parameter as it is also the default value for RandomForestClassifiers and ExtraTreesClassifiers.\n",
            "  warn(\n",
            "/usr/local/lib/python3.10/dist-packages/sklearn/ensemble/_forest.py:424: FutureWarning: `max_features='auto'` has been deprecated in 1.1 and will be removed in 1.3. To keep the past behaviour, explicitly set `max_features='sqrt'` or remove this parameter as it is also the default value for RandomForestClassifiers and ExtraTreesClassifiers.\n",
            "  warn(\n"
          ]
        },
        {
          "output_type": "stream",
          "name": "stdout",
          "text": [
            "[CV 5/5] END criterion=gini, max_features=auto, min_samples_leaf=3, min_samples_split=4, n_estimators=115;, score=0.789 total time=   0.2s\n",
            "[CV 1/5] END criterion=gini, max_features=auto, min_samples_leaf=3, min_samples_split=5, n_estimators=90;, score=0.675 total time=   0.1s\n"
          ]
        },
        {
          "output_type": "stream",
          "name": "stderr",
          "text": [
            "/usr/local/lib/python3.10/dist-packages/sklearn/ensemble/_forest.py:424: FutureWarning: `max_features='auto'` has been deprecated in 1.1 and will be removed in 1.3. To keep the past behaviour, explicitly set `max_features='sqrt'` or remove this parameter as it is also the default value for RandomForestClassifiers and ExtraTreesClassifiers.\n",
            "  warn(\n",
            "/usr/local/lib/python3.10/dist-packages/sklearn/ensemble/_forest.py:424: FutureWarning: `max_features='auto'` has been deprecated in 1.1 and will be removed in 1.3. To keep the past behaviour, explicitly set `max_features='sqrt'` or remove this parameter as it is also the default value for RandomForestClassifiers and ExtraTreesClassifiers.\n",
            "  warn(\n"
          ]
        },
        {
          "output_type": "stream",
          "name": "stdout",
          "text": [
            "[CV 2/5] END criterion=gini, max_features=auto, min_samples_leaf=3, min_samples_split=5, n_estimators=90;, score=0.740 total time=   0.1s\n",
            "[CV 3/5] END criterion=gini, max_features=auto, min_samples_leaf=3, min_samples_split=5, n_estimators=90;, score=0.805 total time=   0.1s\n"
          ]
        },
        {
          "output_type": "stream",
          "name": "stderr",
          "text": [
            "/usr/local/lib/python3.10/dist-packages/sklearn/ensemble/_forest.py:424: FutureWarning: `max_features='auto'` has been deprecated in 1.1 and will be removed in 1.3. To keep the past behaviour, explicitly set `max_features='sqrt'` or remove this parameter as it is also the default value for RandomForestClassifiers and ExtraTreesClassifiers.\n",
            "  warn(\n",
            "/usr/local/lib/python3.10/dist-packages/sklearn/ensemble/_forest.py:424: FutureWarning: `max_features='auto'` has been deprecated in 1.1 and will be removed in 1.3. To keep the past behaviour, explicitly set `max_features='sqrt'` or remove this parameter as it is also the default value for RandomForestClassifiers and ExtraTreesClassifiers.\n",
            "  warn(\n"
          ]
        },
        {
          "output_type": "stream",
          "name": "stdout",
          "text": [
            "[CV 4/5] END criterion=gini, max_features=auto, min_samples_leaf=3, min_samples_split=5, n_estimators=90;, score=0.701 total time=   0.1s\n",
            "[CV 5/5] END criterion=gini, max_features=auto, min_samples_leaf=3, min_samples_split=5, n_estimators=90;, score=0.789 total time=   0.1s\n"
          ]
        },
        {
          "output_type": "stream",
          "name": "stderr",
          "text": [
            "/usr/local/lib/python3.10/dist-packages/sklearn/ensemble/_forest.py:424: FutureWarning: `max_features='auto'` has been deprecated in 1.1 and will be removed in 1.3. To keep the past behaviour, explicitly set `max_features='sqrt'` or remove this parameter as it is also the default value for RandomForestClassifiers and ExtraTreesClassifiers.\n",
            "  warn(\n",
            "/usr/local/lib/python3.10/dist-packages/sklearn/ensemble/_forest.py:424: FutureWarning: `max_features='auto'` has been deprecated in 1.1 and will be removed in 1.3. To keep the past behaviour, explicitly set `max_features='sqrt'` or remove this parameter as it is also the default value for RandomForestClassifiers and ExtraTreesClassifiers.\n",
            "  warn(\n"
          ]
        },
        {
          "output_type": "stream",
          "name": "stdout",
          "text": [
            "[CV 1/5] END criterion=gini, max_features=auto, min_samples_leaf=3, min_samples_split=5, n_estimators=100;, score=0.675 total time=   0.1s\n",
            "[CV 2/5] END criterion=gini, max_features=auto, min_samples_leaf=3, min_samples_split=5, n_estimators=100;, score=0.740 total time=   0.1s\n"
          ]
        },
        {
          "output_type": "stream",
          "name": "stderr",
          "text": [
            "/usr/local/lib/python3.10/dist-packages/sklearn/ensemble/_forest.py:424: FutureWarning: `max_features='auto'` has been deprecated in 1.1 and will be removed in 1.3. To keep the past behaviour, explicitly set `max_features='sqrt'` or remove this parameter as it is also the default value for RandomForestClassifiers and ExtraTreesClassifiers.\n",
            "  warn(\n",
            "/usr/local/lib/python3.10/dist-packages/sklearn/ensemble/_forest.py:424: FutureWarning: `max_features='auto'` has been deprecated in 1.1 and will be removed in 1.3. To keep the past behaviour, explicitly set `max_features='sqrt'` or remove this parameter as it is also the default value for RandomForestClassifiers and ExtraTreesClassifiers.\n",
            "  warn(\n"
          ]
        },
        {
          "output_type": "stream",
          "name": "stdout",
          "text": [
            "[CV 3/5] END criterion=gini, max_features=auto, min_samples_leaf=3, min_samples_split=5, n_estimators=100;, score=0.805 total time=   0.1s\n",
            "[CV 4/5] END criterion=gini, max_features=auto, min_samples_leaf=3, min_samples_split=5, n_estimators=100;, score=0.701 total time=   0.1s\n"
          ]
        },
        {
          "output_type": "stream",
          "name": "stderr",
          "text": [
            "/usr/local/lib/python3.10/dist-packages/sklearn/ensemble/_forest.py:424: FutureWarning: `max_features='auto'` has been deprecated in 1.1 and will be removed in 1.3. To keep the past behaviour, explicitly set `max_features='sqrt'` or remove this parameter as it is also the default value for RandomForestClassifiers and ExtraTreesClassifiers.\n",
            "  warn(\n",
            "/usr/local/lib/python3.10/dist-packages/sklearn/ensemble/_forest.py:424: FutureWarning: `max_features='auto'` has been deprecated in 1.1 and will be removed in 1.3. To keep the past behaviour, explicitly set `max_features='sqrt'` or remove this parameter as it is also the default value for RandomForestClassifiers and ExtraTreesClassifiers.\n",
            "  warn(\n"
          ]
        },
        {
          "output_type": "stream",
          "name": "stdout",
          "text": [
            "[CV 5/5] END criterion=gini, max_features=auto, min_samples_leaf=3, min_samples_split=5, n_estimators=100;, score=0.789 total time=   0.1s\n",
            "[CV 1/5] END criterion=gini, max_features=auto, min_samples_leaf=3, min_samples_split=5, n_estimators=115;, score=0.675 total time=   0.2s\n"
          ]
        },
        {
          "output_type": "stream",
          "name": "stderr",
          "text": [
            "/usr/local/lib/python3.10/dist-packages/sklearn/ensemble/_forest.py:424: FutureWarning: `max_features='auto'` has been deprecated in 1.1 and will be removed in 1.3. To keep the past behaviour, explicitly set `max_features='sqrt'` or remove this parameter as it is also the default value for RandomForestClassifiers and ExtraTreesClassifiers.\n",
            "  warn(\n",
            "/usr/local/lib/python3.10/dist-packages/sklearn/ensemble/_forest.py:424: FutureWarning: `max_features='auto'` has been deprecated in 1.1 and will be removed in 1.3. To keep the past behaviour, explicitly set `max_features='sqrt'` or remove this parameter as it is also the default value for RandomForestClassifiers and ExtraTreesClassifiers.\n",
            "  warn(\n"
          ]
        },
        {
          "output_type": "stream",
          "name": "stdout",
          "text": [
            "[CV 2/5] END criterion=gini, max_features=auto, min_samples_leaf=3, min_samples_split=5, n_estimators=115;, score=0.740 total time=   0.2s\n",
            "[CV 3/5] END criterion=gini, max_features=auto, min_samples_leaf=3, min_samples_split=5, n_estimators=115;, score=0.805 total time=   0.1s\n"
          ]
        },
        {
          "output_type": "stream",
          "name": "stderr",
          "text": [
            "/usr/local/lib/python3.10/dist-packages/sklearn/ensemble/_forest.py:424: FutureWarning: `max_features='auto'` has been deprecated in 1.1 and will be removed in 1.3. To keep the past behaviour, explicitly set `max_features='sqrt'` or remove this parameter as it is also the default value for RandomForestClassifiers and ExtraTreesClassifiers.\n",
            "  warn(\n",
            "/usr/local/lib/python3.10/dist-packages/sklearn/ensemble/_forest.py:424: FutureWarning: `max_features='auto'` has been deprecated in 1.1 and will be removed in 1.3. To keep the past behaviour, explicitly set `max_features='sqrt'` or remove this parameter as it is also the default value for RandomForestClassifiers and ExtraTreesClassifiers.\n",
            "  warn(\n"
          ]
        },
        {
          "output_type": "stream",
          "name": "stdout",
          "text": [
            "[CV 4/5] END criterion=gini, max_features=auto, min_samples_leaf=3, min_samples_split=5, n_estimators=115;, score=0.701 total time=   0.2s\n",
            "[CV 5/5] END criterion=gini, max_features=auto, min_samples_leaf=3, min_samples_split=5, n_estimators=115;, score=0.789 total time=   0.1s\n"
          ]
        },
        {
          "output_type": "stream",
          "name": "stderr",
          "text": [
            "/usr/local/lib/python3.10/dist-packages/sklearn/ensemble/_forest.py:424: FutureWarning: `max_features='auto'` has been deprecated in 1.1 and will be removed in 1.3. To keep the past behaviour, explicitly set `max_features='sqrt'` or remove this parameter as it is also the default value for RandomForestClassifiers and ExtraTreesClassifiers.\n",
            "  warn(\n",
            "/usr/local/lib/python3.10/dist-packages/sklearn/ensemble/_forest.py:424: FutureWarning: `max_features='auto'` has been deprecated in 1.1 and will be removed in 1.3. To keep the past behaviour, explicitly set `max_features='sqrt'` or remove this parameter as it is also the default value for RandomForestClassifiers and ExtraTreesClassifiers.\n",
            "  warn(\n"
          ]
        },
        {
          "output_type": "stream",
          "name": "stdout",
          "text": [
            "[CV 1/5] END criterion=gini, max_features=auto, min_samples_leaf=3, min_samples_split=6, n_estimators=90;, score=0.675 total time=   0.1s\n",
            "[CV 2/5] END criterion=gini, max_features=auto, min_samples_leaf=3, min_samples_split=6, n_estimators=90;, score=0.740 total time=   0.1s\n"
          ]
        },
        {
          "output_type": "stream",
          "name": "stderr",
          "text": [
            "/usr/local/lib/python3.10/dist-packages/sklearn/ensemble/_forest.py:424: FutureWarning: `max_features='auto'` has been deprecated in 1.1 and will be removed in 1.3. To keep the past behaviour, explicitly set `max_features='sqrt'` or remove this parameter as it is also the default value for RandomForestClassifiers and ExtraTreesClassifiers.\n",
            "  warn(\n",
            "/usr/local/lib/python3.10/dist-packages/sklearn/ensemble/_forest.py:424: FutureWarning: `max_features='auto'` has been deprecated in 1.1 and will be removed in 1.3. To keep the past behaviour, explicitly set `max_features='sqrt'` or remove this parameter as it is also the default value for RandomForestClassifiers and ExtraTreesClassifiers.\n",
            "  warn(\n"
          ]
        },
        {
          "output_type": "stream",
          "name": "stdout",
          "text": [
            "[CV 3/5] END criterion=gini, max_features=auto, min_samples_leaf=3, min_samples_split=6, n_estimators=90;, score=0.805 total time=   0.1s\n",
            "[CV 4/5] END criterion=gini, max_features=auto, min_samples_leaf=3, min_samples_split=6, n_estimators=90;, score=0.701 total time=   0.1s\n"
          ]
        },
        {
          "output_type": "stream",
          "name": "stderr",
          "text": [
            "/usr/local/lib/python3.10/dist-packages/sklearn/ensemble/_forest.py:424: FutureWarning: `max_features='auto'` has been deprecated in 1.1 and will be removed in 1.3. To keep the past behaviour, explicitly set `max_features='sqrt'` or remove this parameter as it is also the default value for RandomForestClassifiers and ExtraTreesClassifiers.\n",
            "  warn(\n",
            "/usr/local/lib/python3.10/dist-packages/sklearn/ensemble/_forest.py:424: FutureWarning: `max_features='auto'` has been deprecated in 1.1 and will be removed in 1.3. To keep the past behaviour, explicitly set `max_features='sqrt'` or remove this parameter as it is also the default value for RandomForestClassifiers and ExtraTreesClassifiers.\n",
            "  warn(\n"
          ]
        },
        {
          "output_type": "stream",
          "name": "stdout",
          "text": [
            "[CV 5/5] END criterion=gini, max_features=auto, min_samples_leaf=3, min_samples_split=6, n_estimators=90;, score=0.789 total time=   0.1s\n",
            "[CV 1/5] END criterion=gini, max_features=auto, min_samples_leaf=3, min_samples_split=6, n_estimators=100;, score=0.675 total time=   0.1s\n"
          ]
        },
        {
          "output_type": "stream",
          "name": "stderr",
          "text": [
            "/usr/local/lib/python3.10/dist-packages/sklearn/ensemble/_forest.py:424: FutureWarning: `max_features='auto'` has been deprecated in 1.1 and will be removed in 1.3. To keep the past behaviour, explicitly set `max_features='sqrt'` or remove this parameter as it is also the default value for RandomForestClassifiers and ExtraTreesClassifiers.\n",
            "  warn(\n",
            "/usr/local/lib/python3.10/dist-packages/sklearn/ensemble/_forest.py:424: FutureWarning: `max_features='auto'` has been deprecated in 1.1 and will be removed in 1.3. To keep the past behaviour, explicitly set `max_features='sqrt'` or remove this parameter as it is also the default value for RandomForestClassifiers and ExtraTreesClassifiers.\n",
            "  warn(\n"
          ]
        },
        {
          "output_type": "stream",
          "name": "stdout",
          "text": [
            "[CV 2/5] END criterion=gini, max_features=auto, min_samples_leaf=3, min_samples_split=6, n_estimators=100;, score=0.740 total time=   0.1s\n",
            "[CV 3/5] END criterion=gini, max_features=auto, min_samples_leaf=3, min_samples_split=6, n_estimators=100;, score=0.805 total time=   0.2s\n"
          ]
        },
        {
          "output_type": "stream",
          "name": "stderr",
          "text": [
            "/usr/local/lib/python3.10/dist-packages/sklearn/ensemble/_forest.py:424: FutureWarning: `max_features='auto'` has been deprecated in 1.1 and will be removed in 1.3. To keep the past behaviour, explicitly set `max_features='sqrt'` or remove this parameter as it is also the default value for RandomForestClassifiers and ExtraTreesClassifiers.\n",
            "  warn(\n",
            "/usr/local/lib/python3.10/dist-packages/sklearn/ensemble/_forest.py:424: FutureWarning: `max_features='auto'` has been deprecated in 1.1 and will be removed in 1.3. To keep the past behaviour, explicitly set `max_features='sqrt'` or remove this parameter as it is also the default value for RandomForestClassifiers and ExtraTreesClassifiers.\n",
            "  warn(\n"
          ]
        },
        {
          "output_type": "stream",
          "name": "stdout",
          "text": [
            "[CV 4/5] END criterion=gini, max_features=auto, min_samples_leaf=3, min_samples_split=6, n_estimators=100;, score=0.701 total time=   0.1s\n",
            "[CV 5/5] END criterion=gini, max_features=auto, min_samples_leaf=3, min_samples_split=6, n_estimators=100;, score=0.789 total time=   0.1s\n"
          ]
        },
        {
          "output_type": "stream",
          "name": "stderr",
          "text": [
            "/usr/local/lib/python3.10/dist-packages/sklearn/ensemble/_forest.py:424: FutureWarning: `max_features='auto'` has been deprecated in 1.1 and will be removed in 1.3. To keep the past behaviour, explicitly set `max_features='sqrt'` or remove this parameter as it is also the default value for RandomForestClassifiers and ExtraTreesClassifiers.\n",
            "  warn(\n",
            "/usr/local/lib/python3.10/dist-packages/sklearn/ensemble/_forest.py:424: FutureWarning: `max_features='auto'` has been deprecated in 1.1 and will be removed in 1.3. To keep the past behaviour, explicitly set `max_features='sqrt'` or remove this parameter as it is also the default value for RandomForestClassifiers and ExtraTreesClassifiers.\n",
            "  warn(\n"
          ]
        },
        {
          "output_type": "stream",
          "name": "stdout",
          "text": [
            "[CV 1/5] END criterion=gini, max_features=auto, min_samples_leaf=3, min_samples_split=6, n_estimators=115;, score=0.675 total time=   0.1s\n",
            "[CV 2/5] END criterion=gini, max_features=auto, min_samples_leaf=3, min_samples_split=6, n_estimators=115;, score=0.740 total time=   0.2s\n"
          ]
        },
        {
          "output_type": "stream",
          "name": "stderr",
          "text": [
            "/usr/local/lib/python3.10/dist-packages/sklearn/ensemble/_forest.py:424: FutureWarning: `max_features='auto'` has been deprecated in 1.1 and will be removed in 1.3. To keep the past behaviour, explicitly set `max_features='sqrt'` or remove this parameter as it is also the default value for RandomForestClassifiers and ExtraTreesClassifiers.\n",
            "  warn(\n",
            "/usr/local/lib/python3.10/dist-packages/sklearn/ensemble/_forest.py:424: FutureWarning: `max_features='auto'` has been deprecated in 1.1 and will be removed in 1.3. To keep the past behaviour, explicitly set `max_features='sqrt'` or remove this parameter as it is also the default value for RandomForestClassifiers and ExtraTreesClassifiers.\n",
            "  warn(\n"
          ]
        },
        {
          "output_type": "stream",
          "name": "stdout",
          "text": [
            "[CV 3/5] END criterion=gini, max_features=auto, min_samples_leaf=3, min_samples_split=6, n_estimators=115;, score=0.805 total time=   0.2s\n",
            "[CV 4/5] END criterion=gini, max_features=auto, min_samples_leaf=3, min_samples_split=6, n_estimators=115;, score=0.701 total time=   0.1s\n"
          ]
        },
        {
          "output_type": "stream",
          "name": "stderr",
          "text": [
            "/usr/local/lib/python3.10/dist-packages/sklearn/ensemble/_forest.py:424: FutureWarning: `max_features='auto'` has been deprecated in 1.1 and will be removed in 1.3. To keep the past behaviour, explicitly set `max_features='sqrt'` or remove this parameter as it is also the default value for RandomForestClassifiers and ExtraTreesClassifiers.\n",
            "  warn(\n",
            "/usr/local/lib/python3.10/dist-packages/sklearn/ensemble/_forest.py:424: FutureWarning: `max_features='auto'` has been deprecated in 1.1 and will be removed in 1.3. To keep the past behaviour, explicitly set `max_features='sqrt'` or remove this parameter as it is also the default value for RandomForestClassifiers and ExtraTreesClassifiers.\n",
            "  warn(\n"
          ]
        },
        {
          "output_type": "stream",
          "name": "stdout",
          "text": [
            "[CV 5/5] END criterion=gini, max_features=auto, min_samples_leaf=3, min_samples_split=6, n_estimators=115;, score=0.789 total time=   0.2s\n",
            "[CV 1/5] END criterion=gini, max_features=auto, min_samples_leaf=3, min_samples_split=7, n_estimators=90;, score=0.675 total time=   0.1s\n"
          ]
        },
        {
          "output_type": "stream",
          "name": "stderr",
          "text": [
            "/usr/local/lib/python3.10/dist-packages/sklearn/ensemble/_forest.py:424: FutureWarning: `max_features='auto'` has been deprecated in 1.1 and will be removed in 1.3. To keep the past behaviour, explicitly set `max_features='sqrt'` or remove this parameter as it is also the default value for RandomForestClassifiers and ExtraTreesClassifiers.\n",
            "  warn(\n",
            "/usr/local/lib/python3.10/dist-packages/sklearn/ensemble/_forest.py:424: FutureWarning: `max_features='auto'` has been deprecated in 1.1 and will be removed in 1.3. To keep the past behaviour, explicitly set `max_features='sqrt'` or remove this parameter as it is also the default value for RandomForestClassifiers and ExtraTreesClassifiers.\n",
            "  warn(\n"
          ]
        },
        {
          "output_type": "stream",
          "name": "stdout",
          "text": [
            "[CV 2/5] END criterion=gini, max_features=auto, min_samples_leaf=3, min_samples_split=7, n_estimators=90;, score=0.740 total time=   0.1s\n",
            "[CV 3/5] END criterion=gini, max_features=auto, min_samples_leaf=3, min_samples_split=7, n_estimators=90;, score=0.805 total time=   0.1s\n"
          ]
        },
        {
          "output_type": "stream",
          "name": "stderr",
          "text": [
            "/usr/local/lib/python3.10/dist-packages/sklearn/ensemble/_forest.py:424: FutureWarning: `max_features='auto'` has been deprecated in 1.1 and will be removed in 1.3. To keep the past behaviour, explicitly set `max_features='sqrt'` or remove this parameter as it is also the default value for RandomForestClassifiers and ExtraTreesClassifiers.\n",
            "  warn(\n",
            "/usr/local/lib/python3.10/dist-packages/sklearn/ensemble/_forest.py:424: FutureWarning: `max_features='auto'` has been deprecated in 1.1 and will be removed in 1.3. To keep the past behaviour, explicitly set `max_features='sqrt'` or remove this parameter as it is also the default value for RandomForestClassifiers and ExtraTreesClassifiers.\n",
            "  warn(\n"
          ]
        },
        {
          "output_type": "stream",
          "name": "stdout",
          "text": [
            "[CV 4/5] END criterion=gini, max_features=auto, min_samples_leaf=3, min_samples_split=7, n_estimators=90;, score=0.701 total time=   0.1s\n",
            "[CV 5/5] END criterion=gini, max_features=auto, min_samples_leaf=3, min_samples_split=7, n_estimators=90;, score=0.789 total time=   0.1s\n"
          ]
        },
        {
          "output_type": "stream",
          "name": "stderr",
          "text": [
            "/usr/local/lib/python3.10/dist-packages/sklearn/ensemble/_forest.py:424: FutureWarning: `max_features='auto'` has been deprecated in 1.1 and will be removed in 1.3. To keep the past behaviour, explicitly set `max_features='sqrt'` or remove this parameter as it is also the default value for RandomForestClassifiers and ExtraTreesClassifiers.\n",
            "  warn(\n",
            "/usr/local/lib/python3.10/dist-packages/sklearn/ensemble/_forest.py:424: FutureWarning: `max_features='auto'` has been deprecated in 1.1 and will be removed in 1.3. To keep the past behaviour, explicitly set `max_features='sqrt'` or remove this parameter as it is also the default value for RandomForestClassifiers and ExtraTreesClassifiers.\n",
            "  warn(\n"
          ]
        },
        {
          "output_type": "stream",
          "name": "stdout",
          "text": [
            "[CV 1/5] END criterion=gini, max_features=auto, min_samples_leaf=3, min_samples_split=7, n_estimators=100;, score=0.675 total time=   0.2s\n"
          ]
        },
        {
          "output_type": "stream",
          "name": "stderr",
          "text": [
            "/usr/local/lib/python3.10/dist-packages/sklearn/ensemble/_forest.py:424: FutureWarning: `max_features='auto'` has been deprecated in 1.1 and will be removed in 1.3. To keep the past behaviour, explicitly set `max_features='sqrt'` or remove this parameter as it is also the default value for RandomForestClassifiers and ExtraTreesClassifiers.\n",
            "  warn(\n"
          ]
        },
        {
          "output_type": "stream",
          "name": "stdout",
          "text": [
            "[CV 2/5] END criterion=gini, max_features=auto, min_samples_leaf=3, min_samples_split=7, n_estimators=100;, score=0.740 total time=   0.2s\n"
          ]
        },
        {
          "output_type": "stream",
          "name": "stderr",
          "text": [
            "/usr/local/lib/python3.10/dist-packages/sklearn/ensemble/_forest.py:424: FutureWarning: `max_features='auto'` has been deprecated in 1.1 and will be removed in 1.3. To keep the past behaviour, explicitly set `max_features='sqrt'` or remove this parameter as it is also the default value for RandomForestClassifiers and ExtraTreesClassifiers.\n",
            "  warn(\n"
          ]
        },
        {
          "output_type": "stream",
          "name": "stdout",
          "text": [
            "[CV 3/5] END criterion=gini, max_features=auto, min_samples_leaf=3, min_samples_split=7, n_estimators=100;, score=0.805 total time=   0.2s\n"
          ]
        },
        {
          "output_type": "stream",
          "name": "stderr",
          "text": [
            "/usr/local/lib/python3.10/dist-packages/sklearn/ensemble/_forest.py:424: FutureWarning: `max_features='auto'` has been deprecated in 1.1 and will be removed in 1.3. To keep the past behaviour, explicitly set `max_features='sqrt'` or remove this parameter as it is also the default value for RandomForestClassifiers and ExtraTreesClassifiers.\n",
            "  warn(\n"
          ]
        },
        {
          "output_type": "stream",
          "name": "stdout",
          "text": [
            "[CV 4/5] END criterion=gini, max_features=auto, min_samples_leaf=3, min_samples_split=7, n_estimators=100;, score=0.701 total time=   0.2s\n"
          ]
        },
        {
          "output_type": "stream",
          "name": "stderr",
          "text": [
            "/usr/local/lib/python3.10/dist-packages/sklearn/ensemble/_forest.py:424: FutureWarning: `max_features='auto'` has been deprecated in 1.1 and will be removed in 1.3. To keep the past behaviour, explicitly set `max_features='sqrt'` or remove this parameter as it is also the default value for RandomForestClassifiers and ExtraTreesClassifiers.\n",
            "  warn(\n"
          ]
        },
        {
          "output_type": "stream",
          "name": "stdout",
          "text": [
            "[CV 5/5] END criterion=gini, max_features=auto, min_samples_leaf=3, min_samples_split=7, n_estimators=100;, score=0.789 total time=   0.2s\n"
          ]
        },
        {
          "output_type": "stream",
          "name": "stderr",
          "text": [
            "/usr/local/lib/python3.10/dist-packages/sklearn/ensemble/_forest.py:424: FutureWarning: `max_features='auto'` has been deprecated in 1.1 and will be removed in 1.3. To keep the past behaviour, explicitly set `max_features='sqrt'` or remove this parameter as it is also the default value for RandomForestClassifiers and ExtraTreesClassifiers.\n",
            "  warn(\n"
          ]
        },
        {
          "output_type": "stream",
          "name": "stdout",
          "text": [
            "[CV 1/5] END criterion=gini, max_features=auto, min_samples_leaf=3, min_samples_split=7, n_estimators=115;, score=0.675 total time=   0.2s\n"
          ]
        },
        {
          "output_type": "stream",
          "name": "stderr",
          "text": [
            "/usr/local/lib/python3.10/dist-packages/sklearn/ensemble/_forest.py:424: FutureWarning: `max_features='auto'` has been deprecated in 1.1 and will be removed in 1.3. To keep the past behaviour, explicitly set `max_features='sqrt'` or remove this parameter as it is also the default value for RandomForestClassifiers and ExtraTreesClassifiers.\n",
            "  warn(\n"
          ]
        },
        {
          "output_type": "stream",
          "name": "stdout",
          "text": [
            "[CV 2/5] END criterion=gini, max_features=auto, min_samples_leaf=3, min_samples_split=7, n_estimators=115;, score=0.740 total time=   0.2s\n"
          ]
        },
        {
          "output_type": "stream",
          "name": "stderr",
          "text": [
            "/usr/local/lib/python3.10/dist-packages/sklearn/ensemble/_forest.py:424: FutureWarning: `max_features='auto'` has been deprecated in 1.1 and will be removed in 1.3. To keep the past behaviour, explicitly set `max_features='sqrt'` or remove this parameter as it is also the default value for RandomForestClassifiers and ExtraTreesClassifiers.\n",
            "  warn(\n"
          ]
        },
        {
          "output_type": "stream",
          "name": "stdout",
          "text": [
            "[CV 3/5] END criterion=gini, max_features=auto, min_samples_leaf=3, min_samples_split=7, n_estimators=115;, score=0.805 total time=   0.2s\n"
          ]
        },
        {
          "output_type": "stream",
          "name": "stderr",
          "text": [
            "/usr/local/lib/python3.10/dist-packages/sklearn/ensemble/_forest.py:424: FutureWarning: `max_features='auto'` has been deprecated in 1.1 and will be removed in 1.3. To keep the past behaviour, explicitly set `max_features='sqrt'` or remove this parameter as it is also the default value for RandomForestClassifiers and ExtraTreesClassifiers.\n",
            "  warn(\n"
          ]
        },
        {
          "output_type": "stream",
          "name": "stdout",
          "text": [
            "[CV 4/5] END criterion=gini, max_features=auto, min_samples_leaf=3, min_samples_split=7, n_estimators=115;, score=0.701 total time=   0.3s\n"
          ]
        },
        {
          "output_type": "stream",
          "name": "stderr",
          "text": [
            "/usr/local/lib/python3.10/dist-packages/sklearn/ensemble/_forest.py:424: FutureWarning: `max_features='auto'` has been deprecated in 1.1 and will be removed in 1.3. To keep the past behaviour, explicitly set `max_features='sqrt'` or remove this parameter as it is also the default value for RandomForestClassifiers and ExtraTreesClassifiers.\n",
            "  warn(\n"
          ]
        },
        {
          "output_type": "stream",
          "name": "stdout",
          "text": [
            "[CV 5/5] END criterion=gini, max_features=auto, min_samples_leaf=3, min_samples_split=7, n_estimators=115;, score=0.789 total time=   0.2s\n",
            "[CV 1/5] END criterion=gini, max_features=auto, min_samples_leaf=3, min_samples_split=8, n_estimators=90;, score=0.675 total time=   0.2s\n"
          ]
        },
        {
          "output_type": "stream",
          "name": "stderr",
          "text": [
            "/usr/local/lib/python3.10/dist-packages/sklearn/ensemble/_forest.py:424: FutureWarning: `max_features='auto'` has been deprecated in 1.1 and will be removed in 1.3. To keep the past behaviour, explicitly set `max_features='sqrt'` or remove this parameter as it is also the default value for RandomForestClassifiers and ExtraTreesClassifiers.\n",
            "  warn(\n",
            "/usr/local/lib/python3.10/dist-packages/sklearn/ensemble/_forest.py:424: FutureWarning: `max_features='auto'` has been deprecated in 1.1 and will be removed in 1.3. To keep the past behaviour, explicitly set `max_features='sqrt'` or remove this parameter as it is also the default value for RandomForestClassifiers and ExtraTreesClassifiers.\n",
            "  warn(\n"
          ]
        },
        {
          "output_type": "stream",
          "name": "stdout",
          "text": [
            "[CV 2/5] END criterion=gini, max_features=auto, min_samples_leaf=3, min_samples_split=8, n_estimators=90;, score=0.740 total time=   0.2s\n",
            "[CV 3/5] END criterion=gini, max_features=auto, min_samples_leaf=3, min_samples_split=8, n_estimators=90;, score=0.805 total time=   0.2s\n"
          ]
        },
        {
          "output_type": "stream",
          "name": "stderr",
          "text": [
            "/usr/local/lib/python3.10/dist-packages/sklearn/ensemble/_forest.py:424: FutureWarning: `max_features='auto'` has been deprecated in 1.1 and will be removed in 1.3. To keep the past behaviour, explicitly set `max_features='sqrt'` or remove this parameter as it is also the default value for RandomForestClassifiers and ExtraTreesClassifiers.\n",
            "  warn(\n",
            "/usr/local/lib/python3.10/dist-packages/sklearn/ensemble/_forest.py:424: FutureWarning: `max_features='auto'` has been deprecated in 1.1 and will be removed in 1.3. To keep the past behaviour, explicitly set `max_features='sqrt'` or remove this parameter as it is also the default value for RandomForestClassifiers and ExtraTreesClassifiers.\n",
            "  warn(\n"
          ]
        },
        {
          "output_type": "stream",
          "name": "stdout",
          "text": [
            "[CV 4/5] END criterion=gini, max_features=auto, min_samples_leaf=3, min_samples_split=8, n_estimators=90;, score=0.701 total time=   0.1s\n",
            "[CV 5/5] END criterion=gini, max_features=auto, min_samples_leaf=3, min_samples_split=8, n_estimators=90;, score=0.789 total time=   0.1s\n"
          ]
        },
        {
          "output_type": "stream",
          "name": "stderr",
          "text": [
            "/usr/local/lib/python3.10/dist-packages/sklearn/ensemble/_forest.py:424: FutureWarning: `max_features='auto'` has been deprecated in 1.1 and will be removed in 1.3. To keep the past behaviour, explicitly set `max_features='sqrt'` or remove this parameter as it is also the default value for RandomForestClassifiers and ExtraTreesClassifiers.\n",
            "  warn(\n",
            "/usr/local/lib/python3.10/dist-packages/sklearn/ensemble/_forest.py:424: FutureWarning: `max_features='auto'` has been deprecated in 1.1 and will be removed in 1.3. To keep the past behaviour, explicitly set `max_features='sqrt'` or remove this parameter as it is also the default value for RandomForestClassifiers and ExtraTreesClassifiers.\n",
            "  warn(\n"
          ]
        },
        {
          "output_type": "stream",
          "name": "stdout",
          "text": [
            "[CV 1/5] END criterion=gini, max_features=auto, min_samples_leaf=3, min_samples_split=8, n_estimators=100;, score=0.675 total time=   0.1s\n",
            "[CV 2/5] END criterion=gini, max_features=auto, min_samples_leaf=3, min_samples_split=8, n_estimators=100;, score=0.740 total time=   0.1s\n"
          ]
        },
        {
          "output_type": "stream",
          "name": "stderr",
          "text": [
            "/usr/local/lib/python3.10/dist-packages/sklearn/ensemble/_forest.py:424: FutureWarning: `max_features='auto'` has been deprecated in 1.1 and will be removed in 1.3. To keep the past behaviour, explicitly set `max_features='sqrt'` or remove this parameter as it is also the default value for RandomForestClassifiers and ExtraTreesClassifiers.\n",
            "  warn(\n",
            "/usr/local/lib/python3.10/dist-packages/sklearn/ensemble/_forest.py:424: FutureWarning: `max_features='auto'` has been deprecated in 1.1 and will be removed in 1.3. To keep the past behaviour, explicitly set `max_features='sqrt'` or remove this parameter as it is also the default value for RandomForestClassifiers and ExtraTreesClassifiers.\n",
            "  warn(\n"
          ]
        },
        {
          "output_type": "stream",
          "name": "stdout",
          "text": [
            "[CV 3/5] END criterion=gini, max_features=auto, min_samples_leaf=3, min_samples_split=8, n_estimators=100;, score=0.805 total time=   0.1s\n",
            "[CV 4/5] END criterion=gini, max_features=auto, min_samples_leaf=3, min_samples_split=8, n_estimators=100;, score=0.701 total time=   0.1s\n"
          ]
        },
        {
          "output_type": "stream",
          "name": "stderr",
          "text": [
            "/usr/local/lib/python3.10/dist-packages/sklearn/ensemble/_forest.py:424: FutureWarning: `max_features='auto'` has been deprecated in 1.1 and will be removed in 1.3. To keep the past behaviour, explicitly set `max_features='sqrt'` or remove this parameter as it is also the default value for RandomForestClassifiers and ExtraTreesClassifiers.\n",
            "  warn(\n",
            "/usr/local/lib/python3.10/dist-packages/sklearn/ensemble/_forest.py:424: FutureWarning: `max_features='auto'` has been deprecated in 1.1 and will be removed in 1.3. To keep the past behaviour, explicitly set `max_features='sqrt'` or remove this parameter as it is also the default value for RandomForestClassifiers and ExtraTreesClassifiers.\n",
            "  warn(\n"
          ]
        },
        {
          "output_type": "stream",
          "name": "stdout",
          "text": [
            "[CV 5/5] END criterion=gini, max_features=auto, min_samples_leaf=3, min_samples_split=8, n_estimators=100;, score=0.789 total time=   0.1s\n",
            "[CV 1/5] END criterion=gini, max_features=auto, min_samples_leaf=3, min_samples_split=8, n_estimators=115;, score=0.675 total time=   0.2s\n"
          ]
        },
        {
          "output_type": "stream",
          "name": "stderr",
          "text": [
            "/usr/local/lib/python3.10/dist-packages/sklearn/ensemble/_forest.py:424: FutureWarning: `max_features='auto'` has been deprecated in 1.1 and will be removed in 1.3. To keep the past behaviour, explicitly set `max_features='sqrt'` or remove this parameter as it is also the default value for RandomForestClassifiers and ExtraTreesClassifiers.\n",
            "  warn(\n",
            "/usr/local/lib/python3.10/dist-packages/sklearn/ensemble/_forest.py:424: FutureWarning: `max_features='auto'` has been deprecated in 1.1 and will be removed in 1.3. To keep the past behaviour, explicitly set `max_features='sqrt'` or remove this parameter as it is also the default value for RandomForestClassifiers and ExtraTreesClassifiers.\n",
            "  warn(\n"
          ]
        },
        {
          "output_type": "stream",
          "name": "stdout",
          "text": [
            "[CV 2/5] END criterion=gini, max_features=auto, min_samples_leaf=3, min_samples_split=8, n_estimators=115;, score=0.740 total time=   0.2s\n",
            "[CV 3/5] END criterion=gini, max_features=auto, min_samples_leaf=3, min_samples_split=8, n_estimators=115;, score=0.805 total time=   0.1s\n"
          ]
        },
        {
          "output_type": "stream",
          "name": "stderr",
          "text": [
            "/usr/local/lib/python3.10/dist-packages/sklearn/ensemble/_forest.py:424: FutureWarning: `max_features='auto'` has been deprecated in 1.1 and will be removed in 1.3. To keep the past behaviour, explicitly set `max_features='sqrt'` or remove this parameter as it is also the default value for RandomForestClassifiers and ExtraTreesClassifiers.\n",
            "  warn(\n",
            "/usr/local/lib/python3.10/dist-packages/sklearn/ensemble/_forest.py:424: FutureWarning: `max_features='auto'` has been deprecated in 1.1 and will be removed in 1.3. To keep the past behaviour, explicitly set `max_features='sqrt'` or remove this parameter as it is also the default value for RandomForestClassifiers and ExtraTreesClassifiers.\n",
            "  warn(\n"
          ]
        },
        {
          "output_type": "stream",
          "name": "stdout",
          "text": [
            "[CV 4/5] END criterion=gini, max_features=auto, min_samples_leaf=3, min_samples_split=8, n_estimators=115;, score=0.701 total time=   0.2s\n",
            "[CV 5/5] END criterion=gini, max_features=auto, min_samples_leaf=3, min_samples_split=8, n_estimators=115;, score=0.789 total time=   0.1s\n"
          ]
        },
        {
          "output_type": "stream",
          "name": "stderr",
          "text": [
            "/usr/local/lib/python3.10/dist-packages/sklearn/ensemble/_forest.py:424: FutureWarning: `max_features='auto'` has been deprecated in 1.1 and will be removed in 1.3. To keep the past behaviour, explicitly set `max_features='sqrt'` or remove this parameter as it is also the default value for RandomForestClassifiers and ExtraTreesClassifiers.\n",
            "  warn(\n",
            "/usr/local/lib/python3.10/dist-packages/sklearn/ensemble/_forest.py:424: FutureWarning: `max_features='auto'` has been deprecated in 1.1 and will be removed in 1.3. To keep the past behaviour, explicitly set `max_features='sqrt'` or remove this parameter as it is also the default value for RandomForestClassifiers and ExtraTreesClassifiers.\n",
            "  warn(\n"
          ]
        },
        {
          "output_type": "stream",
          "name": "stdout",
          "text": [
            "[CV 1/5] END criterion=gini, max_features=auto, min_samples_leaf=4, min_samples_split=4, n_estimators=90;, score=0.675 total time=   0.1s\n",
            "[CV 2/5] END criterion=gini, max_features=auto, min_samples_leaf=4, min_samples_split=4, n_estimators=90;, score=0.740 total time=   0.1s\n"
          ]
        },
        {
          "output_type": "stream",
          "name": "stderr",
          "text": [
            "/usr/local/lib/python3.10/dist-packages/sklearn/ensemble/_forest.py:424: FutureWarning: `max_features='auto'` has been deprecated in 1.1 and will be removed in 1.3. To keep the past behaviour, explicitly set `max_features='sqrt'` or remove this parameter as it is also the default value for RandomForestClassifiers and ExtraTreesClassifiers.\n",
            "  warn(\n",
            "/usr/local/lib/python3.10/dist-packages/sklearn/ensemble/_forest.py:424: FutureWarning: `max_features='auto'` has been deprecated in 1.1 and will be removed in 1.3. To keep the past behaviour, explicitly set `max_features='sqrt'` or remove this parameter as it is also the default value for RandomForestClassifiers and ExtraTreesClassifiers.\n",
            "  warn(\n"
          ]
        },
        {
          "output_type": "stream",
          "name": "stdout",
          "text": [
            "[CV 3/5] END criterion=gini, max_features=auto, min_samples_leaf=4, min_samples_split=4, n_estimators=90;, score=0.805 total time=   0.1s\n",
            "[CV 4/5] END criterion=gini, max_features=auto, min_samples_leaf=4, min_samples_split=4, n_estimators=90;, score=0.701 total time=   0.1s\n"
          ]
        },
        {
          "output_type": "stream",
          "name": "stderr",
          "text": [
            "/usr/local/lib/python3.10/dist-packages/sklearn/ensemble/_forest.py:424: FutureWarning: `max_features='auto'` has been deprecated in 1.1 and will be removed in 1.3. To keep the past behaviour, explicitly set `max_features='sqrt'` or remove this parameter as it is also the default value for RandomForestClassifiers and ExtraTreesClassifiers.\n",
            "  warn(\n",
            "/usr/local/lib/python3.10/dist-packages/sklearn/ensemble/_forest.py:424: FutureWarning: `max_features='auto'` has been deprecated in 1.1 and will be removed in 1.3. To keep the past behaviour, explicitly set `max_features='sqrt'` or remove this parameter as it is also the default value for RandomForestClassifiers and ExtraTreesClassifiers.\n",
            "  warn(\n"
          ]
        },
        {
          "output_type": "stream",
          "name": "stdout",
          "text": [
            "[CV 5/5] END criterion=gini, max_features=auto, min_samples_leaf=4, min_samples_split=4, n_estimators=90;, score=0.789 total time=   0.1s\n",
            "[CV 1/5] END criterion=gini, max_features=auto, min_samples_leaf=4, min_samples_split=4, n_estimators=100;, score=0.675 total time=   0.1s\n"
          ]
        },
        {
          "output_type": "stream",
          "name": "stderr",
          "text": [
            "/usr/local/lib/python3.10/dist-packages/sklearn/ensemble/_forest.py:424: FutureWarning: `max_features='auto'` has been deprecated in 1.1 and will be removed in 1.3. To keep the past behaviour, explicitly set `max_features='sqrt'` or remove this parameter as it is also the default value for RandomForestClassifiers and ExtraTreesClassifiers.\n",
            "  warn(\n",
            "/usr/local/lib/python3.10/dist-packages/sklearn/ensemble/_forest.py:424: FutureWarning: `max_features='auto'` has been deprecated in 1.1 and will be removed in 1.3. To keep the past behaviour, explicitly set `max_features='sqrt'` or remove this parameter as it is also the default value for RandomForestClassifiers and ExtraTreesClassifiers.\n",
            "  warn(\n"
          ]
        },
        {
          "output_type": "stream",
          "name": "stdout",
          "text": [
            "[CV 2/5] END criterion=gini, max_features=auto, min_samples_leaf=4, min_samples_split=4, n_estimators=100;, score=0.740 total time=   0.1s\n",
            "[CV 3/5] END criterion=gini, max_features=auto, min_samples_leaf=4, min_samples_split=4, n_estimators=100;, score=0.805 total time=   0.1s\n"
          ]
        },
        {
          "output_type": "stream",
          "name": "stderr",
          "text": [
            "/usr/local/lib/python3.10/dist-packages/sklearn/ensemble/_forest.py:424: FutureWarning: `max_features='auto'` has been deprecated in 1.1 and will be removed in 1.3. To keep the past behaviour, explicitly set `max_features='sqrt'` or remove this parameter as it is also the default value for RandomForestClassifiers and ExtraTreesClassifiers.\n",
            "  warn(\n",
            "/usr/local/lib/python3.10/dist-packages/sklearn/ensemble/_forest.py:424: FutureWarning: `max_features='auto'` has been deprecated in 1.1 and will be removed in 1.3. To keep the past behaviour, explicitly set `max_features='sqrt'` or remove this parameter as it is also the default value for RandomForestClassifiers and ExtraTreesClassifiers.\n",
            "  warn(\n"
          ]
        },
        {
          "output_type": "stream",
          "name": "stdout",
          "text": [
            "[CV 4/5] END criterion=gini, max_features=auto, min_samples_leaf=4, min_samples_split=4, n_estimators=100;, score=0.701 total time=   0.1s\n",
            "[CV 5/5] END criterion=gini, max_features=auto, min_samples_leaf=4, min_samples_split=4, n_estimators=100;, score=0.789 total time=   0.1s\n"
          ]
        },
        {
          "output_type": "stream",
          "name": "stderr",
          "text": [
            "/usr/local/lib/python3.10/dist-packages/sklearn/ensemble/_forest.py:424: FutureWarning: `max_features='auto'` has been deprecated in 1.1 and will be removed in 1.3. To keep the past behaviour, explicitly set `max_features='sqrt'` or remove this parameter as it is also the default value for RandomForestClassifiers and ExtraTreesClassifiers.\n",
            "  warn(\n",
            "/usr/local/lib/python3.10/dist-packages/sklearn/ensemble/_forest.py:424: FutureWarning: `max_features='auto'` has been deprecated in 1.1 and will be removed in 1.3. To keep the past behaviour, explicitly set `max_features='sqrt'` or remove this parameter as it is also the default value for RandomForestClassifiers and ExtraTreesClassifiers.\n",
            "  warn(\n"
          ]
        },
        {
          "output_type": "stream",
          "name": "stdout",
          "text": [
            "[CV 1/5] END criterion=gini, max_features=auto, min_samples_leaf=4, min_samples_split=4, n_estimators=115;, score=0.675 total time=   0.2s\n",
            "[CV 2/5] END criterion=gini, max_features=auto, min_samples_leaf=4, min_samples_split=4, n_estimators=115;, score=0.740 total time=   0.2s\n"
          ]
        },
        {
          "output_type": "stream",
          "name": "stderr",
          "text": [
            "/usr/local/lib/python3.10/dist-packages/sklearn/ensemble/_forest.py:424: FutureWarning: `max_features='auto'` has been deprecated in 1.1 and will be removed in 1.3. To keep the past behaviour, explicitly set `max_features='sqrt'` or remove this parameter as it is also the default value for RandomForestClassifiers and ExtraTreesClassifiers.\n",
            "  warn(\n",
            "/usr/local/lib/python3.10/dist-packages/sklearn/ensemble/_forest.py:424: FutureWarning: `max_features='auto'` has been deprecated in 1.1 and will be removed in 1.3. To keep the past behaviour, explicitly set `max_features='sqrt'` or remove this parameter as it is also the default value for RandomForestClassifiers and ExtraTreesClassifiers.\n",
            "  warn(\n"
          ]
        },
        {
          "output_type": "stream",
          "name": "stdout",
          "text": [
            "[CV 3/5] END criterion=gini, max_features=auto, min_samples_leaf=4, min_samples_split=4, n_estimators=115;, score=0.805 total time=   0.2s\n",
            "[CV 4/5] END criterion=gini, max_features=auto, min_samples_leaf=4, min_samples_split=4, n_estimators=115;, score=0.701 total time=   0.2s\n"
          ]
        },
        {
          "output_type": "stream",
          "name": "stderr",
          "text": [
            "/usr/local/lib/python3.10/dist-packages/sklearn/ensemble/_forest.py:424: FutureWarning: `max_features='auto'` has been deprecated in 1.1 and will be removed in 1.3. To keep the past behaviour, explicitly set `max_features='sqrt'` or remove this parameter as it is also the default value for RandomForestClassifiers and ExtraTreesClassifiers.\n",
            "  warn(\n",
            "/usr/local/lib/python3.10/dist-packages/sklearn/ensemble/_forest.py:424: FutureWarning: `max_features='auto'` has been deprecated in 1.1 and will be removed in 1.3. To keep the past behaviour, explicitly set `max_features='sqrt'` or remove this parameter as it is also the default value for RandomForestClassifiers and ExtraTreesClassifiers.\n",
            "  warn(\n"
          ]
        },
        {
          "output_type": "stream",
          "name": "stdout",
          "text": [
            "[CV 5/5] END criterion=gini, max_features=auto, min_samples_leaf=4, min_samples_split=4, n_estimators=115;, score=0.789 total time=   0.2s\n",
            "[CV 1/5] END criterion=gini, max_features=auto, min_samples_leaf=4, min_samples_split=5, n_estimators=90;, score=0.675 total time=   0.1s\n"
          ]
        },
        {
          "output_type": "stream",
          "name": "stderr",
          "text": [
            "/usr/local/lib/python3.10/dist-packages/sklearn/ensemble/_forest.py:424: FutureWarning: `max_features='auto'` has been deprecated in 1.1 and will be removed in 1.3. To keep the past behaviour, explicitly set `max_features='sqrt'` or remove this parameter as it is also the default value for RandomForestClassifiers and ExtraTreesClassifiers.\n",
            "  warn(\n",
            "/usr/local/lib/python3.10/dist-packages/sklearn/ensemble/_forest.py:424: FutureWarning: `max_features='auto'` has been deprecated in 1.1 and will be removed in 1.3. To keep the past behaviour, explicitly set `max_features='sqrt'` or remove this parameter as it is also the default value for RandomForestClassifiers and ExtraTreesClassifiers.\n",
            "  warn(\n"
          ]
        },
        {
          "output_type": "stream",
          "name": "stdout",
          "text": [
            "[CV 2/5] END criterion=gini, max_features=auto, min_samples_leaf=4, min_samples_split=5, n_estimators=90;, score=0.740 total time=   0.1s\n",
            "[CV 3/5] END criterion=gini, max_features=auto, min_samples_leaf=4, min_samples_split=5, n_estimators=90;, score=0.805 total time=   0.1s\n"
          ]
        },
        {
          "output_type": "stream",
          "name": "stderr",
          "text": [
            "/usr/local/lib/python3.10/dist-packages/sklearn/ensemble/_forest.py:424: FutureWarning: `max_features='auto'` has been deprecated in 1.1 and will be removed in 1.3. To keep the past behaviour, explicitly set `max_features='sqrt'` or remove this parameter as it is also the default value for RandomForestClassifiers and ExtraTreesClassifiers.\n",
            "  warn(\n",
            "/usr/local/lib/python3.10/dist-packages/sklearn/ensemble/_forest.py:424: FutureWarning: `max_features='auto'` has been deprecated in 1.1 and will be removed in 1.3. To keep the past behaviour, explicitly set `max_features='sqrt'` or remove this parameter as it is also the default value for RandomForestClassifiers and ExtraTreesClassifiers.\n",
            "  warn(\n"
          ]
        },
        {
          "output_type": "stream",
          "name": "stdout",
          "text": [
            "[CV 4/5] END criterion=gini, max_features=auto, min_samples_leaf=4, min_samples_split=5, n_estimators=90;, score=0.701 total time=   0.1s\n",
            "[CV 5/5] END criterion=gini, max_features=auto, min_samples_leaf=4, min_samples_split=5, n_estimators=90;, score=0.789 total time=   0.1s\n"
          ]
        },
        {
          "output_type": "stream",
          "name": "stderr",
          "text": [
            "/usr/local/lib/python3.10/dist-packages/sklearn/ensemble/_forest.py:424: FutureWarning: `max_features='auto'` has been deprecated in 1.1 and will be removed in 1.3. To keep the past behaviour, explicitly set `max_features='sqrt'` or remove this parameter as it is also the default value for RandomForestClassifiers and ExtraTreesClassifiers.\n",
            "  warn(\n",
            "/usr/local/lib/python3.10/dist-packages/sklearn/ensemble/_forest.py:424: FutureWarning: `max_features='auto'` has been deprecated in 1.1 and will be removed in 1.3. To keep the past behaviour, explicitly set `max_features='sqrt'` or remove this parameter as it is also the default value for RandomForestClassifiers and ExtraTreesClassifiers.\n",
            "  warn(\n"
          ]
        },
        {
          "output_type": "stream",
          "name": "stdout",
          "text": [
            "[CV 1/5] END criterion=gini, max_features=auto, min_samples_leaf=4, min_samples_split=5, n_estimators=100;, score=0.675 total time=   0.1s\n",
            "[CV 2/5] END criterion=gini, max_features=auto, min_samples_leaf=4, min_samples_split=5, n_estimators=100;, score=0.740 total time=   0.1s\n"
          ]
        },
        {
          "output_type": "stream",
          "name": "stderr",
          "text": [
            "/usr/local/lib/python3.10/dist-packages/sklearn/ensemble/_forest.py:424: FutureWarning: `max_features='auto'` has been deprecated in 1.1 and will be removed in 1.3. To keep the past behaviour, explicitly set `max_features='sqrt'` or remove this parameter as it is also the default value for RandomForestClassifiers and ExtraTreesClassifiers.\n",
            "  warn(\n",
            "/usr/local/lib/python3.10/dist-packages/sklearn/ensemble/_forest.py:424: FutureWarning: `max_features='auto'` has been deprecated in 1.1 and will be removed in 1.3. To keep the past behaviour, explicitly set `max_features='sqrt'` or remove this parameter as it is also the default value for RandomForestClassifiers and ExtraTreesClassifiers.\n",
            "  warn(\n"
          ]
        },
        {
          "output_type": "stream",
          "name": "stdout",
          "text": [
            "[CV 3/5] END criterion=gini, max_features=auto, min_samples_leaf=4, min_samples_split=5, n_estimators=100;, score=0.805 total time=   0.1s\n",
            "[CV 4/5] END criterion=gini, max_features=auto, min_samples_leaf=4, min_samples_split=5, n_estimators=100;, score=0.701 total time=   0.1s\n"
          ]
        },
        {
          "output_type": "stream",
          "name": "stderr",
          "text": [
            "/usr/local/lib/python3.10/dist-packages/sklearn/ensemble/_forest.py:424: FutureWarning: `max_features='auto'` has been deprecated in 1.1 and will be removed in 1.3. To keep the past behaviour, explicitly set `max_features='sqrt'` or remove this parameter as it is also the default value for RandomForestClassifiers and ExtraTreesClassifiers.\n",
            "  warn(\n",
            "/usr/local/lib/python3.10/dist-packages/sklearn/ensemble/_forest.py:424: FutureWarning: `max_features='auto'` has been deprecated in 1.1 and will be removed in 1.3. To keep the past behaviour, explicitly set `max_features='sqrt'` or remove this parameter as it is also the default value for RandomForestClassifiers and ExtraTreesClassifiers.\n",
            "  warn(\n"
          ]
        },
        {
          "output_type": "stream",
          "name": "stdout",
          "text": [
            "[CV 5/5] END criterion=gini, max_features=auto, min_samples_leaf=4, min_samples_split=5, n_estimators=100;, score=0.789 total time=   0.1s\n",
            "[CV 1/5] END criterion=gini, max_features=auto, min_samples_leaf=4, min_samples_split=5, n_estimators=115;, score=0.675 total time=   0.2s\n"
          ]
        },
        {
          "output_type": "stream",
          "name": "stderr",
          "text": [
            "/usr/local/lib/python3.10/dist-packages/sklearn/ensemble/_forest.py:424: FutureWarning: `max_features='auto'` has been deprecated in 1.1 and will be removed in 1.3. To keep the past behaviour, explicitly set `max_features='sqrt'` or remove this parameter as it is also the default value for RandomForestClassifiers and ExtraTreesClassifiers.\n",
            "  warn(\n",
            "/usr/local/lib/python3.10/dist-packages/sklearn/ensemble/_forest.py:424: FutureWarning: `max_features='auto'` has been deprecated in 1.1 and will be removed in 1.3. To keep the past behaviour, explicitly set `max_features='sqrt'` or remove this parameter as it is also the default value for RandomForestClassifiers and ExtraTreesClassifiers.\n",
            "  warn(\n"
          ]
        },
        {
          "output_type": "stream",
          "name": "stdout",
          "text": [
            "[CV 2/5] END criterion=gini, max_features=auto, min_samples_leaf=4, min_samples_split=5, n_estimators=115;, score=0.740 total time=   0.2s\n",
            "[CV 3/5] END criterion=gini, max_features=auto, min_samples_leaf=4, min_samples_split=5, n_estimators=115;, score=0.805 total time=   0.1s\n"
          ]
        },
        {
          "output_type": "stream",
          "name": "stderr",
          "text": [
            "/usr/local/lib/python3.10/dist-packages/sklearn/ensemble/_forest.py:424: FutureWarning: `max_features='auto'` has been deprecated in 1.1 and will be removed in 1.3. To keep the past behaviour, explicitly set `max_features='sqrt'` or remove this parameter as it is also the default value for RandomForestClassifiers and ExtraTreesClassifiers.\n",
            "  warn(\n",
            "/usr/local/lib/python3.10/dist-packages/sklearn/ensemble/_forest.py:424: FutureWarning: `max_features='auto'` has been deprecated in 1.1 and will be removed in 1.3. To keep the past behaviour, explicitly set `max_features='sqrt'` or remove this parameter as it is also the default value for RandomForestClassifiers and ExtraTreesClassifiers.\n",
            "  warn(\n"
          ]
        },
        {
          "output_type": "stream",
          "name": "stdout",
          "text": [
            "[CV 4/5] END criterion=gini, max_features=auto, min_samples_leaf=4, min_samples_split=5, n_estimators=115;, score=0.701 total time=   0.2s\n",
            "[CV 5/5] END criterion=gini, max_features=auto, min_samples_leaf=4, min_samples_split=5, n_estimators=115;, score=0.789 total time=   0.1s\n"
          ]
        },
        {
          "output_type": "stream",
          "name": "stderr",
          "text": [
            "/usr/local/lib/python3.10/dist-packages/sklearn/ensemble/_forest.py:424: FutureWarning: `max_features='auto'` has been deprecated in 1.1 and will be removed in 1.3. To keep the past behaviour, explicitly set `max_features='sqrt'` or remove this parameter as it is also the default value for RandomForestClassifiers and ExtraTreesClassifiers.\n",
            "  warn(\n",
            "/usr/local/lib/python3.10/dist-packages/sklearn/ensemble/_forest.py:424: FutureWarning: `max_features='auto'` has been deprecated in 1.1 and will be removed in 1.3. To keep the past behaviour, explicitly set `max_features='sqrt'` or remove this parameter as it is also the default value for RandomForestClassifiers and ExtraTreesClassifiers.\n",
            "  warn(\n"
          ]
        },
        {
          "output_type": "stream",
          "name": "stdout",
          "text": [
            "[CV 1/5] END criterion=gini, max_features=auto, min_samples_leaf=4, min_samples_split=6, n_estimators=90;, score=0.675 total time=   0.1s\n",
            "[CV 2/5] END criterion=gini, max_features=auto, min_samples_leaf=4, min_samples_split=6, n_estimators=90;, score=0.740 total time=   0.1s\n"
          ]
        },
        {
          "output_type": "stream",
          "name": "stderr",
          "text": [
            "/usr/local/lib/python3.10/dist-packages/sklearn/ensemble/_forest.py:424: FutureWarning: `max_features='auto'` has been deprecated in 1.1 and will be removed in 1.3. To keep the past behaviour, explicitly set `max_features='sqrt'` or remove this parameter as it is also the default value for RandomForestClassifiers and ExtraTreesClassifiers.\n",
            "  warn(\n",
            "/usr/local/lib/python3.10/dist-packages/sklearn/ensemble/_forest.py:424: FutureWarning: `max_features='auto'` has been deprecated in 1.1 and will be removed in 1.3. To keep the past behaviour, explicitly set `max_features='sqrt'` or remove this parameter as it is also the default value for RandomForestClassifiers and ExtraTreesClassifiers.\n",
            "  warn(\n"
          ]
        },
        {
          "output_type": "stream",
          "name": "stdout",
          "text": [
            "[CV 3/5] END criterion=gini, max_features=auto, min_samples_leaf=4, min_samples_split=6, n_estimators=90;, score=0.805 total time=   0.1s\n",
            "[CV 4/5] END criterion=gini, max_features=auto, min_samples_leaf=4, min_samples_split=6, n_estimators=90;, score=0.701 total time=   0.1s\n"
          ]
        },
        {
          "output_type": "stream",
          "name": "stderr",
          "text": [
            "/usr/local/lib/python3.10/dist-packages/sklearn/ensemble/_forest.py:424: FutureWarning: `max_features='auto'` has been deprecated in 1.1 and will be removed in 1.3. To keep the past behaviour, explicitly set `max_features='sqrt'` or remove this parameter as it is also the default value for RandomForestClassifiers and ExtraTreesClassifiers.\n",
            "  warn(\n",
            "/usr/local/lib/python3.10/dist-packages/sklearn/ensemble/_forest.py:424: FutureWarning: `max_features='auto'` has been deprecated in 1.1 and will be removed in 1.3. To keep the past behaviour, explicitly set `max_features='sqrt'` or remove this parameter as it is also the default value for RandomForestClassifiers and ExtraTreesClassifiers.\n",
            "  warn(\n"
          ]
        },
        {
          "output_type": "stream",
          "name": "stdout",
          "text": [
            "[CV 5/5] END criterion=gini, max_features=auto, min_samples_leaf=4, min_samples_split=6, n_estimators=90;, score=0.789 total time=   0.1s\n",
            "[CV 1/5] END criterion=gini, max_features=auto, min_samples_leaf=4, min_samples_split=6, n_estimators=100;, score=0.675 total time=   0.1s\n"
          ]
        },
        {
          "output_type": "stream",
          "name": "stderr",
          "text": [
            "/usr/local/lib/python3.10/dist-packages/sklearn/ensemble/_forest.py:424: FutureWarning: `max_features='auto'` has been deprecated in 1.1 and will be removed in 1.3. To keep the past behaviour, explicitly set `max_features='sqrt'` or remove this parameter as it is also the default value for RandomForestClassifiers and ExtraTreesClassifiers.\n",
            "  warn(\n",
            "/usr/local/lib/python3.10/dist-packages/sklearn/ensemble/_forest.py:424: FutureWarning: `max_features='auto'` has been deprecated in 1.1 and will be removed in 1.3. To keep the past behaviour, explicitly set `max_features='sqrt'` or remove this parameter as it is also the default value for RandomForestClassifiers and ExtraTreesClassifiers.\n",
            "  warn(\n"
          ]
        },
        {
          "output_type": "stream",
          "name": "stdout",
          "text": [
            "[CV 2/5] END criterion=gini, max_features=auto, min_samples_leaf=4, min_samples_split=6, n_estimators=100;, score=0.740 total time=   0.1s\n",
            "[CV 3/5] END criterion=gini, max_features=auto, min_samples_leaf=4, min_samples_split=6, n_estimators=100;, score=0.805 total time=   0.1s\n"
          ]
        },
        {
          "output_type": "stream",
          "name": "stderr",
          "text": [
            "/usr/local/lib/python3.10/dist-packages/sklearn/ensemble/_forest.py:424: FutureWarning: `max_features='auto'` has been deprecated in 1.1 and will be removed in 1.3. To keep the past behaviour, explicitly set `max_features='sqrt'` or remove this parameter as it is also the default value for RandomForestClassifiers and ExtraTreesClassifiers.\n",
            "  warn(\n",
            "/usr/local/lib/python3.10/dist-packages/sklearn/ensemble/_forest.py:424: FutureWarning: `max_features='auto'` has been deprecated in 1.1 and will be removed in 1.3. To keep the past behaviour, explicitly set `max_features='sqrt'` or remove this parameter as it is also the default value for RandomForestClassifiers and ExtraTreesClassifiers.\n",
            "  warn(\n"
          ]
        },
        {
          "output_type": "stream",
          "name": "stdout",
          "text": [
            "[CV 4/5] END criterion=gini, max_features=auto, min_samples_leaf=4, min_samples_split=6, n_estimators=100;, score=0.701 total time=   0.1s\n",
            "[CV 5/5] END criterion=gini, max_features=auto, min_samples_leaf=4, min_samples_split=6, n_estimators=100;, score=0.789 total time=   0.1s\n"
          ]
        },
        {
          "output_type": "stream",
          "name": "stderr",
          "text": [
            "/usr/local/lib/python3.10/dist-packages/sklearn/ensemble/_forest.py:424: FutureWarning: `max_features='auto'` has been deprecated in 1.1 and will be removed in 1.3. To keep the past behaviour, explicitly set `max_features='sqrt'` or remove this parameter as it is also the default value for RandomForestClassifiers and ExtraTreesClassifiers.\n",
            "  warn(\n",
            "/usr/local/lib/python3.10/dist-packages/sklearn/ensemble/_forest.py:424: FutureWarning: `max_features='auto'` has been deprecated in 1.1 and will be removed in 1.3. To keep the past behaviour, explicitly set `max_features='sqrt'` or remove this parameter as it is also the default value for RandomForestClassifiers and ExtraTreesClassifiers.\n",
            "  warn(\n"
          ]
        },
        {
          "output_type": "stream",
          "name": "stdout",
          "text": [
            "[CV 1/5] END criterion=gini, max_features=auto, min_samples_leaf=4, min_samples_split=6, n_estimators=115;, score=0.675 total time=   0.2s\n",
            "[CV 2/5] END criterion=gini, max_features=auto, min_samples_leaf=4, min_samples_split=6, n_estimators=115;, score=0.740 total time=   0.1s\n"
          ]
        },
        {
          "output_type": "stream",
          "name": "stderr",
          "text": [
            "/usr/local/lib/python3.10/dist-packages/sklearn/ensemble/_forest.py:424: FutureWarning: `max_features='auto'` has been deprecated in 1.1 and will be removed in 1.3. To keep the past behaviour, explicitly set `max_features='sqrt'` or remove this parameter as it is also the default value for RandomForestClassifiers and ExtraTreesClassifiers.\n",
            "  warn(\n",
            "/usr/local/lib/python3.10/dist-packages/sklearn/ensemble/_forest.py:424: FutureWarning: `max_features='auto'` has been deprecated in 1.1 and will be removed in 1.3. To keep the past behaviour, explicitly set `max_features='sqrt'` or remove this parameter as it is also the default value for RandomForestClassifiers and ExtraTreesClassifiers.\n",
            "  warn(\n"
          ]
        },
        {
          "output_type": "stream",
          "name": "stdout",
          "text": [
            "[CV 3/5] END criterion=gini, max_features=auto, min_samples_leaf=4, min_samples_split=6, n_estimators=115;, score=0.805 total time=   0.2s\n",
            "[CV 4/5] END criterion=gini, max_features=auto, min_samples_leaf=4, min_samples_split=6, n_estimators=115;, score=0.701 total time=   0.1s\n"
          ]
        },
        {
          "output_type": "stream",
          "name": "stderr",
          "text": [
            "/usr/local/lib/python3.10/dist-packages/sklearn/ensemble/_forest.py:424: FutureWarning: `max_features='auto'` has been deprecated in 1.1 and will be removed in 1.3. To keep the past behaviour, explicitly set `max_features='sqrt'` or remove this parameter as it is also the default value for RandomForestClassifiers and ExtraTreesClassifiers.\n",
            "  warn(\n",
            "/usr/local/lib/python3.10/dist-packages/sklearn/ensemble/_forest.py:424: FutureWarning: `max_features='auto'` has been deprecated in 1.1 and will be removed in 1.3. To keep the past behaviour, explicitly set `max_features='sqrt'` or remove this parameter as it is also the default value for RandomForestClassifiers and ExtraTreesClassifiers.\n",
            "  warn(\n"
          ]
        },
        {
          "output_type": "stream",
          "name": "stdout",
          "text": [
            "[CV 5/5] END criterion=gini, max_features=auto, min_samples_leaf=4, min_samples_split=6, n_estimators=115;, score=0.789 total time=   0.2s\n",
            "[CV 1/5] END criterion=gini, max_features=auto, min_samples_leaf=4, min_samples_split=7, n_estimators=90;, score=0.675 total time=   0.1s\n"
          ]
        },
        {
          "output_type": "stream",
          "name": "stderr",
          "text": [
            "/usr/local/lib/python3.10/dist-packages/sklearn/ensemble/_forest.py:424: FutureWarning: `max_features='auto'` has been deprecated in 1.1 and will be removed in 1.3. To keep the past behaviour, explicitly set `max_features='sqrt'` or remove this parameter as it is also the default value for RandomForestClassifiers and ExtraTreesClassifiers.\n",
            "  warn(\n",
            "/usr/local/lib/python3.10/dist-packages/sklearn/ensemble/_forest.py:424: FutureWarning: `max_features='auto'` has been deprecated in 1.1 and will be removed in 1.3. To keep the past behaviour, explicitly set `max_features='sqrt'` or remove this parameter as it is also the default value for RandomForestClassifiers and ExtraTreesClassifiers.\n",
            "  warn(\n"
          ]
        },
        {
          "output_type": "stream",
          "name": "stdout",
          "text": [
            "[CV 2/5] END criterion=gini, max_features=auto, min_samples_leaf=4, min_samples_split=7, n_estimators=90;, score=0.740 total time=   0.1s\n",
            "[CV 3/5] END criterion=gini, max_features=auto, min_samples_leaf=4, min_samples_split=7, n_estimators=90;, score=0.805 total time=   0.1s\n"
          ]
        },
        {
          "output_type": "stream",
          "name": "stderr",
          "text": [
            "/usr/local/lib/python3.10/dist-packages/sklearn/ensemble/_forest.py:424: FutureWarning: `max_features='auto'` has been deprecated in 1.1 and will be removed in 1.3. To keep the past behaviour, explicitly set `max_features='sqrt'` or remove this parameter as it is also the default value for RandomForestClassifiers and ExtraTreesClassifiers.\n",
            "  warn(\n",
            "/usr/local/lib/python3.10/dist-packages/sklearn/ensemble/_forest.py:424: FutureWarning: `max_features='auto'` has been deprecated in 1.1 and will be removed in 1.3. To keep the past behaviour, explicitly set `max_features='sqrt'` or remove this parameter as it is also the default value for RandomForestClassifiers and ExtraTreesClassifiers.\n",
            "  warn(\n"
          ]
        },
        {
          "output_type": "stream",
          "name": "stdout",
          "text": [
            "[CV 4/5] END criterion=gini, max_features=auto, min_samples_leaf=4, min_samples_split=7, n_estimators=90;, score=0.701 total time=   0.1s\n",
            "[CV 5/5] END criterion=gini, max_features=auto, min_samples_leaf=4, min_samples_split=7, n_estimators=90;, score=0.789 total time=   0.1s\n"
          ]
        },
        {
          "output_type": "stream",
          "name": "stderr",
          "text": [
            "/usr/local/lib/python3.10/dist-packages/sklearn/ensemble/_forest.py:424: FutureWarning: `max_features='auto'` has been deprecated in 1.1 and will be removed in 1.3. To keep the past behaviour, explicitly set `max_features='sqrt'` or remove this parameter as it is also the default value for RandomForestClassifiers and ExtraTreesClassifiers.\n",
            "  warn(\n",
            "/usr/local/lib/python3.10/dist-packages/sklearn/ensemble/_forest.py:424: FutureWarning: `max_features='auto'` has been deprecated in 1.1 and will be removed in 1.3. To keep the past behaviour, explicitly set `max_features='sqrt'` or remove this parameter as it is also the default value for RandomForestClassifiers and ExtraTreesClassifiers.\n",
            "  warn(\n"
          ]
        },
        {
          "output_type": "stream",
          "name": "stdout",
          "text": [
            "[CV 1/5] END criterion=gini, max_features=auto, min_samples_leaf=4, min_samples_split=7, n_estimators=100;, score=0.675 total time=   0.1s\n",
            "[CV 2/5] END criterion=gini, max_features=auto, min_samples_leaf=4, min_samples_split=7, n_estimators=100;, score=0.740 total time=   0.1s\n"
          ]
        },
        {
          "output_type": "stream",
          "name": "stderr",
          "text": [
            "/usr/local/lib/python3.10/dist-packages/sklearn/ensemble/_forest.py:424: FutureWarning: `max_features='auto'` has been deprecated in 1.1 and will be removed in 1.3. To keep the past behaviour, explicitly set `max_features='sqrt'` or remove this parameter as it is also the default value for RandomForestClassifiers and ExtraTreesClassifiers.\n",
            "  warn(\n",
            "/usr/local/lib/python3.10/dist-packages/sklearn/ensemble/_forest.py:424: FutureWarning: `max_features='auto'` has been deprecated in 1.1 and will be removed in 1.3. To keep the past behaviour, explicitly set `max_features='sqrt'` or remove this parameter as it is also the default value for RandomForestClassifiers and ExtraTreesClassifiers.\n",
            "  warn(\n"
          ]
        },
        {
          "output_type": "stream",
          "name": "stdout",
          "text": [
            "[CV 3/5] END criterion=gini, max_features=auto, min_samples_leaf=4, min_samples_split=7, n_estimators=100;, score=0.805 total time=   0.1s\n",
            "[CV 4/5] END criterion=gini, max_features=auto, min_samples_leaf=4, min_samples_split=7, n_estimators=100;, score=0.701 total time=   0.1s\n"
          ]
        },
        {
          "output_type": "stream",
          "name": "stderr",
          "text": [
            "/usr/local/lib/python3.10/dist-packages/sklearn/ensemble/_forest.py:424: FutureWarning: `max_features='auto'` has been deprecated in 1.1 and will be removed in 1.3. To keep the past behaviour, explicitly set `max_features='sqrt'` or remove this parameter as it is also the default value for RandomForestClassifiers and ExtraTreesClassifiers.\n",
            "  warn(\n",
            "/usr/local/lib/python3.10/dist-packages/sklearn/ensemble/_forest.py:424: FutureWarning: `max_features='auto'` has been deprecated in 1.1 and will be removed in 1.3. To keep the past behaviour, explicitly set `max_features='sqrt'` or remove this parameter as it is also the default value for RandomForestClassifiers and ExtraTreesClassifiers.\n",
            "  warn(\n"
          ]
        },
        {
          "output_type": "stream",
          "name": "stdout",
          "text": [
            "[CV 5/5] END criterion=gini, max_features=auto, min_samples_leaf=4, min_samples_split=7, n_estimators=100;, score=0.789 total time=   0.2s\n",
            "[CV 1/5] END criterion=gini, max_features=auto, min_samples_leaf=4, min_samples_split=7, n_estimators=115;, score=0.675 total time=   0.1s\n"
          ]
        },
        {
          "output_type": "stream",
          "name": "stderr",
          "text": [
            "/usr/local/lib/python3.10/dist-packages/sklearn/ensemble/_forest.py:424: FutureWarning: `max_features='auto'` has been deprecated in 1.1 and will be removed in 1.3. To keep the past behaviour, explicitly set `max_features='sqrt'` or remove this parameter as it is also the default value for RandomForestClassifiers and ExtraTreesClassifiers.\n",
            "  warn(\n",
            "/usr/local/lib/python3.10/dist-packages/sklearn/ensemble/_forest.py:424: FutureWarning: `max_features='auto'` has been deprecated in 1.1 and will be removed in 1.3. To keep the past behaviour, explicitly set `max_features='sqrt'` or remove this parameter as it is also the default value for RandomForestClassifiers and ExtraTreesClassifiers.\n",
            "  warn(\n"
          ]
        },
        {
          "output_type": "stream",
          "name": "stdout",
          "text": [
            "[CV 2/5] END criterion=gini, max_features=auto, min_samples_leaf=4, min_samples_split=7, n_estimators=115;, score=0.740 total time=   0.2s\n",
            "[CV 3/5] END criterion=gini, max_features=auto, min_samples_leaf=4, min_samples_split=7, n_estimators=115;, score=0.805 total time=   0.1s\n"
          ]
        },
        {
          "output_type": "stream",
          "name": "stderr",
          "text": [
            "/usr/local/lib/python3.10/dist-packages/sklearn/ensemble/_forest.py:424: FutureWarning: `max_features='auto'` has been deprecated in 1.1 and will be removed in 1.3. To keep the past behaviour, explicitly set `max_features='sqrt'` or remove this parameter as it is also the default value for RandomForestClassifiers and ExtraTreesClassifiers.\n",
            "  warn(\n",
            "/usr/local/lib/python3.10/dist-packages/sklearn/ensemble/_forest.py:424: FutureWarning: `max_features='auto'` has been deprecated in 1.1 and will be removed in 1.3. To keep the past behaviour, explicitly set `max_features='sqrt'` or remove this parameter as it is also the default value for RandomForestClassifiers and ExtraTreesClassifiers.\n",
            "  warn(\n"
          ]
        },
        {
          "output_type": "stream",
          "name": "stdout",
          "text": [
            "[CV 4/5] END criterion=gini, max_features=auto, min_samples_leaf=4, min_samples_split=7, n_estimators=115;, score=0.701 total time=   0.2s\n",
            "[CV 5/5] END criterion=gini, max_features=auto, min_samples_leaf=4, min_samples_split=7, n_estimators=115;, score=0.789 total time=   0.2s\n"
          ]
        },
        {
          "output_type": "stream",
          "name": "stderr",
          "text": [
            "/usr/local/lib/python3.10/dist-packages/sklearn/ensemble/_forest.py:424: FutureWarning: `max_features='auto'` has been deprecated in 1.1 and will be removed in 1.3. To keep the past behaviour, explicitly set `max_features='sqrt'` or remove this parameter as it is also the default value for RandomForestClassifiers and ExtraTreesClassifiers.\n",
            "  warn(\n",
            "/usr/local/lib/python3.10/dist-packages/sklearn/ensemble/_forest.py:424: FutureWarning: `max_features='auto'` has been deprecated in 1.1 and will be removed in 1.3. To keep the past behaviour, explicitly set `max_features='sqrt'` or remove this parameter as it is also the default value for RandomForestClassifiers and ExtraTreesClassifiers.\n",
            "  warn(\n"
          ]
        },
        {
          "output_type": "stream",
          "name": "stdout",
          "text": [
            "[CV 1/5] END criterion=gini, max_features=auto, min_samples_leaf=4, min_samples_split=8, n_estimators=90;, score=0.675 total time=   0.2s\n",
            "[CV 2/5] END criterion=gini, max_features=auto, min_samples_leaf=4, min_samples_split=8, n_estimators=90;, score=0.740 total time=   0.2s\n"
          ]
        },
        {
          "output_type": "stream",
          "name": "stderr",
          "text": [
            "/usr/local/lib/python3.10/dist-packages/sklearn/ensemble/_forest.py:424: FutureWarning: `max_features='auto'` has been deprecated in 1.1 and will be removed in 1.3. To keep the past behaviour, explicitly set `max_features='sqrt'` or remove this parameter as it is also the default value for RandomForestClassifiers and ExtraTreesClassifiers.\n",
            "  warn(\n",
            "/usr/local/lib/python3.10/dist-packages/sklearn/ensemble/_forest.py:424: FutureWarning: `max_features='auto'` has been deprecated in 1.1 and will be removed in 1.3. To keep the past behaviour, explicitly set `max_features='sqrt'` or remove this parameter as it is also the default value for RandomForestClassifiers and ExtraTreesClassifiers.\n",
            "  warn(\n"
          ]
        },
        {
          "output_type": "stream",
          "name": "stdout",
          "text": [
            "[CV 3/5] END criterion=gini, max_features=auto, min_samples_leaf=4, min_samples_split=8, n_estimators=90;, score=0.805 total time=   0.2s\n",
            "[CV 4/5] END criterion=gini, max_features=auto, min_samples_leaf=4, min_samples_split=8, n_estimators=90;, score=0.701 total time=   0.2s\n"
          ]
        },
        {
          "output_type": "stream",
          "name": "stderr",
          "text": [
            "/usr/local/lib/python3.10/dist-packages/sklearn/ensemble/_forest.py:424: FutureWarning: `max_features='auto'` has been deprecated in 1.1 and will be removed in 1.3. To keep the past behaviour, explicitly set `max_features='sqrt'` or remove this parameter as it is also the default value for RandomForestClassifiers and ExtraTreesClassifiers.\n",
            "  warn(\n",
            "/usr/local/lib/python3.10/dist-packages/sklearn/ensemble/_forest.py:424: FutureWarning: `max_features='auto'` has been deprecated in 1.1 and will be removed in 1.3. To keep the past behaviour, explicitly set `max_features='sqrt'` or remove this parameter as it is also the default value for RandomForestClassifiers and ExtraTreesClassifiers.\n",
            "  warn(\n"
          ]
        },
        {
          "output_type": "stream",
          "name": "stdout",
          "text": [
            "[CV 5/5] END criterion=gini, max_features=auto, min_samples_leaf=4, min_samples_split=8, n_estimators=90;, score=0.789 total time=   0.2s\n"
          ]
        },
        {
          "output_type": "stream",
          "name": "stderr",
          "text": [
            "/usr/local/lib/python3.10/dist-packages/sklearn/ensemble/_forest.py:424: FutureWarning: `max_features='auto'` has been deprecated in 1.1 and will be removed in 1.3. To keep the past behaviour, explicitly set `max_features='sqrt'` or remove this parameter as it is also the default value for RandomForestClassifiers and ExtraTreesClassifiers.\n",
            "  warn(\n"
          ]
        },
        {
          "output_type": "stream",
          "name": "stdout",
          "text": [
            "[CV 1/5] END criterion=gini, max_features=auto, min_samples_leaf=4, min_samples_split=8, n_estimators=100;, score=0.675 total time=   0.2s\n"
          ]
        },
        {
          "output_type": "stream",
          "name": "stderr",
          "text": [
            "/usr/local/lib/python3.10/dist-packages/sklearn/ensemble/_forest.py:424: FutureWarning: `max_features='auto'` has been deprecated in 1.1 and will be removed in 1.3. To keep the past behaviour, explicitly set `max_features='sqrt'` or remove this parameter as it is also the default value for RandomForestClassifiers and ExtraTreesClassifiers.\n",
            "  warn(\n",
            "/usr/local/lib/python3.10/dist-packages/sklearn/ensemble/_forest.py:424: FutureWarning: `max_features='auto'` has been deprecated in 1.1 and will be removed in 1.3. To keep the past behaviour, explicitly set `max_features='sqrt'` or remove this parameter as it is also the default value for RandomForestClassifiers and ExtraTreesClassifiers.\n",
            "  warn(\n"
          ]
        },
        {
          "output_type": "stream",
          "name": "stdout",
          "text": [
            "[CV 2/5] END criterion=gini, max_features=auto, min_samples_leaf=4, min_samples_split=8, n_estimators=100;, score=0.740 total time=   0.2s\n",
            "[CV 3/5] END criterion=gini, max_features=auto, min_samples_leaf=4, min_samples_split=8, n_estimators=100;, score=0.805 total time=   0.2s\n",
            "[CV 4/5] END criterion=gini, max_features=auto, min_samples_leaf=4, min_samples_split=8, n_estimators=100;, score=0.701 total time=   0.2s\n"
          ]
        },
        {
          "output_type": "stream",
          "name": "stderr",
          "text": [
            "/usr/local/lib/python3.10/dist-packages/sklearn/ensemble/_forest.py:424: FutureWarning: `max_features='auto'` has been deprecated in 1.1 and will be removed in 1.3. To keep the past behaviour, explicitly set `max_features='sqrt'` or remove this parameter as it is also the default value for RandomForestClassifiers and ExtraTreesClassifiers.\n",
            "  warn(\n",
            "/usr/local/lib/python3.10/dist-packages/sklearn/ensemble/_forest.py:424: FutureWarning: `max_features='auto'` has been deprecated in 1.1 and will be removed in 1.3. To keep the past behaviour, explicitly set `max_features='sqrt'` or remove this parameter as it is also the default value for RandomForestClassifiers and ExtraTreesClassifiers.\n",
            "  warn(\n"
          ]
        },
        {
          "output_type": "stream",
          "name": "stdout",
          "text": [
            "[CV 5/5] END criterion=gini, max_features=auto, min_samples_leaf=4, min_samples_split=8, n_estimators=100;, score=0.789 total time=   0.2s\n"
          ]
        },
        {
          "output_type": "stream",
          "name": "stderr",
          "text": [
            "/usr/local/lib/python3.10/dist-packages/sklearn/ensemble/_forest.py:424: FutureWarning: `max_features='auto'` has been deprecated in 1.1 and will be removed in 1.3. To keep the past behaviour, explicitly set `max_features='sqrt'` or remove this parameter as it is also the default value for RandomForestClassifiers and ExtraTreesClassifiers.\n",
            "  warn(\n"
          ]
        },
        {
          "output_type": "stream",
          "name": "stdout",
          "text": [
            "[CV 1/5] END criterion=gini, max_features=auto, min_samples_leaf=4, min_samples_split=8, n_estimators=115;, score=0.675 total time=   0.3s\n"
          ]
        },
        {
          "output_type": "stream",
          "name": "stderr",
          "text": [
            "/usr/local/lib/python3.10/dist-packages/sklearn/ensemble/_forest.py:424: FutureWarning: `max_features='auto'` has been deprecated in 1.1 and will be removed in 1.3. To keep the past behaviour, explicitly set `max_features='sqrt'` or remove this parameter as it is also the default value for RandomForestClassifiers and ExtraTreesClassifiers.\n",
            "  warn(\n"
          ]
        },
        {
          "output_type": "stream",
          "name": "stdout",
          "text": [
            "[CV 2/5] END criterion=gini, max_features=auto, min_samples_leaf=4, min_samples_split=8, n_estimators=115;, score=0.740 total time=   0.3s\n"
          ]
        },
        {
          "output_type": "stream",
          "name": "stderr",
          "text": [
            "/usr/local/lib/python3.10/dist-packages/sklearn/ensemble/_forest.py:424: FutureWarning: `max_features='auto'` has been deprecated in 1.1 and will be removed in 1.3. To keep the past behaviour, explicitly set `max_features='sqrt'` or remove this parameter as it is also the default value for RandomForestClassifiers and ExtraTreesClassifiers.\n",
            "  warn(\n"
          ]
        },
        {
          "output_type": "stream",
          "name": "stdout",
          "text": [
            "[CV 3/5] END criterion=gini, max_features=auto, min_samples_leaf=4, min_samples_split=8, n_estimators=115;, score=0.805 total time=   0.3s\n"
          ]
        },
        {
          "output_type": "stream",
          "name": "stderr",
          "text": [
            "/usr/local/lib/python3.10/dist-packages/sklearn/ensemble/_forest.py:424: FutureWarning: `max_features='auto'` has been deprecated in 1.1 and will be removed in 1.3. To keep the past behaviour, explicitly set `max_features='sqrt'` or remove this parameter as it is also the default value for RandomForestClassifiers and ExtraTreesClassifiers.\n",
            "  warn(\n"
          ]
        },
        {
          "output_type": "stream",
          "name": "stdout",
          "text": [
            "[CV 4/5] END criterion=gini, max_features=auto, min_samples_leaf=4, min_samples_split=8, n_estimators=115;, score=0.701 total time=   0.2s\n",
            "[CV 5/5] END criterion=gini, max_features=auto, min_samples_leaf=4, min_samples_split=8, n_estimators=115;, score=0.789 total time=   0.2s\n"
          ]
        },
        {
          "output_type": "stream",
          "name": "stderr",
          "text": [
            "/usr/local/lib/python3.10/dist-packages/sklearn/ensemble/_forest.py:424: FutureWarning: `max_features='auto'` has been deprecated in 1.1 and will be removed in 1.3. To keep the past behaviour, explicitly set `max_features='sqrt'` or remove this parameter as it is also the default value for RandomForestClassifiers and ExtraTreesClassifiers.\n",
            "  warn(\n",
            "/usr/local/lib/python3.10/dist-packages/sklearn/ensemble/_forest.py:424: FutureWarning: `max_features='auto'` has been deprecated in 1.1 and will be removed in 1.3. To keep the past behaviour, explicitly set `max_features='sqrt'` or remove this parameter as it is also the default value for RandomForestClassifiers and ExtraTreesClassifiers.\n",
            "  warn(\n"
          ]
        },
        {
          "output_type": "stream",
          "name": "stdout",
          "text": [
            "[CV 1/5] END criterion=gini, max_features=auto, min_samples_leaf=5, min_samples_split=4, n_estimators=90;, score=0.675 total time=   0.1s\n",
            "[CV 2/5] END criterion=gini, max_features=auto, min_samples_leaf=5, min_samples_split=4, n_estimators=90;, score=0.740 total time=   0.1s\n"
          ]
        },
        {
          "output_type": "stream",
          "name": "stderr",
          "text": [
            "/usr/local/lib/python3.10/dist-packages/sklearn/ensemble/_forest.py:424: FutureWarning: `max_features='auto'` has been deprecated in 1.1 and will be removed in 1.3. To keep the past behaviour, explicitly set `max_features='sqrt'` or remove this parameter as it is also the default value for RandomForestClassifiers and ExtraTreesClassifiers.\n",
            "  warn(\n",
            "/usr/local/lib/python3.10/dist-packages/sklearn/ensemble/_forest.py:424: FutureWarning: `max_features='auto'` has been deprecated in 1.1 and will be removed in 1.3. To keep the past behaviour, explicitly set `max_features='sqrt'` or remove this parameter as it is also the default value for RandomForestClassifiers and ExtraTreesClassifiers.\n",
            "  warn(\n"
          ]
        },
        {
          "output_type": "stream",
          "name": "stdout",
          "text": [
            "[CV 3/5] END criterion=gini, max_features=auto, min_samples_leaf=5, min_samples_split=4, n_estimators=90;, score=0.805 total time=   0.1s\n",
            "[CV 4/5] END criterion=gini, max_features=auto, min_samples_leaf=5, min_samples_split=4, n_estimators=90;, score=0.701 total time=   0.1s\n"
          ]
        },
        {
          "output_type": "stream",
          "name": "stderr",
          "text": [
            "/usr/local/lib/python3.10/dist-packages/sklearn/ensemble/_forest.py:424: FutureWarning: `max_features='auto'` has been deprecated in 1.1 and will be removed in 1.3. To keep the past behaviour, explicitly set `max_features='sqrt'` or remove this parameter as it is also the default value for RandomForestClassifiers and ExtraTreesClassifiers.\n",
            "  warn(\n",
            "/usr/local/lib/python3.10/dist-packages/sklearn/ensemble/_forest.py:424: FutureWarning: `max_features='auto'` has been deprecated in 1.1 and will be removed in 1.3. To keep the past behaviour, explicitly set `max_features='sqrt'` or remove this parameter as it is also the default value for RandomForestClassifiers and ExtraTreesClassifiers.\n",
            "  warn(\n"
          ]
        },
        {
          "output_type": "stream",
          "name": "stdout",
          "text": [
            "[CV 5/5] END criterion=gini, max_features=auto, min_samples_leaf=5, min_samples_split=4, n_estimators=90;, score=0.789 total time=   0.1s\n",
            "[CV 1/5] END criterion=gini, max_features=auto, min_samples_leaf=5, min_samples_split=4, n_estimators=100;, score=0.675 total time=   0.1s\n"
          ]
        },
        {
          "output_type": "stream",
          "name": "stderr",
          "text": [
            "/usr/local/lib/python3.10/dist-packages/sklearn/ensemble/_forest.py:424: FutureWarning: `max_features='auto'` has been deprecated in 1.1 and will be removed in 1.3. To keep the past behaviour, explicitly set `max_features='sqrt'` or remove this parameter as it is also the default value for RandomForestClassifiers and ExtraTreesClassifiers.\n",
            "  warn(\n",
            "/usr/local/lib/python3.10/dist-packages/sklearn/ensemble/_forest.py:424: FutureWarning: `max_features='auto'` has been deprecated in 1.1 and will be removed in 1.3. To keep the past behaviour, explicitly set `max_features='sqrt'` or remove this parameter as it is also the default value for RandomForestClassifiers and ExtraTreesClassifiers.\n",
            "  warn(\n"
          ]
        },
        {
          "output_type": "stream",
          "name": "stdout",
          "text": [
            "[CV 2/5] END criterion=gini, max_features=auto, min_samples_leaf=5, min_samples_split=4, n_estimators=100;, score=0.740 total time=   0.2s\n",
            "[CV 3/5] END criterion=gini, max_features=auto, min_samples_leaf=5, min_samples_split=4, n_estimators=100;, score=0.805 total time=   0.1s\n"
          ]
        },
        {
          "output_type": "stream",
          "name": "stderr",
          "text": [
            "/usr/local/lib/python3.10/dist-packages/sklearn/ensemble/_forest.py:424: FutureWarning: `max_features='auto'` has been deprecated in 1.1 and will be removed in 1.3. To keep the past behaviour, explicitly set `max_features='sqrt'` or remove this parameter as it is also the default value for RandomForestClassifiers and ExtraTreesClassifiers.\n",
            "  warn(\n",
            "/usr/local/lib/python3.10/dist-packages/sklearn/ensemble/_forest.py:424: FutureWarning: `max_features='auto'` has been deprecated in 1.1 and will be removed in 1.3. To keep the past behaviour, explicitly set `max_features='sqrt'` or remove this parameter as it is also the default value for RandomForestClassifiers and ExtraTreesClassifiers.\n",
            "  warn(\n"
          ]
        },
        {
          "output_type": "stream",
          "name": "stdout",
          "text": [
            "[CV 4/5] END criterion=gini, max_features=auto, min_samples_leaf=5, min_samples_split=4, n_estimators=100;, score=0.701 total time=   0.1s\n",
            "[CV 5/5] END criterion=gini, max_features=auto, min_samples_leaf=5, min_samples_split=4, n_estimators=100;, score=0.789 total time=   0.1s\n"
          ]
        },
        {
          "output_type": "stream",
          "name": "stderr",
          "text": [
            "/usr/local/lib/python3.10/dist-packages/sklearn/ensemble/_forest.py:424: FutureWarning: `max_features='auto'` has been deprecated in 1.1 and will be removed in 1.3. To keep the past behaviour, explicitly set `max_features='sqrt'` or remove this parameter as it is also the default value for RandomForestClassifiers and ExtraTreesClassifiers.\n",
            "  warn(\n",
            "/usr/local/lib/python3.10/dist-packages/sklearn/ensemble/_forest.py:424: FutureWarning: `max_features='auto'` has been deprecated in 1.1 and will be removed in 1.3. To keep the past behaviour, explicitly set `max_features='sqrt'` or remove this parameter as it is also the default value for RandomForestClassifiers and ExtraTreesClassifiers.\n",
            "  warn(\n"
          ]
        },
        {
          "output_type": "stream",
          "name": "stdout",
          "text": [
            "[CV 1/5] END criterion=gini, max_features=auto, min_samples_leaf=5, min_samples_split=4, n_estimators=115;, score=0.675 total time=   0.2s\n",
            "[CV 2/5] END criterion=gini, max_features=auto, min_samples_leaf=5, min_samples_split=4, n_estimators=115;, score=0.740 total time=   0.1s\n"
          ]
        },
        {
          "output_type": "stream",
          "name": "stderr",
          "text": [
            "/usr/local/lib/python3.10/dist-packages/sklearn/ensemble/_forest.py:424: FutureWarning: `max_features='auto'` has been deprecated in 1.1 and will be removed in 1.3. To keep the past behaviour, explicitly set `max_features='sqrt'` or remove this parameter as it is also the default value for RandomForestClassifiers and ExtraTreesClassifiers.\n",
            "  warn(\n",
            "/usr/local/lib/python3.10/dist-packages/sklearn/ensemble/_forest.py:424: FutureWarning: `max_features='auto'` has been deprecated in 1.1 and will be removed in 1.3. To keep the past behaviour, explicitly set `max_features='sqrt'` or remove this parameter as it is also the default value for RandomForestClassifiers and ExtraTreesClassifiers.\n",
            "  warn(\n"
          ]
        },
        {
          "output_type": "stream",
          "name": "stdout",
          "text": [
            "[CV 3/5] END criterion=gini, max_features=auto, min_samples_leaf=5, min_samples_split=4, n_estimators=115;, score=0.805 total time=   0.2s\n",
            "[CV 4/5] END criterion=gini, max_features=auto, min_samples_leaf=5, min_samples_split=4, n_estimators=115;, score=0.701 total time=   0.2s\n"
          ]
        },
        {
          "output_type": "stream",
          "name": "stderr",
          "text": [
            "/usr/local/lib/python3.10/dist-packages/sklearn/ensemble/_forest.py:424: FutureWarning: `max_features='auto'` has been deprecated in 1.1 and will be removed in 1.3. To keep the past behaviour, explicitly set `max_features='sqrt'` or remove this parameter as it is also the default value for RandomForestClassifiers and ExtraTreesClassifiers.\n",
            "  warn(\n",
            "/usr/local/lib/python3.10/dist-packages/sklearn/ensemble/_forest.py:424: FutureWarning: `max_features='auto'` has been deprecated in 1.1 and will be removed in 1.3. To keep the past behaviour, explicitly set `max_features='sqrt'` or remove this parameter as it is also the default value for RandomForestClassifiers and ExtraTreesClassifiers.\n",
            "  warn(\n"
          ]
        },
        {
          "output_type": "stream",
          "name": "stdout",
          "text": [
            "[CV 5/5] END criterion=gini, max_features=auto, min_samples_leaf=5, min_samples_split=4, n_estimators=115;, score=0.789 total time=   0.2s\n",
            "[CV 1/5] END criterion=gini, max_features=auto, min_samples_leaf=5, min_samples_split=5, n_estimators=90;, score=0.675 total time=   0.1s\n"
          ]
        },
        {
          "output_type": "stream",
          "name": "stderr",
          "text": [
            "/usr/local/lib/python3.10/dist-packages/sklearn/ensemble/_forest.py:424: FutureWarning: `max_features='auto'` has been deprecated in 1.1 and will be removed in 1.3. To keep the past behaviour, explicitly set `max_features='sqrt'` or remove this parameter as it is also the default value for RandomForestClassifiers and ExtraTreesClassifiers.\n",
            "  warn(\n",
            "/usr/local/lib/python3.10/dist-packages/sklearn/ensemble/_forest.py:424: FutureWarning: `max_features='auto'` has been deprecated in 1.1 and will be removed in 1.3. To keep the past behaviour, explicitly set `max_features='sqrt'` or remove this parameter as it is also the default value for RandomForestClassifiers and ExtraTreesClassifiers.\n",
            "  warn(\n"
          ]
        },
        {
          "output_type": "stream",
          "name": "stdout",
          "text": [
            "[CV 2/5] END criterion=gini, max_features=auto, min_samples_leaf=5, min_samples_split=5, n_estimators=90;, score=0.740 total time=   0.1s\n",
            "[CV 3/5] END criterion=gini, max_features=auto, min_samples_leaf=5, min_samples_split=5, n_estimators=90;, score=0.805 total time=   0.1s\n"
          ]
        },
        {
          "output_type": "stream",
          "name": "stderr",
          "text": [
            "/usr/local/lib/python3.10/dist-packages/sklearn/ensemble/_forest.py:424: FutureWarning: `max_features='auto'` has been deprecated in 1.1 and will be removed in 1.3. To keep the past behaviour, explicitly set `max_features='sqrt'` or remove this parameter as it is also the default value for RandomForestClassifiers and ExtraTreesClassifiers.\n",
            "  warn(\n",
            "/usr/local/lib/python3.10/dist-packages/sklearn/ensemble/_forest.py:424: FutureWarning: `max_features='auto'` has been deprecated in 1.1 and will be removed in 1.3. To keep the past behaviour, explicitly set `max_features='sqrt'` or remove this parameter as it is also the default value for RandomForestClassifiers and ExtraTreesClassifiers.\n",
            "  warn(\n"
          ]
        },
        {
          "output_type": "stream",
          "name": "stdout",
          "text": [
            "[CV 4/5] END criterion=gini, max_features=auto, min_samples_leaf=5, min_samples_split=5, n_estimators=90;, score=0.701 total time=   0.1s\n",
            "[CV 5/5] END criterion=gini, max_features=auto, min_samples_leaf=5, min_samples_split=5, n_estimators=90;, score=0.789 total time=   0.1s\n"
          ]
        },
        {
          "output_type": "stream",
          "name": "stderr",
          "text": [
            "/usr/local/lib/python3.10/dist-packages/sklearn/ensemble/_forest.py:424: FutureWarning: `max_features='auto'` has been deprecated in 1.1 and will be removed in 1.3. To keep the past behaviour, explicitly set `max_features='sqrt'` or remove this parameter as it is also the default value for RandomForestClassifiers and ExtraTreesClassifiers.\n",
            "  warn(\n",
            "/usr/local/lib/python3.10/dist-packages/sklearn/ensemble/_forest.py:424: FutureWarning: `max_features='auto'` has been deprecated in 1.1 and will be removed in 1.3. To keep the past behaviour, explicitly set `max_features='sqrt'` or remove this parameter as it is also the default value for RandomForestClassifiers and ExtraTreesClassifiers.\n",
            "  warn(\n"
          ]
        },
        {
          "output_type": "stream",
          "name": "stdout",
          "text": [
            "[CV 1/5] END criterion=gini, max_features=auto, min_samples_leaf=5, min_samples_split=5, n_estimators=100;, score=0.675 total time=   0.1s\n",
            "[CV 2/5] END criterion=gini, max_features=auto, min_samples_leaf=5, min_samples_split=5, n_estimators=100;, score=0.740 total time=   0.1s\n"
          ]
        },
        {
          "output_type": "stream",
          "name": "stderr",
          "text": [
            "/usr/local/lib/python3.10/dist-packages/sklearn/ensemble/_forest.py:424: FutureWarning: `max_features='auto'` has been deprecated in 1.1 and will be removed in 1.3. To keep the past behaviour, explicitly set `max_features='sqrt'` or remove this parameter as it is also the default value for RandomForestClassifiers and ExtraTreesClassifiers.\n",
            "  warn(\n",
            "/usr/local/lib/python3.10/dist-packages/sklearn/ensemble/_forest.py:424: FutureWarning: `max_features='auto'` has been deprecated in 1.1 and will be removed in 1.3. To keep the past behaviour, explicitly set `max_features='sqrt'` or remove this parameter as it is also the default value for RandomForestClassifiers and ExtraTreesClassifiers.\n",
            "  warn(\n"
          ]
        },
        {
          "output_type": "stream",
          "name": "stdout",
          "text": [
            "[CV 3/5] END criterion=gini, max_features=auto, min_samples_leaf=5, min_samples_split=5, n_estimators=100;, score=0.805 total time=   0.4s\n"
          ]
        },
        {
          "output_type": "stream",
          "name": "stderr",
          "text": [
            "/usr/local/lib/python3.10/dist-packages/sklearn/ensemble/_forest.py:424: FutureWarning: `max_features='auto'` has been deprecated in 1.1 and will be removed in 1.3. To keep the past behaviour, explicitly set `max_features='sqrt'` or remove this parameter as it is also the default value for RandomForestClassifiers and ExtraTreesClassifiers.\n",
            "  warn(\n"
          ]
        },
        {
          "output_type": "stream",
          "name": "stdout",
          "text": [
            "[CV 4/5] END criterion=gini, max_features=auto, min_samples_leaf=5, min_samples_split=5, n_estimators=100;, score=0.701 total time=   0.2s\n",
            "[CV 5/5] END criterion=gini, max_features=auto, min_samples_leaf=5, min_samples_split=5, n_estimators=100;, score=0.789 total time=   0.1s\n"
          ]
        },
        {
          "output_type": "stream",
          "name": "stderr",
          "text": [
            "/usr/local/lib/python3.10/dist-packages/sklearn/ensemble/_forest.py:424: FutureWarning: `max_features='auto'` has been deprecated in 1.1 and will be removed in 1.3. To keep the past behaviour, explicitly set `max_features='sqrt'` or remove this parameter as it is also the default value for RandomForestClassifiers and ExtraTreesClassifiers.\n",
            "  warn(\n",
            "/usr/local/lib/python3.10/dist-packages/sklearn/ensemble/_forest.py:424: FutureWarning: `max_features='auto'` has been deprecated in 1.1 and will be removed in 1.3. To keep the past behaviour, explicitly set `max_features='sqrt'` or remove this parameter as it is also the default value for RandomForestClassifiers and ExtraTreesClassifiers.\n",
            "  warn(\n"
          ]
        },
        {
          "output_type": "stream",
          "name": "stdout",
          "text": [
            "[CV 1/5] END criterion=gini, max_features=auto, min_samples_leaf=5, min_samples_split=5, n_estimators=115;, score=0.675 total time=   0.2s\n"
          ]
        },
        {
          "output_type": "stream",
          "name": "stderr",
          "text": [
            "/usr/local/lib/python3.10/dist-packages/sklearn/ensemble/_forest.py:424: FutureWarning: `max_features='auto'` has been deprecated in 1.1 and will be removed in 1.3. To keep the past behaviour, explicitly set `max_features='sqrt'` or remove this parameter as it is also the default value for RandomForestClassifiers and ExtraTreesClassifiers.\n",
            "  warn(\n"
          ]
        },
        {
          "output_type": "stream",
          "name": "stdout",
          "text": [
            "[CV 2/5] END criterion=gini, max_features=auto, min_samples_leaf=5, min_samples_split=5, n_estimators=115;, score=0.740 total time=   0.3s\n"
          ]
        },
        {
          "output_type": "stream",
          "name": "stderr",
          "text": [
            "/usr/local/lib/python3.10/dist-packages/sklearn/ensemble/_forest.py:424: FutureWarning: `max_features='auto'` has been deprecated in 1.1 and will be removed in 1.3. To keep the past behaviour, explicitly set `max_features='sqrt'` or remove this parameter as it is also the default value for RandomForestClassifiers and ExtraTreesClassifiers.\n",
            "  warn(\n"
          ]
        },
        {
          "output_type": "stream",
          "name": "stdout",
          "text": [
            "[CV 3/5] END criterion=gini, max_features=auto, min_samples_leaf=5, min_samples_split=5, n_estimators=115;, score=0.805 total time=   0.4s\n",
            "[CV 4/5] END criterion=gini, max_features=auto, min_samples_leaf=5, min_samples_split=5, n_estimators=115;, score=0.701 total time=   0.1s\n"
          ]
        },
        {
          "output_type": "stream",
          "name": "stderr",
          "text": [
            "/usr/local/lib/python3.10/dist-packages/sklearn/ensemble/_forest.py:424: FutureWarning: `max_features='auto'` has been deprecated in 1.1 and will be removed in 1.3. To keep the past behaviour, explicitly set `max_features='sqrt'` or remove this parameter as it is also the default value for RandomForestClassifiers and ExtraTreesClassifiers.\n",
            "  warn(\n",
            "/usr/local/lib/python3.10/dist-packages/sklearn/ensemble/_forest.py:424: FutureWarning: `max_features='auto'` has been deprecated in 1.1 and will be removed in 1.3. To keep the past behaviour, explicitly set `max_features='sqrt'` or remove this parameter as it is also the default value for RandomForestClassifiers and ExtraTreesClassifiers.\n",
            "  warn(\n"
          ]
        },
        {
          "output_type": "stream",
          "name": "stdout",
          "text": [
            "[CV 5/5] END criterion=gini, max_features=auto, min_samples_leaf=5, min_samples_split=5, n_estimators=115;, score=0.789 total time=   0.2s\n",
            "[CV 1/5] END criterion=gini, max_features=auto, min_samples_leaf=5, min_samples_split=6, n_estimators=90;, score=0.675 total time=   0.1s\n"
          ]
        },
        {
          "output_type": "stream",
          "name": "stderr",
          "text": [
            "/usr/local/lib/python3.10/dist-packages/sklearn/ensemble/_forest.py:424: FutureWarning: `max_features='auto'` has been deprecated in 1.1 and will be removed in 1.3. To keep the past behaviour, explicitly set `max_features='sqrt'` or remove this parameter as it is also the default value for RandomForestClassifiers and ExtraTreesClassifiers.\n",
            "  warn(\n",
            "/usr/local/lib/python3.10/dist-packages/sklearn/ensemble/_forest.py:424: FutureWarning: `max_features='auto'` has been deprecated in 1.1 and will be removed in 1.3. To keep the past behaviour, explicitly set `max_features='sqrt'` or remove this parameter as it is also the default value for RandomForestClassifiers and ExtraTreesClassifiers.\n",
            "  warn(\n"
          ]
        },
        {
          "output_type": "stream",
          "name": "stdout",
          "text": [
            "[CV 2/5] END criterion=gini, max_features=auto, min_samples_leaf=5, min_samples_split=6, n_estimators=90;, score=0.740 total time=   0.1s\n",
            "[CV 3/5] END criterion=gini, max_features=auto, min_samples_leaf=5, min_samples_split=6, n_estimators=90;, score=0.805 total time=   0.1s\n"
          ]
        },
        {
          "output_type": "stream",
          "name": "stderr",
          "text": [
            "/usr/local/lib/python3.10/dist-packages/sklearn/ensemble/_forest.py:424: FutureWarning: `max_features='auto'` has been deprecated in 1.1 and will be removed in 1.3. To keep the past behaviour, explicitly set `max_features='sqrt'` or remove this parameter as it is also the default value for RandomForestClassifiers and ExtraTreesClassifiers.\n",
            "  warn(\n",
            "/usr/local/lib/python3.10/dist-packages/sklearn/ensemble/_forest.py:424: FutureWarning: `max_features='auto'` has been deprecated in 1.1 and will be removed in 1.3. To keep the past behaviour, explicitly set `max_features='sqrt'` or remove this parameter as it is also the default value for RandomForestClassifiers and ExtraTreesClassifiers.\n",
            "  warn(\n"
          ]
        },
        {
          "output_type": "stream",
          "name": "stdout",
          "text": [
            "[CV 4/5] END criterion=gini, max_features=auto, min_samples_leaf=5, min_samples_split=6, n_estimators=90;, score=0.701 total time=   0.1s\n",
            "[CV 5/5] END criterion=gini, max_features=auto, min_samples_leaf=5, min_samples_split=6, n_estimators=90;, score=0.789 total time=   0.1s\n"
          ]
        },
        {
          "output_type": "stream",
          "name": "stderr",
          "text": [
            "/usr/local/lib/python3.10/dist-packages/sklearn/ensemble/_forest.py:424: FutureWarning: `max_features='auto'` has been deprecated in 1.1 and will be removed in 1.3. To keep the past behaviour, explicitly set `max_features='sqrt'` or remove this parameter as it is also the default value for RandomForestClassifiers and ExtraTreesClassifiers.\n",
            "  warn(\n",
            "/usr/local/lib/python3.10/dist-packages/sklearn/ensemble/_forest.py:424: FutureWarning: `max_features='auto'` has been deprecated in 1.1 and will be removed in 1.3. To keep the past behaviour, explicitly set `max_features='sqrt'` or remove this parameter as it is also the default value for RandomForestClassifiers and ExtraTreesClassifiers.\n",
            "  warn(\n"
          ]
        },
        {
          "output_type": "stream",
          "name": "stdout",
          "text": [
            "[CV 1/5] END criterion=gini, max_features=auto, min_samples_leaf=5, min_samples_split=6, n_estimators=100;, score=0.675 total time=   0.1s\n",
            "[CV 2/5] END criterion=gini, max_features=auto, min_samples_leaf=5, min_samples_split=6, n_estimators=100;, score=0.740 total time=   0.1s\n"
          ]
        },
        {
          "output_type": "stream",
          "name": "stderr",
          "text": [
            "/usr/local/lib/python3.10/dist-packages/sklearn/ensemble/_forest.py:424: FutureWarning: `max_features='auto'` has been deprecated in 1.1 and will be removed in 1.3. To keep the past behaviour, explicitly set `max_features='sqrt'` or remove this parameter as it is also the default value for RandomForestClassifiers and ExtraTreesClassifiers.\n",
            "  warn(\n",
            "/usr/local/lib/python3.10/dist-packages/sklearn/ensemble/_forest.py:424: FutureWarning: `max_features='auto'` has been deprecated in 1.1 and will be removed in 1.3. To keep the past behaviour, explicitly set `max_features='sqrt'` or remove this parameter as it is also the default value for RandomForestClassifiers and ExtraTreesClassifiers.\n",
            "  warn(\n"
          ]
        },
        {
          "output_type": "stream",
          "name": "stdout",
          "text": [
            "[CV 3/5] END criterion=gini, max_features=auto, min_samples_leaf=5, min_samples_split=6, n_estimators=100;, score=0.805 total time=   0.1s\n",
            "[CV 4/5] END criterion=gini, max_features=auto, min_samples_leaf=5, min_samples_split=6, n_estimators=100;, score=0.701 total time=   0.1s\n"
          ]
        },
        {
          "output_type": "stream",
          "name": "stderr",
          "text": [
            "/usr/local/lib/python3.10/dist-packages/sklearn/ensemble/_forest.py:424: FutureWarning: `max_features='auto'` has been deprecated in 1.1 and will be removed in 1.3. To keep the past behaviour, explicitly set `max_features='sqrt'` or remove this parameter as it is also the default value for RandomForestClassifiers and ExtraTreesClassifiers.\n",
            "  warn(\n",
            "/usr/local/lib/python3.10/dist-packages/sklearn/ensemble/_forest.py:424: FutureWarning: `max_features='auto'` has been deprecated in 1.1 and will be removed in 1.3. To keep the past behaviour, explicitly set `max_features='sqrt'` or remove this parameter as it is also the default value for RandomForestClassifiers and ExtraTreesClassifiers.\n",
            "  warn(\n"
          ]
        },
        {
          "output_type": "stream",
          "name": "stdout",
          "text": [
            "[CV 5/5] END criterion=gini, max_features=auto, min_samples_leaf=5, min_samples_split=6, n_estimators=100;, score=0.789 total time=   0.1s\n",
            "[CV 1/5] END criterion=gini, max_features=auto, min_samples_leaf=5, min_samples_split=6, n_estimators=115;, score=0.675 total time=   0.1s\n"
          ]
        },
        {
          "output_type": "stream",
          "name": "stderr",
          "text": [
            "/usr/local/lib/python3.10/dist-packages/sklearn/ensemble/_forest.py:424: FutureWarning: `max_features='auto'` has been deprecated in 1.1 and will be removed in 1.3. To keep the past behaviour, explicitly set `max_features='sqrt'` or remove this parameter as it is also the default value for RandomForestClassifiers and ExtraTreesClassifiers.\n",
            "  warn(\n",
            "/usr/local/lib/python3.10/dist-packages/sklearn/ensemble/_forest.py:424: FutureWarning: `max_features='auto'` has been deprecated in 1.1 and will be removed in 1.3. To keep the past behaviour, explicitly set `max_features='sqrt'` or remove this parameter as it is also the default value for RandomForestClassifiers and ExtraTreesClassifiers.\n",
            "  warn(\n"
          ]
        },
        {
          "output_type": "stream",
          "name": "stdout",
          "text": [
            "[CV 2/5] END criterion=gini, max_features=auto, min_samples_leaf=5, min_samples_split=6, n_estimators=115;, score=0.740 total time=   0.2s\n",
            "[CV 3/5] END criterion=gini, max_features=auto, min_samples_leaf=5, min_samples_split=6, n_estimators=115;, score=0.805 total time=   0.1s\n"
          ]
        },
        {
          "output_type": "stream",
          "name": "stderr",
          "text": [
            "/usr/local/lib/python3.10/dist-packages/sklearn/ensemble/_forest.py:424: FutureWarning: `max_features='auto'` has been deprecated in 1.1 and will be removed in 1.3. To keep the past behaviour, explicitly set `max_features='sqrt'` or remove this parameter as it is also the default value for RandomForestClassifiers and ExtraTreesClassifiers.\n",
            "  warn(\n",
            "/usr/local/lib/python3.10/dist-packages/sklearn/ensemble/_forest.py:424: FutureWarning: `max_features='auto'` has been deprecated in 1.1 and will be removed in 1.3. To keep the past behaviour, explicitly set `max_features='sqrt'` or remove this parameter as it is also the default value for RandomForestClassifiers and ExtraTreesClassifiers.\n",
            "  warn(\n"
          ]
        },
        {
          "output_type": "stream",
          "name": "stdout",
          "text": [
            "[CV 4/5] END criterion=gini, max_features=auto, min_samples_leaf=5, min_samples_split=6, n_estimators=115;, score=0.701 total time=   0.2s\n",
            "[CV 5/5] END criterion=gini, max_features=auto, min_samples_leaf=5, min_samples_split=6, n_estimators=115;, score=0.789 total time=   0.2s\n"
          ]
        },
        {
          "output_type": "stream",
          "name": "stderr",
          "text": [
            "/usr/local/lib/python3.10/dist-packages/sklearn/ensemble/_forest.py:424: FutureWarning: `max_features='auto'` has been deprecated in 1.1 and will be removed in 1.3. To keep the past behaviour, explicitly set `max_features='sqrt'` or remove this parameter as it is also the default value for RandomForestClassifiers and ExtraTreesClassifiers.\n",
            "  warn(\n",
            "/usr/local/lib/python3.10/dist-packages/sklearn/ensemble/_forest.py:424: FutureWarning: `max_features='auto'` has been deprecated in 1.1 and will be removed in 1.3. To keep the past behaviour, explicitly set `max_features='sqrt'` or remove this parameter as it is also the default value for RandomForestClassifiers and ExtraTreesClassifiers.\n",
            "  warn(\n"
          ]
        },
        {
          "output_type": "stream",
          "name": "stdout",
          "text": [
            "[CV 1/5] END criterion=gini, max_features=auto, min_samples_leaf=5, min_samples_split=7, n_estimators=90;, score=0.675 total time=   0.1s\n",
            "[CV 2/5] END criterion=gini, max_features=auto, min_samples_leaf=5, min_samples_split=7, n_estimators=90;, score=0.740 total time=   0.1s\n"
          ]
        },
        {
          "output_type": "stream",
          "name": "stderr",
          "text": [
            "/usr/local/lib/python3.10/dist-packages/sklearn/ensemble/_forest.py:424: FutureWarning: `max_features='auto'` has been deprecated in 1.1 and will be removed in 1.3. To keep the past behaviour, explicitly set `max_features='sqrt'` or remove this parameter as it is also the default value for RandomForestClassifiers and ExtraTreesClassifiers.\n",
            "  warn(\n",
            "/usr/local/lib/python3.10/dist-packages/sklearn/ensemble/_forest.py:424: FutureWarning: `max_features='auto'` has been deprecated in 1.1 and will be removed in 1.3. To keep the past behaviour, explicitly set `max_features='sqrt'` or remove this parameter as it is also the default value for RandomForestClassifiers and ExtraTreesClassifiers.\n",
            "  warn(\n"
          ]
        },
        {
          "output_type": "stream",
          "name": "stdout",
          "text": [
            "[CV 3/5] END criterion=gini, max_features=auto, min_samples_leaf=5, min_samples_split=7, n_estimators=90;, score=0.805 total time=   0.1s\n",
            "[CV 4/5] END criterion=gini, max_features=auto, min_samples_leaf=5, min_samples_split=7, n_estimators=90;, score=0.701 total time=   0.1s\n"
          ]
        },
        {
          "output_type": "stream",
          "name": "stderr",
          "text": [
            "/usr/local/lib/python3.10/dist-packages/sklearn/ensemble/_forest.py:424: FutureWarning: `max_features='auto'` has been deprecated in 1.1 and will be removed in 1.3. To keep the past behaviour, explicitly set `max_features='sqrt'` or remove this parameter as it is also the default value for RandomForestClassifiers and ExtraTreesClassifiers.\n",
            "  warn(\n",
            "/usr/local/lib/python3.10/dist-packages/sklearn/ensemble/_forest.py:424: FutureWarning: `max_features='auto'` has been deprecated in 1.1 and will be removed in 1.3. To keep the past behaviour, explicitly set `max_features='sqrt'` or remove this parameter as it is also the default value for RandomForestClassifiers and ExtraTreesClassifiers.\n",
            "  warn(\n"
          ]
        },
        {
          "output_type": "stream",
          "name": "stdout",
          "text": [
            "[CV 5/5] END criterion=gini, max_features=auto, min_samples_leaf=5, min_samples_split=7, n_estimators=90;, score=0.789 total time=   0.1s\n",
            "[CV 1/5] END criterion=gini, max_features=auto, min_samples_leaf=5, min_samples_split=7, n_estimators=100;, score=0.675 total time=   0.1s\n"
          ]
        },
        {
          "output_type": "stream",
          "name": "stderr",
          "text": [
            "/usr/local/lib/python3.10/dist-packages/sklearn/ensemble/_forest.py:424: FutureWarning: `max_features='auto'` has been deprecated in 1.1 and will be removed in 1.3. To keep the past behaviour, explicitly set `max_features='sqrt'` or remove this parameter as it is also the default value for RandomForestClassifiers and ExtraTreesClassifiers.\n",
            "  warn(\n",
            "/usr/local/lib/python3.10/dist-packages/sklearn/ensemble/_forest.py:424: FutureWarning: `max_features='auto'` has been deprecated in 1.1 and will be removed in 1.3. To keep the past behaviour, explicitly set `max_features='sqrt'` or remove this parameter as it is also the default value for RandomForestClassifiers and ExtraTreesClassifiers.\n",
            "  warn(\n"
          ]
        },
        {
          "output_type": "stream",
          "name": "stdout",
          "text": [
            "[CV 2/5] END criterion=gini, max_features=auto, min_samples_leaf=5, min_samples_split=7, n_estimators=100;, score=0.740 total time=   0.1s\n",
            "[CV 3/5] END criterion=gini, max_features=auto, min_samples_leaf=5, min_samples_split=7, n_estimators=100;, score=0.805 total time=   0.1s\n"
          ]
        },
        {
          "output_type": "stream",
          "name": "stderr",
          "text": [
            "/usr/local/lib/python3.10/dist-packages/sklearn/ensemble/_forest.py:424: FutureWarning: `max_features='auto'` has been deprecated in 1.1 and will be removed in 1.3. To keep the past behaviour, explicitly set `max_features='sqrt'` or remove this parameter as it is also the default value for RandomForestClassifiers and ExtraTreesClassifiers.\n",
            "  warn(\n",
            "/usr/local/lib/python3.10/dist-packages/sklearn/ensemble/_forest.py:424: FutureWarning: `max_features='auto'` has been deprecated in 1.1 and will be removed in 1.3. To keep the past behaviour, explicitly set `max_features='sqrt'` or remove this parameter as it is also the default value for RandomForestClassifiers and ExtraTreesClassifiers.\n",
            "  warn(\n"
          ]
        },
        {
          "output_type": "stream",
          "name": "stdout",
          "text": [
            "[CV 4/5] END criterion=gini, max_features=auto, min_samples_leaf=5, min_samples_split=7, n_estimators=100;, score=0.701 total time=   0.1s\n",
            "[CV 5/5] END criterion=gini, max_features=auto, min_samples_leaf=5, min_samples_split=7, n_estimators=100;, score=0.789 total time=   0.1s\n"
          ]
        },
        {
          "output_type": "stream",
          "name": "stderr",
          "text": [
            "/usr/local/lib/python3.10/dist-packages/sklearn/ensemble/_forest.py:424: FutureWarning: `max_features='auto'` has been deprecated in 1.1 and will be removed in 1.3. To keep the past behaviour, explicitly set `max_features='sqrt'` or remove this parameter as it is also the default value for RandomForestClassifiers and ExtraTreesClassifiers.\n",
            "  warn(\n",
            "/usr/local/lib/python3.10/dist-packages/sklearn/ensemble/_forest.py:424: FutureWarning: `max_features='auto'` has been deprecated in 1.1 and will be removed in 1.3. To keep the past behaviour, explicitly set `max_features='sqrt'` or remove this parameter as it is also the default value for RandomForestClassifiers and ExtraTreesClassifiers.\n",
            "  warn(\n"
          ]
        },
        {
          "output_type": "stream",
          "name": "stdout",
          "text": [
            "[CV 1/5] END criterion=gini, max_features=auto, min_samples_leaf=5, min_samples_split=7, n_estimators=115;, score=0.675 total time=   0.2s\n",
            "[CV 2/5] END criterion=gini, max_features=auto, min_samples_leaf=5, min_samples_split=7, n_estimators=115;, score=0.740 total time=   0.2s\n"
          ]
        },
        {
          "output_type": "stream",
          "name": "stderr",
          "text": [
            "/usr/local/lib/python3.10/dist-packages/sklearn/ensemble/_forest.py:424: FutureWarning: `max_features='auto'` has been deprecated in 1.1 and will be removed in 1.3. To keep the past behaviour, explicitly set `max_features='sqrt'` or remove this parameter as it is also the default value for RandomForestClassifiers and ExtraTreesClassifiers.\n",
            "  warn(\n",
            "/usr/local/lib/python3.10/dist-packages/sklearn/ensemble/_forest.py:424: FutureWarning: `max_features='auto'` has been deprecated in 1.1 and will be removed in 1.3. To keep the past behaviour, explicitly set `max_features='sqrt'` or remove this parameter as it is also the default value for RandomForestClassifiers and ExtraTreesClassifiers.\n",
            "  warn(\n"
          ]
        },
        {
          "output_type": "stream",
          "name": "stdout",
          "text": [
            "[CV 3/5] END criterion=gini, max_features=auto, min_samples_leaf=5, min_samples_split=7, n_estimators=115;, score=0.805 total time=   0.2s\n",
            "[CV 4/5] END criterion=gini, max_features=auto, min_samples_leaf=5, min_samples_split=7, n_estimators=115;, score=0.701 total time=   0.2s\n"
          ]
        },
        {
          "output_type": "stream",
          "name": "stderr",
          "text": [
            "/usr/local/lib/python3.10/dist-packages/sklearn/ensemble/_forest.py:424: FutureWarning: `max_features='auto'` has been deprecated in 1.1 and will be removed in 1.3. To keep the past behaviour, explicitly set `max_features='sqrt'` or remove this parameter as it is also the default value for RandomForestClassifiers and ExtraTreesClassifiers.\n",
            "  warn(\n",
            "/usr/local/lib/python3.10/dist-packages/sklearn/ensemble/_forest.py:424: FutureWarning: `max_features='auto'` has been deprecated in 1.1 and will be removed in 1.3. To keep the past behaviour, explicitly set `max_features='sqrt'` or remove this parameter as it is also the default value for RandomForestClassifiers and ExtraTreesClassifiers.\n",
            "  warn(\n"
          ]
        },
        {
          "output_type": "stream",
          "name": "stdout",
          "text": [
            "[CV 5/5] END criterion=gini, max_features=auto, min_samples_leaf=5, min_samples_split=7, n_estimators=115;, score=0.789 total time=   0.2s\n",
            "[CV 1/5] END criterion=gini, max_features=auto, min_samples_leaf=5, min_samples_split=8, n_estimators=90;, score=0.675 total time=   0.1s\n"
          ]
        },
        {
          "output_type": "stream",
          "name": "stderr",
          "text": [
            "/usr/local/lib/python3.10/dist-packages/sklearn/ensemble/_forest.py:424: FutureWarning: `max_features='auto'` has been deprecated in 1.1 and will be removed in 1.3. To keep the past behaviour, explicitly set `max_features='sqrt'` or remove this parameter as it is also the default value for RandomForestClassifiers and ExtraTreesClassifiers.\n",
            "  warn(\n",
            "/usr/local/lib/python3.10/dist-packages/sklearn/ensemble/_forest.py:424: FutureWarning: `max_features='auto'` has been deprecated in 1.1 and will be removed in 1.3. To keep the past behaviour, explicitly set `max_features='sqrt'` or remove this parameter as it is also the default value for RandomForestClassifiers and ExtraTreesClassifiers.\n",
            "  warn(\n"
          ]
        },
        {
          "output_type": "stream",
          "name": "stdout",
          "text": [
            "[CV 2/5] END criterion=gini, max_features=auto, min_samples_leaf=5, min_samples_split=8, n_estimators=90;, score=0.740 total time=   0.1s\n",
            "[CV 3/5] END criterion=gini, max_features=auto, min_samples_leaf=5, min_samples_split=8, n_estimators=90;, score=0.805 total time=   0.1s\n"
          ]
        },
        {
          "output_type": "stream",
          "name": "stderr",
          "text": [
            "/usr/local/lib/python3.10/dist-packages/sklearn/ensemble/_forest.py:424: FutureWarning: `max_features='auto'` has been deprecated in 1.1 and will be removed in 1.3. To keep the past behaviour, explicitly set `max_features='sqrt'` or remove this parameter as it is also the default value for RandomForestClassifiers and ExtraTreesClassifiers.\n",
            "  warn(\n",
            "/usr/local/lib/python3.10/dist-packages/sklearn/ensemble/_forest.py:424: FutureWarning: `max_features='auto'` has been deprecated in 1.1 and will be removed in 1.3. To keep the past behaviour, explicitly set `max_features='sqrt'` or remove this parameter as it is also the default value for RandomForestClassifiers and ExtraTreesClassifiers.\n",
            "  warn(\n"
          ]
        },
        {
          "output_type": "stream",
          "name": "stdout",
          "text": [
            "[CV 4/5] END criterion=gini, max_features=auto, min_samples_leaf=5, min_samples_split=8, n_estimators=90;, score=0.701 total time=   0.1s\n",
            "[CV 5/5] END criterion=gini, max_features=auto, min_samples_leaf=5, min_samples_split=8, n_estimators=90;, score=0.789 total time=   0.1s\n"
          ]
        },
        {
          "output_type": "stream",
          "name": "stderr",
          "text": [
            "/usr/local/lib/python3.10/dist-packages/sklearn/ensemble/_forest.py:424: FutureWarning: `max_features='auto'` has been deprecated in 1.1 and will be removed in 1.3. To keep the past behaviour, explicitly set `max_features='sqrt'` or remove this parameter as it is also the default value for RandomForestClassifiers and ExtraTreesClassifiers.\n",
            "  warn(\n",
            "/usr/local/lib/python3.10/dist-packages/sklearn/ensemble/_forest.py:424: FutureWarning: `max_features='auto'` has been deprecated in 1.1 and will be removed in 1.3. To keep the past behaviour, explicitly set `max_features='sqrt'` or remove this parameter as it is also the default value for RandomForestClassifiers and ExtraTreesClassifiers.\n",
            "  warn(\n"
          ]
        },
        {
          "output_type": "stream",
          "name": "stdout",
          "text": [
            "[CV 1/5] END criterion=gini, max_features=auto, min_samples_leaf=5, min_samples_split=8, n_estimators=100;, score=0.675 total time=   0.2s\n"
          ]
        },
        {
          "output_type": "stream",
          "name": "stderr",
          "text": [
            "/usr/local/lib/python3.10/dist-packages/sklearn/ensemble/_forest.py:424: FutureWarning: `max_features='auto'` has been deprecated in 1.1 and will be removed in 1.3. To keep the past behaviour, explicitly set `max_features='sqrt'` or remove this parameter as it is also the default value for RandomForestClassifiers and ExtraTreesClassifiers.\n",
            "  warn(\n"
          ]
        },
        {
          "output_type": "stream",
          "name": "stdout",
          "text": [
            "[CV 2/5] END criterion=gini, max_features=auto, min_samples_leaf=5, min_samples_split=8, n_estimators=100;, score=0.740 total time=   0.2s\n"
          ]
        },
        {
          "output_type": "stream",
          "name": "stderr",
          "text": [
            "/usr/local/lib/python3.10/dist-packages/sklearn/ensemble/_forest.py:424: FutureWarning: `max_features='auto'` has been deprecated in 1.1 and will be removed in 1.3. To keep the past behaviour, explicitly set `max_features='sqrt'` or remove this parameter as it is also the default value for RandomForestClassifiers and ExtraTreesClassifiers.\n",
            "  warn(\n"
          ]
        },
        {
          "output_type": "stream",
          "name": "stdout",
          "text": [
            "[CV 3/5] END criterion=gini, max_features=auto, min_samples_leaf=5, min_samples_split=8, n_estimators=100;, score=0.805 total time=   0.2s\n"
          ]
        },
        {
          "output_type": "stream",
          "name": "stderr",
          "text": [
            "/usr/local/lib/python3.10/dist-packages/sklearn/ensemble/_forest.py:424: FutureWarning: `max_features='auto'` has been deprecated in 1.1 and will be removed in 1.3. To keep the past behaviour, explicitly set `max_features='sqrt'` or remove this parameter as it is also the default value for RandomForestClassifiers and ExtraTreesClassifiers.\n",
            "  warn(\n"
          ]
        },
        {
          "output_type": "stream",
          "name": "stdout",
          "text": [
            "[CV 4/5] END criterion=gini, max_features=auto, min_samples_leaf=5, min_samples_split=8, n_estimators=100;, score=0.701 total time=   0.2s\n"
          ]
        },
        {
          "output_type": "stream",
          "name": "stderr",
          "text": [
            "/usr/local/lib/python3.10/dist-packages/sklearn/ensemble/_forest.py:424: FutureWarning: `max_features='auto'` has been deprecated in 1.1 and will be removed in 1.3. To keep the past behaviour, explicitly set `max_features='sqrt'` or remove this parameter as it is also the default value for RandomForestClassifiers and ExtraTreesClassifiers.\n",
            "  warn(\n"
          ]
        },
        {
          "output_type": "stream",
          "name": "stdout",
          "text": [
            "[CV 5/5] END criterion=gini, max_features=auto, min_samples_leaf=5, min_samples_split=8, n_estimators=100;, score=0.789 total time=   0.2s\n"
          ]
        },
        {
          "output_type": "stream",
          "name": "stderr",
          "text": [
            "/usr/local/lib/python3.10/dist-packages/sklearn/ensemble/_forest.py:424: FutureWarning: `max_features='auto'` has been deprecated in 1.1 and will be removed in 1.3. To keep the past behaviour, explicitly set `max_features='sqrt'` or remove this parameter as it is also the default value for RandomForestClassifiers and ExtraTreesClassifiers.\n",
            "  warn(\n"
          ]
        },
        {
          "output_type": "stream",
          "name": "stdout",
          "text": [
            "[CV 1/5] END criterion=gini, max_features=auto, min_samples_leaf=5, min_samples_split=8, n_estimators=115;, score=0.675 total time=   0.3s\n"
          ]
        },
        {
          "output_type": "stream",
          "name": "stderr",
          "text": [
            "/usr/local/lib/python3.10/dist-packages/sklearn/ensemble/_forest.py:424: FutureWarning: `max_features='auto'` has been deprecated in 1.1 and will be removed in 1.3. To keep the past behaviour, explicitly set `max_features='sqrt'` or remove this parameter as it is also the default value for RandomForestClassifiers and ExtraTreesClassifiers.\n",
            "  warn(\n"
          ]
        },
        {
          "output_type": "stream",
          "name": "stdout",
          "text": [
            "[CV 2/5] END criterion=gini, max_features=auto, min_samples_leaf=5, min_samples_split=8, n_estimators=115;, score=0.740 total time=   0.2s\n"
          ]
        },
        {
          "output_type": "stream",
          "name": "stderr",
          "text": [
            "/usr/local/lib/python3.10/dist-packages/sklearn/ensemble/_forest.py:424: FutureWarning: `max_features='auto'` has been deprecated in 1.1 and will be removed in 1.3. To keep the past behaviour, explicitly set `max_features='sqrt'` or remove this parameter as it is also the default value for RandomForestClassifiers and ExtraTreesClassifiers.\n",
            "  warn(\n"
          ]
        },
        {
          "output_type": "stream",
          "name": "stdout",
          "text": [
            "[CV 3/5] END criterion=gini, max_features=auto, min_samples_leaf=5, min_samples_split=8, n_estimators=115;, score=0.805 total time=   0.2s\n"
          ]
        },
        {
          "output_type": "stream",
          "name": "stderr",
          "text": [
            "/usr/local/lib/python3.10/dist-packages/sklearn/ensemble/_forest.py:424: FutureWarning: `max_features='auto'` has been deprecated in 1.1 and will be removed in 1.3. To keep the past behaviour, explicitly set `max_features='sqrt'` or remove this parameter as it is also the default value for RandomForestClassifiers and ExtraTreesClassifiers.\n",
            "  warn(\n"
          ]
        },
        {
          "output_type": "stream",
          "name": "stdout",
          "text": [
            "[CV 4/5] END criterion=gini, max_features=auto, min_samples_leaf=5, min_samples_split=8, n_estimators=115;, score=0.701 total time=   0.2s\n"
          ]
        },
        {
          "output_type": "stream",
          "name": "stderr",
          "text": [
            "/usr/local/lib/python3.10/dist-packages/sklearn/ensemble/_forest.py:424: FutureWarning: `max_features='auto'` has been deprecated in 1.1 and will be removed in 1.3. To keep the past behaviour, explicitly set `max_features='sqrt'` or remove this parameter as it is also the default value for RandomForestClassifiers and ExtraTreesClassifiers.\n",
            "  warn(\n"
          ]
        },
        {
          "output_type": "stream",
          "name": "stdout",
          "text": [
            "[CV 5/5] END criterion=gini, max_features=auto, min_samples_leaf=5, min_samples_split=8, n_estimators=115;, score=0.789 total time=   0.2s\n",
            "[CV 1/5] END criterion=gini, max_features=log2, min_samples_leaf=1, min_samples_split=4, n_estimators=90;, score=0.675 total time=   0.2s\n",
            "[CV 2/5] END criterion=gini, max_features=log2, min_samples_leaf=1, min_samples_split=4, n_estimators=90;, score=0.740 total time=   0.2s\n",
            "[CV 3/5] END criterion=gini, max_features=log2, min_samples_leaf=1, min_samples_split=4, n_estimators=90;, score=0.805 total time=   0.2s\n",
            "[CV 4/5] END criterion=gini, max_features=log2, min_samples_leaf=1, min_samples_split=4, n_estimators=90;, score=0.701 total time=   0.2s\n",
            "[CV 5/5] END criterion=gini, max_features=log2, min_samples_leaf=1, min_samples_split=4, n_estimators=90;, score=0.789 total time=   0.2s\n",
            "[CV 1/5] END criterion=gini, max_features=log2, min_samples_leaf=1, min_samples_split=4, n_estimators=100;, score=0.675 total time=   0.2s\n",
            "[CV 2/5] END criterion=gini, max_features=log2, min_samples_leaf=1, min_samples_split=4, n_estimators=100;, score=0.740 total time=   0.1s\n",
            "[CV 3/5] END criterion=gini, max_features=log2, min_samples_leaf=1, min_samples_split=4, n_estimators=100;, score=0.805 total time=   0.1s\n",
            "[CV 4/5] END criterion=gini, max_features=log2, min_samples_leaf=1, min_samples_split=4, n_estimators=100;, score=0.701 total time=   0.1s\n",
            "[CV 5/5] END criterion=gini, max_features=log2, min_samples_leaf=1, min_samples_split=4, n_estimators=100;, score=0.789 total time=   0.1s\n",
            "[CV 1/5] END criterion=gini, max_features=log2, min_samples_leaf=1, min_samples_split=4, n_estimators=115;, score=0.675 total time=   0.1s\n",
            "[CV 2/5] END criterion=gini, max_features=log2, min_samples_leaf=1, min_samples_split=4, n_estimators=115;, score=0.740 total time=   0.1s\n",
            "[CV 3/5] END criterion=gini, max_features=log2, min_samples_leaf=1, min_samples_split=4, n_estimators=115;, score=0.805 total time=   0.1s\n",
            "[CV 4/5] END criterion=gini, max_features=log2, min_samples_leaf=1, min_samples_split=4, n_estimators=115;, score=0.701 total time=   0.1s\n",
            "[CV 5/5] END criterion=gini, max_features=log2, min_samples_leaf=1, min_samples_split=4, n_estimators=115;, score=0.789 total time=   0.1s\n",
            "[CV 1/5] END criterion=gini, max_features=log2, min_samples_leaf=1, min_samples_split=5, n_estimators=90;, score=0.675 total time=   0.1s\n",
            "[CV 2/5] END criterion=gini, max_features=log2, min_samples_leaf=1, min_samples_split=5, n_estimators=90;, score=0.740 total time=   0.1s\n",
            "[CV 3/5] END criterion=gini, max_features=log2, min_samples_leaf=1, min_samples_split=5, n_estimators=90;, score=0.805 total time=   0.1s\n",
            "[CV 4/5] END criterion=gini, max_features=log2, min_samples_leaf=1, min_samples_split=5, n_estimators=90;, score=0.701 total time=   0.1s\n",
            "[CV 5/5] END criterion=gini, max_features=log2, min_samples_leaf=1, min_samples_split=5, n_estimators=90;, score=0.789 total time=   0.1s\n",
            "[CV 1/5] END criterion=gini, max_features=log2, min_samples_leaf=1, min_samples_split=5, n_estimators=100;, score=0.675 total time=   0.1s\n",
            "[CV 2/5] END criterion=gini, max_features=log2, min_samples_leaf=1, min_samples_split=5, n_estimators=100;, score=0.740 total time=   0.1s\n",
            "[CV 3/5] END criterion=gini, max_features=log2, min_samples_leaf=1, min_samples_split=5, n_estimators=100;, score=0.805 total time=   0.1s\n",
            "[CV 4/5] END criterion=gini, max_features=log2, min_samples_leaf=1, min_samples_split=5, n_estimators=100;, score=0.701 total time=   0.1s\n",
            "[CV 5/5] END criterion=gini, max_features=log2, min_samples_leaf=1, min_samples_split=5, n_estimators=100;, score=0.789 total time=   0.1s\n",
            "[CV 1/5] END criterion=gini, max_features=log2, min_samples_leaf=1, min_samples_split=5, n_estimators=115;, score=0.675 total time=   0.1s\n",
            "[CV 2/5] END criterion=gini, max_features=log2, min_samples_leaf=1, min_samples_split=5, n_estimators=115;, score=0.740 total time=   0.1s\n",
            "[CV 3/5] END criterion=gini, max_features=log2, min_samples_leaf=1, min_samples_split=5, n_estimators=115;, score=0.805 total time=   0.2s\n",
            "[CV 4/5] END criterion=gini, max_features=log2, min_samples_leaf=1, min_samples_split=5, n_estimators=115;, score=0.701 total time=   0.1s\n",
            "[CV 5/5] END criterion=gini, max_features=log2, min_samples_leaf=1, min_samples_split=5, n_estimators=115;, score=0.789 total time=   0.1s\n",
            "[CV 1/5] END criterion=gini, max_features=log2, min_samples_leaf=1, min_samples_split=6, n_estimators=90;, score=0.675 total time=   0.1s\n",
            "[CV 2/5] END criterion=gini, max_features=log2, min_samples_leaf=1, min_samples_split=6, n_estimators=90;, score=0.740 total time=   0.1s\n",
            "[CV 3/5] END criterion=gini, max_features=log2, min_samples_leaf=1, min_samples_split=6, n_estimators=90;, score=0.805 total time=   0.1s\n",
            "[CV 4/5] END criterion=gini, max_features=log2, min_samples_leaf=1, min_samples_split=6, n_estimators=90;, score=0.701 total time=   0.1s\n",
            "[CV 5/5] END criterion=gini, max_features=log2, min_samples_leaf=1, min_samples_split=6, n_estimators=90;, score=0.789 total time=   0.1s\n",
            "[CV 1/5] END criterion=gini, max_features=log2, min_samples_leaf=1, min_samples_split=6, n_estimators=100;, score=0.675 total time=   0.1s\n",
            "[CV 2/5] END criterion=gini, max_features=log2, min_samples_leaf=1, min_samples_split=6, n_estimators=100;, score=0.740 total time=   0.1s\n",
            "[CV 3/5] END criterion=gini, max_features=log2, min_samples_leaf=1, min_samples_split=6, n_estimators=100;, score=0.805 total time=   0.1s\n",
            "[CV 4/5] END criterion=gini, max_features=log2, min_samples_leaf=1, min_samples_split=6, n_estimators=100;, score=0.701 total time=   0.1s\n",
            "[CV 5/5] END criterion=gini, max_features=log2, min_samples_leaf=1, min_samples_split=6, n_estimators=100;, score=0.789 total time=   0.1s\n",
            "[CV 1/5] END criterion=gini, max_features=log2, min_samples_leaf=1, min_samples_split=6, n_estimators=115;, score=0.675 total time=   0.1s\n",
            "[CV 2/5] END criterion=gini, max_features=log2, min_samples_leaf=1, min_samples_split=6, n_estimators=115;, score=0.740 total time=   0.1s\n",
            "[CV 3/5] END criterion=gini, max_features=log2, min_samples_leaf=1, min_samples_split=6, n_estimators=115;, score=0.805 total time=   0.2s\n",
            "[CV 4/5] END criterion=gini, max_features=log2, min_samples_leaf=1, min_samples_split=6, n_estimators=115;, score=0.701 total time=   0.2s\n",
            "[CV 5/5] END criterion=gini, max_features=log2, min_samples_leaf=1, min_samples_split=6, n_estimators=115;, score=0.789 total time=   0.1s\n",
            "[CV 1/5] END criterion=gini, max_features=log2, min_samples_leaf=1, min_samples_split=7, n_estimators=90;, score=0.675 total time=   0.1s\n",
            "[CV 2/5] END criterion=gini, max_features=log2, min_samples_leaf=1, min_samples_split=7, n_estimators=90;, score=0.740 total time=   0.1s\n",
            "[CV 3/5] END criterion=gini, max_features=log2, min_samples_leaf=1, min_samples_split=7, n_estimators=90;, score=0.805 total time=   0.1s\n",
            "[CV 4/5] END criterion=gini, max_features=log2, min_samples_leaf=1, min_samples_split=7, n_estimators=90;, score=0.701 total time=   0.1s\n",
            "[CV 5/5] END criterion=gini, max_features=log2, min_samples_leaf=1, min_samples_split=7, n_estimators=90;, score=0.789 total time=   0.1s\n",
            "[CV 1/5] END criterion=gini, max_features=log2, min_samples_leaf=1, min_samples_split=7, n_estimators=100;, score=0.675 total time=   0.1s\n",
            "[CV 2/5] END criterion=gini, max_features=log2, min_samples_leaf=1, min_samples_split=7, n_estimators=100;, score=0.740 total time=   0.1s\n",
            "[CV 3/5] END criterion=gini, max_features=log2, min_samples_leaf=1, min_samples_split=7, n_estimators=100;, score=0.805 total time=   0.1s\n",
            "[CV 4/5] END criterion=gini, max_features=log2, min_samples_leaf=1, min_samples_split=7, n_estimators=100;, score=0.701 total time=   0.1s\n",
            "[CV 5/5] END criterion=gini, max_features=log2, min_samples_leaf=1, min_samples_split=7, n_estimators=100;, score=0.789 total time=   0.1s\n",
            "[CV 1/5] END criterion=gini, max_features=log2, min_samples_leaf=1, min_samples_split=7, n_estimators=115;, score=0.675 total time=   0.1s\n",
            "[CV 2/5] END criterion=gini, max_features=log2, min_samples_leaf=1, min_samples_split=7, n_estimators=115;, score=0.740 total time=   0.1s\n",
            "[CV 3/5] END criterion=gini, max_features=log2, min_samples_leaf=1, min_samples_split=7, n_estimators=115;, score=0.805 total time=   0.1s\n",
            "[CV 4/5] END criterion=gini, max_features=log2, min_samples_leaf=1, min_samples_split=7, n_estimators=115;, score=0.701 total time=   0.2s\n",
            "[CV 5/5] END criterion=gini, max_features=log2, min_samples_leaf=1, min_samples_split=7, n_estimators=115;, score=0.789 total time=   0.2s\n",
            "[CV 1/5] END criterion=gini, max_features=log2, min_samples_leaf=1, min_samples_split=8, n_estimators=90;, score=0.675 total time=   0.1s\n",
            "[CV 2/5] END criterion=gini, max_features=log2, min_samples_leaf=1, min_samples_split=8, n_estimators=90;, score=0.740 total time=   0.1s\n",
            "[CV 3/5] END criterion=gini, max_features=log2, min_samples_leaf=1, min_samples_split=8, n_estimators=90;, score=0.805 total time=   0.1s\n",
            "[CV 4/5] END criterion=gini, max_features=log2, min_samples_leaf=1, min_samples_split=8, n_estimators=90;, score=0.701 total time=   0.1s\n",
            "[CV 5/5] END criterion=gini, max_features=log2, min_samples_leaf=1, min_samples_split=8, n_estimators=90;, score=0.789 total time=   0.1s\n",
            "[CV 1/5] END criterion=gini, max_features=log2, min_samples_leaf=1, min_samples_split=8, n_estimators=100;, score=0.675 total time=   0.1s\n",
            "[CV 2/5] END criterion=gini, max_features=log2, min_samples_leaf=1, min_samples_split=8, n_estimators=100;, score=0.740 total time=   0.1s\n",
            "[CV 3/5] END criterion=gini, max_features=log2, min_samples_leaf=1, min_samples_split=8, n_estimators=100;, score=0.805 total time=   0.1s\n",
            "[CV 4/5] END criterion=gini, max_features=log2, min_samples_leaf=1, min_samples_split=8, n_estimators=100;, score=0.701 total time=   0.1s\n",
            "[CV 5/5] END criterion=gini, max_features=log2, min_samples_leaf=1, min_samples_split=8, n_estimators=100;, score=0.789 total time=   0.1s\n",
            "[CV 1/5] END criterion=gini, max_features=log2, min_samples_leaf=1, min_samples_split=8, n_estimators=115;, score=0.675 total time=   0.1s\n",
            "[CV 2/5] END criterion=gini, max_features=log2, min_samples_leaf=1, min_samples_split=8, n_estimators=115;, score=0.740 total time=   0.1s\n",
            "[CV 3/5] END criterion=gini, max_features=log2, min_samples_leaf=1, min_samples_split=8, n_estimators=115;, score=0.805 total time=   0.1s\n",
            "[CV 4/5] END criterion=gini, max_features=log2, min_samples_leaf=1, min_samples_split=8, n_estimators=115;, score=0.701 total time=   0.2s\n",
            "[CV 5/5] END criterion=gini, max_features=log2, min_samples_leaf=1, min_samples_split=8, n_estimators=115;, score=0.789 total time=   0.1s\n",
            "[CV 1/5] END criterion=gini, max_features=log2, min_samples_leaf=2, min_samples_split=4, n_estimators=90;, score=0.675 total time=   0.1s\n",
            "[CV 2/5] END criterion=gini, max_features=log2, min_samples_leaf=2, min_samples_split=4, n_estimators=90;, score=0.740 total time=   0.1s\n",
            "[CV 3/5] END criterion=gini, max_features=log2, min_samples_leaf=2, min_samples_split=4, n_estimators=90;, score=0.805 total time=   0.1s\n",
            "[CV 4/5] END criterion=gini, max_features=log2, min_samples_leaf=2, min_samples_split=4, n_estimators=90;, score=0.701 total time=   0.1s\n",
            "[CV 5/5] END criterion=gini, max_features=log2, min_samples_leaf=2, min_samples_split=4, n_estimators=90;, score=0.789 total time=   0.1s\n",
            "[CV 1/5] END criterion=gini, max_features=log2, min_samples_leaf=2, min_samples_split=4, n_estimators=100;, score=0.675 total time=   0.1s\n",
            "[CV 2/5] END criterion=gini, max_features=log2, min_samples_leaf=2, min_samples_split=4, n_estimators=100;, score=0.740 total time=   0.1s\n",
            "[CV 3/5] END criterion=gini, max_features=log2, min_samples_leaf=2, min_samples_split=4, n_estimators=100;, score=0.805 total time=   0.2s\n",
            "[CV 4/5] END criterion=gini, max_features=log2, min_samples_leaf=2, min_samples_split=4, n_estimators=100;, score=0.701 total time=   0.2s\n",
            "[CV 5/5] END criterion=gini, max_features=log2, min_samples_leaf=2, min_samples_split=4, n_estimators=100;, score=0.789 total time=   0.2s\n",
            "[CV 1/5] END criterion=gini, max_features=log2, min_samples_leaf=2, min_samples_split=4, n_estimators=115;, score=0.675 total time=   0.2s\n",
            "[CV 2/5] END criterion=gini, max_features=log2, min_samples_leaf=2, min_samples_split=4, n_estimators=115;, score=0.740 total time=   0.2s\n",
            "[CV 3/5] END criterion=gini, max_features=log2, min_samples_leaf=2, min_samples_split=4, n_estimators=115;, score=0.805 total time=   0.2s\n",
            "[CV 4/5] END criterion=gini, max_features=log2, min_samples_leaf=2, min_samples_split=4, n_estimators=115;, score=0.701 total time=   0.2s\n",
            "[CV 5/5] END criterion=gini, max_features=log2, min_samples_leaf=2, min_samples_split=4, n_estimators=115;, score=0.789 total time=   0.2s\n",
            "[CV 1/5] END criterion=gini, max_features=log2, min_samples_leaf=2, min_samples_split=5, n_estimators=90;, score=0.675 total time=   0.2s\n",
            "[CV 2/5] END criterion=gini, max_features=log2, min_samples_leaf=2, min_samples_split=5, n_estimators=90;, score=0.740 total time=   0.2s\n",
            "[CV 3/5] END criterion=gini, max_features=log2, min_samples_leaf=2, min_samples_split=5, n_estimators=90;, score=0.805 total time=   0.2s\n",
            "[CV 4/5] END criterion=gini, max_features=log2, min_samples_leaf=2, min_samples_split=5, n_estimators=90;, score=0.701 total time=   0.2s\n",
            "[CV 5/5] END criterion=gini, max_features=log2, min_samples_leaf=2, min_samples_split=5, n_estimators=90;, score=0.789 total time=   0.2s\n",
            "[CV 1/5] END criterion=gini, max_features=log2, min_samples_leaf=2, min_samples_split=5, n_estimators=100;, score=0.675 total time=   0.2s\n",
            "[CV 2/5] END criterion=gini, max_features=log2, min_samples_leaf=2, min_samples_split=5, n_estimators=100;, score=0.740 total time=   0.1s\n",
            "[CV 3/5] END criterion=gini, max_features=log2, min_samples_leaf=2, min_samples_split=5, n_estimators=100;, score=0.805 total time=   0.1s\n",
            "[CV 4/5] END criterion=gini, max_features=log2, min_samples_leaf=2, min_samples_split=5, n_estimators=100;, score=0.701 total time=   0.1s\n",
            "[CV 5/5] END criterion=gini, max_features=log2, min_samples_leaf=2, min_samples_split=5, n_estimators=100;, score=0.789 total time=   0.1s\n",
            "[CV 1/5] END criterion=gini, max_features=log2, min_samples_leaf=2, min_samples_split=5, n_estimators=115;, score=0.675 total time=   0.1s\n",
            "[CV 2/5] END criterion=gini, max_features=log2, min_samples_leaf=2, min_samples_split=5, n_estimators=115;, score=0.740 total time=   0.1s\n",
            "[CV 3/5] END criterion=gini, max_features=log2, min_samples_leaf=2, min_samples_split=5, n_estimators=115;, score=0.805 total time=   0.1s\n",
            "[CV 4/5] END criterion=gini, max_features=log2, min_samples_leaf=2, min_samples_split=5, n_estimators=115;, score=0.701 total time=   0.1s\n",
            "[CV 5/5] END criterion=gini, max_features=log2, min_samples_leaf=2, min_samples_split=5, n_estimators=115;, score=0.789 total time=   0.2s\n",
            "[CV 1/5] END criterion=gini, max_features=log2, min_samples_leaf=2, min_samples_split=6, n_estimators=90;, score=0.675 total time=   0.1s\n",
            "[CV 2/5] END criterion=gini, max_features=log2, min_samples_leaf=2, min_samples_split=6, n_estimators=90;, score=0.740 total time=   0.1s\n",
            "[CV 3/5] END criterion=gini, max_features=log2, min_samples_leaf=2, min_samples_split=6, n_estimators=90;, score=0.805 total time=   0.1s\n",
            "[CV 4/5] END criterion=gini, max_features=log2, min_samples_leaf=2, min_samples_split=6, n_estimators=90;, score=0.701 total time=   0.1s\n",
            "[CV 5/5] END criterion=gini, max_features=log2, min_samples_leaf=2, min_samples_split=6, n_estimators=90;, score=0.789 total time=   0.1s\n",
            "[CV 1/5] END criterion=gini, max_features=log2, min_samples_leaf=2, min_samples_split=6, n_estimators=100;, score=0.675 total time=   0.1s\n",
            "[CV 2/5] END criterion=gini, max_features=log2, min_samples_leaf=2, min_samples_split=6, n_estimators=100;, score=0.740 total time=   0.1s\n",
            "[CV 3/5] END criterion=gini, max_features=log2, min_samples_leaf=2, min_samples_split=6, n_estimators=100;, score=0.805 total time=   0.1s\n",
            "[CV 4/5] END criterion=gini, max_features=log2, min_samples_leaf=2, min_samples_split=6, n_estimators=100;, score=0.701 total time=   0.1s\n",
            "[CV 5/5] END criterion=gini, max_features=log2, min_samples_leaf=2, min_samples_split=6, n_estimators=100;, score=0.789 total time=   0.1s\n",
            "[CV 1/5] END criterion=gini, max_features=log2, min_samples_leaf=2, min_samples_split=6, n_estimators=115;, score=0.675 total time=   0.1s\n",
            "[CV 2/5] END criterion=gini, max_features=log2, min_samples_leaf=2, min_samples_split=6, n_estimators=115;, score=0.740 total time=   0.1s\n",
            "[CV 3/5] END criterion=gini, max_features=log2, min_samples_leaf=2, min_samples_split=6, n_estimators=115;, score=0.805 total time=   0.1s\n",
            "[CV 4/5] END criterion=gini, max_features=log2, min_samples_leaf=2, min_samples_split=6, n_estimators=115;, score=0.701 total time=   0.1s\n",
            "[CV 5/5] END criterion=gini, max_features=log2, min_samples_leaf=2, min_samples_split=6, n_estimators=115;, score=0.789 total time=   0.1s\n",
            "[CV 1/5] END criterion=gini, max_features=log2, min_samples_leaf=2, min_samples_split=7, n_estimators=90;, score=0.675 total time=   0.1s\n",
            "[CV 2/5] END criterion=gini, max_features=log2, min_samples_leaf=2, min_samples_split=7, n_estimators=90;, score=0.740 total time=   0.1s\n",
            "[CV 3/5] END criterion=gini, max_features=log2, min_samples_leaf=2, min_samples_split=7, n_estimators=90;, score=0.805 total time=   0.1s\n",
            "[CV 4/5] END criterion=gini, max_features=log2, min_samples_leaf=2, min_samples_split=7, n_estimators=90;, score=0.701 total time=   0.1s\n",
            "[CV 5/5] END criterion=gini, max_features=log2, min_samples_leaf=2, min_samples_split=7, n_estimators=90;, score=0.789 total time=   0.1s\n",
            "[CV 1/5] END criterion=gini, max_features=log2, min_samples_leaf=2, min_samples_split=7, n_estimators=100;, score=0.675 total time=   0.1s\n",
            "[CV 2/5] END criterion=gini, max_features=log2, min_samples_leaf=2, min_samples_split=7, n_estimators=100;, score=0.740 total time=   0.1s\n",
            "[CV 3/5] END criterion=gini, max_features=log2, min_samples_leaf=2, min_samples_split=7, n_estimators=100;, score=0.805 total time=   0.1s\n",
            "[CV 4/5] END criterion=gini, max_features=log2, min_samples_leaf=2, min_samples_split=7, n_estimators=100;, score=0.701 total time=   0.1s\n",
            "[CV 5/5] END criterion=gini, max_features=log2, min_samples_leaf=2, min_samples_split=7, n_estimators=100;, score=0.789 total time=   0.1s\n",
            "[CV 1/5] END criterion=gini, max_features=log2, min_samples_leaf=2, min_samples_split=7, n_estimators=115;, score=0.675 total time=   0.1s\n",
            "[CV 2/5] END criterion=gini, max_features=log2, min_samples_leaf=2, min_samples_split=7, n_estimators=115;, score=0.740 total time=   0.1s\n",
            "[CV 3/5] END criterion=gini, max_features=log2, min_samples_leaf=2, min_samples_split=7, n_estimators=115;, score=0.805 total time=   0.1s\n",
            "[CV 4/5] END criterion=gini, max_features=log2, min_samples_leaf=2, min_samples_split=7, n_estimators=115;, score=0.701 total time=   0.1s\n",
            "[CV 5/5] END criterion=gini, max_features=log2, min_samples_leaf=2, min_samples_split=7, n_estimators=115;, score=0.789 total time=   0.1s\n",
            "[CV 1/5] END criterion=gini, max_features=log2, min_samples_leaf=2, min_samples_split=8, n_estimators=90;, score=0.675 total time=   0.1s\n",
            "[CV 2/5] END criterion=gini, max_features=log2, min_samples_leaf=2, min_samples_split=8, n_estimators=90;, score=0.740 total time=   0.1s\n",
            "[CV 3/5] END criterion=gini, max_features=log2, min_samples_leaf=2, min_samples_split=8, n_estimators=90;, score=0.805 total time=   0.1s\n",
            "[CV 4/5] END criterion=gini, max_features=log2, min_samples_leaf=2, min_samples_split=8, n_estimators=90;, score=0.701 total time=   0.1s\n",
            "[CV 5/5] END criterion=gini, max_features=log2, min_samples_leaf=2, min_samples_split=8, n_estimators=90;, score=0.789 total time=   0.1s\n",
            "[CV 1/5] END criterion=gini, max_features=log2, min_samples_leaf=2, min_samples_split=8, n_estimators=100;, score=0.675 total time=   0.1s\n",
            "[CV 2/5] END criterion=gini, max_features=log2, min_samples_leaf=2, min_samples_split=8, n_estimators=100;, score=0.740 total time=   0.1s\n",
            "[CV 3/5] END criterion=gini, max_features=log2, min_samples_leaf=2, min_samples_split=8, n_estimators=100;, score=0.805 total time=   0.1s\n",
            "[CV 4/5] END criterion=gini, max_features=log2, min_samples_leaf=2, min_samples_split=8, n_estimators=100;, score=0.701 total time=   0.1s\n",
            "[CV 5/5] END criterion=gini, max_features=log2, min_samples_leaf=2, min_samples_split=8, n_estimators=100;, score=0.789 total time=   0.1s\n",
            "[CV 1/5] END criterion=gini, max_features=log2, min_samples_leaf=2, min_samples_split=8, n_estimators=115;, score=0.675 total time=   0.1s\n",
            "[CV 2/5] END criterion=gini, max_features=log2, min_samples_leaf=2, min_samples_split=8, n_estimators=115;, score=0.740 total time=   0.1s\n",
            "[CV 3/5] END criterion=gini, max_features=log2, min_samples_leaf=2, min_samples_split=8, n_estimators=115;, score=0.805 total time=   0.1s\n",
            "[CV 4/5] END criterion=gini, max_features=log2, min_samples_leaf=2, min_samples_split=8, n_estimators=115;, score=0.701 total time=   0.1s\n",
            "[CV 5/5] END criterion=gini, max_features=log2, min_samples_leaf=2, min_samples_split=8, n_estimators=115;, score=0.789 total time=   0.2s\n",
            "[CV 1/5] END criterion=gini, max_features=log2, min_samples_leaf=3, min_samples_split=4, n_estimators=90;, score=0.675 total time=   0.1s\n",
            "[CV 2/5] END criterion=gini, max_features=log2, min_samples_leaf=3, min_samples_split=4, n_estimators=90;, score=0.740 total time=   0.1s\n",
            "[CV 3/5] END criterion=gini, max_features=log2, min_samples_leaf=3, min_samples_split=4, n_estimators=90;, score=0.805 total time=   0.1s\n",
            "[CV 4/5] END criterion=gini, max_features=log2, min_samples_leaf=3, min_samples_split=4, n_estimators=90;, score=0.701 total time=   0.1s\n",
            "[CV 5/5] END criterion=gini, max_features=log2, min_samples_leaf=3, min_samples_split=4, n_estimators=90;, score=0.789 total time=   0.1s\n",
            "[CV 1/5] END criterion=gini, max_features=log2, min_samples_leaf=3, min_samples_split=4, n_estimators=100;, score=0.675 total time=   0.1s\n",
            "[CV 2/5] END criterion=gini, max_features=log2, min_samples_leaf=3, min_samples_split=4, n_estimators=100;, score=0.740 total time=   0.1s\n",
            "[CV 3/5] END criterion=gini, max_features=log2, min_samples_leaf=3, min_samples_split=4, n_estimators=100;, score=0.805 total time=   0.1s\n",
            "[CV 4/5] END criterion=gini, max_features=log2, min_samples_leaf=3, min_samples_split=4, n_estimators=100;, score=0.701 total time=   0.1s\n",
            "[CV 5/5] END criterion=gini, max_features=log2, min_samples_leaf=3, min_samples_split=4, n_estimators=100;, score=0.789 total time=   0.1s\n",
            "[CV 1/5] END criterion=gini, max_features=log2, min_samples_leaf=3, min_samples_split=4, n_estimators=115;, score=0.675 total time=   0.2s\n",
            "[CV 2/5] END criterion=gini, max_features=log2, min_samples_leaf=3, min_samples_split=4, n_estimators=115;, score=0.740 total time=   0.1s\n",
            "[CV 3/5] END criterion=gini, max_features=log2, min_samples_leaf=3, min_samples_split=4, n_estimators=115;, score=0.805 total time=   0.1s\n",
            "[CV 4/5] END criterion=gini, max_features=log2, min_samples_leaf=3, min_samples_split=4, n_estimators=115;, score=0.701 total time=   0.1s\n",
            "[CV 5/5] END criterion=gini, max_features=log2, min_samples_leaf=3, min_samples_split=4, n_estimators=115;, score=0.789 total time=   0.1s\n",
            "[CV 1/5] END criterion=gini, max_features=log2, min_samples_leaf=3, min_samples_split=5, n_estimators=90;, score=0.675 total time=   0.1s\n",
            "[CV 2/5] END criterion=gini, max_features=log2, min_samples_leaf=3, min_samples_split=5, n_estimators=90;, score=0.740 total time=   0.1s\n",
            "[CV 3/5] END criterion=gini, max_features=log2, min_samples_leaf=3, min_samples_split=5, n_estimators=90;, score=0.805 total time=   0.1s\n",
            "[CV 4/5] END criterion=gini, max_features=log2, min_samples_leaf=3, min_samples_split=5, n_estimators=90;, score=0.701 total time=   0.1s\n",
            "[CV 5/5] END criterion=gini, max_features=log2, min_samples_leaf=3, min_samples_split=5, n_estimators=90;, score=0.789 total time=   0.1s\n",
            "[CV 1/5] END criterion=gini, max_features=log2, min_samples_leaf=3, min_samples_split=5, n_estimators=100;, score=0.675 total time=   0.1s\n",
            "[CV 2/5] END criterion=gini, max_features=log2, min_samples_leaf=3, min_samples_split=5, n_estimators=100;, score=0.740 total time=   0.1s\n",
            "[CV 3/5] END criterion=gini, max_features=log2, min_samples_leaf=3, min_samples_split=5, n_estimators=100;, score=0.805 total time=   0.2s\n",
            "[CV 4/5] END criterion=gini, max_features=log2, min_samples_leaf=3, min_samples_split=5, n_estimators=100;, score=0.701 total time=   0.2s\n",
            "[CV 5/5] END criterion=gini, max_features=log2, min_samples_leaf=3, min_samples_split=5, n_estimators=100;, score=0.789 total time=   0.2s\n",
            "[CV 1/5] END criterion=gini, max_features=log2, min_samples_leaf=3, min_samples_split=5, n_estimators=115;, score=0.675 total time=   0.2s\n",
            "[CV 2/5] END criterion=gini, max_features=log2, min_samples_leaf=3, min_samples_split=5, n_estimators=115;, score=0.740 total time=   0.2s\n",
            "[CV 3/5] END criterion=gini, max_features=log2, min_samples_leaf=3, min_samples_split=5, n_estimators=115;, score=0.805 total time=   0.2s\n",
            "[CV 4/5] END criterion=gini, max_features=log2, min_samples_leaf=3, min_samples_split=5, n_estimators=115;, score=0.701 total time=   0.2s\n",
            "[CV 5/5] END criterion=gini, max_features=log2, min_samples_leaf=3, min_samples_split=5, n_estimators=115;, score=0.789 total time=   0.2s\n",
            "[CV 1/5] END criterion=gini, max_features=log2, min_samples_leaf=3, min_samples_split=6, n_estimators=90;, score=0.675 total time=   0.2s\n",
            "[CV 2/5] END criterion=gini, max_features=log2, min_samples_leaf=3, min_samples_split=6, n_estimators=90;, score=0.740 total time=   0.2s\n",
            "[CV 3/5] END criterion=gini, max_features=log2, min_samples_leaf=3, min_samples_split=6, n_estimators=90;, score=0.805 total time=   0.2s\n",
            "[CV 4/5] END criterion=gini, max_features=log2, min_samples_leaf=3, min_samples_split=6, n_estimators=90;, score=0.701 total time=   0.2s\n",
            "[CV 5/5] END criterion=gini, max_features=log2, min_samples_leaf=3, min_samples_split=6, n_estimators=90;, score=0.789 total time=   0.2s\n",
            "[CV 1/5] END criterion=gini, max_features=log2, min_samples_leaf=3, min_samples_split=6, n_estimators=100;, score=0.675 total time=   0.1s\n",
            "[CV 2/5] END criterion=gini, max_features=log2, min_samples_leaf=3, min_samples_split=6, n_estimators=100;, score=0.740 total time=   0.1s\n",
            "[CV 3/5] END criterion=gini, max_features=log2, min_samples_leaf=3, min_samples_split=6, n_estimators=100;, score=0.805 total time=   0.1s\n",
            "[CV 4/5] END criterion=gini, max_features=log2, min_samples_leaf=3, min_samples_split=6, n_estimators=100;, score=0.701 total time=   0.1s\n",
            "[CV 5/5] END criterion=gini, max_features=log2, min_samples_leaf=3, min_samples_split=6, n_estimators=100;, score=0.789 total time=   0.1s\n",
            "[CV 1/5] END criterion=gini, max_features=log2, min_samples_leaf=3, min_samples_split=6, n_estimators=115;, score=0.675 total time=   0.1s\n",
            "[CV 2/5] END criterion=gini, max_features=log2, min_samples_leaf=3, min_samples_split=6, n_estimators=115;, score=0.740 total time=   0.2s\n",
            "[CV 3/5] END criterion=gini, max_features=log2, min_samples_leaf=3, min_samples_split=6, n_estimators=115;, score=0.805 total time=   0.1s\n",
            "[CV 4/5] END criterion=gini, max_features=log2, min_samples_leaf=3, min_samples_split=6, n_estimators=115;, score=0.701 total time=   0.1s\n",
            "[CV 5/5] END criterion=gini, max_features=log2, min_samples_leaf=3, min_samples_split=6, n_estimators=115;, score=0.789 total time=   0.1s\n",
            "[CV 1/5] END criterion=gini, max_features=log2, min_samples_leaf=3, min_samples_split=7, n_estimators=90;, score=0.675 total time=   0.1s\n",
            "[CV 2/5] END criterion=gini, max_features=log2, min_samples_leaf=3, min_samples_split=7, n_estimators=90;, score=0.740 total time=   0.1s\n",
            "[CV 3/5] END criterion=gini, max_features=log2, min_samples_leaf=3, min_samples_split=7, n_estimators=90;, score=0.805 total time=   0.1s\n",
            "[CV 4/5] END criterion=gini, max_features=log2, min_samples_leaf=3, min_samples_split=7, n_estimators=90;, score=0.701 total time=   0.1s\n",
            "[CV 5/5] END criterion=gini, max_features=log2, min_samples_leaf=3, min_samples_split=7, n_estimators=90;, score=0.789 total time=   0.1s\n",
            "[CV 1/5] END criterion=gini, max_features=log2, min_samples_leaf=3, min_samples_split=7, n_estimators=100;, score=0.675 total time=   0.1s\n",
            "[CV 2/5] END criterion=gini, max_features=log2, min_samples_leaf=3, min_samples_split=7, n_estimators=100;, score=0.740 total time=   0.1s\n",
            "[CV 3/5] END criterion=gini, max_features=log2, min_samples_leaf=3, min_samples_split=7, n_estimators=100;, score=0.805 total time=   0.1s\n",
            "[CV 4/5] END criterion=gini, max_features=log2, min_samples_leaf=3, min_samples_split=7, n_estimators=100;, score=0.701 total time=   0.1s\n",
            "[CV 5/5] END criterion=gini, max_features=log2, min_samples_leaf=3, min_samples_split=7, n_estimators=100;, score=0.789 total time=   0.1s\n",
            "[CV 1/5] END criterion=gini, max_features=log2, min_samples_leaf=3, min_samples_split=7, n_estimators=115;, score=0.675 total time=   0.1s\n",
            "[CV 2/5] END criterion=gini, max_features=log2, min_samples_leaf=3, min_samples_split=7, n_estimators=115;, score=0.740 total time=   0.1s\n",
            "[CV 3/5] END criterion=gini, max_features=log2, min_samples_leaf=3, min_samples_split=7, n_estimators=115;, score=0.805 total time=   0.2s\n",
            "[CV 4/5] END criterion=gini, max_features=log2, min_samples_leaf=3, min_samples_split=7, n_estimators=115;, score=0.701 total time=   0.1s\n",
            "[CV 5/5] END criterion=gini, max_features=log2, min_samples_leaf=3, min_samples_split=7, n_estimators=115;, score=0.789 total time=   0.1s\n",
            "[CV 1/5] END criterion=gini, max_features=log2, min_samples_leaf=3, min_samples_split=8, n_estimators=90;, score=0.675 total time=   0.1s\n",
            "[CV 2/5] END criterion=gini, max_features=log2, min_samples_leaf=3, min_samples_split=8, n_estimators=90;, score=0.740 total time=   0.1s\n",
            "[CV 3/5] END criterion=gini, max_features=log2, min_samples_leaf=3, min_samples_split=8, n_estimators=90;, score=0.805 total time=   0.1s\n",
            "[CV 4/5] END criterion=gini, max_features=log2, min_samples_leaf=3, min_samples_split=8, n_estimators=90;, score=0.701 total time=   0.1s\n",
            "[CV 5/5] END criterion=gini, max_features=log2, min_samples_leaf=3, min_samples_split=8, n_estimators=90;, score=0.789 total time=   0.1s\n",
            "[CV 1/5] END criterion=gini, max_features=log2, min_samples_leaf=3, min_samples_split=8, n_estimators=100;, score=0.675 total time=   0.1s\n",
            "[CV 2/5] END criterion=gini, max_features=log2, min_samples_leaf=3, min_samples_split=8, n_estimators=100;, score=0.740 total time=   0.1s\n",
            "[CV 3/5] END criterion=gini, max_features=log2, min_samples_leaf=3, min_samples_split=8, n_estimators=100;, score=0.805 total time=   0.1s\n",
            "[CV 4/5] END criterion=gini, max_features=log2, min_samples_leaf=3, min_samples_split=8, n_estimators=100;, score=0.701 total time=   0.1s\n",
            "[CV 5/5] END criterion=gini, max_features=log2, min_samples_leaf=3, min_samples_split=8, n_estimators=100;, score=0.789 total time=   0.1s\n",
            "[CV 1/5] END criterion=gini, max_features=log2, min_samples_leaf=3, min_samples_split=8, n_estimators=115;, score=0.675 total time=   0.2s\n",
            "[CV 2/5] END criterion=gini, max_features=log2, min_samples_leaf=3, min_samples_split=8, n_estimators=115;, score=0.740 total time=   0.2s\n",
            "[CV 3/5] END criterion=gini, max_features=log2, min_samples_leaf=3, min_samples_split=8, n_estimators=115;, score=0.805 total time=   0.2s\n",
            "[CV 4/5] END criterion=gini, max_features=log2, min_samples_leaf=3, min_samples_split=8, n_estimators=115;, score=0.701 total time=   0.1s\n",
            "[CV 5/5] END criterion=gini, max_features=log2, min_samples_leaf=3, min_samples_split=8, n_estimators=115;, score=0.789 total time=   0.1s\n",
            "[CV 1/5] END criterion=gini, max_features=log2, min_samples_leaf=4, min_samples_split=4, n_estimators=90;, score=0.675 total time=   0.1s\n",
            "[CV 2/5] END criterion=gini, max_features=log2, min_samples_leaf=4, min_samples_split=4, n_estimators=90;, score=0.740 total time=   0.1s\n",
            "[CV 3/5] END criterion=gini, max_features=log2, min_samples_leaf=4, min_samples_split=4, n_estimators=90;, score=0.805 total time=   0.1s\n",
            "[CV 4/5] END criterion=gini, max_features=log2, min_samples_leaf=4, min_samples_split=4, n_estimators=90;, score=0.701 total time=   0.1s\n",
            "[CV 5/5] END criterion=gini, max_features=log2, min_samples_leaf=4, min_samples_split=4, n_estimators=90;, score=0.789 total time=   0.1s\n",
            "[CV 1/5] END criterion=gini, max_features=log2, min_samples_leaf=4, min_samples_split=4, n_estimators=100;, score=0.675 total time=   0.1s\n",
            "[CV 2/5] END criterion=gini, max_features=log2, min_samples_leaf=4, min_samples_split=4, n_estimators=100;, score=0.740 total time=   0.1s\n",
            "[CV 3/5] END criterion=gini, max_features=log2, min_samples_leaf=4, min_samples_split=4, n_estimators=100;, score=0.805 total time=   0.1s\n",
            "[CV 4/5] END criterion=gini, max_features=log2, min_samples_leaf=4, min_samples_split=4, n_estimators=100;, score=0.701 total time=   0.1s\n",
            "[CV 5/5] END criterion=gini, max_features=log2, min_samples_leaf=4, min_samples_split=4, n_estimators=100;, score=0.789 total time=   0.1s\n",
            "[CV 1/5] END criterion=gini, max_features=log2, min_samples_leaf=4, min_samples_split=4, n_estimators=115;, score=0.675 total time=   0.1s\n",
            "[CV 2/5] END criterion=gini, max_features=log2, min_samples_leaf=4, min_samples_split=4, n_estimators=115;, score=0.740 total time=   0.1s\n",
            "[CV 3/5] END criterion=gini, max_features=log2, min_samples_leaf=4, min_samples_split=4, n_estimators=115;, score=0.805 total time=   0.1s\n",
            "[CV 4/5] END criterion=gini, max_features=log2, min_samples_leaf=4, min_samples_split=4, n_estimators=115;, score=0.701 total time=   0.2s\n",
            "[CV 5/5] END criterion=gini, max_features=log2, min_samples_leaf=4, min_samples_split=4, n_estimators=115;, score=0.789 total time=   0.1s\n",
            "[CV 1/5] END criterion=gini, max_features=log2, min_samples_leaf=4, min_samples_split=5, n_estimators=90;, score=0.675 total time=   0.1s\n",
            "[CV 2/5] END criterion=gini, max_features=log2, min_samples_leaf=4, min_samples_split=5, n_estimators=90;, score=0.740 total time=   0.1s\n",
            "[CV 3/5] END criterion=gini, max_features=log2, min_samples_leaf=4, min_samples_split=5, n_estimators=90;, score=0.805 total time=   0.1s\n",
            "[CV 4/5] END criterion=gini, max_features=log2, min_samples_leaf=4, min_samples_split=5, n_estimators=90;, score=0.701 total time=   0.1s\n",
            "[CV 5/5] END criterion=gini, max_features=log2, min_samples_leaf=4, min_samples_split=5, n_estimators=90;, score=0.789 total time=   0.1s\n",
            "[CV 1/5] END criterion=gini, max_features=log2, min_samples_leaf=4, min_samples_split=5, n_estimators=100;, score=0.675 total time=   0.1s\n",
            "[CV 2/5] END criterion=gini, max_features=log2, min_samples_leaf=4, min_samples_split=5, n_estimators=100;, score=0.740 total time=   0.1s\n",
            "[CV 3/5] END criterion=gini, max_features=log2, min_samples_leaf=4, min_samples_split=5, n_estimators=100;, score=0.805 total time=   0.1s\n",
            "[CV 4/5] END criterion=gini, max_features=log2, min_samples_leaf=4, min_samples_split=5, n_estimators=100;, score=0.701 total time=   0.1s\n",
            "[CV 5/5] END criterion=gini, max_features=log2, min_samples_leaf=4, min_samples_split=5, n_estimators=100;, score=0.789 total time=   0.1s\n",
            "[CV 1/5] END criterion=gini, max_features=log2, min_samples_leaf=4, min_samples_split=5, n_estimators=115;, score=0.675 total time=   0.1s\n",
            "[CV 2/5] END criterion=gini, max_features=log2, min_samples_leaf=4, min_samples_split=5, n_estimators=115;, score=0.740 total time=   0.2s\n",
            "[CV 3/5] END criterion=gini, max_features=log2, min_samples_leaf=4, min_samples_split=5, n_estimators=115;, score=0.805 total time=   0.1s\n",
            "[CV 4/5] END criterion=gini, max_features=log2, min_samples_leaf=4, min_samples_split=5, n_estimators=115;, score=0.701 total time=   0.2s\n",
            "[CV 5/5] END criterion=gini, max_features=log2, min_samples_leaf=4, min_samples_split=5, n_estimators=115;, score=0.789 total time=   0.1s\n",
            "[CV 1/5] END criterion=gini, max_features=log2, min_samples_leaf=4, min_samples_split=6, n_estimators=90;, score=0.675 total time=   0.1s\n",
            "[CV 2/5] END criterion=gini, max_features=log2, min_samples_leaf=4, min_samples_split=6, n_estimators=90;, score=0.740 total time=   0.1s\n",
            "[CV 3/5] END criterion=gini, max_features=log2, min_samples_leaf=4, min_samples_split=6, n_estimators=90;, score=0.805 total time=   0.1s\n",
            "[CV 4/5] END criterion=gini, max_features=log2, min_samples_leaf=4, min_samples_split=6, n_estimators=90;, score=0.701 total time=   0.1s\n",
            "[CV 5/5] END criterion=gini, max_features=log2, min_samples_leaf=4, min_samples_split=6, n_estimators=90;, score=0.789 total time=   0.1s\n",
            "[CV 1/5] END criterion=gini, max_features=log2, min_samples_leaf=4, min_samples_split=6, n_estimators=100;, score=0.675 total time=   0.1s\n",
            "[CV 2/5] END criterion=gini, max_features=log2, min_samples_leaf=4, min_samples_split=6, n_estimators=100;, score=0.740 total time=   0.2s\n",
            "[CV 3/5] END criterion=gini, max_features=log2, min_samples_leaf=4, min_samples_split=6, n_estimators=100;, score=0.805 total time=   0.2s\n",
            "[CV 4/5] END criterion=gini, max_features=log2, min_samples_leaf=4, min_samples_split=6, n_estimators=100;, score=0.701 total time=   0.2s\n",
            "[CV 5/5] END criterion=gini, max_features=log2, min_samples_leaf=4, min_samples_split=6, n_estimators=100;, score=0.789 total time=   0.2s\n",
            "[CV 1/5] END criterion=gini, max_features=log2, min_samples_leaf=4, min_samples_split=6, n_estimators=115;, score=0.675 total time=   0.2s\n",
            "[CV 2/5] END criterion=gini, max_features=log2, min_samples_leaf=4, min_samples_split=6, n_estimators=115;, score=0.740 total time=   0.2s\n",
            "[CV 3/5] END criterion=gini, max_features=log2, min_samples_leaf=4, min_samples_split=6, n_estimators=115;, score=0.805 total time=   0.2s\n",
            "[CV 4/5] END criterion=gini, max_features=log2, min_samples_leaf=4, min_samples_split=6, n_estimators=115;, score=0.701 total time=   0.2s\n",
            "[CV 5/5] END criterion=gini, max_features=log2, min_samples_leaf=4, min_samples_split=6, n_estimators=115;, score=0.789 total time=   0.2s\n",
            "[CV 1/5] END criterion=gini, max_features=log2, min_samples_leaf=4, min_samples_split=7, n_estimators=90;, score=0.675 total time=   0.2s\n",
            "[CV 2/5] END criterion=gini, max_features=log2, min_samples_leaf=4, min_samples_split=7, n_estimators=90;, score=0.740 total time=   0.2s\n",
            "[CV 3/5] END criterion=gini, max_features=log2, min_samples_leaf=4, min_samples_split=7, n_estimators=90;, score=0.805 total time=   0.2s\n",
            "[CV 4/5] END criterion=gini, max_features=log2, min_samples_leaf=4, min_samples_split=7, n_estimators=90;, score=0.701 total time=   0.2s\n",
            "[CV 5/5] END criterion=gini, max_features=log2, min_samples_leaf=4, min_samples_split=7, n_estimators=90;, score=0.789 total time=   0.1s\n",
            "[CV 1/5] END criterion=gini, max_features=log2, min_samples_leaf=4, min_samples_split=7, n_estimators=100;, score=0.675 total time=   0.1s\n",
            "[CV 2/5] END criterion=gini, max_features=log2, min_samples_leaf=4, min_samples_split=7, n_estimators=100;, score=0.740 total time=   0.1s\n",
            "[CV 3/5] END criterion=gini, max_features=log2, min_samples_leaf=4, min_samples_split=7, n_estimators=100;, score=0.805 total time=   0.1s\n",
            "[CV 4/5] END criterion=gini, max_features=log2, min_samples_leaf=4, min_samples_split=7, n_estimators=100;, score=0.701 total time=   0.1s\n",
            "[CV 5/5] END criterion=gini, max_features=log2, min_samples_leaf=4, min_samples_split=7, n_estimators=100;, score=0.789 total time=   0.1s\n",
            "[CV 1/5] END criterion=gini, max_features=log2, min_samples_leaf=4, min_samples_split=7, n_estimators=115;, score=0.675 total time=   0.2s\n",
            "[CV 2/5] END criterion=gini, max_features=log2, min_samples_leaf=4, min_samples_split=7, n_estimators=115;, score=0.740 total time=   0.1s\n",
            "[CV 3/5] END criterion=gini, max_features=log2, min_samples_leaf=4, min_samples_split=7, n_estimators=115;, score=0.805 total time=   0.1s\n",
            "[CV 4/5] END criterion=gini, max_features=log2, min_samples_leaf=4, min_samples_split=7, n_estimators=115;, score=0.701 total time=   0.1s\n",
            "[CV 5/5] END criterion=gini, max_features=log2, min_samples_leaf=4, min_samples_split=7, n_estimators=115;, score=0.789 total time=   0.1s\n",
            "[CV 1/5] END criterion=gini, max_features=log2, min_samples_leaf=4, min_samples_split=8, n_estimators=90;, score=0.675 total time=   0.1s\n",
            "[CV 2/5] END criterion=gini, max_features=log2, min_samples_leaf=4, min_samples_split=8, n_estimators=90;, score=0.740 total time=   0.1s\n",
            "[CV 3/5] END criterion=gini, max_features=log2, min_samples_leaf=4, min_samples_split=8, n_estimators=90;, score=0.805 total time=   0.1s\n",
            "[CV 4/5] END criterion=gini, max_features=log2, min_samples_leaf=4, min_samples_split=8, n_estimators=90;, score=0.701 total time=   0.1s\n",
            "[CV 5/5] END criterion=gini, max_features=log2, min_samples_leaf=4, min_samples_split=8, n_estimators=90;, score=0.789 total time=   0.1s\n",
            "[CV 1/5] END criterion=gini, max_features=log2, min_samples_leaf=4, min_samples_split=8, n_estimators=100;, score=0.675 total time=   0.1s\n",
            "[CV 2/5] END criterion=gini, max_features=log2, min_samples_leaf=4, min_samples_split=8, n_estimators=100;, score=0.740 total time=   0.1s\n",
            "[CV 3/5] END criterion=gini, max_features=log2, min_samples_leaf=4, min_samples_split=8, n_estimators=100;, score=0.805 total time=   0.1s\n",
            "[CV 4/5] END criterion=gini, max_features=log2, min_samples_leaf=4, min_samples_split=8, n_estimators=100;, score=0.701 total time=   0.1s\n",
            "[CV 5/5] END criterion=gini, max_features=log2, min_samples_leaf=4, min_samples_split=8, n_estimators=100;, score=0.789 total time=   0.1s\n",
            "[CV 1/5] END criterion=gini, max_features=log2, min_samples_leaf=4, min_samples_split=8, n_estimators=115;, score=0.675 total time=   0.1s\n",
            "[CV 2/5] END criterion=gini, max_features=log2, min_samples_leaf=4, min_samples_split=8, n_estimators=115;, score=0.740 total time=   0.2s\n",
            "[CV 3/5] END criterion=gini, max_features=log2, min_samples_leaf=4, min_samples_split=8, n_estimators=115;, score=0.805 total time=   0.1s\n",
            "[CV 4/5] END criterion=gini, max_features=log2, min_samples_leaf=4, min_samples_split=8, n_estimators=115;, score=0.701 total time=   0.1s\n",
            "[CV 5/5] END criterion=gini, max_features=log2, min_samples_leaf=4, min_samples_split=8, n_estimators=115;, score=0.789 total time=   0.1s\n",
            "[CV 1/5] END criterion=gini, max_features=log2, min_samples_leaf=5, min_samples_split=4, n_estimators=90;, score=0.675 total time=   0.1s\n",
            "[CV 2/5] END criterion=gini, max_features=log2, min_samples_leaf=5, min_samples_split=4, n_estimators=90;, score=0.740 total time=   0.1s\n",
            "[CV 3/5] END criterion=gini, max_features=log2, min_samples_leaf=5, min_samples_split=4, n_estimators=90;, score=0.805 total time=   0.1s\n",
            "[CV 4/5] END criterion=gini, max_features=log2, min_samples_leaf=5, min_samples_split=4, n_estimators=90;, score=0.701 total time=   0.1s\n",
            "[CV 5/5] END criterion=gini, max_features=log2, min_samples_leaf=5, min_samples_split=4, n_estimators=90;, score=0.789 total time=   0.1s\n",
            "[CV 1/5] END criterion=gini, max_features=log2, min_samples_leaf=5, min_samples_split=4, n_estimators=100;, score=0.675 total time=   0.1s\n",
            "[CV 2/5] END criterion=gini, max_features=log2, min_samples_leaf=5, min_samples_split=4, n_estimators=100;, score=0.740 total time=   0.1s\n",
            "[CV 3/5] END criterion=gini, max_features=log2, min_samples_leaf=5, min_samples_split=4, n_estimators=100;, score=0.805 total time=   0.1s\n",
            "[CV 4/5] END criterion=gini, max_features=log2, min_samples_leaf=5, min_samples_split=4, n_estimators=100;, score=0.701 total time=   0.1s\n",
            "[CV 5/5] END criterion=gini, max_features=log2, min_samples_leaf=5, min_samples_split=4, n_estimators=100;, score=0.789 total time=   0.1s\n",
            "[CV 1/5] END criterion=gini, max_features=log2, min_samples_leaf=5, min_samples_split=4, n_estimators=115;, score=0.675 total time=   0.2s\n",
            "[CV 2/5] END criterion=gini, max_features=log2, min_samples_leaf=5, min_samples_split=4, n_estimators=115;, score=0.740 total time=   0.1s\n",
            "[CV 3/5] END criterion=gini, max_features=log2, min_samples_leaf=5, min_samples_split=4, n_estimators=115;, score=0.805 total time=   0.1s\n",
            "[CV 4/5] END criterion=gini, max_features=log2, min_samples_leaf=5, min_samples_split=4, n_estimators=115;, score=0.701 total time=   0.1s\n",
            "[CV 5/5] END criterion=gini, max_features=log2, min_samples_leaf=5, min_samples_split=4, n_estimators=115;, score=0.789 total time=   0.1s\n",
            "[CV 1/5] END criterion=gini, max_features=log2, min_samples_leaf=5, min_samples_split=5, n_estimators=90;, score=0.675 total time=   0.1s\n",
            "[CV 2/5] END criterion=gini, max_features=log2, min_samples_leaf=5, min_samples_split=5, n_estimators=90;, score=0.740 total time=   0.1s\n",
            "[CV 3/5] END criterion=gini, max_features=log2, min_samples_leaf=5, min_samples_split=5, n_estimators=90;, score=0.805 total time=   0.1s\n",
            "[CV 4/5] END criterion=gini, max_features=log2, min_samples_leaf=5, min_samples_split=5, n_estimators=90;, score=0.701 total time=   0.1s\n",
            "[CV 5/5] END criterion=gini, max_features=log2, min_samples_leaf=5, min_samples_split=5, n_estimators=90;, score=0.789 total time=   0.1s\n",
            "[CV 1/5] END criterion=gini, max_features=log2, min_samples_leaf=5, min_samples_split=5, n_estimators=100;, score=0.675 total time=   0.1s\n",
            "[CV 2/5] END criterion=gini, max_features=log2, min_samples_leaf=5, min_samples_split=5, n_estimators=100;, score=0.740 total time=   0.1s\n",
            "[CV 3/5] END criterion=gini, max_features=log2, min_samples_leaf=5, min_samples_split=5, n_estimators=100;, score=0.805 total time=   0.1s\n",
            "[CV 4/5] END criterion=gini, max_features=log2, min_samples_leaf=5, min_samples_split=5, n_estimators=100;, score=0.701 total time=   0.1s\n",
            "[CV 5/5] END criterion=gini, max_features=log2, min_samples_leaf=5, min_samples_split=5, n_estimators=100;, score=0.789 total time=   0.1s\n",
            "[CV 1/5] END criterion=gini, max_features=log2, min_samples_leaf=5, min_samples_split=5, n_estimators=115;, score=0.675 total time=   0.1s\n",
            "[CV 2/5] END criterion=gini, max_features=log2, min_samples_leaf=5, min_samples_split=5, n_estimators=115;, score=0.740 total time=   0.1s\n",
            "[CV 3/5] END criterion=gini, max_features=log2, min_samples_leaf=5, min_samples_split=5, n_estimators=115;, score=0.805 total time=   0.1s\n",
            "[CV 4/5] END criterion=gini, max_features=log2, min_samples_leaf=5, min_samples_split=5, n_estimators=115;, score=0.701 total time=   0.1s\n",
            "[CV 5/5] END criterion=gini, max_features=log2, min_samples_leaf=5, min_samples_split=5, n_estimators=115;, score=0.789 total time=   0.1s\n",
            "[CV 1/5] END criterion=gini, max_features=log2, min_samples_leaf=5, min_samples_split=6, n_estimators=90;, score=0.675 total time=   0.1s\n",
            "[CV 2/5] END criterion=gini, max_features=log2, min_samples_leaf=5, min_samples_split=6, n_estimators=90;, score=0.740 total time=   0.1s\n",
            "[CV 3/5] END criterion=gini, max_features=log2, min_samples_leaf=5, min_samples_split=6, n_estimators=90;, score=0.805 total time=   0.1s\n",
            "[CV 4/5] END criterion=gini, max_features=log2, min_samples_leaf=5, min_samples_split=6, n_estimators=90;, score=0.701 total time=   0.1s\n",
            "[CV 5/5] END criterion=gini, max_features=log2, min_samples_leaf=5, min_samples_split=6, n_estimators=90;, score=0.789 total time=   0.1s\n",
            "[CV 1/5] END criterion=gini, max_features=log2, min_samples_leaf=5, min_samples_split=6, n_estimators=100;, score=0.675 total time=   0.1s\n",
            "[CV 2/5] END criterion=gini, max_features=log2, min_samples_leaf=5, min_samples_split=6, n_estimators=100;, score=0.740 total time=   0.1s\n",
            "[CV 3/5] END criterion=gini, max_features=log2, min_samples_leaf=5, min_samples_split=6, n_estimators=100;, score=0.805 total time=   0.1s\n",
            "[CV 4/5] END criterion=gini, max_features=log2, min_samples_leaf=5, min_samples_split=6, n_estimators=100;, score=0.701 total time=   0.1s\n",
            "[CV 5/5] END criterion=gini, max_features=log2, min_samples_leaf=5, min_samples_split=6, n_estimators=100;, score=0.789 total time=   0.1s\n",
            "[CV 1/5] END criterion=gini, max_features=log2, min_samples_leaf=5, min_samples_split=6, n_estimators=115;, score=0.675 total time=   0.2s\n",
            "[CV 2/5] END criterion=gini, max_features=log2, min_samples_leaf=5, min_samples_split=6, n_estimators=115;, score=0.740 total time=   0.1s\n",
            "[CV 3/5] END criterion=gini, max_features=log2, min_samples_leaf=5, min_samples_split=6, n_estimators=115;, score=0.805 total time=   0.1s\n",
            "[CV 4/5] END criterion=gini, max_features=log2, min_samples_leaf=5, min_samples_split=6, n_estimators=115;, score=0.701 total time=   0.1s\n",
            "[CV 5/5] END criterion=gini, max_features=log2, min_samples_leaf=5, min_samples_split=6, n_estimators=115;, score=0.789 total time=   0.1s\n",
            "[CV 1/5] END criterion=gini, max_features=log2, min_samples_leaf=5, min_samples_split=7, n_estimators=90;, score=0.675 total time=   0.1s\n",
            "[CV 2/5] END criterion=gini, max_features=log2, min_samples_leaf=5, min_samples_split=7, n_estimators=90;, score=0.740 total time=   0.1s\n",
            "[CV 3/5] END criterion=gini, max_features=log2, min_samples_leaf=5, min_samples_split=7, n_estimators=90;, score=0.805 total time=   0.1s\n",
            "[CV 4/5] END criterion=gini, max_features=log2, min_samples_leaf=5, min_samples_split=7, n_estimators=90;, score=0.701 total time=   0.1s\n",
            "[CV 5/5] END criterion=gini, max_features=log2, min_samples_leaf=5, min_samples_split=7, n_estimators=90;, score=0.789 total time=   0.1s\n",
            "[CV 1/5] END criterion=gini, max_features=log2, min_samples_leaf=5, min_samples_split=7, n_estimators=100;, score=0.675 total time=   0.2s\n",
            "[CV 2/5] END criterion=gini, max_features=log2, min_samples_leaf=5, min_samples_split=7, n_estimators=100;, score=0.740 total time=   0.2s\n",
            "[CV 3/5] END criterion=gini, max_features=log2, min_samples_leaf=5, min_samples_split=7, n_estimators=100;, score=0.805 total time=   0.2s\n",
            "[CV 4/5] END criterion=gini, max_features=log2, min_samples_leaf=5, min_samples_split=7, n_estimators=100;, score=0.701 total time=   0.2s\n",
            "[CV 5/5] END criterion=gini, max_features=log2, min_samples_leaf=5, min_samples_split=7, n_estimators=100;, score=0.789 total time=   0.2s\n",
            "[CV 1/5] END criterion=gini, max_features=log2, min_samples_leaf=5, min_samples_split=7, n_estimators=115;, score=0.675 total time=   0.2s\n",
            "[CV 2/5] END criterion=gini, max_features=log2, min_samples_leaf=5, min_samples_split=7, n_estimators=115;, score=0.740 total time=   0.2s\n",
            "[CV 3/5] END criterion=gini, max_features=log2, min_samples_leaf=5, min_samples_split=7, n_estimators=115;, score=0.805 total time=   0.2s\n",
            "[CV 4/5] END criterion=gini, max_features=log2, min_samples_leaf=5, min_samples_split=7, n_estimators=115;, score=0.701 total time=   0.2s\n",
            "[CV 5/5] END criterion=gini, max_features=log2, min_samples_leaf=5, min_samples_split=7, n_estimators=115;, score=0.789 total time=   0.2s\n",
            "[CV 1/5] END criterion=gini, max_features=log2, min_samples_leaf=5, min_samples_split=8, n_estimators=90;, score=0.675 total time=   0.2s\n",
            "[CV 2/5] END criterion=gini, max_features=log2, min_samples_leaf=5, min_samples_split=8, n_estimators=90;, score=0.740 total time=   0.2s\n",
            "[CV 3/5] END criterion=gini, max_features=log2, min_samples_leaf=5, min_samples_split=8, n_estimators=90;, score=0.805 total time=   0.2s\n",
            "[CV 4/5] END criterion=gini, max_features=log2, min_samples_leaf=5, min_samples_split=8, n_estimators=90;, score=0.701 total time=   0.2s\n",
            "[CV 5/5] END criterion=gini, max_features=log2, min_samples_leaf=5, min_samples_split=8, n_estimators=90;, score=0.789 total time=   0.1s\n",
            "[CV 1/5] END criterion=gini, max_features=log2, min_samples_leaf=5, min_samples_split=8, n_estimators=100;, score=0.675 total time=   0.1s\n",
            "[CV 2/5] END criterion=gini, max_features=log2, min_samples_leaf=5, min_samples_split=8, n_estimators=100;, score=0.740 total time=   0.1s\n",
            "[CV 3/5] END criterion=gini, max_features=log2, min_samples_leaf=5, min_samples_split=8, n_estimators=100;, score=0.805 total time=   0.1s\n",
            "[CV 4/5] END criterion=gini, max_features=log2, min_samples_leaf=5, min_samples_split=8, n_estimators=100;, score=0.701 total time=   0.1s\n",
            "[CV 5/5] END criterion=gini, max_features=log2, min_samples_leaf=5, min_samples_split=8, n_estimators=100;, score=0.789 total time=   0.1s\n",
            "[CV 1/5] END criterion=gini, max_features=log2, min_samples_leaf=5, min_samples_split=8, n_estimators=115;, score=0.675 total time=   0.1s\n",
            "[CV 2/5] END criterion=gini, max_features=log2, min_samples_leaf=5, min_samples_split=8, n_estimators=115;, score=0.740 total time=   0.2s\n",
            "[CV 3/5] END criterion=gini, max_features=log2, min_samples_leaf=5, min_samples_split=8, n_estimators=115;, score=0.805 total time=   0.1s\n",
            "[CV 4/5] END criterion=gini, max_features=log2, min_samples_leaf=5, min_samples_split=8, n_estimators=115;, score=0.701 total time=   0.1s\n",
            "[CV 5/5] END criterion=gini, max_features=log2, min_samples_leaf=5, min_samples_split=8, n_estimators=115;, score=0.789 total time=   0.1s\n"
          ]
        },
        {
          "output_type": "stream",
          "name": "stderr",
          "text": [
            "/usr/local/lib/python3.10/dist-packages/sklearn/ensemble/_forest.py:424: FutureWarning: `max_features='auto'` has been deprecated in 1.1 and will be removed in 1.3. To keep the past behaviour, explicitly set `max_features='sqrt'` or remove this parameter as it is also the default value for RandomForestClassifiers and ExtraTreesClassifiers.\n",
            "  warn(\n",
            "/usr/local/lib/python3.10/dist-packages/sklearn/ensemble/_forest.py:424: FutureWarning: `max_features='auto'` has been deprecated in 1.1 and will be removed in 1.3. To keep the past behaviour, explicitly set `max_features='sqrt'` or remove this parameter as it is also the default value for RandomForestClassifiers and ExtraTreesClassifiers.\n",
            "  warn(\n"
          ]
        },
        {
          "output_type": "stream",
          "name": "stdout",
          "text": [
            "[CV 1/5] END criterion=entropy, max_features=auto, min_samples_leaf=1, min_samples_split=4, n_estimators=90;, score=0.675 total time=   0.1s\n",
            "[CV 2/5] END criterion=entropy, max_features=auto, min_samples_leaf=1, min_samples_split=4, n_estimators=90;, score=0.740 total time=   0.1s\n"
          ]
        },
        {
          "output_type": "stream",
          "name": "stderr",
          "text": [
            "/usr/local/lib/python3.10/dist-packages/sklearn/ensemble/_forest.py:424: FutureWarning: `max_features='auto'` has been deprecated in 1.1 and will be removed in 1.3. To keep the past behaviour, explicitly set `max_features='sqrt'` or remove this parameter as it is also the default value for RandomForestClassifiers and ExtraTreesClassifiers.\n",
            "  warn(\n",
            "/usr/local/lib/python3.10/dist-packages/sklearn/ensemble/_forest.py:424: FutureWarning: `max_features='auto'` has been deprecated in 1.1 and will be removed in 1.3. To keep the past behaviour, explicitly set `max_features='sqrt'` or remove this parameter as it is also the default value for RandomForestClassifiers and ExtraTreesClassifiers.\n",
            "  warn(\n"
          ]
        },
        {
          "output_type": "stream",
          "name": "stdout",
          "text": [
            "[CV 3/5] END criterion=entropy, max_features=auto, min_samples_leaf=1, min_samples_split=4, n_estimators=90;, score=0.805 total time=   0.1s\n",
            "[CV 4/5] END criterion=entropy, max_features=auto, min_samples_leaf=1, min_samples_split=4, n_estimators=90;, score=0.701 total time=   0.1s\n"
          ]
        },
        {
          "output_type": "stream",
          "name": "stderr",
          "text": [
            "/usr/local/lib/python3.10/dist-packages/sklearn/ensemble/_forest.py:424: FutureWarning: `max_features='auto'` has been deprecated in 1.1 and will be removed in 1.3. To keep the past behaviour, explicitly set `max_features='sqrt'` or remove this parameter as it is also the default value for RandomForestClassifiers and ExtraTreesClassifiers.\n",
            "  warn(\n",
            "/usr/local/lib/python3.10/dist-packages/sklearn/ensemble/_forest.py:424: FutureWarning: `max_features='auto'` has been deprecated in 1.1 and will be removed in 1.3. To keep the past behaviour, explicitly set `max_features='sqrt'` or remove this parameter as it is also the default value for RandomForestClassifiers and ExtraTreesClassifiers.\n",
            "  warn(\n"
          ]
        },
        {
          "output_type": "stream",
          "name": "stdout",
          "text": [
            "[CV 5/5] END criterion=entropy, max_features=auto, min_samples_leaf=1, min_samples_split=4, n_estimators=90;, score=0.789 total time=   0.1s\n",
            "[CV 1/5] END criterion=entropy, max_features=auto, min_samples_leaf=1, min_samples_split=4, n_estimators=100;, score=0.675 total time=   0.1s\n"
          ]
        },
        {
          "output_type": "stream",
          "name": "stderr",
          "text": [
            "/usr/local/lib/python3.10/dist-packages/sklearn/ensemble/_forest.py:424: FutureWarning: `max_features='auto'` has been deprecated in 1.1 and will be removed in 1.3. To keep the past behaviour, explicitly set `max_features='sqrt'` or remove this parameter as it is also the default value for RandomForestClassifiers and ExtraTreesClassifiers.\n",
            "  warn(\n",
            "/usr/local/lib/python3.10/dist-packages/sklearn/ensemble/_forest.py:424: FutureWarning: `max_features='auto'` has been deprecated in 1.1 and will be removed in 1.3. To keep the past behaviour, explicitly set `max_features='sqrt'` or remove this parameter as it is also the default value for RandomForestClassifiers and ExtraTreesClassifiers.\n",
            "  warn(\n"
          ]
        },
        {
          "output_type": "stream",
          "name": "stdout",
          "text": [
            "[CV 2/5] END criterion=entropy, max_features=auto, min_samples_leaf=1, min_samples_split=4, n_estimators=100;, score=0.740 total time=   0.1s\n",
            "[CV 3/5] END criterion=entropy, max_features=auto, min_samples_leaf=1, min_samples_split=4, n_estimators=100;, score=0.805 total time=   0.1s\n"
          ]
        },
        {
          "output_type": "stream",
          "name": "stderr",
          "text": [
            "/usr/local/lib/python3.10/dist-packages/sklearn/ensemble/_forest.py:424: FutureWarning: `max_features='auto'` has been deprecated in 1.1 and will be removed in 1.3. To keep the past behaviour, explicitly set `max_features='sqrt'` or remove this parameter as it is also the default value for RandomForestClassifiers and ExtraTreesClassifiers.\n",
            "  warn(\n",
            "/usr/local/lib/python3.10/dist-packages/sklearn/ensemble/_forest.py:424: FutureWarning: `max_features='auto'` has been deprecated in 1.1 and will be removed in 1.3. To keep the past behaviour, explicitly set `max_features='sqrt'` or remove this parameter as it is also the default value for RandomForestClassifiers and ExtraTreesClassifiers.\n",
            "  warn(\n"
          ]
        },
        {
          "output_type": "stream",
          "name": "stdout",
          "text": [
            "[CV 4/5] END criterion=entropy, max_features=auto, min_samples_leaf=1, min_samples_split=4, n_estimators=100;, score=0.701 total time=   0.1s\n",
            "[CV 5/5] END criterion=entropy, max_features=auto, min_samples_leaf=1, min_samples_split=4, n_estimators=100;, score=0.789 total time=   0.1s\n"
          ]
        },
        {
          "output_type": "stream",
          "name": "stderr",
          "text": [
            "/usr/local/lib/python3.10/dist-packages/sklearn/ensemble/_forest.py:424: FutureWarning: `max_features='auto'` has been deprecated in 1.1 and will be removed in 1.3. To keep the past behaviour, explicitly set `max_features='sqrt'` or remove this parameter as it is also the default value for RandomForestClassifiers and ExtraTreesClassifiers.\n",
            "  warn(\n",
            "/usr/local/lib/python3.10/dist-packages/sklearn/ensemble/_forest.py:424: FutureWarning: `max_features='auto'` has been deprecated in 1.1 and will be removed in 1.3. To keep the past behaviour, explicitly set `max_features='sqrt'` or remove this parameter as it is also the default value for RandomForestClassifiers and ExtraTreesClassifiers.\n",
            "  warn(\n"
          ]
        },
        {
          "output_type": "stream",
          "name": "stdout",
          "text": [
            "[CV 1/5] END criterion=entropy, max_features=auto, min_samples_leaf=1, min_samples_split=4, n_estimators=115;, score=0.675 total time=   0.2s\n",
            "[CV 2/5] END criterion=entropy, max_features=auto, min_samples_leaf=1, min_samples_split=4, n_estimators=115;, score=0.740 total time=   0.2s\n"
          ]
        },
        {
          "output_type": "stream",
          "name": "stderr",
          "text": [
            "/usr/local/lib/python3.10/dist-packages/sklearn/ensemble/_forest.py:424: FutureWarning: `max_features='auto'` has been deprecated in 1.1 and will be removed in 1.3. To keep the past behaviour, explicitly set `max_features='sqrt'` or remove this parameter as it is also the default value for RandomForestClassifiers and ExtraTreesClassifiers.\n",
            "  warn(\n",
            "/usr/local/lib/python3.10/dist-packages/sklearn/ensemble/_forest.py:424: FutureWarning: `max_features='auto'` has been deprecated in 1.1 and will be removed in 1.3. To keep the past behaviour, explicitly set `max_features='sqrt'` or remove this parameter as it is also the default value for RandomForestClassifiers and ExtraTreesClassifiers.\n",
            "  warn(\n"
          ]
        },
        {
          "output_type": "stream",
          "name": "stdout",
          "text": [
            "[CV 3/5] END criterion=entropy, max_features=auto, min_samples_leaf=1, min_samples_split=4, n_estimators=115;, score=0.805 total time=   0.2s\n",
            "[CV 4/5] END criterion=entropy, max_features=auto, min_samples_leaf=1, min_samples_split=4, n_estimators=115;, score=0.701 total time=   0.1s\n"
          ]
        },
        {
          "output_type": "stream",
          "name": "stderr",
          "text": [
            "/usr/local/lib/python3.10/dist-packages/sklearn/ensemble/_forest.py:424: FutureWarning: `max_features='auto'` has been deprecated in 1.1 and will be removed in 1.3. To keep the past behaviour, explicitly set `max_features='sqrt'` or remove this parameter as it is also the default value for RandomForestClassifiers and ExtraTreesClassifiers.\n",
            "  warn(\n",
            "/usr/local/lib/python3.10/dist-packages/sklearn/ensemble/_forest.py:424: FutureWarning: `max_features='auto'` has been deprecated in 1.1 and will be removed in 1.3. To keep the past behaviour, explicitly set `max_features='sqrt'` or remove this parameter as it is also the default value for RandomForestClassifiers and ExtraTreesClassifiers.\n",
            "  warn(\n"
          ]
        },
        {
          "output_type": "stream",
          "name": "stdout",
          "text": [
            "[CV 5/5] END criterion=entropy, max_features=auto, min_samples_leaf=1, min_samples_split=4, n_estimators=115;, score=0.789 total time=   0.2s\n",
            "[CV 1/5] END criterion=entropy, max_features=auto, min_samples_leaf=1, min_samples_split=5, n_estimators=90;, score=0.675 total time=   0.1s\n"
          ]
        },
        {
          "output_type": "stream",
          "name": "stderr",
          "text": [
            "/usr/local/lib/python3.10/dist-packages/sklearn/ensemble/_forest.py:424: FutureWarning: `max_features='auto'` has been deprecated in 1.1 and will be removed in 1.3. To keep the past behaviour, explicitly set `max_features='sqrt'` or remove this parameter as it is also the default value for RandomForestClassifiers and ExtraTreesClassifiers.\n",
            "  warn(\n",
            "/usr/local/lib/python3.10/dist-packages/sklearn/ensemble/_forest.py:424: FutureWarning: `max_features='auto'` has been deprecated in 1.1 and will be removed in 1.3. To keep the past behaviour, explicitly set `max_features='sqrt'` or remove this parameter as it is also the default value for RandomForestClassifiers and ExtraTreesClassifiers.\n",
            "  warn(\n"
          ]
        },
        {
          "output_type": "stream",
          "name": "stdout",
          "text": [
            "[CV 2/5] END criterion=entropy, max_features=auto, min_samples_leaf=1, min_samples_split=5, n_estimators=90;, score=0.740 total time=   0.1s\n",
            "[CV 3/5] END criterion=entropy, max_features=auto, min_samples_leaf=1, min_samples_split=5, n_estimators=90;, score=0.805 total time=   0.1s\n"
          ]
        },
        {
          "output_type": "stream",
          "name": "stderr",
          "text": [
            "/usr/local/lib/python3.10/dist-packages/sklearn/ensemble/_forest.py:424: FutureWarning: `max_features='auto'` has been deprecated in 1.1 and will be removed in 1.3. To keep the past behaviour, explicitly set `max_features='sqrt'` or remove this parameter as it is also the default value for RandomForestClassifiers and ExtraTreesClassifiers.\n",
            "  warn(\n",
            "/usr/local/lib/python3.10/dist-packages/sklearn/ensemble/_forest.py:424: FutureWarning: `max_features='auto'` has been deprecated in 1.1 and will be removed in 1.3. To keep the past behaviour, explicitly set `max_features='sqrt'` or remove this parameter as it is also the default value for RandomForestClassifiers and ExtraTreesClassifiers.\n",
            "  warn(\n"
          ]
        },
        {
          "output_type": "stream",
          "name": "stdout",
          "text": [
            "[CV 4/5] END criterion=entropy, max_features=auto, min_samples_leaf=1, min_samples_split=5, n_estimators=90;, score=0.701 total time=   0.1s\n",
            "[CV 5/5] END criterion=entropy, max_features=auto, min_samples_leaf=1, min_samples_split=5, n_estimators=90;, score=0.789 total time=   0.1s\n"
          ]
        },
        {
          "output_type": "stream",
          "name": "stderr",
          "text": [
            "/usr/local/lib/python3.10/dist-packages/sklearn/ensemble/_forest.py:424: FutureWarning: `max_features='auto'` has been deprecated in 1.1 and will be removed in 1.3. To keep the past behaviour, explicitly set `max_features='sqrt'` or remove this parameter as it is also the default value for RandomForestClassifiers and ExtraTreesClassifiers.\n",
            "  warn(\n",
            "/usr/local/lib/python3.10/dist-packages/sklearn/ensemble/_forest.py:424: FutureWarning: `max_features='auto'` has been deprecated in 1.1 and will be removed in 1.3. To keep the past behaviour, explicitly set `max_features='sqrt'` or remove this parameter as it is also the default value for RandomForestClassifiers and ExtraTreesClassifiers.\n",
            "  warn(\n"
          ]
        },
        {
          "output_type": "stream",
          "name": "stdout",
          "text": [
            "[CV 1/5] END criterion=entropy, max_features=auto, min_samples_leaf=1, min_samples_split=5, n_estimators=100;, score=0.675 total time=   0.1s\n",
            "[CV 2/5] END criterion=entropy, max_features=auto, min_samples_leaf=1, min_samples_split=5, n_estimators=100;, score=0.740 total time=   0.1s\n"
          ]
        },
        {
          "output_type": "stream",
          "name": "stderr",
          "text": [
            "/usr/local/lib/python3.10/dist-packages/sklearn/ensemble/_forest.py:424: FutureWarning: `max_features='auto'` has been deprecated in 1.1 and will be removed in 1.3. To keep the past behaviour, explicitly set `max_features='sqrt'` or remove this parameter as it is also the default value for RandomForestClassifiers and ExtraTreesClassifiers.\n",
            "  warn(\n",
            "/usr/local/lib/python3.10/dist-packages/sklearn/ensemble/_forest.py:424: FutureWarning: `max_features='auto'` has been deprecated in 1.1 and will be removed in 1.3. To keep the past behaviour, explicitly set `max_features='sqrt'` or remove this parameter as it is also the default value for RandomForestClassifiers and ExtraTreesClassifiers.\n",
            "  warn(\n"
          ]
        },
        {
          "output_type": "stream",
          "name": "stdout",
          "text": [
            "[CV 3/5] END criterion=entropy, max_features=auto, min_samples_leaf=1, min_samples_split=5, n_estimators=100;, score=0.805 total time=   0.1s\n",
            "[CV 4/5] END criterion=entropy, max_features=auto, min_samples_leaf=1, min_samples_split=5, n_estimators=100;, score=0.701 total time=   0.1s\n"
          ]
        },
        {
          "output_type": "stream",
          "name": "stderr",
          "text": [
            "/usr/local/lib/python3.10/dist-packages/sklearn/ensemble/_forest.py:424: FutureWarning: `max_features='auto'` has been deprecated in 1.1 and will be removed in 1.3. To keep the past behaviour, explicitly set `max_features='sqrt'` or remove this parameter as it is also the default value for RandomForestClassifiers and ExtraTreesClassifiers.\n",
            "  warn(\n",
            "/usr/local/lib/python3.10/dist-packages/sklearn/ensemble/_forest.py:424: FutureWarning: `max_features='auto'` has been deprecated in 1.1 and will be removed in 1.3. To keep the past behaviour, explicitly set `max_features='sqrt'` or remove this parameter as it is also the default value for RandomForestClassifiers and ExtraTreesClassifiers.\n",
            "  warn(\n"
          ]
        },
        {
          "output_type": "stream",
          "name": "stdout",
          "text": [
            "[CV 5/5] END criterion=entropy, max_features=auto, min_samples_leaf=1, min_samples_split=5, n_estimators=100;, score=0.789 total time=   0.1s\n",
            "[CV 1/5] END criterion=entropy, max_features=auto, min_samples_leaf=1, min_samples_split=5, n_estimators=115;, score=0.675 total time=   0.2s\n"
          ]
        },
        {
          "output_type": "stream",
          "name": "stderr",
          "text": [
            "/usr/local/lib/python3.10/dist-packages/sklearn/ensemble/_forest.py:424: FutureWarning: `max_features='auto'` has been deprecated in 1.1 and will be removed in 1.3. To keep the past behaviour, explicitly set `max_features='sqrt'` or remove this parameter as it is also the default value for RandomForestClassifiers and ExtraTreesClassifiers.\n",
            "  warn(\n",
            "/usr/local/lib/python3.10/dist-packages/sklearn/ensemble/_forest.py:424: FutureWarning: `max_features='auto'` has been deprecated in 1.1 and will be removed in 1.3. To keep the past behaviour, explicitly set `max_features='sqrt'` or remove this parameter as it is also the default value for RandomForestClassifiers and ExtraTreesClassifiers.\n",
            "  warn(\n"
          ]
        },
        {
          "output_type": "stream",
          "name": "stdout",
          "text": [
            "[CV 2/5] END criterion=entropy, max_features=auto, min_samples_leaf=1, min_samples_split=5, n_estimators=115;, score=0.740 total time=   0.2s\n",
            "[CV 3/5] END criterion=entropy, max_features=auto, min_samples_leaf=1, min_samples_split=5, n_estimators=115;, score=0.805 total time=   0.2s\n"
          ]
        },
        {
          "output_type": "stream",
          "name": "stderr",
          "text": [
            "/usr/local/lib/python3.10/dist-packages/sklearn/ensemble/_forest.py:424: FutureWarning: `max_features='auto'` has been deprecated in 1.1 and will be removed in 1.3. To keep the past behaviour, explicitly set `max_features='sqrt'` or remove this parameter as it is also the default value for RandomForestClassifiers and ExtraTreesClassifiers.\n",
            "  warn(\n",
            "/usr/local/lib/python3.10/dist-packages/sklearn/ensemble/_forest.py:424: FutureWarning: `max_features='auto'` has been deprecated in 1.1 and will be removed in 1.3. To keep the past behaviour, explicitly set `max_features='sqrt'` or remove this parameter as it is also the default value for RandomForestClassifiers and ExtraTreesClassifiers.\n",
            "  warn(\n"
          ]
        },
        {
          "output_type": "stream",
          "name": "stdout",
          "text": [
            "[CV 4/5] END criterion=entropy, max_features=auto, min_samples_leaf=1, min_samples_split=5, n_estimators=115;, score=0.701 total time=   0.1s\n",
            "[CV 5/5] END criterion=entropy, max_features=auto, min_samples_leaf=1, min_samples_split=5, n_estimators=115;, score=0.789 total time=   0.1s\n"
          ]
        },
        {
          "output_type": "stream",
          "name": "stderr",
          "text": [
            "/usr/local/lib/python3.10/dist-packages/sklearn/ensemble/_forest.py:424: FutureWarning: `max_features='auto'` has been deprecated in 1.1 and will be removed in 1.3. To keep the past behaviour, explicitly set `max_features='sqrt'` or remove this parameter as it is also the default value for RandomForestClassifiers and ExtraTreesClassifiers.\n",
            "  warn(\n",
            "/usr/local/lib/python3.10/dist-packages/sklearn/ensemble/_forest.py:424: FutureWarning: `max_features='auto'` has been deprecated in 1.1 and will be removed in 1.3. To keep the past behaviour, explicitly set `max_features='sqrt'` or remove this parameter as it is also the default value for RandomForestClassifiers and ExtraTreesClassifiers.\n",
            "  warn(\n"
          ]
        },
        {
          "output_type": "stream",
          "name": "stdout",
          "text": [
            "[CV 1/5] END criterion=entropy, max_features=auto, min_samples_leaf=1, min_samples_split=6, n_estimators=90;, score=0.675 total time=   0.1s\n",
            "[CV 2/5] END criterion=entropy, max_features=auto, min_samples_leaf=1, min_samples_split=6, n_estimators=90;, score=0.740 total time=   0.1s\n"
          ]
        },
        {
          "output_type": "stream",
          "name": "stderr",
          "text": [
            "/usr/local/lib/python3.10/dist-packages/sklearn/ensemble/_forest.py:424: FutureWarning: `max_features='auto'` has been deprecated in 1.1 and will be removed in 1.3. To keep the past behaviour, explicitly set `max_features='sqrt'` or remove this parameter as it is also the default value for RandomForestClassifiers and ExtraTreesClassifiers.\n",
            "  warn(\n",
            "/usr/local/lib/python3.10/dist-packages/sklearn/ensemble/_forest.py:424: FutureWarning: `max_features='auto'` has been deprecated in 1.1 and will be removed in 1.3. To keep the past behaviour, explicitly set `max_features='sqrt'` or remove this parameter as it is also the default value for RandomForestClassifiers and ExtraTreesClassifiers.\n",
            "  warn(\n"
          ]
        },
        {
          "output_type": "stream",
          "name": "stdout",
          "text": [
            "[CV 3/5] END criterion=entropy, max_features=auto, min_samples_leaf=1, min_samples_split=6, n_estimators=90;, score=0.805 total time=   0.1s\n",
            "[CV 4/5] END criterion=entropy, max_features=auto, min_samples_leaf=1, min_samples_split=6, n_estimators=90;, score=0.701 total time=   0.1s\n"
          ]
        },
        {
          "output_type": "stream",
          "name": "stderr",
          "text": [
            "/usr/local/lib/python3.10/dist-packages/sklearn/ensemble/_forest.py:424: FutureWarning: `max_features='auto'` has been deprecated in 1.1 and will be removed in 1.3. To keep the past behaviour, explicitly set `max_features='sqrt'` or remove this parameter as it is also the default value for RandomForestClassifiers and ExtraTreesClassifiers.\n",
            "  warn(\n",
            "/usr/local/lib/python3.10/dist-packages/sklearn/ensemble/_forest.py:424: FutureWarning: `max_features='auto'` has been deprecated in 1.1 and will be removed in 1.3. To keep the past behaviour, explicitly set `max_features='sqrt'` or remove this parameter as it is also the default value for RandomForestClassifiers and ExtraTreesClassifiers.\n",
            "  warn(\n"
          ]
        },
        {
          "output_type": "stream",
          "name": "stdout",
          "text": [
            "[CV 5/5] END criterion=entropy, max_features=auto, min_samples_leaf=1, min_samples_split=6, n_estimators=90;, score=0.789 total time=   0.1s\n",
            "[CV 1/5] END criterion=entropy, max_features=auto, min_samples_leaf=1, min_samples_split=6, n_estimators=100;, score=0.675 total time=   0.1s\n"
          ]
        },
        {
          "output_type": "stream",
          "name": "stderr",
          "text": [
            "/usr/local/lib/python3.10/dist-packages/sklearn/ensemble/_forest.py:424: FutureWarning: `max_features='auto'` has been deprecated in 1.1 and will be removed in 1.3. To keep the past behaviour, explicitly set `max_features='sqrt'` or remove this parameter as it is also the default value for RandomForestClassifiers and ExtraTreesClassifiers.\n",
            "  warn(\n",
            "/usr/local/lib/python3.10/dist-packages/sklearn/ensemble/_forest.py:424: FutureWarning: `max_features='auto'` has been deprecated in 1.1 and will be removed in 1.3. To keep the past behaviour, explicitly set `max_features='sqrt'` or remove this parameter as it is also the default value for RandomForestClassifiers and ExtraTreesClassifiers.\n",
            "  warn(\n"
          ]
        },
        {
          "output_type": "stream",
          "name": "stdout",
          "text": [
            "[CV 2/5] END criterion=entropy, max_features=auto, min_samples_leaf=1, min_samples_split=6, n_estimators=100;, score=0.740 total time=   0.1s\n",
            "[CV 3/5] END criterion=entropy, max_features=auto, min_samples_leaf=1, min_samples_split=6, n_estimators=100;, score=0.805 total time=   0.1s\n"
          ]
        },
        {
          "output_type": "stream",
          "name": "stderr",
          "text": [
            "/usr/local/lib/python3.10/dist-packages/sklearn/ensemble/_forest.py:424: FutureWarning: `max_features='auto'` has been deprecated in 1.1 and will be removed in 1.3. To keep the past behaviour, explicitly set `max_features='sqrt'` or remove this parameter as it is also the default value for RandomForestClassifiers and ExtraTreesClassifiers.\n",
            "  warn(\n",
            "/usr/local/lib/python3.10/dist-packages/sklearn/ensemble/_forest.py:424: FutureWarning: `max_features='auto'` has been deprecated in 1.1 and will be removed in 1.3. To keep the past behaviour, explicitly set `max_features='sqrt'` or remove this parameter as it is also the default value for RandomForestClassifiers and ExtraTreesClassifiers.\n",
            "  warn(\n"
          ]
        },
        {
          "output_type": "stream",
          "name": "stdout",
          "text": [
            "[CV 4/5] END criterion=entropy, max_features=auto, min_samples_leaf=1, min_samples_split=6, n_estimators=100;, score=0.701 total time=   0.2s\n",
            "[CV 5/5] END criterion=entropy, max_features=auto, min_samples_leaf=1, min_samples_split=6, n_estimators=100;, score=0.789 total time=   0.1s\n"
          ]
        },
        {
          "output_type": "stream",
          "name": "stderr",
          "text": [
            "/usr/local/lib/python3.10/dist-packages/sklearn/ensemble/_forest.py:424: FutureWarning: `max_features='auto'` has been deprecated in 1.1 and will be removed in 1.3. To keep the past behaviour, explicitly set `max_features='sqrt'` or remove this parameter as it is also the default value for RandomForestClassifiers and ExtraTreesClassifiers.\n",
            "  warn(\n",
            "/usr/local/lib/python3.10/dist-packages/sklearn/ensemble/_forest.py:424: FutureWarning: `max_features='auto'` has been deprecated in 1.1 and will be removed in 1.3. To keep the past behaviour, explicitly set `max_features='sqrt'` or remove this parameter as it is also the default value for RandomForestClassifiers and ExtraTreesClassifiers.\n",
            "  warn(\n"
          ]
        },
        {
          "output_type": "stream",
          "name": "stdout",
          "text": [
            "[CV 1/5] END criterion=entropy, max_features=auto, min_samples_leaf=1, min_samples_split=6, n_estimators=115;, score=0.675 total time=   0.2s\n",
            "[CV 2/5] END criterion=entropy, max_features=auto, min_samples_leaf=1, min_samples_split=6, n_estimators=115;, score=0.740 total time=   0.2s\n"
          ]
        },
        {
          "output_type": "stream",
          "name": "stderr",
          "text": [
            "/usr/local/lib/python3.10/dist-packages/sklearn/ensemble/_forest.py:424: FutureWarning: `max_features='auto'` has been deprecated in 1.1 and will be removed in 1.3. To keep the past behaviour, explicitly set `max_features='sqrt'` or remove this parameter as it is also the default value for RandomForestClassifiers and ExtraTreesClassifiers.\n",
            "  warn(\n",
            "/usr/local/lib/python3.10/dist-packages/sklearn/ensemble/_forest.py:424: FutureWarning: `max_features='auto'` has been deprecated in 1.1 and will be removed in 1.3. To keep the past behaviour, explicitly set `max_features='sqrt'` or remove this parameter as it is also the default value for RandomForestClassifiers and ExtraTreesClassifiers.\n",
            "  warn(\n"
          ]
        },
        {
          "output_type": "stream",
          "name": "stdout",
          "text": [
            "[CV 3/5] END criterion=entropy, max_features=auto, min_samples_leaf=1, min_samples_split=6, n_estimators=115;, score=0.805 total time=   0.2s\n",
            "[CV 4/5] END criterion=entropy, max_features=auto, min_samples_leaf=1, min_samples_split=6, n_estimators=115;, score=0.701 total time=   0.2s\n"
          ]
        },
        {
          "output_type": "stream",
          "name": "stderr",
          "text": [
            "/usr/local/lib/python3.10/dist-packages/sklearn/ensemble/_forest.py:424: FutureWarning: `max_features='auto'` has been deprecated in 1.1 and will be removed in 1.3. To keep the past behaviour, explicitly set `max_features='sqrt'` or remove this parameter as it is also the default value for RandomForestClassifiers and ExtraTreesClassifiers.\n",
            "  warn(\n",
            "/usr/local/lib/python3.10/dist-packages/sklearn/ensemble/_forest.py:424: FutureWarning: `max_features='auto'` has been deprecated in 1.1 and will be removed in 1.3. To keep the past behaviour, explicitly set `max_features='sqrt'` or remove this parameter as it is also the default value for RandomForestClassifiers and ExtraTreesClassifiers.\n",
            "  warn(\n"
          ]
        },
        {
          "output_type": "stream",
          "name": "stdout",
          "text": [
            "[CV 5/5] END criterion=entropy, max_features=auto, min_samples_leaf=1, min_samples_split=6, n_estimators=115;, score=0.789 total time=   0.2s\n",
            "[CV 1/5] END criterion=entropy, max_features=auto, min_samples_leaf=1, min_samples_split=7, n_estimators=90;, score=0.675 total time=   0.1s\n"
          ]
        },
        {
          "output_type": "stream",
          "name": "stderr",
          "text": [
            "/usr/local/lib/python3.10/dist-packages/sklearn/ensemble/_forest.py:424: FutureWarning: `max_features='auto'` has been deprecated in 1.1 and will be removed in 1.3. To keep the past behaviour, explicitly set `max_features='sqrt'` or remove this parameter as it is also the default value for RandomForestClassifiers and ExtraTreesClassifiers.\n",
            "  warn(\n",
            "/usr/local/lib/python3.10/dist-packages/sklearn/ensemble/_forest.py:424: FutureWarning: `max_features='auto'` has been deprecated in 1.1 and will be removed in 1.3. To keep the past behaviour, explicitly set `max_features='sqrt'` or remove this parameter as it is also the default value for RandomForestClassifiers and ExtraTreesClassifiers.\n",
            "  warn(\n"
          ]
        },
        {
          "output_type": "stream",
          "name": "stdout",
          "text": [
            "[CV 2/5] END criterion=entropy, max_features=auto, min_samples_leaf=1, min_samples_split=7, n_estimators=90;, score=0.740 total time=   0.1s\n",
            "[CV 3/5] END criterion=entropy, max_features=auto, min_samples_leaf=1, min_samples_split=7, n_estimators=90;, score=0.805 total time=   0.1s\n"
          ]
        },
        {
          "output_type": "stream",
          "name": "stderr",
          "text": [
            "/usr/local/lib/python3.10/dist-packages/sklearn/ensemble/_forest.py:424: FutureWarning: `max_features='auto'` has been deprecated in 1.1 and will be removed in 1.3. To keep the past behaviour, explicitly set `max_features='sqrt'` or remove this parameter as it is also the default value for RandomForestClassifiers and ExtraTreesClassifiers.\n",
            "  warn(\n",
            "/usr/local/lib/python3.10/dist-packages/sklearn/ensemble/_forest.py:424: FutureWarning: `max_features='auto'` has been deprecated in 1.1 and will be removed in 1.3. To keep the past behaviour, explicitly set `max_features='sqrt'` or remove this parameter as it is also the default value for RandomForestClassifiers and ExtraTreesClassifiers.\n",
            "  warn(\n"
          ]
        },
        {
          "output_type": "stream",
          "name": "stdout",
          "text": [
            "[CV 4/5] END criterion=entropy, max_features=auto, min_samples_leaf=1, min_samples_split=7, n_estimators=90;, score=0.701 total time=   0.1s\n",
            "[CV 5/5] END criterion=entropy, max_features=auto, min_samples_leaf=1, min_samples_split=7, n_estimators=90;, score=0.789 total time=   0.1s\n"
          ]
        },
        {
          "output_type": "stream",
          "name": "stderr",
          "text": [
            "/usr/local/lib/python3.10/dist-packages/sklearn/ensemble/_forest.py:424: FutureWarning: `max_features='auto'` has been deprecated in 1.1 and will be removed in 1.3. To keep the past behaviour, explicitly set `max_features='sqrt'` or remove this parameter as it is also the default value for RandomForestClassifiers and ExtraTreesClassifiers.\n",
            "  warn(\n",
            "/usr/local/lib/python3.10/dist-packages/sklearn/ensemble/_forest.py:424: FutureWarning: `max_features='auto'` has been deprecated in 1.1 and will be removed in 1.3. To keep the past behaviour, explicitly set `max_features='sqrt'` or remove this parameter as it is also the default value for RandomForestClassifiers and ExtraTreesClassifiers.\n",
            "  warn(\n"
          ]
        },
        {
          "output_type": "stream",
          "name": "stdout",
          "text": [
            "[CV 1/5] END criterion=entropy, max_features=auto, min_samples_leaf=1, min_samples_split=7, n_estimators=100;, score=0.675 total time=   0.1s\n",
            "[CV 2/5] END criterion=entropy, max_features=auto, min_samples_leaf=1, min_samples_split=7, n_estimators=100;, score=0.740 total time=   0.1s\n"
          ]
        },
        {
          "output_type": "stream",
          "name": "stderr",
          "text": [
            "/usr/local/lib/python3.10/dist-packages/sklearn/ensemble/_forest.py:424: FutureWarning: `max_features='auto'` has been deprecated in 1.1 and will be removed in 1.3. To keep the past behaviour, explicitly set `max_features='sqrt'` or remove this parameter as it is also the default value for RandomForestClassifiers and ExtraTreesClassifiers.\n",
            "  warn(\n",
            "/usr/local/lib/python3.10/dist-packages/sklearn/ensemble/_forest.py:424: FutureWarning: `max_features='auto'` has been deprecated in 1.1 and will be removed in 1.3. To keep the past behaviour, explicitly set `max_features='sqrt'` or remove this parameter as it is also the default value for RandomForestClassifiers and ExtraTreesClassifiers.\n",
            "  warn(\n"
          ]
        },
        {
          "output_type": "stream",
          "name": "stdout",
          "text": [
            "[CV 3/5] END criterion=entropy, max_features=auto, min_samples_leaf=1, min_samples_split=7, n_estimators=100;, score=0.805 total time=   0.1s\n",
            "[CV 4/5] END criterion=entropy, max_features=auto, min_samples_leaf=1, min_samples_split=7, n_estimators=100;, score=0.701 total time=   0.1s\n"
          ]
        },
        {
          "output_type": "stream",
          "name": "stderr",
          "text": [
            "/usr/local/lib/python3.10/dist-packages/sklearn/ensemble/_forest.py:424: FutureWarning: `max_features='auto'` has been deprecated in 1.1 and will be removed in 1.3. To keep the past behaviour, explicitly set `max_features='sqrt'` or remove this parameter as it is also the default value for RandomForestClassifiers and ExtraTreesClassifiers.\n",
            "  warn(\n",
            "/usr/local/lib/python3.10/dist-packages/sklearn/ensemble/_forest.py:424: FutureWarning: `max_features='auto'` has been deprecated in 1.1 and will be removed in 1.3. To keep the past behaviour, explicitly set `max_features='sqrt'` or remove this parameter as it is also the default value for RandomForestClassifiers and ExtraTreesClassifiers.\n",
            "  warn(\n"
          ]
        },
        {
          "output_type": "stream",
          "name": "stdout",
          "text": [
            "[CV 5/5] END criterion=entropy, max_features=auto, min_samples_leaf=1, min_samples_split=7, n_estimators=100;, score=0.789 total time=   0.1s\n",
            "[CV 1/5] END criterion=entropy, max_features=auto, min_samples_leaf=1, min_samples_split=7, n_estimators=115;, score=0.675 total time=   0.2s\n"
          ]
        },
        {
          "output_type": "stream",
          "name": "stderr",
          "text": [
            "/usr/local/lib/python3.10/dist-packages/sklearn/ensemble/_forest.py:424: FutureWarning: `max_features='auto'` has been deprecated in 1.1 and will be removed in 1.3. To keep the past behaviour, explicitly set `max_features='sqrt'` or remove this parameter as it is also the default value for RandomForestClassifiers and ExtraTreesClassifiers.\n",
            "  warn(\n",
            "/usr/local/lib/python3.10/dist-packages/sklearn/ensemble/_forest.py:424: FutureWarning: `max_features='auto'` has been deprecated in 1.1 and will be removed in 1.3. To keep the past behaviour, explicitly set `max_features='sqrt'` or remove this parameter as it is also the default value for RandomForestClassifiers and ExtraTreesClassifiers.\n",
            "  warn(\n"
          ]
        },
        {
          "output_type": "stream",
          "name": "stdout",
          "text": [
            "[CV 2/5] END criterion=entropy, max_features=auto, min_samples_leaf=1, min_samples_split=7, n_estimators=115;, score=0.740 total time=   0.2s\n",
            "[CV 3/5] END criterion=entropy, max_features=auto, min_samples_leaf=1, min_samples_split=7, n_estimators=115;, score=0.805 total time=   0.2s\n"
          ]
        },
        {
          "output_type": "stream",
          "name": "stderr",
          "text": [
            "/usr/local/lib/python3.10/dist-packages/sklearn/ensemble/_forest.py:424: FutureWarning: `max_features='auto'` has been deprecated in 1.1 and will be removed in 1.3. To keep the past behaviour, explicitly set `max_features='sqrt'` or remove this parameter as it is also the default value for RandomForestClassifiers and ExtraTreesClassifiers.\n",
            "  warn(\n",
            "/usr/local/lib/python3.10/dist-packages/sklearn/ensemble/_forest.py:424: FutureWarning: `max_features='auto'` has been deprecated in 1.1 and will be removed in 1.3. To keep the past behaviour, explicitly set `max_features='sqrt'` or remove this parameter as it is also the default value for RandomForestClassifiers and ExtraTreesClassifiers.\n",
            "  warn(\n"
          ]
        },
        {
          "output_type": "stream",
          "name": "stdout",
          "text": [
            "[CV 4/5] END criterion=entropy, max_features=auto, min_samples_leaf=1, min_samples_split=7, n_estimators=115;, score=0.701 total time=   0.2s\n",
            "[CV 5/5] END criterion=entropy, max_features=auto, min_samples_leaf=1, min_samples_split=7, n_estimators=115;, score=0.789 total time=   0.2s\n"
          ]
        },
        {
          "output_type": "stream",
          "name": "stderr",
          "text": [
            "/usr/local/lib/python3.10/dist-packages/sklearn/ensemble/_forest.py:424: FutureWarning: `max_features='auto'` has been deprecated in 1.1 and will be removed in 1.3. To keep the past behaviour, explicitly set `max_features='sqrt'` or remove this parameter as it is also the default value for RandomForestClassifiers and ExtraTreesClassifiers.\n",
            "  warn(\n",
            "/usr/local/lib/python3.10/dist-packages/sklearn/ensemble/_forest.py:424: FutureWarning: `max_features='auto'` has been deprecated in 1.1 and will be removed in 1.3. To keep the past behaviour, explicitly set `max_features='sqrt'` or remove this parameter as it is also the default value for RandomForestClassifiers and ExtraTreesClassifiers.\n",
            "  warn(\n"
          ]
        },
        {
          "output_type": "stream",
          "name": "stdout",
          "text": [
            "[CV 1/5] END criterion=entropy, max_features=auto, min_samples_leaf=1, min_samples_split=8, n_estimators=90;, score=0.675 total time=   0.2s\n",
            "[CV 2/5] END criterion=entropy, max_features=auto, min_samples_leaf=1, min_samples_split=8, n_estimators=90;, score=0.740 total time=   0.2s\n",
            "[CV 3/5] END criterion=entropy, max_features=auto, min_samples_leaf=1, min_samples_split=8, n_estimators=90;, score=0.805 total time=   0.2s\n"
          ]
        },
        {
          "output_type": "stream",
          "name": "stderr",
          "text": [
            "/usr/local/lib/python3.10/dist-packages/sklearn/ensemble/_forest.py:424: FutureWarning: `max_features='auto'` has been deprecated in 1.1 and will be removed in 1.3. To keep the past behaviour, explicitly set `max_features='sqrt'` or remove this parameter as it is also the default value for RandomForestClassifiers and ExtraTreesClassifiers.\n",
            "  warn(\n",
            "/usr/local/lib/python3.10/dist-packages/sklearn/ensemble/_forest.py:424: FutureWarning: `max_features='auto'` has been deprecated in 1.1 and will be removed in 1.3. To keep the past behaviour, explicitly set `max_features='sqrt'` or remove this parameter as it is also the default value for RandomForestClassifiers and ExtraTreesClassifiers.\n",
            "  warn(\n"
          ]
        },
        {
          "output_type": "stream",
          "name": "stdout",
          "text": [
            "[CV 4/5] END criterion=entropy, max_features=auto, min_samples_leaf=1, min_samples_split=8, n_estimators=90;, score=0.701 total time=   0.2s\n",
            "[CV 5/5] END criterion=entropy, max_features=auto, min_samples_leaf=1, min_samples_split=8, n_estimators=90;, score=0.789 total time=   0.2s\n"
          ]
        },
        {
          "output_type": "stream",
          "name": "stderr",
          "text": [
            "/usr/local/lib/python3.10/dist-packages/sklearn/ensemble/_forest.py:424: FutureWarning: `max_features='auto'` has been deprecated in 1.1 and will be removed in 1.3. To keep the past behaviour, explicitly set `max_features='sqrt'` or remove this parameter as it is also the default value for RandomForestClassifiers and ExtraTreesClassifiers.\n",
            "  warn(\n",
            "/usr/local/lib/python3.10/dist-packages/sklearn/ensemble/_forest.py:424: FutureWarning: `max_features='auto'` has been deprecated in 1.1 and will be removed in 1.3. To keep the past behaviour, explicitly set `max_features='sqrt'` or remove this parameter as it is also the default value for RandomForestClassifiers and ExtraTreesClassifiers.\n",
            "  warn(\n"
          ]
        },
        {
          "output_type": "stream",
          "name": "stdout",
          "text": [
            "[CV 1/5] END criterion=entropy, max_features=auto, min_samples_leaf=1, min_samples_split=8, n_estimators=100;, score=0.675 total time=   0.2s\n"
          ]
        },
        {
          "output_type": "stream",
          "name": "stderr",
          "text": [
            "/usr/local/lib/python3.10/dist-packages/sklearn/ensemble/_forest.py:424: FutureWarning: `max_features='auto'` has been deprecated in 1.1 and will be removed in 1.3. To keep the past behaviour, explicitly set `max_features='sqrt'` or remove this parameter as it is also the default value for RandomForestClassifiers and ExtraTreesClassifiers.\n",
            "  warn(\n"
          ]
        },
        {
          "output_type": "stream",
          "name": "stdout",
          "text": [
            "[CV 2/5] END criterion=entropy, max_features=auto, min_samples_leaf=1, min_samples_split=8, n_estimators=100;, score=0.740 total time=   0.2s\n"
          ]
        },
        {
          "output_type": "stream",
          "name": "stderr",
          "text": [
            "/usr/local/lib/python3.10/dist-packages/sklearn/ensemble/_forest.py:424: FutureWarning: `max_features='auto'` has been deprecated in 1.1 and will be removed in 1.3. To keep the past behaviour, explicitly set `max_features='sqrt'` or remove this parameter as it is also the default value for RandomForestClassifiers and ExtraTreesClassifiers.\n",
            "  warn(\n"
          ]
        },
        {
          "output_type": "stream",
          "name": "stdout",
          "text": [
            "[CV 3/5] END criterion=entropy, max_features=auto, min_samples_leaf=1, min_samples_split=8, n_estimators=100;, score=0.805 total time=   0.2s\n",
            "[CV 4/5] END criterion=entropy, max_features=auto, min_samples_leaf=1, min_samples_split=8, n_estimators=100;, score=0.701 total time=   0.2s\n"
          ]
        },
        {
          "output_type": "stream",
          "name": "stderr",
          "text": [
            "/usr/local/lib/python3.10/dist-packages/sklearn/ensemble/_forest.py:424: FutureWarning: `max_features='auto'` has been deprecated in 1.1 and will be removed in 1.3. To keep the past behaviour, explicitly set `max_features='sqrt'` or remove this parameter as it is also the default value for RandomForestClassifiers and ExtraTreesClassifiers.\n",
            "  warn(\n",
            "/usr/local/lib/python3.10/dist-packages/sklearn/ensemble/_forest.py:424: FutureWarning: `max_features='auto'` has been deprecated in 1.1 and will be removed in 1.3. To keep the past behaviour, explicitly set `max_features='sqrt'` or remove this parameter as it is also the default value for RandomForestClassifiers and ExtraTreesClassifiers.\n",
            "  warn(\n"
          ]
        },
        {
          "output_type": "stream",
          "name": "stdout",
          "text": [
            "[CV 5/5] END criterion=entropy, max_features=auto, min_samples_leaf=1, min_samples_split=8, n_estimators=100;, score=0.789 total time=   0.2s\n"
          ]
        },
        {
          "output_type": "stream",
          "name": "stderr",
          "text": [
            "/usr/local/lib/python3.10/dist-packages/sklearn/ensemble/_forest.py:424: FutureWarning: `max_features='auto'` has been deprecated in 1.1 and will be removed in 1.3. To keep the past behaviour, explicitly set `max_features='sqrt'` or remove this parameter as it is also the default value for RandomForestClassifiers and ExtraTreesClassifiers.\n",
            "  warn(\n"
          ]
        },
        {
          "output_type": "stream",
          "name": "stdout",
          "text": [
            "[CV 1/5] END criterion=entropy, max_features=auto, min_samples_leaf=1, min_samples_split=8, n_estimators=115;, score=0.675 total time=   0.3s\n"
          ]
        },
        {
          "output_type": "stream",
          "name": "stderr",
          "text": [
            "/usr/local/lib/python3.10/dist-packages/sklearn/ensemble/_forest.py:424: FutureWarning: `max_features='auto'` has been deprecated in 1.1 and will be removed in 1.3. To keep the past behaviour, explicitly set `max_features='sqrt'` or remove this parameter as it is also the default value for RandomForestClassifiers and ExtraTreesClassifiers.\n",
            "  warn(\n"
          ]
        },
        {
          "output_type": "stream",
          "name": "stdout",
          "text": [
            "[CV 2/5] END criterion=entropy, max_features=auto, min_samples_leaf=1, min_samples_split=8, n_estimators=115;, score=0.740 total time=   0.3s\n"
          ]
        },
        {
          "output_type": "stream",
          "name": "stderr",
          "text": [
            "/usr/local/lib/python3.10/dist-packages/sklearn/ensemble/_forest.py:424: FutureWarning: `max_features='auto'` has been deprecated in 1.1 and will be removed in 1.3. To keep the past behaviour, explicitly set `max_features='sqrt'` or remove this parameter as it is also the default value for RandomForestClassifiers and ExtraTreesClassifiers.\n",
            "  warn(\n"
          ]
        },
        {
          "output_type": "stream",
          "name": "stdout",
          "text": [
            "[CV 3/5] END criterion=entropy, max_features=auto, min_samples_leaf=1, min_samples_split=8, n_estimators=115;, score=0.805 total time=   0.3s\n"
          ]
        },
        {
          "output_type": "stream",
          "name": "stderr",
          "text": [
            "/usr/local/lib/python3.10/dist-packages/sklearn/ensemble/_forest.py:424: FutureWarning: `max_features='auto'` has been deprecated in 1.1 and will be removed in 1.3. To keep the past behaviour, explicitly set `max_features='sqrt'` or remove this parameter as it is also the default value for RandomForestClassifiers and ExtraTreesClassifiers.\n",
            "  warn(\n"
          ]
        },
        {
          "output_type": "stream",
          "name": "stdout",
          "text": [
            "[CV 4/5] END criterion=entropy, max_features=auto, min_samples_leaf=1, min_samples_split=8, n_estimators=115;, score=0.701 total time=   0.2s\n",
            "[CV 5/5] END criterion=entropy, max_features=auto, min_samples_leaf=1, min_samples_split=8, n_estimators=115;, score=0.789 total time=   0.2s\n"
          ]
        },
        {
          "output_type": "stream",
          "name": "stderr",
          "text": [
            "/usr/local/lib/python3.10/dist-packages/sklearn/ensemble/_forest.py:424: FutureWarning: `max_features='auto'` has been deprecated in 1.1 and will be removed in 1.3. To keep the past behaviour, explicitly set `max_features='sqrt'` or remove this parameter as it is also the default value for RandomForestClassifiers and ExtraTreesClassifiers.\n",
            "  warn(\n",
            "/usr/local/lib/python3.10/dist-packages/sklearn/ensemble/_forest.py:424: FutureWarning: `max_features='auto'` has been deprecated in 1.1 and will be removed in 1.3. To keep the past behaviour, explicitly set `max_features='sqrt'` or remove this parameter as it is also the default value for RandomForestClassifiers and ExtraTreesClassifiers.\n",
            "  warn(\n"
          ]
        },
        {
          "output_type": "stream",
          "name": "stdout",
          "text": [
            "[CV 1/5] END criterion=entropy, max_features=auto, min_samples_leaf=2, min_samples_split=4, n_estimators=90;, score=0.675 total time=   0.1s\n",
            "[CV 2/5] END criterion=entropy, max_features=auto, min_samples_leaf=2, min_samples_split=4, n_estimators=90;, score=0.740 total time=   0.1s\n"
          ]
        },
        {
          "output_type": "stream",
          "name": "stderr",
          "text": [
            "/usr/local/lib/python3.10/dist-packages/sklearn/ensemble/_forest.py:424: FutureWarning: `max_features='auto'` has been deprecated in 1.1 and will be removed in 1.3. To keep the past behaviour, explicitly set `max_features='sqrt'` or remove this parameter as it is also the default value for RandomForestClassifiers and ExtraTreesClassifiers.\n",
            "  warn(\n",
            "/usr/local/lib/python3.10/dist-packages/sklearn/ensemble/_forest.py:424: FutureWarning: `max_features='auto'` has been deprecated in 1.1 and will be removed in 1.3. To keep the past behaviour, explicitly set `max_features='sqrt'` or remove this parameter as it is also the default value for RandomForestClassifiers and ExtraTreesClassifiers.\n",
            "  warn(\n"
          ]
        },
        {
          "output_type": "stream",
          "name": "stdout",
          "text": [
            "[CV 3/5] END criterion=entropy, max_features=auto, min_samples_leaf=2, min_samples_split=4, n_estimators=90;, score=0.805 total time=   0.1s\n",
            "[CV 4/5] END criterion=entropy, max_features=auto, min_samples_leaf=2, min_samples_split=4, n_estimators=90;, score=0.701 total time=   0.1s\n"
          ]
        },
        {
          "output_type": "stream",
          "name": "stderr",
          "text": [
            "/usr/local/lib/python3.10/dist-packages/sklearn/ensemble/_forest.py:424: FutureWarning: `max_features='auto'` has been deprecated in 1.1 and will be removed in 1.3. To keep the past behaviour, explicitly set `max_features='sqrt'` or remove this parameter as it is also the default value for RandomForestClassifiers and ExtraTreesClassifiers.\n",
            "  warn(\n",
            "/usr/local/lib/python3.10/dist-packages/sklearn/ensemble/_forest.py:424: FutureWarning: `max_features='auto'` has been deprecated in 1.1 and will be removed in 1.3. To keep the past behaviour, explicitly set `max_features='sqrt'` or remove this parameter as it is also the default value for RandomForestClassifiers and ExtraTreesClassifiers.\n",
            "  warn(\n"
          ]
        },
        {
          "output_type": "stream",
          "name": "stdout",
          "text": [
            "[CV 5/5] END criterion=entropy, max_features=auto, min_samples_leaf=2, min_samples_split=4, n_estimators=90;, score=0.789 total time=   0.1s\n",
            "[CV 1/5] END criterion=entropy, max_features=auto, min_samples_leaf=2, min_samples_split=4, n_estimators=100;, score=0.675 total time=   0.1s\n"
          ]
        },
        {
          "output_type": "stream",
          "name": "stderr",
          "text": [
            "/usr/local/lib/python3.10/dist-packages/sklearn/ensemble/_forest.py:424: FutureWarning: `max_features='auto'` has been deprecated in 1.1 and will be removed in 1.3. To keep the past behaviour, explicitly set `max_features='sqrt'` or remove this parameter as it is also the default value for RandomForestClassifiers and ExtraTreesClassifiers.\n",
            "  warn(\n",
            "/usr/local/lib/python3.10/dist-packages/sklearn/ensemble/_forest.py:424: FutureWarning: `max_features='auto'` has been deprecated in 1.1 and will be removed in 1.3. To keep the past behaviour, explicitly set `max_features='sqrt'` or remove this parameter as it is also the default value for RandomForestClassifiers and ExtraTreesClassifiers.\n",
            "  warn(\n"
          ]
        },
        {
          "output_type": "stream",
          "name": "stdout",
          "text": [
            "[CV 2/5] END criterion=entropy, max_features=auto, min_samples_leaf=2, min_samples_split=4, n_estimators=100;, score=0.740 total time=   0.1s\n",
            "[CV 3/5] END criterion=entropy, max_features=auto, min_samples_leaf=2, min_samples_split=4, n_estimators=100;, score=0.805 total time=   0.1s\n"
          ]
        },
        {
          "output_type": "stream",
          "name": "stderr",
          "text": [
            "/usr/local/lib/python3.10/dist-packages/sklearn/ensemble/_forest.py:424: FutureWarning: `max_features='auto'` has been deprecated in 1.1 and will be removed in 1.3. To keep the past behaviour, explicitly set `max_features='sqrt'` or remove this parameter as it is also the default value for RandomForestClassifiers and ExtraTreesClassifiers.\n",
            "  warn(\n",
            "/usr/local/lib/python3.10/dist-packages/sklearn/ensemble/_forest.py:424: FutureWarning: `max_features='auto'` has been deprecated in 1.1 and will be removed in 1.3. To keep the past behaviour, explicitly set `max_features='sqrt'` or remove this parameter as it is also the default value for RandomForestClassifiers and ExtraTreesClassifiers.\n",
            "  warn(\n"
          ]
        },
        {
          "output_type": "stream",
          "name": "stdout",
          "text": [
            "[CV 4/5] END criterion=entropy, max_features=auto, min_samples_leaf=2, min_samples_split=4, n_estimators=100;, score=0.701 total time=   0.1s\n",
            "[CV 5/5] END criterion=entropy, max_features=auto, min_samples_leaf=2, min_samples_split=4, n_estimators=100;, score=0.789 total time=   0.1s\n"
          ]
        },
        {
          "output_type": "stream",
          "name": "stderr",
          "text": [
            "/usr/local/lib/python3.10/dist-packages/sklearn/ensemble/_forest.py:424: FutureWarning: `max_features='auto'` has been deprecated in 1.1 and will be removed in 1.3. To keep the past behaviour, explicitly set `max_features='sqrt'` or remove this parameter as it is also the default value for RandomForestClassifiers and ExtraTreesClassifiers.\n",
            "  warn(\n",
            "/usr/local/lib/python3.10/dist-packages/sklearn/ensemble/_forest.py:424: FutureWarning: `max_features='auto'` has been deprecated in 1.1 and will be removed in 1.3. To keep the past behaviour, explicitly set `max_features='sqrt'` or remove this parameter as it is also the default value for RandomForestClassifiers and ExtraTreesClassifiers.\n",
            "  warn(\n"
          ]
        },
        {
          "output_type": "stream",
          "name": "stdout",
          "text": [
            "[CV 1/5] END criterion=entropy, max_features=auto, min_samples_leaf=2, min_samples_split=4, n_estimators=115;, score=0.675 total time=   0.2s\n",
            "[CV 2/5] END criterion=entropy, max_features=auto, min_samples_leaf=2, min_samples_split=4, n_estimators=115;, score=0.740 total time=   0.2s\n"
          ]
        },
        {
          "output_type": "stream",
          "name": "stderr",
          "text": [
            "/usr/local/lib/python3.10/dist-packages/sklearn/ensemble/_forest.py:424: FutureWarning: `max_features='auto'` has been deprecated in 1.1 and will be removed in 1.3. To keep the past behaviour, explicitly set `max_features='sqrt'` or remove this parameter as it is also the default value for RandomForestClassifiers and ExtraTreesClassifiers.\n",
            "  warn(\n",
            "/usr/local/lib/python3.10/dist-packages/sklearn/ensemble/_forest.py:424: FutureWarning: `max_features='auto'` has been deprecated in 1.1 and will be removed in 1.3. To keep the past behaviour, explicitly set `max_features='sqrt'` or remove this parameter as it is also the default value for RandomForestClassifiers and ExtraTreesClassifiers.\n",
            "  warn(\n"
          ]
        },
        {
          "output_type": "stream",
          "name": "stdout",
          "text": [
            "[CV 3/5] END criterion=entropy, max_features=auto, min_samples_leaf=2, min_samples_split=4, n_estimators=115;, score=0.805 total time=   0.2s\n",
            "[CV 4/5] END criterion=entropy, max_features=auto, min_samples_leaf=2, min_samples_split=4, n_estimators=115;, score=0.701 total time=   0.1s\n"
          ]
        },
        {
          "output_type": "stream",
          "name": "stderr",
          "text": [
            "/usr/local/lib/python3.10/dist-packages/sklearn/ensemble/_forest.py:424: FutureWarning: `max_features='auto'` has been deprecated in 1.1 and will be removed in 1.3. To keep the past behaviour, explicitly set `max_features='sqrt'` or remove this parameter as it is also the default value for RandomForestClassifiers and ExtraTreesClassifiers.\n",
            "  warn(\n",
            "/usr/local/lib/python3.10/dist-packages/sklearn/ensemble/_forest.py:424: FutureWarning: `max_features='auto'` has been deprecated in 1.1 and will be removed in 1.3. To keep the past behaviour, explicitly set `max_features='sqrt'` or remove this parameter as it is also the default value for RandomForestClassifiers and ExtraTreesClassifiers.\n",
            "  warn(\n"
          ]
        },
        {
          "output_type": "stream",
          "name": "stdout",
          "text": [
            "[CV 5/5] END criterion=entropy, max_features=auto, min_samples_leaf=2, min_samples_split=4, n_estimators=115;, score=0.789 total time=   0.2s\n",
            "[CV 1/5] END criterion=entropy, max_features=auto, min_samples_leaf=2, min_samples_split=5, n_estimators=90;, score=0.675 total time=   0.1s\n"
          ]
        },
        {
          "output_type": "stream",
          "name": "stderr",
          "text": [
            "/usr/local/lib/python3.10/dist-packages/sklearn/ensemble/_forest.py:424: FutureWarning: `max_features='auto'` has been deprecated in 1.1 and will be removed in 1.3. To keep the past behaviour, explicitly set `max_features='sqrt'` or remove this parameter as it is also the default value for RandomForestClassifiers and ExtraTreesClassifiers.\n",
            "  warn(\n",
            "/usr/local/lib/python3.10/dist-packages/sklearn/ensemble/_forest.py:424: FutureWarning: `max_features='auto'` has been deprecated in 1.1 and will be removed in 1.3. To keep the past behaviour, explicitly set `max_features='sqrt'` or remove this parameter as it is also the default value for RandomForestClassifiers and ExtraTreesClassifiers.\n",
            "  warn(\n"
          ]
        },
        {
          "output_type": "stream",
          "name": "stdout",
          "text": [
            "[CV 2/5] END criterion=entropy, max_features=auto, min_samples_leaf=2, min_samples_split=5, n_estimators=90;, score=0.740 total time=   0.1s\n",
            "[CV 3/5] END criterion=entropy, max_features=auto, min_samples_leaf=2, min_samples_split=5, n_estimators=90;, score=0.805 total time=   0.1s\n"
          ]
        },
        {
          "output_type": "stream",
          "name": "stderr",
          "text": [
            "/usr/local/lib/python3.10/dist-packages/sklearn/ensemble/_forest.py:424: FutureWarning: `max_features='auto'` has been deprecated in 1.1 and will be removed in 1.3. To keep the past behaviour, explicitly set `max_features='sqrt'` or remove this parameter as it is also the default value for RandomForestClassifiers and ExtraTreesClassifiers.\n",
            "  warn(\n",
            "/usr/local/lib/python3.10/dist-packages/sklearn/ensemble/_forest.py:424: FutureWarning: `max_features='auto'` has been deprecated in 1.1 and will be removed in 1.3. To keep the past behaviour, explicitly set `max_features='sqrt'` or remove this parameter as it is also the default value for RandomForestClassifiers and ExtraTreesClassifiers.\n",
            "  warn(\n"
          ]
        },
        {
          "output_type": "stream",
          "name": "stdout",
          "text": [
            "[CV 4/5] END criterion=entropy, max_features=auto, min_samples_leaf=2, min_samples_split=5, n_estimators=90;, score=0.701 total time=   0.1s\n",
            "[CV 5/5] END criterion=entropy, max_features=auto, min_samples_leaf=2, min_samples_split=5, n_estimators=90;, score=0.789 total time=   0.1s\n"
          ]
        },
        {
          "output_type": "stream",
          "name": "stderr",
          "text": [
            "/usr/local/lib/python3.10/dist-packages/sklearn/ensemble/_forest.py:424: FutureWarning: `max_features='auto'` has been deprecated in 1.1 and will be removed in 1.3. To keep the past behaviour, explicitly set `max_features='sqrt'` or remove this parameter as it is also the default value for RandomForestClassifiers and ExtraTreesClassifiers.\n",
            "  warn(\n",
            "/usr/local/lib/python3.10/dist-packages/sklearn/ensemble/_forest.py:424: FutureWarning: `max_features='auto'` has been deprecated in 1.1 and will be removed in 1.3. To keep the past behaviour, explicitly set `max_features='sqrt'` or remove this parameter as it is also the default value for RandomForestClassifiers and ExtraTreesClassifiers.\n",
            "  warn(\n"
          ]
        },
        {
          "output_type": "stream",
          "name": "stdout",
          "text": [
            "[CV 1/5] END criterion=entropy, max_features=auto, min_samples_leaf=2, min_samples_split=5, n_estimators=100;, score=0.675 total time=   0.1s\n",
            "[CV 2/5] END criterion=entropy, max_features=auto, min_samples_leaf=2, min_samples_split=5, n_estimators=100;, score=0.740 total time=   0.1s\n"
          ]
        },
        {
          "output_type": "stream",
          "name": "stderr",
          "text": [
            "/usr/local/lib/python3.10/dist-packages/sklearn/ensemble/_forest.py:424: FutureWarning: `max_features='auto'` has been deprecated in 1.1 and will be removed in 1.3. To keep the past behaviour, explicitly set `max_features='sqrt'` or remove this parameter as it is also the default value for RandomForestClassifiers and ExtraTreesClassifiers.\n",
            "  warn(\n",
            "/usr/local/lib/python3.10/dist-packages/sklearn/ensemble/_forest.py:424: FutureWarning: `max_features='auto'` has been deprecated in 1.1 and will be removed in 1.3. To keep the past behaviour, explicitly set `max_features='sqrt'` or remove this parameter as it is also the default value for RandomForestClassifiers and ExtraTreesClassifiers.\n",
            "  warn(\n"
          ]
        },
        {
          "output_type": "stream",
          "name": "stdout",
          "text": [
            "[CV 3/5] END criterion=entropy, max_features=auto, min_samples_leaf=2, min_samples_split=5, n_estimators=100;, score=0.805 total time=   0.1s\n",
            "[CV 4/5] END criterion=entropy, max_features=auto, min_samples_leaf=2, min_samples_split=5, n_estimators=100;, score=0.701 total time=   0.1s\n"
          ]
        },
        {
          "output_type": "stream",
          "name": "stderr",
          "text": [
            "/usr/local/lib/python3.10/dist-packages/sklearn/ensemble/_forest.py:424: FutureWarning: `max_features='auto'` has been deprecated in 1.1 and will be removed in 1.3. To keep the past behaviour, explicitly set `max_features='sqrt'` or remove this parameter as it is also the default value for RandomForestClassifiers and ExtraTreesClassifiers.\n",
            "  warn(\n",
            "/usr/local/lib/python3.10/dist-packages/sklearn/ensemble/_forest.py:424: FutureWarning: `max_features='auto'` has been deprecated in 1.1 and will be removed in 1.3. To keep the past behaviour, explicitly set `max_features='sqrt'` or remove this parameter as it is also the default value for RandomForestClassifiers and ExtraTreesClassifiers.\n",
            "  warn(\n"
          ]
        },
        {
          "output_type": "stream",
          "name": "stdout",
          "text": [
            "[CV 5/5] END criterion=entropy, max_features=auto, min_samples_leaf=2, min_samples_split=5, n_estimators=100;, score=0.789 total time=   0.1s\n",
            "[CV 1/5] END criterion=entropy, max_features=auto, min_samples_leaf=2, min_samples_split=5, n_estimators=115;, score=0.675 total time=   0.2s\n"
          ]
        },
        {
          "output_type": "stream",
          "name": "stderr",
          "text": [
            "/usr/local/lib/python3.10/dist-packages/sklearn/ensemble/_forest.py:424: FutureWarning: `max_features='auto'` has been deprecated in 1.1 and will be removed in 1.3. To keep the past behaviour, explicitly set `max_features='sqrt'` or remove this parameter as it is also the default value for RandomForestClassifiers and ExtraTreesClassifiers.\n",
            "  warn(\n",
            "/usr/local/lib/python3.10/dist-packages/sklearn/ensemble/_forest.py:424: FutureWarning: `max_features='auto'` has been deprecated in 1.1 and will be removed in 1.3. To keep the past behaviour, explicitly set `max_features='sqrt'` or remove this parameter as it is also the default value for RandomForestClassifiers and ExtraTreesClassifiers.\n",
            "  warn(\n"
          ]
        },
        {
          "output_type": "stream",
          "name": "stdout",
          "text": [
            "[CV 2/5] END criterion=entropy, max_features=auto, min_samples_leaf=2, min_samples_split=5, n_estimators=115;, score=0.740 total time=   0.2s\n",
            "[CV 3/5] END criterion=entropy, max_features=auto, min_samples_leaf=2, min_samples_split=5, n_estimators=115;, score=0.805 total time=   0.2s\n"
          ]
        },
        {
          "output_type": "stream",
          "name": "stderr",
          "text": [
            "/usr/local/lib/python3.10/dist-packages/sklearn/ensemble/_forest.py:424: FutureWarning: `max_features='auto'` has been deprecated in 1.1 and will be removed in 1.3. To keep the past behaviour, explicitly set `max_features='sqrt'` or remove this parameter as it is also the default value for RandomForestClassifiers and ExtraTreesClassifiers.\n",
            "  warn(\n",
            "/usr/local/lib/python3.10/dist-packages/sklearn/ensemble/_forest.py:424: FutureWarning: `max_features='auto'` has been deprecated in 1.1 and will be removed in 1.3. To keep the past behaviour, explicitly set `max_features='sqrt'` or remove this parameter as it is also the default value for RandomForestClassifiers and ExtraTreesClassifiers.\n",
            "  warn(\n"
          ]
        },
        {
          "output_type": "stream",
          "name": "stdout",
          "text": [
            "[CV 4/5] END criterion=entropy, max_features=auto, min_samples_leaf=2, min_samples_split=5, n_estimators=115;, score=0.701 total time=   0.2s\n",
            "[CV 5/5] END criterion=entropy, max_features=auto, min_samples_leaf=2, min_samples_split=5, n_estimators=115;, score=0.789 total time=   0.1s\n"
          ]
        },
        {
          "output_type": "stream",
          "name": "stderr",
          "text": [
            "/usr/local/lib/python3.10/dist-packages/sklearn/ensemble/_forest.py:424: FutureWarning: `max_features='auto'` has been deprecated in 1.1 and will be removed in 1.3. To keep the past behaviour, explicitly set `max_features='sqrt'` or remove this parameter as it is also the default value for RandomForestClassifiers and ExtraTreesClassifiers.\n",
            "  warn(\n",
            "/usr/local/lib/python3.10/dist-packages/sklearn/ensemble/_forest.py:424: FutureWarning: `max_features='auto'` has been deprecated in 1.1 and will be removed in 1.3. To keep the past behaviour, explicitly set `max_features='sqrt'` or remove this parameter as it is also the default value for RandomForestClassifiers and ExtraTreesClassifiers.\n",
            "  warn(\n"
          ]
        },
        {
          "output_type": "stream",
          "name": "stdout",
          "text": [
            "[CV 1/5] END criterion=entropy, max_features=auto, min_samples_leaf=2, min_samples_split=6, n_estimators=90;, score=0.675 total time=   0.1s\n",
            "[CV 2/5] END criterion=entropy, max_features=auto, min_samples_leaf=2, min_samples_split=6, n_estimators=90;, score=0.740 total time=   0.1s\n"
          ]
        },
        {
          "output_type": "stream",
          "name": "stderr",
          "text": [
            "/usr/local/lib/python3.10/dist-packages/sklearn/ensemble/_forest.py:424: FutureWarning: `max_features='auto'` has been deprecated in 1.1 and will be removed in 1.3. To keep the past behaviour, explicitly set `max_features='sqrt'` or remove this parameter as it is also the default value for RandomForestClassifiers and ExtraTreesClassifiers.\n",
            "  warn(\n",
            "/usr/local/lib/python3.10/dist-packages/sklearn/ensemble/_forest.py:424: FutureWarning: `max_features='auto'` has been deprecated in 1.1 and will be removed in 1.3. To keep the past behaviour, explicitly set `max_features='sqrt'` or remove this parameter as it is also the default value for RandomForestClassifiers and ExtraTreesClassifiers.\n",
            "  warn(\n"
          ]
        },
        {
          "output_type": "stream",
          "name": "stdout",
          "text": [
            "[CV 3/5] END criterion=entropy, max_features=auto, min_samples_leaf=2, min_samples_split=6, n_estimators=90;, score=0.805 total time=   0.1s\n",
            "[CV 4/5] END criterion=entropy, max_features=auto, min_samples_leaf=2, min_samples_split=6, n_estimators=90;, score=0.701 total time=   0.1s\n"
          ]
        },
        {
          "output_type": "stream",
          "name": "stderr",
          "text": [
            "/usr/local/lib/python3.10/dist-packages/sklearn/ensemble/_forest.py:424: FutureWarning: `max_features='auto'` has been deprecated in 1.1 and will be removed in 1.3. To keep the past behaviour, explicitly set `max_features='sqrt'` or remove this parameter as it is also the default value for RandomForestClassifiers and ExtraTreesClassifiers.\n",
            "  warn(\n",
            "/usr/local/lib/python3.10/dist-packages/sklearn/ensemble/_forest.py:424: FutureWarning: `max_features='auto'` has been deprecated in 1.1 and will be removed in 1.3. To keep the past behaviour, explicitly set `max_features='sqrt'` or remove this parameter as it is also the default value for RandomForestClassifiers and ExtraTreesClassifiers.\n",
            "  warn(\n"
          ]
        },
        {
          "output_type": "stream",
          "name": "stdout",
          "text": [
            "[CV 5/5] END criterion=entropy, max_features=auto, min_samples_leaf=2, min_samples_split=6, n_estimators=90;, score=0.789 total time=   0.1s\n",
            "[CV 1/5] END criterion=entropy, max_features=auto, min_samples_leaf=2, min_samples_split=6, n_estimators=100;, score=0.675 total time=   0.1s\n"
          ]
        },
        {
          "output_type": "stream",
          "name": "stderr",
          "text": [
            "/usr/local/lib/python3.10/dist-packages/sklearn/ensemble/_forest.py:424: FutureWarning: `max_features='auto'` has been deprecated in 1.1 and will be removed in 1.3. To keep the past behaviour, explicitly set `max_features='sqrt'` or remove this parameter as it is also the default value for RandomForestClassifiers and ExtraTreesClassifiers.\n",
            "  warn(\n",
            "/usr/local/lib/python3.10/dist-packages/sklearn/ensemble/_forest.py:424: FutureWarning: `max_features='auto'` has been deprecated in 1.1 and will be removed in 1.3. To keep the past behaviour, explicitly set `max_features='sqrt'` or remove this parameter as it is also the default value for RandomForestClassifiers and ExtraTreesClassifiers.\n",
            "  warn(\n"
          ]
        },
        {
          "output_type": "stream",
          "name": "stdout",
          "text": [
            "[CV 2/5] END criterion=entropy, max_features=auto, min_samples_leaf=2, min_samples_split=6, n_estimators=100;, score=0.740 total time=   0.1s\n",
            "[CV 3/5] END criterion=entropy, max_features=auto, min_samples_leaf=2, min_samples_split=6, n_estimators=100;, score=0.805 total time=   0.1s\n"
          ]
        },
        {
          "output_type": "stream",
          "name": "stderr",
          "text": [
            "/usr/local/lib/python3.10/dist-packages/sklearn/ensemble/_forest.py:424: FutureWarning: `max_features='auto'` has been deprecated in 1.1 and will be removed in 1.3. To keep the past behaviour, explicitly set `max_features='sqrt'` or remove this parameter as it is also the default value for RandomForestClassifiers and ExtraTreesClassifiers.\n",
            "  warn(\n",
            "/usr/local/lib/python3.10/dist-packages/sklearn/ensemble/_forest.py:424: FutureWarning: `max_features='auto'` has been deprecated in 1.1 and will be removed in 1.3. To keep the past behaviour, explicitly set `max_features='sqrt'` or remove this parameter as it is also the default value for RandomForestClassifiers and ExtraTreesClassifiers.\n",
            "  warn(\n"
          ]
        },
        {
          "output_type": "stream",
          "name": "stdout",
          "text": [
            "[CV 4/5] END criterion=entropy, max_features=auto, min_samples_leaf=2, min_samples_split=6, n_estimators=100;, score=0.701 total time=   0.1s\n",
            "[CV 5/5] END criterion=entropy, max_features=auto, min_samples_leaf=2, min_samples_split=6, n_estimators=100;, score=0.789 total time=   0.1s\n"
          ]
        },
        {
          "output_type": "stream",
          "name": "stderr",
          "text": [
            "/usr/local/lib/python3.10/dist-packages/sklearn/ensemble/_forest.py:424: FutureWarning: `max_features='auto'` has been deprecated in 1.1 and will be removed in 1.3. To keep the past behaviour, explicitly set `max_features='sqrt'` or remove this parameter as it is also the default value for RandomForestClassifiers and ExtraTreesClassifiers.\n",
            "  warn(\n",
            "/usr/local/lib/python3.10/dist-packages/sklearn/ensemble/_forest.py:424: FutureWarning: `max_features='auto'` has been deprecated in 1.1 and will be removed in 1.3. To keep the past behaviour, explicitly set `max_features='sqrt'` or remove this parameter as it is also the default value for RandomForestClassifiers and ExtraTreesClassifiers.\n",
            "  warn(\n"
          ]
        },
        {
          "output_type": "stream",
          "name": "stdout",
          "text": [
            "[CV 1/5] END criterion=entropy, max_features=auto, min_samples_leaf=2, min_samples_split=6, n_estimators=115;, score=0.675 total time=   0.2s\n",
            "[CV 2/5] END criterion=entropy, max_features=auto, min_samples_leaf=2, min_samples_split=6, n_estimators=115;, score=0.740 total time=   0.1s\n"
          ]
        },
        {
          "output_type": "stream",
          "name": "stderr",
          "text": [
            "/usr/local/lib/python3.10/dist-packages/sklearn/ensemble/_forest.py:424: FutureWarning: `max_features='auto'` has been deprecated in 1.1 and will be removed in 1.3. To keep the past behaviour, explicitly set `max_features='sqrt'` or remove this parameter as it is also the default value for RandomForestClassifiers and ExtraTreesClassifiers.\n",
            "  warn(\n",
            "/usr/local/lib/python3.10/dist-packages/sklearn/ensemble/_forest.py:424: FutureWarning: `max_features='auto'` has been deprecated in 1.1 and will be removed in 1.3. To keep the past behaviour, explicitly set `max_features='sqrt'` or remove this parameter as it is also the default value for RandomForestClassifiers and ExtraTreesClassifiers.\n",
            "  warn(\n"
          ]
        },
        {
          "output_type": "stream",
          "name": "stdout",
          "text": [
            "[CV 3/5] END criterion=entropy, max_features=auto, min_samples_leaf=2, min_samples_split=6, n_estimators=115;, score=0.805 total time=   0.2s\n",
            "[CV 4/5] END criterion=entropy, max_features=auto, min_samples_leaf=2, min_samples_split=6, n_estimators=115;, score=0.701 total time=   0.2s\n"
          ]
        },
        {
          "output_type": "stream",
          "name": "stderr",
          "text": [
            "/usr/local/lib/python3.10/dist-packages/sklearn/ensemble/_forest.py:424: FutureWarning: `max_features='auto'` has been deprecated in 1.1 and will be removed in 1.3. To keep the past behaviour, explicitly set `max_features='sqrt'` or remove this parameter as it is also the default value for RandomForestClassifiers and ExtraTreesClassifiers.\n",
            "  warn(\n",
            "/usr/local/lib/python3.10/dist-packages/sklearn/ensemble/_forest.py:424: FutureWarning: `max_features='auto'` has been deprecated in 1.1 and will be removed in 1.3. To keep the past behaviour, explicitly set `max_features='sqrt'` or remove this parameter as it is also the default value for RandomForestClassifiers and ExtraTreesClassifiers.\n",
            "  warn(\n"
          ]
        },
        {
          "output_type": "stream",
          "name": "stdout",
          "text": [
            "[CV 5/5] END criterion=entropy, max_features=auto, min_samples_leaf=2, min_samples_split=6, n_estimators=115;, score=0.789 total time=   0.2s\n",
            "[CV 1/5] END criterion=entropy, max_features=auto, min_samples_leaf=2, min_samples_split=7, n_estimators=90;, score=0.675 total time=   0.1s\n"
          ]
        },
        {
          "output_type": "stream",
          "name": "stderr",
          "text": [
            "/usr/local/lib/python3.10/dist-packages/sklearn/ensemble/_forest.py:424: FutureWarning: `max_features='auto'` has been deprecated in 1.1 and will be removed in 1.3. To keep the past behaviour, explicitly set `max_features='sqrt'` or remove this parameter as it is also the default value for RandomForestClassifiers and ExtraTreesClassifiers.\n",
            "  warn(\n",
            "/usr/local/lib/python3.10/dist-packages/sklearn/ensemble/_forest.py:424: FutureWarning: `max_features='auto'` has been deprecated in 1.1 and will be removed in 1.3. To keep the past behaviour, explicitly set `max_features='sqrt'` or remove this parameter as it is also the default value for RandomForestClassifiers and ExtraTreesClassifiers.\n",
            "  warn(\n"
          ]
        },
        {
          "output_type": "stream",
          "name": "stdout",
          "text": [
            "[CV 2/5] END criterion=entropy, max_features=auto, min_samples_leaf=2, min_samples_split=7, n_estimators=90;, score=0.740 total time=   0.1s\n",
            "[CV 3/5] END criterion=entropy, max_features=auto, min_samples_leaf=2, min_samples_split=7, n_estimators=90;, score=0.805 total time=   0.1s\n"
          ]
        },
        {
          "output_type": "stream",
          "name": "stderr",
          "text": [
            "/usr/local/lib/python3.10/dist-packages/sklearn/ensemble/_forest.py:424: FutureWarning: `max_features='auto'` has been deprecated in 1.1 and will be removed in 1.3. To keep the past behaviour, explicitly set `max_features='sqrt'` or remove this parameter as it is also the default value for RandomForestClassifiers and ExtraTreesClassifiers.\n",
            "  warn(\n",
            "/usr/local/lib/python3.10/dist-packages/sklearn/ensemble/_forest.py:424: FutureWarning: `max_features='auto'` has been deprecated in 1.1 and will be removed in 1.3. To keep the past behaviour, explicitly set `max_features='sqrt'` or remove this parameter as it is also the default value for RandomForestClassifiers and ExtraTreesClassifiers.\n",
            "  warn(\n"
          ]
        },
        {
          "output_type": "stream",
          "name": "stdout",
          "text": [
            "[CV 4/5] END criterion=entropy, max_features=auto, min_samples_leaf=2, min_samples_split=7, n_estimators=90;, score=0.701 total time=   0.1s\n",
            "[CV 5/5] END criterion=entropy, max_features=auto, min_samples_leaf=2, min_samples_split=7, n_estimators=90;, score=0.789 total time=   0.1s\n"
          ]
        },
        {
          "output_type": "stream",
          "name": "stderr",
          "text": [
            "/usr/local/lib/python3.10/dist-packages/sklearn/ensemble/_forest.py:424: FutureWarning: `max_features='auto'` has been deprecated in 1.1 and will be removed in 1.3. To keep the past behaviour, explicitly set `max_features='sqrt'` or remove this parameter as it is also the default value for RandomForestClassifiers and ExtraTreesClassifiers.\n",
            "  warn(\n",
            "/usr/local/lib/python3.10/dist-packages/sklearn/ensemble/_forest.py:424: FutureWarning: `max_features='auto'` has been deprecated in 1.1 and will be removed in 1.3. To keep the past behaviour, explicitly set `max_features='sqrt'` or remove this parameter as it is also the default value for RandomForestClassifiers and ExtraTreesClassifiers.\n",
            "  warn(\n"
          ]
        },
        {
          "output_type": "stream",
          "name": "stdout",
          "text": [
            "[CV 1/5] END criterion=entropy, max_features=auto, min_samples_leaf=2, min_samples_split=7, n_estimators=100;, score=0.675 total time=   0.1s\n",
            "[CV 2/5] END criterion=entropy, max_features=auto, min_samples_leaf=2, min_samples_split=7, n_estimators=100;, score=0.740 total time=   0.1s\n"
          ]
        },
        {
          "output_type": "stream",
          "name": "stderr",
          "text": [
            "/usr/local/lib/python3.10/dist-packages/sklearn/ensemble/_forest.py:424: FutureWarning: `max_features='auto'` has been deprecated in 1.1 and will be removed in 1.3. To keep the past behaviour, explicitly set `max_features='sqrt'` or remove this parameter as it is also the default value for RandomForestClassifiers and ExtraTreesClassifiers.\n",
            "  warn(\n",
            "/usr/local/lib/python3.10/dist-packages/sklearn/ensemble/_forest.py:424: FutureWarning: `max_features='auto'` has been deprecated in 1.1 and will be removed in 1.3. To keep the past behaviour, explicitly set `max_features='sqrt'` or remove this parameter as it is also the default value for RandomForestClassifiers and ExtraTreesClassifiers.\n",
            "  warn(\n"
          ]
        },
        {
          "output_type": "stream",
          "name": "stdout",
          "text": [
            "[CV 3/5] END criterion=entropy, max_features=auto, min_samples_leaf=2, min_samples_split=7, n_estimators=100;, score=0.805 total time=   0.1s\n",
            "[CV 4/5] END criterion=entropy, max_features=auto, min_samples_leaf=2, min_samples_split=7, n_estimators=100;, score=0.701 total time=   0.1s\n"
          ]
        },
        {
          "output_type": "stream",
          "name": "stderr",
          "text": [
            "/usr/local/lib/python3.10/dist-packages/sklearn/ensemble/_forest.py:424: FutureWarning: `max_features='auto'` has been deprecated in 1.1 and will be removed in 1.3. To keep the past behaviour, explicitly set `max_features='sqrt'` or remove this parameter as it is also the default value for RandomForestClassifiers and ExtraTreesClassifiers.\n",
            "  warn(\n",
            "/usr/local/lib/python3.10/dist-packages/sklearn/ensemble/_forest.py:424: FutureWarning: `max_features='auto'` has been deprecated in 1.1 and will be removed in 1.3. To keep the past behaviour, explicitly set `max_features='sqrt'` or remove this parameter as it is also the default value for RandomForestClassifiers and ExtraTreesClassifiers.\n",
            "  warn(\n"
          ]
        },
        {
          "output_type": "stream",
          "name": "stdout",
          "text": [
            "[CV 5/5] END criterion=entropy, max_features=auto, min_samples_leaf=2, min_samples_split=7, n_estimators=100;, score=0.789 total time=   0.2s\n",
            "[CV 1/5] END criterion=entropy, max_features=auto, min_samples_leaf=2, min_samples_split=7, n_estimators=115;, score=0.675 total time=   0.1s\n"
          ]
        },
        {
          "output_type": "stream",
          "name": "stderr",
          "text": [
            "/usr/local/lib/python3.10/dist-packages/sklearn/ensemble/_forest.py:424: FutureWarning: `max_features='auto'` has been deprecated in 1.1 and will be removed in 1.3. To keep the past behaviour, explicitly set `max_features='sqrt'` or remove this parameter as it is also the default value for RandomForestClassifiers and ExtraTreesClassifiers.\n",
            "  warn(\n",
            "/usr/local/lib/python3.10/dist-packages/sklearn/ensemble/_forest.py:424: FutureWarning: `max_features='auto'` has been deprecated in 1.1 and will be removed in 1.3. To keep the past behaviour, explicitly set `max_features='sqrt'` or remove this parameter as it is also the default value for RandomForestClassifiers and ExtraTreesClassifiers.\n",
            "  warn(\n"
          ]
        },
        {
          "output_type": "stream",
          "name": "stdout",
          "text": [
            "[CV 2/5] END criterion=entropy, max_features=auto, min_samples_leaf=2, min_samples_split=7, n_estimators=115;, score=0.740 total time=   0.2s\n",
            "[CV 3/5] END criterion=entropy, max_features=auto, min_samples_leaf=2, min_samples_split=7, n_estimators=115;, score=0.805 total time=   0.2s\n"
          ]
        },
        {
          "output_type": "stream",
          "name": "stderr",
          "text": [
            "/usr/local/lib/python3.10/dist-packages/sklearn/ensemble/_forest.py:424: FutureWarning: `max_features='auto'` has been deprecated in 1.1 and will be removed in 1.3. To keep the past behaviour, explicitly set `max_features='sqrt'` or remove this parameter as it is also the default value for RandomForestClassifiers and ExtraTreesClassifiers.\n",
            "  warn(\n",
            "/usr/local/lib/python3.10/dist-packages/sklearn/ensemble/_forest.py:424: FutureWarning: `max_features='auto'` has been deprecated in 1.1 and will be removed in 1.3. To keep the past behaviour, explicitly set `max_features='sqrt'` or remove this parameter as it is also the default value for RandomForestClassifiers and ExtraTreesClassifiers.\n",
            "  warn(\n"
          ]
        },
        {
          "output_type": "stream",
          "name": "stdout",
          "text": [
            "[CV 4/5] END criterion=entropy, max_features=auto, min_samples_leaf=2, min_samples_split=7, n_estimators=115;, score=0.701 total time=   0.2s\n",
            "[CV 5/5] END criterion=entropy, max_features=auto, min_samples_leaf=2, min_samples_split=7, n_estimators=115;, score=0.789 total time=   0.1s\n"
          ]
        },
        {
          "output_type": "stream",
          "name": "stderr",
          "text": [
            "/usr/local/lib/python3.10/dist-packages/sklearn/ensemble/_forest.py:424: FutureWarning: `max_features='auto'` has been deprecated in 1.1 and will be removed in 1.3. To keep the past behaviour, explicitly set `max_features='sqrt'` or remove this parameter as it is also the default value for RandomForestClassifiers and ExtraTreesClassifiers.\n",
            "  warn(\n",
            "/usr/local/lib/python3.10/dist-packages/sklearn/ensemble/_forest.py:424: FutureWarning: `max_features='auto'` has been deprecated in 1.1 and will be removed in 1.3. To keep the past behaviour, explicitly set `max_features='sqrt'` or remove this parameter as it is also the default value for RandomForestClassifiers and ExtraTreesClassifiers.\n",
            "  warn(\n"
          ]
        },
        {
          "output_type": "stream",
          "name": "stdout",
          "text": [
            "[CV 1/5] END criterion=entropy, max_features=auto, min_samples_leaf=2, min_samples_split=8, n_estimators=90;, score=0.675 total time=   0.1s\n",
            "[CV 2/5] END criterion=entropy, max_features=auto, min_samples_leaf=2, min_samples_split=8, n_estimators=90;, score=0.740 total time=   0.1s\n"
          ]
        },
        {
          "output_type": "stream",
          "name": "stderr",
          "text": [
            "/usr/local/lib/python3.10/dist-packages/sklearn/ensemble/_forest.py:424: FutureWarning: `max_features='auto'` has been deprecated in 1.1 and will be removed in 1.3. To keep the past behaviour, explicitly set `max_features='sqrt'` or remove this parameter as it is also the default value for RandomForestClassifiers and ExtraTreesClassifiers.\n",
            "  warn(\n",
            "/usr/local/lib/python3.10/dist-packages/sklearn/ensemble/_forest.py:424: FutureWarning: `max_features='auto'` has been deprecated in 1.1 and will be removed in 1.3. To keep the past behaviour, explicitly set `max_features='sqrt'` or remove this parameter as it is also the default value for RandomForestClassifiers and ExtraTreesClassifiers.\n",
            "  warn(\n"
          ]
        },
        {
          "output_type": "stream",
          "name": "stdout",
          "text": [
            "[CV 3/5] END criterion=entropy, max_features=auto, min_samples_leaf=2, min_samples_split=8, n_estimators=90;, score=0.805 total time=   0.1s\n",
            "[CV 4/5] END criterion=entropy, max_features=auto, min_samples_leaf=2, min_samples_split=8, n_estimators=90;, score=0.701 total time=   0.1s\n"
          ]
        },
        {
          "output_type": "stream",
          "name": "stderr",
          "text": [
            "/usr/local/lib/python3.10/dist-packages/sklearn/ensemble/_forest.py:424: FutureWarning: `max_features='auto'` has been deprecated in 1.1 and will be removed in 1.3. To keep the past behaviour, explicitly set `max_features='sqrt'` or remove this parameter as it is also the default value for RandomForestClassifiers and ExtraTreesClassifiers.\n",
            "  warn(\n",
            "/usr/local/lib/python3.10/dist-packages/sklearn/ensemble/_forest.py:424: FutureWarning: `max_features='auto'` has been deprecated in 1.1 and will be removed in 1.3. To keep the past behaviour, explicitly set `max_features='sqrt'` or remove this parameter as it is also the default value for RandomForestClassifiers and ExtraTreesClassifiers.\n",
            "  warn(\n"
          ]
        },
        {
          "output_type": "stream",
          "name": "stdout",
          "text": [
            "[CV 5/5] END criterion=entropy, max_features=auto, min_samples_leaf=2, min_samples_split=8, n_estimators=90;, score=0.789 total time=   0.1s\n",
            "[CV 1/5] END criterion=entropy, max_features=auto, min_samples_leaf=2, min_samples_split=8, n_estimators=100;, score=0.675 total time=   0.1s\n"
          ]
        },
        {
          "output_type": "stream",
          "name": "stderr",
          "text": [
            "/usr/local/lib/python3.10/dist-packages/sklearn/ensemble/_forest.py:424: FutureWarning: `max_features='auto'` has been deprecated in 1.1 and will be removed in 1.3. To keep the past behaviour, explicitly set `max_features='sqrt'` or remove this parameter as it is also the default value for RandomForestClassifiers and ExtraTreesClassifiers.\n",
            "  warn(\n",
            "/usr/local/lib/python3.10/dist-packages/sklearn/ensemble/_forest.py:424: FutureWarning: `max_features='auto'` has been deprecated in 1.1 and will be removed in 1.3. To keep the past behaviour, explicitly set `max_features='sqrt'` or remove this parameter as it is also the default value for RandomForestClassifiers and ExtraTreesClassifiers.\n",
            "  warn(\n"
          ]
        },
        {
          "output_type": "stream",
          "name": "stdout",
          "text": [
            "[CV 2/5] END criterion=entropy, max_features=auto, min_samples_leaf=2, min_samples_split=8, n_estimators=100;, score=0.740 total time=   0.1s\n",
            "[CV 3/5] END criterion=entropy, max_features=auto, min_samples_leaf=2, min_samples_split=8, n_estimators=100;, score=0.805 total time=   0.1s\n"
          ]
        },
        {
          "output_type": "stream",
          "name": "stderr",
          "text": [
            "/usr/local/lib/python3.10/dist-packages/sklearn/ensemble/_forest.py:424: FutureWarning: `max_features='auto'` has been deprecated in 1.1 and will be removed in 1.3. To keep the past behaviour, explicitly set `max_features='sqrt'` or remove this parameter as it is also the default value for RandomForestClassifiers and ExtraTreesClassifiers.\n",
            "  warn(\n",
            "/usr/local/lib/python3.10/dist-packages/sklearn/ensemble/_forest.py:424: FutureWarning: `max_features='auto'` has been deprecated in 1.1 and will be removed in 1.3. To keep the past behaviour, explicitly set `max_features='sqrt'` or remove this parameter as it is also the default value for RandomForestClassifiers and ExtraTreesClassifiers.\n",
            "  warn(\n"
          ]
        },
        {
          "output_type": "stream",
          "name": "stdout",
          "text": [
            "[CV 4/5] END criterion=entropy, max_features=auto, min_samples_leaf=2, min_samples_split=8, n_estimators=100;, score=0.701 total time=   0.1s\n",
            "[CV 5/5] END criterion=entropy, max_features=auto, min_samples_leaf=2, min_samples_split=8, n_estimators=100;, score=0.789 total time=   0.1s\n"
          ]
        },
        {
          "output_type": "stream",
          "name": "stderr",
          "text": [
            "/usr/local/lib/python3.10/dist-packages/sklearn/ensemble/_forest.py:424: FutureWarning: `max_features='auto'` has been deprecated in 1.1 and will be removed in 1.3. To keep the past behaviour, explicitly set `max_features='sqrt'` or remove this parameter as it is also the default value for RandomForestClassifiers and ExtraTreesClassifiers.\n",
            "  warn(\n",
            "/usr/local/lib/python3.10/dist-packages/sklearn/ensemble/_forest.py:424: FutureWarning: `max_features='auto'` has been deprecated in 1.1 and will be removed in 1.3. To keep the past behaviour, explicitly set `max_features='sqrt'` or remove this parameter as it is also the default value for RandomForestClassifiers and ExtraTreesClassifiers.\n",
            "  warn(\n"
          ]
        },
        {
          "output_type": "stream",
          "name": "stdout",
          "text": [
            "[CV 1/5] END criterion=entropy, max_features=auto, min_samples_leaf=2, min_samples_split=8, n_estimators=115;, score=0.675 total time=   0.3s\n"
          ]
        },
        {
          "output_type": "stream",
          "name": "stderr",
          "text": [
            "/usr/local/lib/python3.10/dist-packages/sklearn/ensemble/_forest.py:424: FutureWarning: `max_features='auto'` has been deprecated in 1.1 and will be removed in 1.3. To keep the past behaviour, explicitly set `max_features='sqrt'` or remove this parameter as it is also the default value for RandomForestClassifiers and ExtraTreesClassifiers.\n",
            "  warn(\n"
          ]
        },
        {
          "output_type": "stream",
          "name": "stdout",
          "text": [
            "[CV 2/5] END criterion=entropy, max_features=auto, min_samples_leaf=2, min_samples_split=8, n_estimators=115;, score=0.740 total time=   0.3s\n"
          ]
        },
        {
          "output_type": "stream",
          "name": "stderr",
          "text": [
            "/usr/local/lib/python3.10/dist-packages/sklearn/ensemble/_forest.py:424: FutureWarning: `max_features='auto'` has been deprecated in 1.1 and will be removed in 1.3. To keep the past behaviour, explicitly set `max_features='sqrt'` or remove this parameter as it is also the default value for RandomForestClassifiers and ExtraTreesClassifiers.\n",
            "  warn(\n"
          ]
        },
        {
          "output_type": "stream",
          "name": "stdout",
          "text": [
            "[CV 3/5] END criterion=entropy, max_features=auto, min_samples_leaf=2, min_samples_split=8, n_estimators=115;, score=0.805 total time=   0.2s\n"
          ]
        },
        {
          "output_type": "stream",
          "name": "stderr",
          "text": [
            "/usr/local/lib/python3.10/dist-packages/sklearn/ensemble/_forest.py:424: FutureWarning: `max_features='auto'` has been deprecated in 1.1 and will be removed in 1.3. To keep the past behaviour, explicitly set `max_features='sqrt'` or remove this parameter as it is also the default value for RandomForestClassifiers and ExtraTreesClassifiers.\n",
            "  warn(\n"
          ]
        },
        {
          "output_type": "stream",
          "name": "stdout",
          "text": [
            "[CV 4/5] END criterion=entropy, max_features=auto, min_samples_leaf=2, min_samples_split=8, n_estimators=115;, score=0.701 total time=   0.3s\n"
          ]
        },
        {
          "output_type": "stream",
          "name": "stderr",
          "text": [
            "/usr/local/lib/python3.10/dist-packages/sklearn/ensemble/_forest.py:424: FutureWarning: `max_features='auto'` has been deprecated in 1.1 and will be removed in 1.3. To keep the past behaviour, explicitly set `max_features='sqrt'` or remove this parameter as it is also the default value for RandomForestClassifiers and ExtraTreesClassifiers.\n",
            "  warn(\n"
          ]
        },
        {
          "output_type": "stream",
          "name": "stdout",
          "text": [
            "[CV 5/5] END criterion=entropy, max_features=auto, min_samples_leaf=2, min_samples_split=8, n_estimators=115;, score=0.789 total time=   0.2s\n",
            "[CV 1/5] END criterion=entropy, max_features=auto, min_samples_leaf=3, min_samples_split=4, n_estimators=90;, score=0.675 total time=   0.2s\n"
          ]
        },
        {
          "output_type": "stream",
          "name": "stderr",
          "text": [
            "/usr/local/lib/python3.10/dist-packages/sklearn/ensemble/_forest.py:424: FutureWarning: `max_features='auto'` has been deprecated in 1.1 and will be removed in 1.3. To keep the past behaviour, explicitly set `max_features='sqrt'` or remove this parameter as it is also the default value for RandomForestClassifiers and ExtraTreesClassifiers.\n",
            "  warn(\n",
            "/usr/local/lib/python3.10/dist-packages/sklearn/ensemble/_forest.py:424: FutureWarning: `max_features='auto'` has been deprecated in 1.1 and will be removed in 1.3. To keep the past behaviour, explicitly set `max_features='sqrt'` or remove this parameter as it is also the default value for RandomForestClassifiers and ExtraTreesClassifiers.\n",
            "  warn(\n"
          ]
        },
        {
          "output_type": "stream",
          "name": "stdout",
          "text": [
            "[CV 2/5] END criterion=entropy, max_features=auto, min_samples_leaf=3, min_samples_split=4, n_estimators=90;, score=0.740 total time=   0.2s\n",
            "[CV 3/5] END criterion=entropy, max_features=auto, min_samples_leaf=3, min_samples_split=4, n_estimators=90;, score=0.805 total time=   0.2s\n"
          ]
        },
        {
          "output_type": "stream",
          "name": "stderr",
          "text": [
            "/usr/local/lib/python3.10/dist-packages/sklearn/ensemble/_forest.py:424: FutureWarning: `max_features='auto'` has been deprecated in 1.1 and will be removed in 1.3. To keep the past behaviour, explicitly set `max_features='sqrt'` or remove this parameter as it is also the default value for RandomForestClassifiers and ExtraTreesClassifiers.\n",
            "  warn(\n",
            "/usr/local/lib/python3.10/dist-packages/sklearn/ensemble/_forest.py:424: FutureWarning: `max_features='auto'` has been deprecated in 1.1 and will be removed in 1.3. To keep the past behaviour, explicitly set `max_features='sqrt'` or remove this parameter as it is also the default value for RandomForestClassifiers and ExtraTreesClassifiers.\n",
            "  warn(\n"
          ]
        },
        {
          "output_type": "stream",
          "name": "stdout",
          "text": [
            "[CV 4/5] END criterion=entropy, max_features=auto, min_samples_leaf=3, min_samples_split=4, n_estimators=90;, score=0.701 total time=   0.2s\n",
            "[CV 5/5] END criterion=entropy, max_features=auto, min_samples_leaf=3, min_samples_split=4, n_estimators=90;, score=0.789 total time=   0.2s\n"
          ]
        },
        {
          "output_type": "stream",
          "name": "stderr",
          "text": [
            "/usr/local/lib/python3.10/dist-packages/sklearn/ensemble/_forest.py:424: FutureWarning: `max_features='auto'` has been deprecated in 1.1 and will be removed in 1.3. To keep the past behaviour, explicitly set `max_features='sqrt'` or remove this parameter as it is also the default value for RandomForestClassifiers and ExtraTreesClassifiers.\n",
            "  warn(\n",
            "/usr/local/lib/python3.10/dist-packages/sklearn/ensemble/_forest.py:424: FutureWarning: `max_features='auto'` has been deprecated in 1.1 and will be removed in 1.3. To keep the past behaviour, explicitly set `max_features='sqrt'` or remove this parameter as it is also the default value for RandomForestClassifiers and ExtraTreesClassifiers.\n",
            "  warn(\n"
          ]
        },
        {
          "output_type": "stream",
          "name": "stdout",
          "text": [
            "[CV 1/5] END criterion=entropy, max_features=auto, min_samples_leaf=3, min_samples_split=4, n_estimators=100;, score=0.675 total time=   0.2s\n",
            "[CV 2/5] END criterion=entropy, max_features=auto, min_samples_leaf=3, min_samples_split=4, n_estimators=100;, score=0.740 total time=   0.2s\n"
          ]
        },
        {
          "output_type": "stream",
          "name": "stderr",
          "text": [
            "/usr/local/lib/python3.10/dist-packages/sklearn/ensemble/_forest.py:424: FutureWarning: `max_features='auto'` has been deprecated in 1.1 and will be removed in 1.3. To keep the past behaviour, explicitly set `max_features='sqrt'` or remove this parameter as it is also the default value for RandomForestClassifiers and ExtraTreesClassifiers.\n",
            "  warn(\n",
            "/usr/local/lib/python3.10/dist-packages/sklearn/ensemble/_forest.py:424: FutureWarning: `max_features='auto'` has been deprecated in 1.1 and will be removed in 1.3. To keep the past behaviour, explicitly set `max_features='sqrt'` or remove this parameter as it is also the default value for RandomForestClassifiers and ExtraTreesClassifiers.\n",
            "  warn(\n"
          ]
        },
        {
          "output_type": "stream",
          "name": "stdout",
          "text": [
            "[CV 3/5] END criterion=entropy, max_features=auto, min_samples_leaf=3, min_samples_split=4, n_estimators=100;, score=0.805 total time=   0.2s\n",
            "[CV 4/5] END criterion=entropy, max_features=auto, min_samples_leaf=3, min_samples_split=4, n_estimators=100;, score=0.701 total time=   0.1s\n"
          ]
        },
        {
          "output_type": "stream",
          "name": "stderr",
          "text": [
            "/usr/local/lib/python3.10/dist-packages/sklearn/ensemble/_forest.py:424: FutureWarning: `max_features='auto'` has been deprecated in 1.1 and will be removed in 1.3. To keep the past behaviour, explicitly set `max_features='sqrt'` or remove this parameter as it is also the default value for RandomForestClassifiers and ExtraTreesClassifiers.\n",
            "  warn(\n",
            "/usr/local/lib/python3.10/dist-packages/sklearn/ensemble/_forest.py:424: FutureWarning: `max_features='auto'` has been deprecated in 1.1 and will be removed in 1.3. To keep the past behaviour, explicitly set `max_features='sqrt'` or remove this parameter as it is also the default value for RandomForestClassifiers and ExtraTreesClassifiers.\n",
            "  warn(\n"
          ]
        },
        {
          "output_type": "stream",
          "name": "stdout",
          "text": [
            "[CV 5/5] END criterion=entropy, max_features=auto, min_samples_leaf=3, min_samples_split=4, n_estimators=100;, score=0.789 total time=   0.1s\n",
            "[CV 1/5] END criterion=entropy, max_features=auto, min_samples_leaf=3, min_samples_split=4, n_estimators=115;, score=0.675 total time=   0.2s\n"
          ]
        },
        {
          "output_type": "stream",
          "name": "stderr",
          "text": [
            "/usr/local/lib/python3.10/dist-packages/sklearn/ensemble/_forest.py:424: FutureWarning: `max_features='auto'` has been deprecated in 1.1 and will be removed in 1.3. To keep the past behaviour, explicitly set `max_features='sqrt'` or remove this parameter as it is also the default value for RandomForestClassifiers and ExtraTreesClassifiers.\n",
            "  warn(\n",
            "/usr/local/lib/python3.10/dist-packages/sklearn/ensemble/_forest.py:424: FutureWarning: `max_features='auto'` has been deprecated in 1.1 and will be removed in 1.3. To keep the past behaviour, explicitly set `max_features='sqrt'` or remove this parameter as it is also the default value for RandomForestClassifiers and ExtraTreesClassifiers.\n",
            "  warn(\n"
          ]
        },
        {
          "output_type": "stream",
          "name": "stdout",
          "text": [
            "[CV 2/5] END criterion=entropy, max_features=auto, min_samples_leaf=3, min_samples_split=4, n_estimators=115;, score=0.740 total time=   0.2s\n",
            "[CV 3/5] END criterion=entropy, max_features=auto, min_samples_leaf=3, min_samples_split=4, n_estimators=115;, score=0.805 total time=   0.1s\n"
          ]
        },
        {
          "output_type": "stream",
          "name": "stderr",
          "text": [
            "/usr/local/lib/python3.10/dist-packages/sklearn/ensemble/_forest.py:424: FutureWarning: `max_features='auto'` has been deprecated in 1.1 and will be removed in 1.3. To keep the past behaviour, explicitly set `max_features='sqrt'` or remove this parameter as it is also the default value for RandomForestClassifiers and ExtraTreesClassifiers.\n",
            "  warn(\n",
            "/usr/local/lib/python3.10/dist-packages/sklearn/ensemble/_forest.py:424: FutureWarning: `max_features='auto'` has been deprecated in 1.1 and will be removed in 1.3. To keep the past behaviour, explicitly set `max_features='sqrt'` or remove this parameter as it is also the default value for RandomForestClassifiers and ExtraTreesClassifiers.\n",
            "  warn(\n"
          ]
        },
        {
          "output_type": "stream",
          "name": "stdout",
          "text": [
            "[CV 4/5] END criterion=entropy, max_features=auto, min_samples_leaf=3, min_samples_split=4, n_estimators=115;, score=0.701 total time=   0.2s\n",
            "[CV 5/5] END criterion=entropy, max_features=auto, min_samples_leaf=3, min_samples_split=4, n_estimators=115;, score=0.789 total time=   0.2s\n"
          ]
        },
        {
          "output_type": "stream",
          "name": "stderr",
          "text": [
            "/usr/local/lib/python3.10/dist-packages/sklearn/ensemble/_forest.py:424: FutureWarning: `max_features='auto'` has been deprecated in 1.1 and will be removed in 1.3. To keep the past behaviour, explicitly set `max_features='sqrt'` or remove this parameter as it is also the default value for RandomForestClassifiers and ExtraTreesClassifiers.\n",
            "  warn(\n",
            "/usr/local/lib/python3.10/dist-packages/sklearn/ensemble/_forest.py:424: FutureWarning: `max_features='auto'` has been deprecated in 1.1 and will be removed in 1.3. To keep the past behaviour, explicitly set `max_features='sqrt'` or remove this parameter as it is also the default value for RandomForestClassifiers and ExtraTreesClassifiers.\n",
            "  warn(\n"
          ]
        },
        {
          "output_type": "stream",
          "name": "stdout",
          "text": [
            "[CV 1/5] END criterion=entropy, max_features=auto, min_samples_leaf=3, min_samples_split=5, n_estimators=90;, score=0.675 total time=   0.1s\n",
            "[CV 2/5] END criterion=entropy, max_features=auto, min_samples_leaf=3, min_samples_split=5, n_estimators=90;, score=0.740 total time=   0.1s\n"
          ]
        },
        {
          "output_type": "stream",
          "name": "stderr",
          "text": [
            "/usr/local/lib/python3.10/dist-packages/sklearn/ensemble/_forest.py:424: FutureWarning: `max_features='auto'` has been deprecated in 1.1 and will be removed in 1.3. To keep the past behaviour, explicitly set `max_features='sqrt'` or remove this parameter as it is also the default value for RandomForestClassifiers and ExtraTreesClassifiers.\n",
            "  warn(\n",
            "/usr/local/lib/python3.10/dist-packages/sklearn/ensemble/_forest.py:424: FutureWarning: `max_features='auto'` has been deprecated in 1.1 and will be removed in 1.3. To keep the past behaviour, explicitly set `max_features='sqrt'` or remove this parameter as it is also the default value for RandomForestClassifiers and ExtraTreesClassifiers.\n",
            "  warn(\n"
          ]
        },
        {
          "output_type": "stream",
          "name": "stdout",
          "text": [
            "[CV 3/5] END criterion=entropy, max_features=auto, min_samples_leaf=3, min_samples_split=5, n_estimators=90;, score=0.805 total time=   0.1s\n",
            "[CV 4/5] END criterion=entropy, max_features=auto, min_samples_leaf=3, min_samples_split=5, n_estimators=90;, score=0.701 total time=   0.1s\n"
          ]
        },
        {
          "output_type": "stream",
          "name": "stderr",
          "text": [
            "/usr/local/lib/python3.10/dist-packages/sklearn/ensemble/_forest.py:424: FutureWarning: `max_features='auto'` has been deprecated in 1.1 and will be removed in 1.3. To keep the past behaviour, explicitly set `max_features='sqrt'` or remove this parameter as it is also the default value for RandomForestClassifiers and ExtraTreesClassifiers.\n",
            "  warn(\n",
            "/usr/local/lib/python3.10/dist-packages/sklearn/ensemble/_forest.py:424: FutureWarning: `max_features='auto'` has been deprecated in 1.1 and will be removed in 1.3. To keep the past behaviour, explicitly set `max_features='sqrt'` or remove this parameter as it is also the default value for RandomForestClassifiers and ExtraTreesClassifiers.\n",
            "  warn(\n"
          ]
        },
        {
          "output_type": "stream",
          "name": "stdout",
          "text": [
            "[CV 5/5] END criterion=entropy, max_features=auto, min_samples_leaf=3, min_samples_split=5, n_estimators=90;, score=0.789 total time=   0.1s\n",
            "[CV 1/5] END criterion=entropy, max_features=auto, min_samples_leaf=3, min_samples_split=5, n_estimators=100;, score=0.675 total time=   0.1s\n"
          ]
        },
        {
          "output_type": "stream",
          "name": "stderr",
          "text": [
            "/usr/local/lib/python3.10/dist-packages/sklearn/ensemble/_forest.py:424: FutureWarning: `max_features='auto'` has been deprecated in 1.1 and will be removed in 1.3. To keep the past behaviour, explicitly set `max_features='sqrt'` or remove this parameter as it is also the default value for RandomForestClassifiers and ExtraTreesClassifiers.\n",
            "  warn(\n",
            "/usr/local/lib/python3.10/dist-packages/sklearn/ensemble/_forest.py:424: FutureWarning: `max_features='auto'` has been deprecated in 1.1 and will be removed in 1.3. To keep the past behaviour, explicitly set `max_features='sqrt'` or remove this parameter as it is also the default value for RandomForestClassifiers and ExtraTreesClassifiers.\n",
            "  warn(\n"
          ]
        },
        {
          "output_type": "stream",
          "name": "stdout",
          "text": [
            "[CV 2/5] END criterion=entropy, max_features=auto, min_samples_leaf=3, min_samples_split=5, n_estimators=100;, score=0.740 total time=   0.1s\n",
            "[CV 3/5] END criterion=entropy, max_features=auto, min_samples_leaf=3, min_samples_split=5, n_estimators=100;, score=0.805 total time=   0.1s\n"
          ]
        },
        {
          "output_type": "stream",
          "name": "stderr",
          "text": [
            "/usr/local/lib/python3.10/dist-packages/sklearn/ensemble/_forest.py:424: FutureWarning: `max_features='auto'` has been deprecated in 1.1 and will be removed in 1.3. To keep the past behaviour, explicitly set `max_features='sqrt'` or remove this parameter as it is also the default value for RandomForestClassifiers and ExtraTreesClassifiers.\n",
            "  warn(\n",
            "/usr/local/lib/python3.10/dist-packages/sklearn/ensemble/_forest.py:424: FutureWarning: `max_features='auto'` has been deprecated in 1.1 and will be removed in 1.3. To keep the past behaviour, explicitly set `max_features='sqrt'` or remove this parameter as it is also the default value for RandomForestClassifiers and ExtraTreesClassifiers.\n",
            "  warn(\n"
          ]
        },
        {
          "output_type": "stream",
          "name": "stdout",
          "text": [
            "[CV 4/5] END criterion=entropy, max_features=auto, min_samples_leaf=3, min_samples_split=5, n_estimators=100;, score=0.701 total time=   0.2s\n",
            "[CV 5/5] END criterion=entropy, max_features=auto, min_samples_leaf=3, min_samples_split=5, n_estimators=100;, score=0.789 total time=   0.1s\n"
          ]
        },
        {
          "output_type": "stream",
          "name": "stderr",
          "text": [
            "/usr/local/lib/python3.10/dist-packages/sklearn/ensemble/_forest.py:424: FutureWarning: `max_features='auto'` has been deprecated in 1.1 and will be removed in 1.3. To keep the past behaviour, explicitly set `max_features='sqrt'` or remove this parameter as it is also the default value for RandomForestClassifiers and ExtraTreesClassifiers.\n",
            "  warn(\n",
            "/usr/local/lib/python3.10/dist-packages/sklearn/ensemble/_forest.py:424: FutureWarning: `max_features='auto'` has been deprecated in 1.1 and will be removed in 1.3. To keep the past behaviour, explicitly set `max_features='sqrt'` or remove this parameter as it is also the default value for RandomForestClassifiers and ExtraTreesClassifiers.\n",
            "  warn(\n"
          ]
        },
        {
          "output_type": "stream",
          "name": "stdout",
          "text": [
            "[CV 1/5] END criterion=entropy, max_features=auto, min_samples_leaf=3, min_samples_split=5, n_estimators=115;, score=0.675 total time=   0.2s\n",
            "[CV 2/5] END criterion=entropy, max_features=auto, min_samples_leaf=3, min_samples_split=5, n_estimators=115;, score=0.740 total time=   0.2s\n"
          ]
        },
        {
          "output_type": "stream",
          "name": "stderr",
          "text": [
            "/usr/local/lib/python3.10/dist-packages/sklearn/ensemble/_forest.py:424: FutureWarning: `max_features='auto'` has been deprecated in 1.1 and will be removed in 1.3. To keep the past behaviour, explicitly set `max_features='sqrt'` or remove this parameter as it is also the default value for RandomForestClassifiers and ExtraTreesClassifiers.\n",
            "  warn(\n",
            "/usr/local/lib/python3.10/dist-packages/sklearn/ensemble/_forest.py:424: FutureWarning: `max_features='auto'` has been deprecated in 1.1 and will be removed in 1.3. To keep the past behaviour, explicitly set `max_features='sqrt'` or remove this parameter as it is also the default value for RandomForestClassifiers and ExtraTreesClassifiers.\n",
            "  warn(\n"
          ]
        },
        {
          "output_type": "stream",
          "name": "stdout",
          "text": [
            "[CV 3/5] END criterion=entropy, max_features=auto, min_samples_leaf=3, min_samples_split=5, n_estimators=115;, score=0.805 total time=   0.2s\n",
            "[CV 4/5] END criterion=entropy, max_features=auto, min_samples_leaf=3, min_samples_split=5, n_estimators=115;, score=0.701 total time=   0.2s\n"
          ]
        },
        {
          "output_type": "stream",
          "name": "stderr",
          "text": [
            "/usr/local/lib/python3.10/dist-packages/sklearn/ensemble/_forest.py:424: FutureWarning: `max_features='auto'` has been deprecated in 1.1 and will be removed in 1.3. To keep the past behaviour, explicitly set `max_features='sqrt'` or remove this parameter as it is also the default value for RandomForestClassifiers and ExtraTreesClassifiers.\n",
            "  warn(\n",
            "/usr/local/lib/python3.10/dist-packages/sklearn/ensemble/_forest.py:424: FutureWarning: `max_features='auto'` has been deprecated in 1.1 and will be removed in 1.3. To keep the past behaviour, explicitly set `max_features='sqrt'` or remove this parameter as it is also the default value for RandomForestClassifiers and ExtraTreesClassifiers.\n",
            "  warn(\n"
          ]
        },
        {
          "output_type": "stream",
          "name": "stdout",
          "text": [
            "[CV 5/5] END criterion=entropy, max_features=auto, min_samples_leaf=3, min_samples_split=5, n_estimators=115;, score=0.789 total time=   0.2s\n",
            "[CV 1/5] END criterion=entropy, max_features=auto, min_samples_leaf=3, min_samples_split=6, n_estimators=90;, score=0.675 total time=   0.1s\n"
          ]
        },
        {
          "output_type": "stream",
          "name": "stderr",
          "text": [
            "/usr/local/lib/python3.10/dist-packages/sklearn/ensemble/_forest.py:424: FutureWarning: `max_features='auto'` has been deprecated in 1.1 and will be removed in 1.3. To keep the past behaviour, explicitly set `max_features='sqrt'` or remove this parameter as it is also the default value for RandomForestClassifiers and ExtraTreesClassifiers.\n",
            "  warn(\n",
            "/usr/local/lib/python3.10/dist-packages/sklearn/ensemble/_forest.py:424: FutureWarning: `max_features='auto'` has been deprecated in 1.1 and will be removed in 1.3. To keep the past behaviour, explicitly set `max_features='sqrt'` or remove this parameter as it is also the default value for RandomForestClassifiers and ExtraTreesClassifiers.\n",
            "  warn(\n"
          ]
        },
        {
          "output_type": "stream",
          "name": "stdout",
          "text": [
            "[CV 2/5] END criterion=entropy, max_features=auto, min_samples_leaf=3, min_samples_split=6, n_estimators=90;, score=0.740 total time=   0.1s\n",
            "[CV 3/5] END criterion=entropy, max_features=auto, min_samples_leaf=3, min_samples_split=6, n_estimators=90;, score=0.805 total time=   0.1s\n"
          ]
        },
        {
          "output_type": "stream",
          "name": "stderr",
          "text": [
            "/usr/local/lib/python3.10/dist-packages/sklearn/ensemble/_forest.py:424: FutureWarning: `max_features='auto'` has been deprecated in 1.1 and will be removed in 1.3. To keep the past behaviour, explicitly set `max_features='sqrt'` or remove this parameter as it is also the default value for RandomForestClassifiers and ExtraTreesClassifiers.\n",
            "  warn(\n",
            "/usr/local/lib/python3.10/dist-packages/sklearn/ensemble/_forest.py:424: FutureWarning: `max_features='auto'` has been deprecated in 1.1 and will be removed in 1.3. To keep the past behaviour, explicitly set `max_features='sqrt'` or remove this parameter as it is also the default value for RandomForestClassifiers and ExtraTreesClassifiers.\n",
            "  warn(\n"
          ]
        },
        {
          "output_type": "stream",
          "name": "stdout",
          "text": [
            "[CV 4/5] END criterion=entropy, max_features=auto, min_samples_leaf=3, min_samples_split=6, n_estimators=90;, score=0.701 total time=   0.1s\n",
            "[CV 5/5] END criterion=entropy, max_features=auto, min_samples_leaf=3, min_samples_split=6, n_estimators=90;, score=0.789 total time=   0.1s\n"
          ]
        },
        {
          "output_type": "stream",
          "name": "stderr",
          "text": [
            "/usr/local/lib/python3.10/dist-packages/sklearn/ensemble/_forest.py:424: FutureWarning: `max_features='auto'` has been deprecated in 1.1 and will be removed in 1.3. To keep the past behaviour, explicitly set `max_features='sqrt'` or remove this parameter as it is also the default value for RandomForestClassifiers and ExtraTreesClassifiers.\n",
            "  warn(\n",
            "/usr/local/lib/python3.10/dist-packages/sklearn/ensemble/_forest.py:424: FutureWarning: `max_features='auto'` has been deprecated in 1.1 and will be removed in 1.3. To keep the past behaviour, explicitly set `max_features='sqrt'` or remove this parameter as it is also the default value for RandomForestClassifiers and ExtraTreesClassifiers.\n",
            "  warn(\n"
          ]
        },
        {
          "output_type": "stream",
          "name": "stdout",
          "text": [
            "[CV 1/5] END criterion=entropy, max_features=auto, min_samples_leaf=3, min_samples_split=6, n_estimators=100;, score=0.675 total time=   0.1s\n",
            "[CV 2/5] END criterion=entropy, max_features=auto, min_samples_leaf=3, min_samples_split=6, n_estimators=100;, score=0.740 total time=   0.1s\n"
          ]
        },
        {
          "output_type": "stream",
          "name": "stderr",
          "text": [
            "/usr/local/lib/python3.10/dist-packages/sklearn/ensemble/_forest.py:424: FutureWarning: `max_features='auto'` has been deprecated in 1.1 and will be removed in 1.3. To keep the past behaviour, explicitly set `max_features='sqrt'` or remove this parameter as it is also the default value for RandomForestClassifiers and ExtraTreesClassifiers.\n",
            "  warn(\n",
            "/usr/local/lib/python3.10/dist-packages/sklearn/ensemble/_forest.py:424: FutureWarning: `max_features='auto'` has been deprecated in 1.1 and will be removed in 1.3. To keep the past behaviour, explicitly set `max_features='sqrt'` or remove this parameter as it is also the default value for RandomForestClassifiers and ExtraTreesClassifiers.\n",
            "  warn(\n"
          ]
        },
        {
          "output_type": "stream",
          "name": "stdout",
          "text": [
            "[CV 3/5] END criterion=entropy, max_features=auto, min_samples_leaf=3, min_samples_split=6, n_estimators=100;, score=0.805 total time=   0.1s\n",
            "[CV 4/5] END criterion=entropy, max_features=auto, min_samples_leaf=3, min_samples_split=6, n_estimators=100;, score=0.701 total time=   0.1s\n"
          ]
        },
        {
          "output_type": "stream",
          "name": "stderr",
          "text": [
            "/usr/local/lib/python3.10/dist-packages/sklearn/ensemble/_forest.py:424: FutureWarning: `max_features='auto'` has been deprecated in 1.1 and will be removed in 1.3. To keep the past behaviour, explicitly set `max_features='sqrt'` or remove this parameter as it is also the default value for RandomForestClassifiers and ExtraTreesClassifiers.\n",
            "  warn(\n",
            "/usr/local/lib/python3.10/dist-packages/sklearn/ensemble/_forest.py:424: FutureWarning: `max_features='auto'` has been deprecated in 1.1 and will be removed in 1.3. To keep the past behaviour, explicitly set `max_features='sqrt'` or remove this parameter as it is also the default value for RandomForestClassifiers and ExtraTreesClassifiers.\n",
            "  warn(\n"
          ]
        },
        {
          "output_type": "stream",
          "name": "stdout",
          "text": [
            "[CV 5/5] END criterion=entropy, max_features=auto, min_samples_leaf=3, min_samples_split=6, n_estimators=100;, score=0.789 total time=   0.1s\n",
            "[CV 1/5] END criterion=entropy, max_features=auto, min_samples_leaf=3, min_samples_split=6, n_estimators=115;, score=0.675 total time=   0.1s\n"
          ]
        },
        {
          "output_type": "stream",
          "name": "stderr",
          "text": [
            "/usr/local/lib/python3.10/dist-packages/sklearn/ensemble/_forest.py:424: FutureWarning: `max_features='auto'` has been deprecated in 1.1 and will be removed in 1.3. To keep the past behaviour, explicitly set `max_features='sqrt'` or remove this parameter as it is also the default value for RandomForestClassifiers and ExtraTreesClassifiers.\n",
            "  warn(\n",
            "/usr/local/lib/python3.10/dist-packages/sklearn/ensemble/_forest.py:424: FutureWarning: `max_features='auto'` has been deprecated in 1.1 and will be removed in 1.3. To keep the past behaviour, explicitly set `max_features='sqrt'` or remove this parameter as it is also the default value for RandomForestClassifiers and ExtraTreesClassifiers.\n",
            "  warn(\n"
          ]
        },
        {
          "output_type": "stream",
          "name": "stdout",
          "text": [
            "[CV 2/5] END criterion=entropy, max_features=auto, min_samples_leaf=3, min_samples_split=6, n_estimators=115;, score=0.740 total time=   0.2s\n",
            "[CV 3/5] END criterion=entropy, max_features=auto, min_samples_leaf=3, min_samples_split=6, n_estimators=115;, score=0.805 total time=   0.2s\n"
          ]
        },
        {
          "output_type": "stream",
          "name": "stderr",
          "text": [
            "/usr/local/lib/python3.10/dist-packages/sklearn/ensemble/_forest.py:424: FutureWarning: `max_features='auto'` has been deprecated in 1.1 and will be removed in 1.3. To keep the past behaviour, explicitly set `max_features='sqrt'` or remove this parameter as it is also the default value for RandomForestClassifiers and ExtraTreesClassifiers.\n",
            "  warn(\n",
            "/usr/local/lib/python3.10/dist-packages/sklearn/ensemble/_forest.py:424: FutureWarning: `max_features='auto'` has been deprecated in 1.1 and will be removed in 1.3. To keep the past behaviour, explicitly set `max_features='sqrt'` or remove this parameter as it is also the default value for RandomForestClassifiers and ExtraTreesClassifiers.\n",
            "  warn(\n"
          ]
        },
        {
          "output_type": "stream",
          "name": "stdout",
          "text": [
            "[CV 4/5] END criterion=entropy, max_features=auto, min_samples_leaf=3, min_samples_split=6, n_estimators=115;, score=0.701 total time=   0.2s\n",
            "[CV 5/5] END criterion=entropy, max_features=auto, min_samples_leaf=3, min_samples_split=6, n_estimators=115;, score=0.789 total time=   0.2s\n"
          ]
        },
        {
          "output_type": "stream",
          "name": "stderr",
          "text": [
            "/usr/local/lib/python3.10/dist-packages/sklearn/ensemble/_forest.py:424: FutureWarning: `max_features='auto'` has been deprecated in 1.1 and will be removed in 1.3. To keep the past behaviour, explicitly set `max_features='sqrt'` or remove this parameter as it is also the default value for RandomForestClassifiers and ExtraTreesClassifiers.\n",
            "  warn(\n",
            "/usr/local/lib/python3.10/dist-packages/sklearn/ensemble/_forest.py:424: FutureWarning: `max_features='auto'` has been deprecated in 1.1 and will be removed in 1.3. To keep the past behaviour, explicitly set `max_features='sqrt'` or remove this parameter as it is also the default value for RandomForestClassifiers and ExtraTreesClassifiers.\n",
            "  warn(\n"
          ]
        },
        {
          "output_type": "stream",
          "name": "stdout",
          "text": [
            "[CV 1/5] END criterion=entropy, max_features=auto, min_samples_leaf=3, min_samples_split=7, n_estimators=90;, score=0.675 total time=   0.1s\n",
            "[CV 2/5] END criterion=entropy, max_features=auto, min_samples_leaf=3, min_samples_split=7, n_estimators=90;, score=0.740 total time=   0.1s\n"
          ]
        },
        {
          "output_type": "stream",
          "name": "stderr",
          "text": [
            "/usr/local/lib/python3.10/dist-packages/sklearn/ensemble/_forest.py:424: FutureWarning: `max_features='auto'` has been deprecated in 1.1 and will be removed in 1.3. To keep the past behaviour, explicitly set `max_features='sqrt'` or remove this parameter as it is also the default value for RandomForestClassifiers and ExtraTreesClassifiers.\n",
            "  warn(\n",
            "/usr/local/lib/python3.10/dist-packages/sklearn/ensemble/_forest.py:424: FutureWarning: `max_features='auto'` has been deprecated in 1.1 and will be removed in 1.3. To keep the past behaviour, explicitly set `max_features='sqrt'` or remove this parameter as it is also the default value for RandomForestClassifiers and ExtraTreesClassifiers.\n",
            "  warn(\n"
          ]
        },
        {
          "output_type": "stream",
          "name": "stdout",
          "text": [
            "[CV 3/5] END criterion=entropy, max_features=auto, min_samples_leaf=3, min_samples_split=7, n_estimators=90;, score=0.805 total time=   0.1s\n",
            "[CV 4/5] END criterion=entropy, max_features=auto, min_samples_leaf=3, min_samples_split=7, n_estimators=90;, score=0.701 total time=   0.1s\n"
          ]
        },
        {
          "output_type": "stream",
          "name": "stderr",
          "text": [
            "/usr/local/lib/python3.10/dist-packages/sklearn/ensemble/_forest.py:424: FutureWarning: `max_features='auto'` has been deprecated in 1.1 and will be removed in 1.3. To keep the past behaviour, explicitly set `max_features='sqrt'` or remove this parameter as it is also the default value for RandomForestClassifiers and ExtraTreesClassifiers.\n",
            "  warn(\n",
            "/usr/local/lib/python3.10/dist-packages/sklearn/ensemble/_forest.py:424: FutureWarning: `max_features='auto'` has been deprecated in 1.1 and will be removed in 1.3. To keep the past behaviour, explicitly set `max_features='sqrt'` or remove this parameter as it is also the default value for RandomForestClassifiers and ExtraTreesClassifiers.\n",
            "  warn(\n"
          ]
        },
        {
          "output_type": "stream",
          "name": "stdout",
          "text": [
            "[CV 5/5] END criterion=entropy, max_features=auto, min_samples_leaf=3, min_samples_split=7, n_estimators=90;, score=0.789 total time=   0.1s\n",
            "[CV 1/5] END criterion=entropy, max_features=auto, min_samples_leaf=3, min_samples_split=7, n_estimators=100;, score=0.675 total time=   0.1s\n"
          ]
        },
        {
          "output_type": "stream",
          "name": "stderr",
          "text": [
            "/usr/local/lib/python3.10/dist-packages/sklearn/ensemble/_forest.py:424: FutureWarning: `max_features='auto'` has been deprecated in 1.1 and will be removed in 1.3. To keep the past behaviour, explicitly set `max_features='sqrt'` or remove this parameter as it is also the default value for RandomForestClassifiers and ExtraTreesClassifiers.\n",
            "  warn(\n",
            "/usr/local/lib/python3.10/dist-packages/sklearn/ensemble/_forest.py:424: FutureWarning: `max_features='auto'` has been deprecated in 1.1 and will be removed in 1.3. To keep the past behaviour, explicitly set `max_features='sqrt'` or remove this parameter as it is also the default value for RandomForestClassifiers and ExtraTreesClassifiers.\n",
            "  warn(\n"
          ]
        },
        {
          "output_type": "stream",
          "name": "stdout",
          "text": [
            "[CV 2/5] END criterion=entropy, max_features=auto, min_samples_leaf=3, min_samples_split=7, n_estimators=100;, score=0.740 total time=   0.2s\n",
            "[CV 3/5] END criterion=entropy, max_features=auto, min_samples_leaf=3, min_samples_split=7, n_estimators=100;, score=0.805 total time=   0.1s\n"
          ]
        },
        {
          "output_type": "stream",
          "name": "stderr",
          "text": [
            "/usr/local/lib/python3.10/dist-packages/sklearn/ensemble/_forest.py:424: FutureWarning: `max_features='auto'` has been deprecated in 1.1 and will be removed in 1.3. To keep the past behaviour, explicitly set `max_features='sqrt'` or remove this parameter as it is also the default value for RandomForestClassifiers and ExtraTreesClassifiers.\n",
            "  warn(\n",
            "/usr/local/lib/python3.10/dist-packages/sklearn/ensemble/_forest.py:424: FutureWarning: `max_features='auto'` has been deprecated in 1.1 and will be removed in 1.3. To keep the past behaviour, explicitly set `max_features='sqrt'` or remove this parameter as it is also the default value for RandomForestClassifiers and ExtraTreesClassifiers.\n",
            "  warn(\n"
          ]
        },
        {
          "output_type": "stream",
          "name": "stdout",
          "text": [
            "[CV 4/5] END criterion=entropy, max_features=auto, min_samples_leaf=3, min_samples_split=7, n_estimators=100;, score=0.701 total time=   0.1s\n",
            "[CV 5/5] END criterion=entropy, max_features=auto, min_samples_leaf=3, min_samples_split=7, n_estimators=100;, score=0.789 total time=   0.1s\n"
          ]
        },
        {
          "output_type": "stream",
          "name": "stderr",
          "text": [
            "/usr/local/lib/python3.10/dist-packages/sklearn/ensemble/_forest.py:424: FutureWarning: `max_features='auto'` has been deprecated in 1.1 and will be removed in 1.3. To keep the past behaviour, explicitly set `max_features='sqrt'` or remove this parameter as it is also the default value for RandomForestClassifiers and ExtraTreesClassifiers.\n",
            "  warn(\n",
            "/usr/local/lib/python3.10/dist-packages/sklearn/ensemble/_forest.py:424: FutureWarning: `max_features='auto'` has been deprecated in 1.1 and will be removed in 1.3. To keep the past behaviour, explicitly set `max_features='sqrt'` or remove this parameter as it is also the default value for RandomForestClassifiers and ExtraTreesClassifiers.\n",
            "  warn(\n"
          ]
        },
        {
          "output_type": "stream",
          "name": "stdout",
          "text": [
            "[CV 1/5] END criterion=entropy, max_features=auto, min_samples_leaf=3, min_samples_split=7, n_estimators=115;, score=0.675 total time=   0.2s\n",
            "[CV 2/5] END criterion=entropy, max_features=auto, min_samples_leaf=3, min_samples_split=7, n_estimators=115;, score=0.740 total time=   0.2s\n"
          ]
        },
        {
          "output_type": "stream",
          "name": "stderr",
          "text": [
            "/usr/local/lib/python3.10/dist-packages/sklearn/ensemble/_forest.py:424: FutureWarning: `max_features='auto'` has been deprecated in 1.1 and will be removed in 1.3. To keep the past behaviour, explicitly set `max_features='sqrt'` or remove this parameter as it is also the default value for RandomForestClassifiers and ExtraTreesClassifiers.\n",
            "  warn(\n",
            "/usr/local/lib/python3.10/dist-packages/sklearn/ensemble/_forest.py:424: FutureWarning: `max_features='auto'` has been deprecated in 1.1 and will be removed in 1.3. To keep the past behaviour, explicitly set `max_features='sqrt'` or remove this parameter as it is also the default value for RandomForestClassifiers and ExtraTreesClassifiers.\n",
            "  warn(\n"
          ]
        },
        {
          "output_type": "stream",
          "name": "stdout",
          "text": [
            "[CV 3/5] END criterion=entropy, max_features=auto, min_samples_leaf=3, min_samples_split=7, n_estimators=115;, score=0.805 total time=   0.2s\n",
            "[CV 4/5] END criterion=entropy, max_features=auto, min_samples_leaf=3, min_samples_split=7, n_estimators=115;, score=0.701 total time=   0.2s\n"
          ]
        },
        {
          "output_type": "stream",
          "name": "stderr",
          "text": [
            "/usr/local/lib/python3.10/dist-packages/sklearn/ensemble/_forest.py:424: FutureWarning: `max_features='auto'` has been deprecated in 1.1 and will be removed in 1.3. To keep the past behaviour, explicitly set `max_features='sqrt'` or remove this parameter as it is also the default value for RandomForestClassifiers and ExtraTreesClassifiers.\n",
            "  warn(\n",
            "/usr/local/lib/python3.10/dist-packages/sklearn/ensemble/_forest.py:424: FutureWarning: `max_features='auto'` has been deprecated in 1.1 and will be removed in 1.3. To keep the past behaviour, explicitly set `max_features='sqrt'` or remove this parameter as it is also the default value for RandomForestClassifiers and ExtraTreesClassifiers.\n",
            "  warn(\n"
          ]
        },
        {
          "output_type": "stream",
          "name": "stdout",
          "text": [
            "[CV 5/5] END criterion=entropy, max_features=auto, min_samples_leaf=3, min_samples_split=7, n_estimators=115;, score=0.789 total time=   0.2s\n",
            "[CV 1/5] END criterion=entropy, max_features=auto, min_samples_leaf=3, min_samples_split=8, n_estimators=90;, score=0.675 total time=   0.1s\n"
          ]
        },
        {
          "output_type": "stream",
          "name": "stderr",
          "text": [
            "/usr/local/lib/python3.10/dist-packages/sklearn/ensemble/_forest.py:424: FutureWarning: `max_features='auto'` has been deprecated in 1.1 and will be removed in 1.3. To keep the past behaviour, explicitly set `max_features='sqrt'` or remove this parameter as it is also the default value for RandomForestClassifiers and ExtraTreesClassifiers.\n",
            "  warn(\n",
            "/usr/local/lib/python3.10/dist-packages/sklearn/ensemble/_forest.py:424: FutureWarning: `max_features='auto'` has been deprecated in 1.1 and will be removed in 1.3. To keep the past behaviour, explicitly set `max_features='sqrt'` or remove this parameter as it is also the default value for RandomForestClassifiers and ExtraTreesClassifiers.\n",
            "  warn(\n"
          ]
        },
        {
          "output_type": "stream",
          "name": "stdout",
          "text": [
            "[CV 2/5] END criterion=entropy, max_features=auto, min_samples_leaf=3, min_samples_split=8, n_estimators=90;, score=0.740 total time=   0.1s\n",
            "[CV 3/5] END criterion=entropy, max_features=auto, min_samples_leaf=3, min_samples_split=8, n_estimators=90;, score=0.805 total time=   0.1s\n"
          ]
        },
        {
          "output_type": "stream",
          "name": "stderr",
          "text": [
            "/usr/local/lib/python3.10/dist-packages/sklearn/ensemble/_forest.py:424: FutureWarning: `max_features='auto'` has been deprecated in 1.1 and will be removed in 1.3. To keep the past behaviour, explicitly set `max_features='sqrt'` or remove this parameter as it is also the default value for RandomForestClassifiers and ExtraTreesClassifiers.\n",
            "  warn(\n",
            "/usr/local/lib/python3.10/dist-packages/sklearn/ensemble/_forest.py:424: FutureWarning: `max_features='auto'` has been deprecated in 1.1 and will be removed in 1.3. To keep the past behaviour, explicitly set `max_features='sqrt'` or remove this parameter as it is also the default value for RandomForestClassifiers and ExtraTreesClassifiers.\n",
            "  warn(\n"
          ]
        },
        {
          "output_type": "stream",
          "name": "stdout",
          "text": [
            "[CV 4/5] END criterion=entropy, max_features=auto, min_samples_leaf=3, min_samples_split=8, n_estimators=90;, score=0.701 total time=   0.1s\n",
            "[CV 5/5] END criterion=entropy, max_features=auto, min_samples_leaf=3, min_samples_split=8, n_estimators=90;, score=0.789 total time=   0.1s\n"
          ]
        },
        {
          "output_type": "stream",
          "name": "stderr",
          "text": [
            "/usr/local/lib/python3.10/dist-packages/sklearn/ensemble/_forest.py:424: FutureWarning: `max_features='auto'` has been deprecated in 1.1 and will be removed in 1.3. To keep the past behaviour, explicitly set `max_features='sqrt'` or remove this parameter as it is also the default value for RandomForestClassifiers and ExtraTreesClassifiers.\n",
            "  warn(\n",
            "/usr/local/lib/python3.10/dist-packages/sklearn/ensemble/_forest.py:424: FutureWarning: `max_features='auto'` has been deprecated in 1.1 and will be removed in 1.3. To keep the past behaviour, explicitly set `max_features='sqrt'` or remove this parameter as it is also the default value for RandomForestClassifiers and ExtraTreesClassifiers.\n",
            "  warn(\n"
          ]
        },
        {
          "output_type": "stream",
          "name": "stdout",
          "text": [
            "[CV 1/5] END criterion=entropy, max_features=auto, min_samples_leaf=3, min_samples_split=8, n_estimators=100;, score=0.675 total time=   0.1s\n",
            "[CV 2/5] END criterion=entropy, max_features=auto, min_samples_leaf=3, min_samples_split=8, n_estimators=100;, score=0.740 total time=   0.1s\n"
          ]
        },
        {
          "output_type": "stream",
          "name": "stderr",
          "text": [
            "/usr/local/lib/python3.10/dist-packages/sklearn/ensemble/_forest.py:424: FutureWarning: `max_features='auto'` has been deprecated in 1.1 and will be removed in 1.3. To keep the past behaviour, explicitly set `max_features='sqrt'` or remove this parameter as it is also the default value for RandomForestClassifiers and ExtraTreesClassifiers.\n",
            "  warn(\n",
            "/usr/local/lib/python3.10/dist-packages/sklearn/ensemble/_forest.py:424: FutureWarning: `max_features='auto'` has been deprecated in 1.1 and will be removed in 1.3. To keep the past behaviour, explicitly set `max_features='sqrt'` or remove this parameter as it is also the default value for RandomForestClassifiers and ExtraTreesClassifiers.\n",
            "  warn(\n"
          ]
        },
        {
          "output_type": "stream",
          "name": "stdout",
          "text": [
            "[CV 3/5] END criterion=entropy, max_features=auto, min_samples_leaf=3, min_samples_split=8, n_estimators=100;, score=0.805 total time=   0.1s\n",
            "[CV 4/5] END criterion=entropy, max_features=auto, min_samples_leaf=3, min_samples_split=8, n_estimators=100;, score=0.701 total time=   0.1s\n"
          ]
        },
        {
          "output_type": "stream",
          "name": "stderr",
          "text": [
            "/usr/local/lib/python3.10/dist-packages/sklearn/ensemble/_forest.py:424: FutureWarning: `max_features='auto'` has been deprecated in 1.1 and will be removed in 1.3. To keep the past behaviour, explicitly set `max_features='sqrt'` or remove this parameter as it is also the default value for RandomForestClassifiers and ExtraTreesClassifiers.\n",
            "  warn(\n",
            "/usr/local/lib/python3.10/dist-packages/sklearn/ensemble/_forest.py:424: FutureWarning: `max_features='auto'` has been deprecated in 1.1 and will be removed in 1.3. To keep the past behaviour, explicitly set `max_features='sqrt'` or remove this parameter as it is also the default value for RandomForestClassifiers and ExtraTreesClassifiers.\n",
            "  warn(\n"
          ]
        },
        {
          "output_type": "stream",
          "name": "stdout",
          "text": [
            "[CV 5/5] END criterion=entropy, max_features=auto, min_samples_leaf=3, min_samples_split=8, n_estimators=100;, score=0.789 total time=   0.1s\n",
            "[CV 1/5] END criterion=entropy, max_features=auto, min_samples_leaf=3, min_samples_split=8, n_estimators=115;, score=0.675 total time=   0.2s\n"
          ]
        },
        {
          "output_type": "stream",
          "name": "stderr",
          "text": [
            "/usr/local/lib/python3.10/dist-packages/sklearn/ensemble/_forest.py:424: FutureWarning: `max_features='auto'` has been deprecated in 1.1 and will be removed in 1.3. To keep the past behaviour, explicitly set `max_features='sqrt'` or remove this parameter as it is also the default value for RandomForestClassifiers and ExtraTreesClassifiers.\n",
            "  warn(\n",
            "/usr/local/lib/python3.10/dist-packages/sklearn/ensemble/_forest.py:424: FutureWarning: `max_features='auto'` has been deprecated in 1.1 and will be removed in 1.3. To keep the past behaviour, explicitly set `max_features='sqrt'` or remove this parameter as it is also the default value for RandomForestClassifiers and ExtraTreesClassifiers.\n",
            "  warn(\n"
          ]
        },
        {
          "output_type": "stream",
          "name": "stdout",
          "text": [
            "[CV 2/5] END criterion=entropy, max_features=auto, min_samples_leaf=3, min_samples_split=8, n_estimators=115;, score=0.740 total time=   0.2s\n",
            "[CV 3/5] END criterion=entropy, max_features=auto, min_samples_leaf=3, min_samples_split=8, n_estimators=115;, score=0.805 total time=   0.2s\n"
          ]
        },
        {
          "output_type": "stream",
          "name": "stderr",
          "text": [
            "/usr/local/lib/python3.10/dist-packages/sklearn/ensemble/_forest.py:424: FutureWarning: `max_features='auto'` has been deprecated in 1.1 and will be removed in 1.3. To keep the past behaviour, explicitly set `max_features='sqrt'` or remove this parameter as it is also the default value for RandomForestClassifiers and ExtraTreesClassifiers.\n",
            "  warn(\n",
            "/usr/local/lib/python3.10/dist-packages/sklearn/ensemble/_forest.py:424: FutureWarning: `max_features='auto'` has been deprecated in 1.1 and will be removed in 1.3. To keep the past behaviour, explicitly set `max_features='sqrt'` or remove this parameter as it is also the default value for RandomForestClassifiers and ExtraTreesClassifiers.\n",
            "  warn(\n"
          ]
        },
        {
          "output_type": "stream",
          "name": "stdout",
          "text": [
            "[CV 4/5] END criterion=entropy, max_features=auto, min_samples_leaf=3, min_samples_split=8, n_estimators=115;, score=0.701 total time=   0.2s\n",
            "[CV 5/5] END criterion=entropy, max_features=auto, min_samples_leaf=3, min_samples_split=8, n_estimators=115;, score=0.789 total time=   0.1s\n"
          ]
        },
        {
          "output_type": "stream",
          "name": "stderr",
          "text": [
            "/usr/local/lib/python3.10/dist-packages/sklearn/ensemble/_forest.py:424: FutureWarning: `max_features='auto'` has been deprecated in 1.1 and will be removed in 1.3. To keep the past behaviour, explicitly set `max_features='sqrt'` or remove this parameter as it is also the default value for RandomForestClassifiers and ExtraTreesClassifiers.\n",
            "  warn(\n",
            "/usr/local/lib/python3.10/dist-packages/sklearn/ensemble/_forest.py:424: FutureWarning: `max_features='auto'` has been deprecated in 1.1 and will be removed in 1.3. To keep the past behaviour, explicitly set `max_features='sqrt'` or remove this parameter as it is also the default value for RandomForestClassifiers and ExtraTreesClassifiers.\n",
            "  warn(\n"
          ]
        },
        {
          "output_type": "stream",
          "name": "stdout",
          "text": [
            "[CV 1/5] END criterion=entropy, max_features=auto, min_samples_leaf=4, min_samples_split=4, n_estimators=90;, score=0.675 total time=   0.1s\n",
            "[CV 2/5] END criterion=entropy, max_features=auto, min_samples_leaf=4, min_samples_split=4, n_estimators=90;, score=0.740 total time=   0.1s\n"
          ]
        },
        {
          "output_type": "stream",
          "name": "stderr",
          "text": [
            "/usr/local/lib/python3.10/dist-packages/sklearn/ensemble/_forest.py:424: FutureWarning: `max_features='auto'` has been deprecated in 1.1 and will be removed in 1.3. To keep the past behaviour, explicitly set `max_features='sqrt'` or remove this parameter as it is also the default value for RandomForestClassifiers and ExtraTreesClassifiers.\n",
            "  warn(\n",
            "/usr/local/lib/python3.10/dist-packages/sklearn/ensemble/_forest.py:424: FutureWarning: `max_features='auto'` has been deprecated in 1.1 and will be removed in 1.3. To keep the past behaviour, explicitly set `max_features='sqrt'` or remove this parameter as it is also the default value for RandomForestClassifiers and ExtraTreesClassifiers.\n",
            "  warn(\n"
          ]
        },
        {
          "output_type": "stream",
          "name": "stdout",
          "text": [
            "[CV 3/5] END criterion=entropy, max_features=auto, min_samples_leaf=4, min_samples_split=4, n_estimators=90;, score=0.805 total time=   0.1s\n",
            "[CV 4/5] END criterion=entropy, max_features=auto, min_samples_leaf=4, min_samples_split=4, n_estimators=90;, score=0.701 total time=   0.2s\n"
          ]
        },
        {
          "output_type": "stream",
          "name": "stderr",
          "text": [
            "/usr/local/lib/python3.10/dist-packages/sklearn/ensemble/_forest.py:424: FutureWarning: `max_features='auto'` has been deprecated in 1.1 and will be removed in 1.3. To keep the past behaviour, explicitly set `max_features='sqrt'` or remove this parameter as it is also the default value for RandomForestClassifiers and ExtraTreesClassifiers.\n",
            "  warn(\n",
            "/usr/local/lib/python3.10/dist-packages/sklearn/ensemble/_forest.py:424: FutureWarning: `max_features='auto'` has been deprecated in 1.1 and will be removed in 1.3. To keep the past behaviour, explicitly set `max_features='sqrt'` or remove this parameter as it is also the default value for RandomForestClassifiers and ExtraTreesClassifiers.\n",
            "  warn(\n"
          ]
        },
        {
          "output_type": "stream",
          "name": "stdout",
          "text": [
            "[CV 5/5] END criterion=entropy, max_features=auto, min_samples_leaf=4, min_samples_split=4, n_estimators=90;, score=0.789 total time=   0.2s\n"
          ]
        },
        {
          "output_type": "stream",
          "name": "stderr",
          "text": [
            "/usr/local/lib/python3.10/dist-packages/sklearn/ensemble/_forest.py:424: FutureWarning: `max_features='auto'` has been deprecated in 1.1 and will be removed in 1.3. To keep the past behaviour, explicitly set `max_features='sqrt'` or remove this parameter as it is also the default value for RandomForestClassifiers and ExtraTreesClassifiers.\n",
            "  warn(\n"
          ]
        },
        {
          "output_type": "stream",
          "name": "stdout",
          "text": [
            "[CV 1/5] END criterion=entropy, max_features=auto, min_samples_leaf=4, min_samples_split=4, n_estimators=100;, score=0.675 total time=   0.2s\n",
            "[CV 2/5] END criterion=entropy, max_features=auto, min_samples_leaf=4, min_samples_split=4, n_estimators=100;, score=0.740 total time=   0.2s"
          ]
        },
        {
          "output_type": "stream",
          "name": "stderr",
          "text": [
            "/usr/local/lib/python3.10/dist-packages/sklearn/ensemble/_forest.py:424: FutureWarning: `max_features='auto'` has been deprecated in 1.1 and will be removed in 1.3. To keep the past behaviour, explicitly set `max_features='sqrt'` or remove this parameter as it is also the default value for RandomForestClassifiers and ExtraTreesClassifiers.\n",
            "  warn(\n",
            "/usr/local/lib/python3.10/dist-packages/sklearn/ensemble/_forest.py:424: FutureWarning: `max_features='auto'` has been deprecated in 1.1 and will be removed in 1.3. To keep the past behaviour, explicitly set `max_features='sqrt'` or remove this parameter as it is also the default value for RandomForestClassifiers and ExtraTreesClassifiers.\n",
            "  warn(\n"
          ]
        },
        {
          "output_type": "stream",
          "name": "stdout",
          "text": [
            "\n",
            "[CV 3/5] END criterion=entropy, max_features=auto, min_samples_leaf=4, min_samples_split=4, n_estimators=100;, score=0.805 total time=   0.2s\n"
          ]
        },
        {
          "output_type": "stream",
          "name": "stderr",
          "text": [
            "/usr/local/lib/python3.10/dist-packages/sklearn/ensemble/_forest.py:424: FutureWarning: `max_features='auto'` has been deprecated in 1.1 and will be removed in 1.3. To keep the past behaviour, explicitly set `max_features='sqrt'` or remove this parameter as it is also the default value for RandomForestClassifiers and ExtraTreesClassifiers.\n",
            "  warn(\n"
          ]
        },
        {
          "output_type": "stream",
          "name": "stdout",
          "text": [
            "[CV 4/5] END criterion=entropy, max_features=auto, min_samples_leaf=4, min_samples_split=4, n_estimators=100;, score=0.701 total time=   0.2s\n"
          ]
        },
        {
          "output_type": "stream",
          "name": "stderr",
          "text": [
            "/usr/local/lib/python3.10/dist-packages/sklearn/ensemble/_forest.py:424: FutureWarning: `max_features='auto'` has been deprecated in 1.1 and will be removed in 1.3. To keep the past behaviour, explicitly set `max_features='sqrt'` or remove this parameter as it is also the default value for RandomForestClassifiers and ExtraTreesClassifiers.\n",
            "  warn(\n"
          ]
        },
        {
          "output_type": "stream",
          "name": "stdout",
          "text": [
            "[CV 5/5] END criterion=entropy, max_features=auto, min_samples_leaf=4, min_samples_split=4, n_estimators=100;, score=0.789 total time=   0.2s\n"
          ]
        },
        {
          "output_type": "stream",
          "name": "stderr",
          "text": [
            "/usr/local/lib/python3.10/dist-packages/sklearn/ensemble/_forest.py:424: FutureWarning: `max_features='auto'` has been deprecated in 1.1 and will be removed in 1.3. To keep the past behaviour, explicitly set `max_features='sqrt'` or remove this parameter as it is also the default value for RandomForestClassifiers and ExtraTreesClassifiers.\n",
            "  warn(\n"
          ]
        },
        {
          "output_type": "stream",
          "name": "stdout",
          "text": [
            "[CV 1/5] END criterion=entropy, max_features=auto, min_samples_leaf=4, min_samples_split=4, n_estimators=115;, score=0.675 total time=   0.3s\n"
          ]
        },
        {
          "output_type": "stream",
          "name": "stderr",
          "text": [
            "/usr/local/lib/python3.10/dist-packages/sklearn/ensemble/_forest.py:424: FutureWarning: `max_features='auto'` has been deprecated in 1.1 and will be removed in 1.3. To keep the past behaviour, explicitly set `max_features='sqrt'` or remove this parameter as it is also the default value for RandomForestClassifiers and ExtraTreesClassifiers.\n",
            "  warn(\n"
          ]
        },
        {
          "output_type": "stream",
          "name": "stdout",
          "text": [
            "[CV 2/5] END criterion=entropy, max_features=auto, min_samples_leaf=4, min_samples_split=4, n_estimators=115;, score=0.740 total time=   0.3s\n"
          ]
        },
        {
          "output_type": "stream",
          "name": "stderr",
          "text": [
            "/usr/local/lib/python3.10/dist-packages/sklearn/ensemble/_forest.py:424: FutureWarning: `max_features='auto'` has been deprecated in 1.1 and will be removed in 1.3. To keep the past behaviour, explicitly set `max_features='sqrt'` or remove this parameter as it is also the default value for RandomForestClassifiers and ExtraTreesClassifiers.\n",
            "  warn(\n"
          ]
        },
        {
          "output_type": "stream",
          "name": "stdout",
          "text": [
            "[CV 3/5] END criterion=entropy, max_features=auto, min_samples_leaf=4, min_samples_split=4, n_estimators=115;, score=0.805 total time=   0.3s\n"
          ]
        },
        {
          "output_type": "stream",
          "name": "stderr",
          "text": [
            "/usr/local/lib/python3.10/dist-packages/sklearn/ensemble/_forest.py:424: FutureWarning: `max_features='auto'` has been deprecated in 1.1 and will be removed in 1.3. To keep the past behaviour, explicitly set `max_features='sqrt'` or remove this parameter as it is also the default value for RandomForestClassifiers and ExtraTreesClassifiers.\n",
            "  warn(\n"
          ]
        },
        {
          "output_type": "stream",
          "name": "stdout",
          "text": [
            "[CV 4/5] END criterion=entropy, max_features=auto, min_samples_leaf=4, min_samples_split=4, n_estimators=115;, score=0.701 total time=   0.2s\n"
          ]
        },
        {
          "output_type": "stream",
          "name": "stderr",
          "text": [
            "/usr/local/lib/python3.10/dist-packages/sklearn/ensemble/_forest.py:424: FutureWarning: `max_features='auto'` has been deprecated in 1.1 and will be removed in 1.3. To keep the past behaviour, explicitly set `max_features='sqrt'` or remove this parameter as it is also the default value for RandomForestClassifiers and ExtraTreesClassifiers.\n",
            "  warn(\n"
          ]
        },
        {
          "output_type": "stream",
          "name": "stdout",
          "text": [
            "[CV 5/5] END criterion=entropy, max_features=auto, min_samples_leaf=4, min_samples_split=4, n_estimators=115;, score=0.789 total time=   0.3s\n"
          ]
        },
        {
          "output_type": "stream",
          "name": "stderr",
          "text": [
            "/usr/local/lib/python3.10/dist-packages/sklearn/ensemble/_forest.py:424: FutureWarning: `max_features='auto'` has been deprecated in 1.1 and will be removed in 1.3. To keep the past behaviour, explicitly set `max_features='sqrt'` or remove this parameter as it is also the default value for RandomForestClassifiers and ExtraTreesClassifiers.\n",
            "  warn(\n"
          ]
        },
        {
          "output_type": "stream",
          "name": "stdout",
          "text": [
            "[CV 1/5] END criterion=entropy, max_features=auto, min_samples_leaf=4, min_samples_split=5, n_estimators=90;, score=0.675 total time=   0.2s\n"
          ]
        },
        {
          "output_type": "stream",
          "name": "stderr",
          "text": [
            "/usr/local/lib/python3.10/dist-packages/sklearn/ensemble/_forest.py:424: FutureWarning: `max_features='auto'` has been deprecated in 1.1 and will be removed in 1.3. To keep the past behaviour, explicitly set `max_features='sqrt'` or remove this parameter as it is also the default value for RandomForestClassifiers and ExtraTreesClassifiers.\n",
            "  warn(\n"
          ]
        },
        {
          "output_type": "stream",
          "name": "stdout",
          "text": [
            "[CV 2/5] END criterion=entropy, max_features=auto, min_samples_leaf=4, min_samples_split=5, n_estimators=90;, score=0.740 total time=   0.2s\n",
            "[CV 3/5] END criterion=entropy, max_features=auto, min_samples_leaf=4, min_samples_split=5, n_estimators=90;, score=0.805 total time=   0.2s\n"
          ]
        },
        {
          "output_type": "stream",
          "name": "stderr",
          "text": [
            "/usr/local/lib/python3.10/dist-packages/sklearn/ensemble/_forest.py:424: FutureWarning: `max_features='auto'` has been deprecated in 1.1 and will be removed in 1.3. To keep the past behaviour, explicitly set `max_features='sqrt'` or remove this parameter as it is also the default value for RandomForestClassifiers and ExtraTreesClassifiers.\n",
            "  warn(\n",
            "/usr/local/lib/python3.10/dist-packages/sklearn/ensemble/_forest.py:424: FutureWarning: `max_features='auto'` has been deprecated in 1.1 and will be removed in 1.3. To keep the past behaviour, explicitly set `max_features='sqrt'` or remove this parameter as it is also the default value for RandomForestClassifiers and ExtraTreesClassifiers.\n",
            "  warn(\n"
          ]
        },
        {
          "output_type": "stream",
          "name": "stdout",
          "text": [
            "[CV 4/5] END criterion=entropy, max_features=auto, min_samples_leaf=4, min_samples_split=5, n_estimators=90;, score=0.701 total time=   0.1s\n",
            "[CV 5/5] END criterion=entropy, max_features=auto, min_samples_leaf=4, min_samples_split=5, n_estimators=90;, score=0.789 total time=   0.1s\n"
          ]
        },
        {
          "output_type": "stream",
          "name": "stderr",
          "text": [
            "/usr/local/lib/python3.10/dist-packages/sklearn/ensemble/_forest.py:424: FutureWarning: `max_features='auto'` has been deprecated in 1.1 and will be removed in 1.3. To keep the past behaviour, explicitly set `max_features='sqrt'` or remove this parameter as it is also the default value for RandomForestClassifiers and ExtraTreesClassifiers.\n",
            "  warn(\n",
            "/usr/local/lib/python3.10/dist-packages/sklearn/ensemble/_forest.py:424: FutureWarning: `max_features='auto'` has been deprecated in 1.1 and will be removed in 1.3. To keep the past behaviour, explicitly set `max_features='sqrt'` or remove this parameter as it is also the default value for RandomForestClassifiers and ExtraTreesClassifiers.\n",
            "  warn(\n"
          ]
        },
        {
          "output_type": "stream",
          "name": "stdout",
          "text": [
            "[CV 1/5] END criterion=entropy, max_features=auto, min_samples_leaf=4, min_samples_split=5, n_estimators=100;, score=0.675 total time=   0.1s\n",
            "[CV 2/5] END criterion=entropy, max_features=auto, min_samples_leaf=4, min_samples_split=5, n_estimators=100;, score=0.740 total time=   0.1s\n"
          ]
        },
        {
          "output_type": "stream",
          "name": "stderr",
          "text": [
            "/usr/local/lib/python3.10/dist-packages/sklearn/ensemble/_forest.py:424: FutureWarning: `max_features='auto'` has been deprecated in 1.1 and will be removed in 1.3. To keep the past behaviour, explicitly set `max_features='sqrt'` or remove this parameter as it is also the default value for RandomForestClassifiers and ExtraTreesClassifiers.\n",
            "  warn(\n",
            "/usr/local/lib/python3.10/dist-packages/sklearn/ensemble/_forest.py:424: FutureWarning: `max_features='auto'` has been deprecated in 1.1 and will be removed in 1.3. To keep the past behaviour, explicitly set `max_features='sqrt'` or remove this parameter as it is also the default value for RandomForestClassifiers and ExtraTreesClassifiers.\n",
            "  warn(\n"
          ]
        },
        {
          "output_type": "stream",
          "name": "stdout",
          "text": [
            "[CV 3/5] END criterion=entropy, max_features=auto, min_samples_leaf=4, min_samples_split=5, n_estimators=100;, score=0.805 total time=   0.1s\n",
            "[CV 4/5] END criterion=entropy, max_features=auto, min_samples_leaf=4, min_samples_split=5, n_estimators=100;, score=0.701 total time=   0.1s\n"
          ]
        },
        {
          "output_type": "stream",
          "name": "stderr",
          "text": [
            "/usr/local/lib/python3.10/dist-packages/sklearn/ensemble/_forest.py:424: FutureWarning: `max_features='auto'` has been deprecated in 1.1 and will be removed in 1.3. To keep the past behaviour, explicitly set `max_features='sqrt'` or remove this parameter as it is also the default value for RandomForestClassifiers and ExtraTreesClassifiers.\n",
            "  warn(\n",
            "/usr/local/lib/python3.10/dist-packages/sklearn/ensemble/_forest.py:424: FutureWarning: `max_features='auto'` has been deprecated in 1.1 and will be removed in 1.3. To keep the past behaviour, explicitly set `max_features='sqrt'` or remove this parameter as it is also the default value for RandomForestClassifiers and ExtraTreesClassifiers.\n",
            "  warn(\n"
          ]
        },
        {
          "output_type": "stream",
          "name": "stdout",
          "text": [
            "[CV 5/5] END criterion=entropy, max_features=auto, min_samples_leaf=4, min_samples_split=5, n_estimators=100;, score=0.789 total time=   0.2s\n",
            "[CV 1/5] END criterion=entropy, max_features=auto, min_samples_leaf=4, min_samples_split=5, n_estimators=115;, score=0.675 total time=   0.1s\n"
          ]
        },
        {
          "output_type": "stream",
          "name": "stderr",
          "text": [
            "/usr/local/lib/python3.10/dist-packages/sklearn/ensemble/_forest.py:424: FutureWarning: `max_features='auto'` has been deprecated in 1.1 and will be removed in 1.3. To keep the past behaviour, explicitly set `max_features='sqrt'` or remove this parameter as it is also the default value for RandomForestClassifiers and ExtraTreesClassifiers.\n",
            "  warn(\n",
            "/usr/local/lib/python3.10/dist-packages/sklearn/ensemble/_forest.py:424: FutureWarning: `max_features='auto'` has been deprecated in 1.1 and will be removed in 1.3. To keep the past behaviour, explicitly set `max_features='sqrt'` or remove this parameter as it is also the default value for RandomForestClassifiers and ExtraTreesClassifiers.\n",
            "  warn(\n"
          ]
        },
        {
          "output_type": "stream",
          "name": "stdout",
          "text": [
            "[CV 2/5] END criterion=entropy, max_features=auto, min_samples_leaf=4, min_samples_split=5, n_estimators=115;, score=0.740 total time=   0.2s\n",
            "[CV 3/5] END criterion=entropy, max_features=auto, min_samples_leaf=4, min_samples_split=5, n_estimators=115;, score=0.805 total time=   0.1s\n"
          ]
        },
        {
          "output_type": "stream",
          "name": "stderr",
          "text": [
            "/usr/local/lib/python3.10/dist-packages/sklearn/ensemble/_forest.py:424: FutureWarning: `max_features='auto'` has been deprecated in 1.1 and will be removed in 1.3. To keep the past behaviour, explicitly set `max_features='sqrt'` or remove this parameter as it is also the default value for RandomForestClassifiers and ExtraTreesClassifiers.\n",
            "  warn(\n",
            "/usr/local/lib/python3.10/dist-packages/sklearn/ensemble/_forest.py:424: FutureWarning: `max_features='auto'` has been deprecated in 1.1 and will be removed in 1.3. To keep the past behaviour, explicitly set `max_features='sqrt'` or remove this parameter as it is also the default value for RandomForestClassifiers and ExtraTreesClassifiers.\n",
            "  warn(\n"
          ]
        },
        {
          "output_type": "stream",
          "name": "stdout",
          "text": [
            "[CV 4/5] END criterion=entropy, max_features=auto, min_samples_leaf=4, min_samples_split=5, n_estimators=115;, score=0.701 total time=   0.2s\n",
            "[CV 5/5] END criterion=entropy, max_features=auto, min_samples_leaf=4, min_samples_split=5, n_estimators=115;, score=0.789 total time=   0.2s\n"
          ]
        },
        {
          "output_type": "stream",
          "name": "stderr",
          "text": [
            "/usr/local/lib/python3.10/dist-packages/sklearn/ensemble/_forest.py:424: FutureWarning: `max_features='auto'` has been deprecated in 1.1 and will be removed in 1.3. To keep the past behaviour, explicitly set `max_features='sqrt'` or remove this parameter as it is also the default value for RandomForestClassifiers and ExtraTreesClassifiers.\n",
            "  warn(\n",
            "/usr/local/lib/python3.10/dist-packages/sklearn/ensemble/_forest.py:424: FutureWarning: `max_features='auto'` has been deprecated in 1.1 and will be removed in 1.3. To keep the past behaviour, explicitly set `max_features='sqrt'` or remove this parameter as it is also the default value for RandomForestClassifiers and ExtraTreesClassifiers.\n",
            "  warn(\n"
          ]
        },
        {
          "output_type": "stream",
          "name": "stdout",
          "text": [
            "[CV 1/5] END criterion=entropy, max_features=auto, min_samples_leaf=4, min_samples_split=6, n_estimators=90;, score=0.675 total time=   0.1s\n",
            "[CV 2/5] END criterion=entropy, max_features=auto, min_samples_leaf=4, min_samples_split=6, n_estimators=90;, score=0.740 total time=   0.1s\n"
          ]
        },
        {
          "output_type": "stream",
          "name": "stderr",
          "text": [
            "/usr/local/lib/python3.10/dist-packages/sklearn/ensemble/_forest.py:424: FutureWarning: `max_features='auto'` has been deprecated in 1.1 and will be removed in 1.3. To keep the past behaviour, explicitly set `max_features='sqrt'` or remove this parameter as it is also the default value for RandomForestClassifiers and ExtraTreesClassifiers.\n",
            "  warn(\n",
            "/usr/local/lib/python3.10/dist-packages/sklearn/ensemble/_forest.py:424: FutureWarning: `max_features='auto'` has been deprecated in 1.1 and will be removed in 1.3. To keep the past behaviour, explicitly set `max_features='sqrt'` or remove this parameter as it is also the default value for RandomForestClassifiers and ExtraTreesClassifiers.\n",
            "  warn(\n"
          ]
        },
        {
          "output_type": "stream",
          "name": "stdout",
          "text": [
            "[CV 3/5] END criterion=entropy, max_features=auto, min_samples_leaf=4, min_samples_split=6, n_estimators=90;, score=0.805 total time=   0.1s\n",
            "[CV 4/5] END criterion=entropy, max_features=auto, min_samples_leaf=4, min_samples_split=6, n_estimators=90;, score=0.701 total time=   0.1s\n"
          ]
        },
        {
          "output_type": "stream",
          "name": "stderr",
          "text": [
            "/usr/local/lib/python3.10/dist-packages/sklearn/ensemble/_forest.py:424: FutureWarning: `max_features='auto'` has been deprecated in 1.1 and will be removed in 1.3. To keep the past behaviour, explicitly set `max_features='sqrt'` or remove this parameter as it is also the default value for RandomForestClassifiers and ExtraTreesClassifiers.\n",
            "  warn(\n",
            "/usr/local/lib/python3.10/dist-packages/sklearn/ensemble/_forest.py:424: FutureWarning: `max_features='auto'` has been deprecated in 1.1 and will be removed in 1.3. To keep the past behaviour, explicitly set `max_features='sqrt'` or remove this parameter as it is also the default value for RandomForestClassifiers and ExtraTreesClassifiers.\n",
            "  warn(\n"
          ]
        },
        {
          "output_type": "stream",
          "name": "stdout",
          "text": [
            "[CV 5/5] END criterion=entropy, max_features=auto, min_samples_leaf=4, min_samples_split=6, n_estimators=90;, score=0.789 total time=   0.1s\n",
            "[CV 1/5] END criterion=entropy, max_features=auto, min_samples_leaf=4, min_samples_split=6, n_estimators=100;, score=0.675 total time=   0.1s\n"
          ]
        },
        {
          "output_type": "stream",
          "name": "stderr",
          "text": [
            "/usr/local/lib/python3.10/dist-packages/sklearn/ensemble/_forest.py:424: FutureWarning: `max_features='auto'` has been deprecated in 1.1 and will be removed in 1.3. To keep the past behaviour, explicitly set `max_features='sqrt'` or remove this parameter as it is also the default value for RandomForestClassifiers and ExtraTreesClassifiers.\n",
            "  warn(\n",
            "/usr/local/lib/python3.10/dist-packages/sklearn/ensemble/_forest.py:424: FutureWarning: `max_features='auto'` has been deprecated in 1.1 and will be removed in 1.3. To keep the past behaviour, explicitly set `max_features='sqrt'` or remove this parameter as it is also the default value for RandomForestClassifiers and ExtraTreesClassifiers.\n",
            "  warn(\n"
          ]
        },
        {
          "output_type": "stream",
          "name": "stdout",
          "text": [
            "[CV 2/5] END criterion=entropy, max_features=auto, min_samples_leaf=4, min_samples_split=6, n_estimators=100;, score=0.740 total time=   0.1s\n",
            "[CV 3/5] END criterion=entropy, max_features=auto, min_samples_leaf=4, min_samples_split=6, n_estimators=100;, score=0.805 total time=   0.1s\n"
          ]
        },
        {
          "output_type": "stream",
          "name": "stderr",
          "text": [
            "/usr/local/lib/python3.10/dist-packages/sklearn/ensemble/_forest.py:424: FutureWarning: `max_features='auto'` has been deprecated in 1.1 and will be removed in 1.3. To keep the past behaviour, explicitly set `max_features='sqrt'` or remove this parameter as it is also the default value for RandomForestClassifiers and ExtraTreesClassifiers.\n",
            "  warn(\n",
            "/usr/local/lib/python3.10/dist-packages/sklearn/ensemble/_forest.py:424: FutureWarning: `max_features='auto'` has been deprecated in 1.1 and will be removed in 1.3. To keep the past behaviour, explicitly set `max_features='sqrt'` or remove this parameter as it is also the default value for RandomForestClassifiers and ExtraTreesClassifiers.\n",
            "  warn(\n"
          ]
        },
        {
          "output_type": "stream",
          "name": "stdout",
          "text": [
            "[CV 4/5] END criterion=entropy, max_features=auto, min_samples_leaf=4, min_samples_split=6, n_estimators=100;, score=0.701 total time=   0.1s\n",
            "[CV 5/5] END criterion=entropy, max_features=auto, min_samples_leaf=4, min_samples_split=6, n_estimators=100;, score=0.789 total time=   0.1s\n"
          ]
        },
        {
          "output_type": "stream",
          "name": "stderr",
          "text": [
            "/usr/local/lib/python3.10/dist-packages/sklearn/ensemble/_forest.py:424: FutureWarning: `max_features='auto'` has been deprecated in 1.1 and will be removed in 1.3. To keep the past behaviour, explicitly set `max_features='sqrt'` or remove this parameter as it is also the default value for RandomForestClassifiers and ExtraTreesClassifiers.\n",
            "  warn(\n",
            "/usr/local/lib/python3.10/dist-packages/sklearn/ensemble/_forest.py:424: FutureWarning: `max_features='auto'` has been deprecated in 1.1 and will be removed in 1.3. To keep the past behaviour, explicitly set `max_features='sqrt'` or remove this parameter as it is also the default value for RandomForestClassifiers and ExtraTreesClassifiers.\n",
            "  warn(\n"
          ]
        },
        {
          "output_type": "stream",
          "name": "stdout",
          "text": [
            "[CV 1/5] END criterion=entropy, max_features=auto, min_samples_leaf=4, min_samples_split=6, n_estimators=115;, score=0.675 total time=   0.2s\n",
            "[CV 2/5] END criterion=entropy, max_features=auto, min_samples_leaf=4, min_samples_split=6, n_estimators=115;, score=0.740 total time=   0.2s\n"
          ]
        },
        {
          "output_type": "stream",
          "name": "stderr",
          "text": [
            "/usr/local/lib/python3.10/dist-packages/sklearn/ensemble/_forest.py:424: FutureWarning: `max_features='auto'` has been deprecated in 1.1 and will be removed in 1.3. To keep the past behaviour, explicitly set `max_features='sqrt'` or remove this parameter as it is also the default value for RandomForestClassifiers and ExtraTreesClassifiers.\n",
            "  warn(\n",
            "/usr/local/lib/python3.10/dist-packages/sklearn/ensemble/_forest.py:424: FutureWarning: `max_features='auto'` has been deprecated in 1.1 and will be removed in 1.3. To keep the past behaviour, explicitly set `max_features='sqrt'` or remove this parameter as it is also the default value for RandomForestClassifiers and ExtraTreesClassifiers.\n",
            "  warn(\n"
          ]
        },
        {
          "output_type": "stream",
          "name": "stdout",
          "text": [
            "[CV 3/5] END criterion=entropy, max_features=auto, min_samples_leaf=4, min_samples_split=6, n_estimators=115;, score=0.805 total time=   0.2s\n",
            "[CV 4/5] END criterion=entropy, max_features=auto, min_samples_leaf=4, min_samples_split=6, n_estimators=115;, score=0.701 total time=   0.2s\n"
          ]
        },
        {
          "output_type": "stream",
          "name": "stderr",
          "text": [
            "/usr/local/lib/python3.10/dist-packages/sklearn/ensemble/_forest.py:424: FutureWarning: `max_features='auto'` has been deprecated in 1.1 and will be removed in 1.3. To keep the past behaviour, explicitly set `max_features='sqrt'` or remove this parameter as it is also the default value for RandomForestClassifiers and ExtraTreesClassifiers.\n",
            "  warn(\n",
            "/usr/local/lib/python3.10/dist-packages/sklearn/ensemble/_forest.py:424: FutureWarning: `max_features='auto'` has been deprecated in 1.1 and will be removed in 1.3. To keep the past behaviour, explicitly set `max_features='sqrt'` or remove this parameter as it is also the default value for RandomForestClassifiers and ExtraTreesClassifiers.\n",
            "  warn(\n"
          ]
        },
        {
          "output_type": "stream",
          "name": "stdout",
          "text": [
            "[CV 5/5] END criterion=entropy, max_features=auto, min_samples_leaf=4, min_samples_split=6, n_estimators=115;, score=0.789 total time=   0.2s\n",
            "[CV 1/5] END criterion=entropy, max_features=auto, min_samples_leaf=4, min_samples_split=7, n_estimators=90;, score=0.675 total time=   0.1s\n"
          ]
        },
        {
          "output_type": "stream",
          "name": "stderr",
          "text": [
            "/usr/local/lib/python3.10/dist-packages/sklearn/ensemble/_forest.py:424: FutureWarning: `max_features='auto'` has been deprecated in 1.1 and will be removed in 1.3. To keep the past behaviour, explicitly set `max_features='sqrt'` or remove this parameter as it is also the default value for RandomForestClassifiers and ExtraTreesClassifiers.\n",
            "  warn(\n",
            "/usr/local/lib/python3.10/dist-packages/sklearn/ensemble/_forest.py:424: FutureWarning: `max_features='auto'` has been deprecated in 1.1 and will be removed in 1.3. To keep the past behaviour, explicitly set `max_features='sqrt'` or remove this parameter as it is also the default value for RandomForestClassifiers and ExtraTreesClassifiers.\n",
            "  warn(\n"
          ]
        },
        {
          "output_type": "stream",
          "name": "stdout",
          "text": [
            "[CV 2/5] END criterion=entropy, max_features=auto, min_samples_leaf=4, min_samples_split=7, n_estimators=90;, score=0.740 total time=   0.1s\n",
            "[CV 3/5] END criterion=entropy, max_features=auto, min_samples_leaf=4, min_samples_split=7, n_estimators=90;, score=0.805 total time=   0.1s\n"
          ]
        },
        {
          "output_type": "stream",
          "name": "stderr",
          "text": [
            "/usr/local/lib/python3.10/dist-packages/sklearn/ensemble/_forest.py:424: FutureWarning: `max_features='auto'` has been deprecated in 1.1 and will be removed in 1.3. To keep the past behaviour, explicitly set `max_features='sqrt'` or remove this parameter as it is also the default value for RandomForestClassifiers and ExtraTreesClassifiers.\n",
            "  warn(\n",
            "/usr/local/lib/python3.10/dist-packages/sklearn/ensemble/_forest.py:424: FutureWarning: `max_features='auto'` has been deprecated in 1.1 and will be removed in 1.3. To keep the past behaviour, explicitly set `max_features='sqrt'` or remove this parameter as it is also the default value for RandomForestClassifiers and ExtraTreesClassifiers.\n",
            "  warn(\n"
          ]
        },
        {
          "output_type": "stream",
          "name": "stdout",
          "text": [
            "[CV 4/5] END criterion=entropy, max_features=auto, min_samples_leaf=4, min_samples_split=7, n_estimators=90;, score=0.701 total time=   0.1s\n",
            "[CV 5/5] END criterion=entropy, max_features=auto, min_samples_leaf=4, min_samples_split=7, n_estimators=90;, score=0.789 total time=   0.1s\n"
          ]
        },
        {
          "output_type": "stream",
          "name": "stderr",
          "text": [
            "/usr/local/lib/python3.10/dist-packages/sklearn/ensemble/_forest.py:424: FutureWarning: `max_features='auto'` has been deprecated in 1.1 and will be removed in 1.3. To keep the past behaviour, explicitly set `max_features='sqrt'` or remove this parameter as it is also the default value for RandomForestClassifiers and ExtraTreesClassifiers.\n",
            "  warn(\n",
            "/usr/local/lib/python3.10/dist-packages/sklearn/ensemble/_forest.py:424: FutureWarning: `max_features='auto'` has been deprecated in 1.1 and will be removed in 1.3. To keep the past behaviour, explicitly set `max_features='sqrt'` or remove this parameter as it is also the default value for RandomForestClassifiers and ExtraTreesClassifiers.\n",
            "  warn(\n"
          ]
        },
        {
          "output_type": "stream",
          "name": "stdout",
          "text": [
            "[CV 1/5] END criterion=entropy, max_features=auto, min_samples_leaf=4, min_samples_split=7, n_estimators=100;, score=0.675 total time=   0.1s\n",
            "[CV 2/5] END criterion=entropy, max_features=auto, min_samples_leaf=4, min_samples_split=7, n_estimators=100;, score=0.740 total time=   0.1s\n"
          ]
        },
        {
          "output_type": "stream",
          "name": "stderr",
          "text": [
            "/usr/local/lib/python3.10/dist-packages/sklearn/ensemble/_forest.py:424: FutureWarning: `max_features='auto'` has been deprecated in 1.1 and will be removed in 1.3. To keep the past behaviour, explicitly set `max_features='sqrt'` or remove this parameter as it is also the default value for RandomForestClassifiers and ExtraTreesClassifiers.\n",
            "  warn(\n",
            "/usr/local/lib/python3.10/dist-packages/sklearn/ensemble/_forest.py:424: FutureWarning: `max_features='auto'` has been deprecated in 1.1 and will be removed in 1.3. To keep the past behaviour, explicitly set `max_features='sqrt'` or remove this parameter as it is also the default value for RandomForestClassifiers and ExtraTreesClassifiers.\n",
            "  warn(\n"
          ]
        },
        {
          "output_type": "stream",
          "name": "stdout",
          "text": [
            "[CV 3/5] END criterion=entropy, max_features=auto, min_samples_leaf=4, min_samples_split=7, n_estimators=100;, score=0.805 total time=   0.1s\n",
            "[CV 4/5] END criterion=entropy, max_features=auto, min_samples_leaf=4, min_samples_split=7, n_estimators=100;, score=0.701 total time=   0.1s\n"
          ]
        },
        {
          "output_type": "stream",
          "name": "stderr",
          "text": [
            "/usr/local/lib/python3.10/dist-packages/sklearn/ensemble/_forest.py:424: FutureWarning: `max_features='auto'` has been deprecated in 1.1 and will be removed in 1.3. To keep the past behaviour, explicitly set `max_features='sqrt'` or remove this parameter as it is also the default value for RandomForestClassifiers and ExtraTreesClassifiers.\n",
            "  warn(\n",
            "/usr/local/lib/python3.10/dist-packages/sklearn/ensemble/_forest.py:424: FutureWarning: `max_features='auto'` has been deprecated in 1.1 and will be removed in 1.3. To keep the past behaviour, explicitly set `max_features='sqrt'` or remove this parameter as it is also the default value for RandomForestClassifiers and ExtraTreesClassifiers.\n",
            "  warn(\n"
          ]
        },
        {
          "output_type": "stream",
          "name": "stdout",
          "text": [
            "[CV 5/5] END criterion=entropy, max_features=auto, min_samples_leaf=4, min_samples_split=7, n_estimators=100;, score=0.789 total time=   0.1s\n",
            "[CV 1/5] END criterion=entropy, max_features=auto, min_samples_leaf=4, min_samples_split=7, n_estimators=115;, score=0.675 total time=   0.2s\n"
          ]
        },
        {
          "output_type": "stream",
          "name": "stderr",
          "text": [
            "/usr/local/lib/python3.10/dist-packages/sklearn/ensemble/_forest.py:424: FutureWarning: `max_features='auto'` has been deprecated in 1.1 and will be removed in 1.3. To keep the past behaviour, explicitly set `max_features='sqrt'` or remove this parameter as it is also the default value for RandomForestClassifiers and ExtraTreesClassifiers.\n",
            "  warn(\n",
            "/usr/local/lib/python3.10/dist-packages/sklearn/ensemble/_forest.py:424: FutureWarning: `max_features='auto'` has been deprecated in 1.1 and will be removed in 1.3. To keep the past behaviour, explicitly set `max_features='sqrt'` or remove this parameter as it is also the default value for RandomForestClassifiers and ExtraTreesClassifiers.\n",
            "  warn(\n"
          ]
        },
        {
          "output_type": "stream",
          "name": "stdout",
          "text": [
            "[CV 2/5] END criterion=entropy, max_features=auto, min_samples_leaf=4, min_samples_split=7, n_estimators=115;, score=0.740 total time=   0.2s\n",
            "[CV 3/5] END criterion=entropy, max_features=auto, min_samples_leaf=4, min_samples_split=7, n_estimators=115;, score=0.805 total time=   0.2s\n"
          ]
        },
        {
          "output_type": "stream",
          "name": "stderr",
          "text": [
            "/usr/local/lib/python3.10/dist-packages/sklearn/ensemble/_forest.py:424: FutureWarning: `max_features='auto'` has been deprecated in 1.1 and will be removed in 1.3. To keep the past behaviour, explicitly set `max_features='sqrt'` or remove this parameter as it is also the default value for RandomForestClassifiers and ExtraTreesClassifiers.\n",
            "  warn(\n",
            "/usr/local/lib/python3.10/dist-packages/sklearn/ensemble/_forest.py:424: FutureWarning: `max_features='auto'` has been deprecated in 1.1 and will be removed in 1.3. To keep the past behaviour, explicitly set `max_features='sqrt'` or remove this parameter as it is also the default value for RandomForestClassifiers and ExtraTreesClassifiers.\n",
            "  warn(\n"
          ]
        },
        {
          "output_type": "stream",
          "name": "stdout",
          "text": [
            "[CV 4/5] END criterion=entropy, max_features=auto, min_samples_leaf=4, min_samples_split=7, n_estimators=115;, score=0.701 total time=   0.2s\n",
            "[CV 5/5] END criterion=entropy, max_features=auto, min_samples_leaf=4, min_samples_split=7, n_estimators=115;, score=0.789 total time=   0.2s\n"
          ]
        },
        {
          "output_type": "stream",
          "name": "stderr",
          "text": [
            "/usr/local/lib/python3.10/dist-packages/sklearn/ensemble/_forest.py:424: FutureWarning: `max_features='auto'` has been deprecated in 1.1 and will be removed in 1.3. To keep the past behaviour, explicitly set `max_features='sqrt'` or remove this parameter as it is also the default value for RandomForestClassifiers and ExtraTreesClassifiers.\n",
            "  warn(\n",
            "/usr/local/lib/python3.10/dist-packages/sklearn/ensemble/_forest.py:424: FutureWarning: `max_features='auto'` has been deprecated in 1.1 and will be removed in 1.3. To keep the past behaviour, explicitly set `max_features='sqrt'` or remove this parameter as it is also the default value for RandomForestClassifiers and ExtraTreesClassifiers.\n",
            "  warn(\n"
          ]
        },
        {
          "output_type": "stream",
          "name": "stdout",
          "text": [
            "[CV 1/5] END criterion=entropy, max_features=auto, min_samples_leaf=4, min_samples_split=8, n_estimators=90;, score=0.675 total time=   0.1s\n",
            "[CV 2/5] END criterion=entropy, max_features=auto, min_samples_leaf=4, min_samples_split=8, n_estimators=90;, score=0.740 total time=   0.1s\n"
          ]
        },
        {
          "output_type": "stream",
          "name": "stderr",
          "text": [
            "/usr/local/lib/python3.10/dist-packages/sklearn/ensemble/_forest.py:424: FutureWarning: `max_features='auto'` has been deprecated in 1.1 and will be removed in 1.3. To keep the past behaviour, explicitly set `max_features='sqrt'` or remove this parameter as it is also the default value for RandomForestClassifiers and ExtraTreesClassifiers.\n",
            "  warn(\n",
            "/usr/local/lib/python3.10/dist-packages/sklearn/ensemble/_forest.py:424: FutureWarning: `max_features='auto'` has been deprecated in 1.1 and will be removed in 1.3. To keep the past behaviour, explicitly set `max_features='sqrt'` or remove this parameter as it is also the default value for RandomForestClassifiers and ExtraTreesClassifiers.\n",
            "  warn(\n"
          ]
        },
        {
          "output_type": "stream",
          "name": "stdout",
          "text": [
            "[CV 3/5] END criterion=entropy, max_features=auto, min_samples_leaf=4, min_samples_split=8, n_estimators=90;, score=0.805 total time=   0.1s\n",
            "[CV 4/5] END criterion=entropy, max_features=auto, min_samples_leaf=4, min_samples_split=8, n_estimators=90;, score=0.701 total time=   0.1s\n"
          ]
        },
        {
          "output_type": "stream",
          "name": "stderr",
          "text": [
            "/usr/local/lib/python3.10/dist-packages/sklearn/ensemble/_forest.py:424: FutureWarning: `max_features='auto'` has been deprecated in 1.1 and will be removed in 1.3. To keep the past behaviour, explicitly set `max_features='sqrt'` or remove this parameter as it is also the default value for RandomForestClassifiers and ExtraTreesClassifiers.\n",
            "  warn(\n",
            "/usr/local/lib/python3.10/dist-packages/sklearn/ensemble/_forest.py:424: FutureWarning: `max_features='auto'` has been deprecated in 1.1 and will be removed in 1.3. To keep the past behaviour, explicitly set `max_features='sqrt'` or remove this parameter as it is also the default value for RandomForestClassifiers and ExtraTreesClassifiers.\n",
            "  warn(\n"
          ]
        },
        {
          "output_type": "stream",
          "name": "stdout",
          "text": [
            "[CV 5/5] END criterion=entropy, max_features=auto, min_samples_leaf=4, min_samples_split=8, n_estimators=90;, score=0.789 total time=   0.1s\n",
            "[CV 1/5] END criterion=entropy, max_features=auto, min_samples_leaf=4, min_samples_split=8, n_estimators=100;, score=0.675 total time=   0.1s\n"
          ]
        },
        {
          "output_type": "stream",
          "name": "stderr",
          "text": [
            "/usr/local/lib/python3.10/dist-packages/sklearn/ensemble/_forest.py:424: FutureWarning: `max_features='auto'` has been deprecated in 1.1 and will be removed in 1.3. To keep the past behaviour, explicitly set `max_features='sqrt'` or remove this parameter as it is also the default value for RandomForestClassifiers and ExtraTreesClassifiers.\n",
            "  warn(\n",
            "/usr/local/lib/python3.10/dist-packages/sklearn/ensemble/_forest.py:424: FutureWarning: `max_features='auto'` has been deprecated in 1.1 and will be removed in 1.3. To keep the past behaviour, explicitly set `max_features='sqrt'` or remove this parameter as it is also the default value for RandomForestClassifiers and ExtraTreesClassifiers.\n",
            "  warn(\n"
          ]
        },
        {
          "output_type": "stream",
          "name": "stdout",
          "text": [
            "[CV 2/5] END criterion=entropy, max_features=auto, min_samples_leaf=4, min_samples_split=8, n_estimators=100;, score=0.740 total time=   0.1s\n",
            "[CV 3/5] END criterion=entropy, max_features=auto, min_samples_leaf=4, min_samples_split=8, n_estimators=100;, score=0.805 total time=   0.1s\n"
          ]
        },
        {
          "output_type": "stream",
          "name": "stderr",
          "text": [
            "/usr/local/lib/python3.10/dist-packages/sklearn/ensemble/_forest.py:424: FutureWarning: `max_features='auto'` has been deprecated in 1.1 and will be removed in 1.3. To keep the past behaviour, explicitly set `max_features='sqrt'` or remove this parameter as it is also the default value for RandomForestClassifiers and ExtraTreesClassifiers.\n",
            "  warn(\n",
            "/usr/local/lib/python3.10/dist-packages/sklearn/ensemble/_forest.py:424: FutureWarning: `max_features='auto'` has been deprecated in 1.1 and will be removed in 1.3. To keep the past behaviour, explicitly set `max_features='sqrt'` or remove this parameter as it is also the default value for RandomForestClassifiers and ExtraTreesClassifiers.\n",
            "  warn(\n"
          ]
        },
        {
          "output_type": "stream",
          "name": "stdout",
          "text": [
            "[CV 4/5] END criterion=entropy, max_features=auto, min_samples_leaf=4, min_samples_split=8, n_estimators=100;, score=0.701 total time=   0.1s\n",
            "[CV 5/5] END criterion=entropy, max_features=auto, min_samples_leaf=4, min_samples_split=8, n_estimators=100;, score=0.789 total time=   0.1s\n"
          ]
        },
        {
          "output_type": "stream",
          "name": "stderr",
          "text": [
            "/usr/local/lib/python3.10/dist-packages/sklearn/ensemble/_forest.py:424: FutureWarning: `max_features='auto'` has been deprecated in 1.1 and will be removed in 1.3. To keep the past behaviour, explicitly set `max_features='sqrt'` or remove this parameter as it is also the default value for RandomForestClassifiers and ExtraTreesClassifiers.\n",
            "  warn(\n",
            "/usr/local/lib/python3.10/dist-packages/sklearn/ensemble/_forest.py:424: FutureWarning: `max_features='auto'` has been deprecated in 1.1 and will be removed in 1.3. To keep the past behaviour, explicitly set `max_features='sqrt'` or remove this parameter as it is also the default value for RandomForestClassifiers and ExtraTreesClassifiers.\n",
            "  warn(\n"
          ]
        },
        {
          "output_type": "stream",
          "name": "stdout",
          "text": [
            "[CV 1/5] END criterion=entropy, max_features=auto, min_samples_leaf=4, min_samples_split=8, n_estimators=115;, score=0.675 total time=   0.2s\n",
            "[CV 2/5] END criterion=entropy, max_features=auto, min_samples_leaf=4, min_samples_split=8, n_estimators=115;, score=0.740 total time=   0.2s\n"
          ]
        },
        {
          "output_type": "stream",
          "name": "stderr",
          "text": [
            "/usr/local/lib/python3.10/dist-packages/sklearn/ensemble/_forest.py:424: FutureWarning: `max_features='auto'` has been deprecated in 1.1 and will be removed in 1.3. To keep the past behaviour, explicitly set `max_features='sqrt'` or remove this parameter as it is also the default value for RandomForestClassifiers and ExtraTreesClassifiers.\n",
            "  warn(\n",
            "/usr/local/lib/python3.10/dist-packages/sklearn/ensemble/_forest.py:424: FutureWarning: `max_features='auto'` has been deprecated in 1.1 and will be removed in 1.3. To keep the past behaviour, explicitly set `max_features='sqrt'` or remove this parameter as it is also the default value for RandomForestClassifiers and ExtraTreesClassifiers.\n",
            "  warn(\n"
          ]
        },
        {
          "output_type": "stream",
          "name": "stdout",
          "text": [
            "[CV 3/5] END criterion=entropy, max_features=auto, min_samples_leaf=4, min_samples_split=8, n_estimators=115;, score=0.805 total time=   0.2s\n",
            "[CV 4/5] END criterion=entropy, max_features=auto, min_samples_leaf=4, min_samples_split=8, n_estimators=115;, score=0.701 total time=   0.1s\n"
          ]
        },
        {
          "output_type": "stream",
          "name": "stderr",
          "text": [
            "/usr/local/lib/python3.10/dist-packages/sklearn/ensemble/_forest.py:424: FutureWarning: `max_features='auto'` has been deprecated in 1.1 and will be removed in 1.3. To keep the past behaviour, explicitly set `max_features='sqrt'` or remove this parameter as it is also the default value for RandomForestClassifiers and ExtraTreesClassifiers.\n",
            "  warn(\n",
            "/usr/local/lib/python3.10/dist-packages/sklearn/ensemble/_forest.py:424: FutureWarning: `max_features='auto'` has been deprecated in 1.1 and will be removed in 1.3. To keep the past behaviour, explicitly set `max_features='sqrt'` or remove this parameter as it is also the default value for RandomForestClassifiers and ExtraTreesClassifiers.\n",
            "  warn(\n"
          ]
        },
        {
          "output_type": "stream",
          "name": "stdout",
          "text": [
            "[CV 5/5] END criterion=entropy, max_features=auto, min_samples_leaf=4, min_samples_split=8, n_estimators=115;, score=0.789 total time=   0.2s\n",
            "[CV 1/5] END criterion=entropy, max_features=auto, min_samples_leaf=5, min_samples_split=4, n_estimators=90;, score=0.675 total time=   0.1s\n"
          ]
        },
        {
          "output_type": "stream",
          "name": "stderr",
          "text": [
            "/usr/local/lib/python3.10/dist-packages/sklearn/ensemble/_forest.py:424: FutureWarning: `max_features='auto'` has been deprecated in 1.1 and will be removed in 1.3. To keep the past behaviour, explicitly set `max_features='sqrt'` or remove this parameter as it is also the default value for RandomForestClassifiers and ExtraTreesClassifiers.\n",
            "  warn(\n",
            "/usr/local/lib/python3.10/dist-packages/sklearn/ensemble/_forest.py:424: FutureWarning: `max_features='auto'` has been deprecated in 1.1 and will be removed in 1.3. To keep the past behaviour, explicitly set `max_features='sqrt'` or remove this parameter as it is also the default value for RandomForestClassifiers and ExtraTreesClassifiers.\n",
            "  warn(\n"
          ]
        },
        {
          "output_type": "stream",
          "name": "stdout",
          "text": [
            "[CV 2/5] END criterion=entropy, max_features=auto, min_samples_leaf=5, min_samples_split=4, n_estimators=90;, score=0.740 total time=   0.1s\n",
            "[CV 3/5] END criterion=entropy, max_features=auto, min_samples_leaf=5, min_samples_split=4, n_estimators=90;, score=0.805 total time=   0.1s\n"
          ]
        },
        {
          "output_type": "stream",
          "name": "stderr",
          "text": [
            "/usr/local/lib/python3.10/dist-packages/sklearn/ensemble/_forest.py:424: FutureWarning: `max_features='auto'` has been deprecated in 1.1 and will be removed in 1.3. To keep the past behaviour, explicitly set `max_features='sqrt'` or remove this parameter as it is also the default value for RandomForestClassifiers and ExtraTreesClassifiers.\n",
            "  warn(\n",
            "/usr/local/lib/python3.10/dist-packages/sklearn/ensemble/_forest.py:424: FutureWarning: `max_features='auto'` has been deprecated in 1.1 and will be removed in 1.3. To keep the past behaviour, explicitly set `max_features='sqrt'` or remove this parameter as it is also the default value for RandomForestClassifiers and ExtraTreesClassifiers.\n",
            "  warn(\n"
          ]
        },
        {
          "output_type": "stream",
          "name": "stdout",
          "text": [
            "[CV 4/5] END criterion=entropy, max_features=auto, min_samples_leaf=5, min_samples_split=4, n_estimators=90;, score=0.701 total time=   0.1s\n",
            "[CV 5/5] END criterion=entropy, max_features=auto, min_samples_leaf=5, min_samples_split=4, n_estimators=90;, score=0.789 total time=   0.1s\n"
          ]
        },
        {
          "output_type": "stream",
          "name": "stderr",
          "text": [
            "/usr/local/lib/python3.10/dist-packages/sklearn/ensemble/_forest.py:424: FutureWarning: `max_features='auto'` has been deprecated in 1.1 and will be removed in 1.3. To keep the past behaviour, explicitly set `max_features='sqrt'` or remove this parameter as it is also the default value for RandomForestClassifiers and ExtraTreesClassifiers.\n",
            "  warn(\n",
            "/usr/local/lib/python3.10/dist-packages/sklearn/ensemble/_forest.py:424: FutureWarning: `max_features='auto'` has been deprecated in 1.1 and will be removed in 1.3. To keep the past behaviour, explicitly set `max_features='sqrt'` or remove this parameter as it is also the default value for RandomForestClassifiers and ExtraTreesClassifiers.\n",
            "  warn(\n"
          ]
        },
        {
          "output_type": "stream",
          "name": "stdout",
          "text": [
            "[CV 1/5] END criterion=entropy, max_features=auto, min_samples_leaf=5, min_samples_split=4, n_estimators=100;, score=0.675 total time=   0.1s\n",
            "[CV 2/5] END criterion=entropy, max_features=auto, min_samples_leaf=5, min_samples_split=4, n_estimators=100;, score=0.740 total time=   0.1s\n"
          ]
        },
        {
          "output_type": "stream",
          "name": "stderr",
          "text": [
            "/usr/local/lib/python3.10/dist-packages/sklearn/ensemble/_forest.py:424: FutureWarning: `max_features='auto'` has been deprecated in 1.1 and will be removed in 1.3. To keep the past behaviour, explicitly set `max_features='sqrt'` or remove this parameter as it is also the default value for RandomForestClassifiers and ExtraTreesClassifiers.\n",
            "  warn(\n",
            "/usr/local/lib/python3.10/dist-packages/sklearn/ensemble/_forest.py:424: FutureWarning: `max_features='auto'` has been deprecated in 1.1 and will be removed in 1.3. To keep the past behaviour, explicitly set `max_features='sqrt'` or remove this parameter as it is also the default value for RandomForestClassifiers and ExtraTreesClassifiers.\n",
            "  warn(\n"
          ]
        },
        {
          "output_type": "stream",
          "name": "stdout",
          "text": [
            "[CV 3/5] END criterion=entropy, max_features=auto, min_samples_leaf=5, min_samples_split=4, n_estimators=100;, score=0.805 total time=   0.1s\n",
            "[CV 4/5] END criterion=entropy, max_features=auto, min_samples_leaf=5, min_samples_split=4, n_estimators=100;, score=0.701 total time=   0.1s\n"
          ]
        },
        {
          "output_type": "stream",
          "name": "stderr",
          "text": [
            "/usr/local/lib/python3.10/dist-packages/sklearn/ensemble/_forest.py:424: FutureWarning: `max_features='auto'` has been deprecated in 1.1 and will be removed in 1.3. To keep the past behaviour, explicitly set `max_features='sqrt'` or remove this parameter as it is also the default value for RandomForestClassifiers and ExtraTreesClassifiers.\n",
            "  warn(\n",
            "/usr/local/lib/python3.10/dist-packages/sklearn/ensemble/_forest.py:424: FutureWarning: `max_features='auto'` has been deprecated in 1.1 and will be removed in 1.3. To keep the past behaviour, explicitly set `max_features='sqrt'` or remove this parameter as it is also the default value for RandomForestClassifiers and ExtraTreesClassifiers.\n",
            "  warn(\n"
          ]
        },
        {
          "output_type": "stream",
          "name": "stdout",
          "text": [
            "[CV 5/5] END criterion=entropy, max_features=auto, min_samples_leaf=5, min_samples_split=4, n_estimators=100;, score=0.789 total time=   0.1s\n",
            "[CV 1/5] END criterion=entropy, max_features=auto, min_samples_leaf=5, min_samples_split=4, n_estimators=115;, score=0.675 total time=   0.2s\n"
          ]
        },
        {
          "output_type": "stream",
          "name": "stderr",
          "text": [
            "/usr/local/lib/python3.10/dist-packages/sklearn/ensemble/_forest.py:424: FutureWarning: `max_features='auto'` has been deprecated in 1.1 and will be removed in 1.3. To keep the past behaviour, explicitly set `max_features='sqrt'` or remove this parameter as it is also the default value for RandomForestClassifiers and ExtraTreesClassifiers.\n",
            "  warn(\n",
            "/usr/local/lib/python3.10/dist-packages/sklearn/ensemble/_forest.py:424: FutureWarning: `max_features='auto'` has been deprecated in 1.1 and will be removed in 1.3. To keep the past behaviour, explicitly set `max_features='sqrt'` or remove this parameter as it is also the default value for RandomForestClassifiers and ExtraTreesClassifiers.\n",
            "  warn(\n"
          ]
        },
        {
          "output_type": "stream",
          "name": "stdout",
          "text": [
            "[CV 2/5] END criterion=entropy, max_features=auto, min_samples_leaf=5, min_samples_split=4, n_estimators=115;, score=0.740 total time=   0.2s\n",
            "[CV 3/5] END criterion=entropy, max_features=auto, min_samples_leaf=5, min_samples_split=4, n_estimators=115;, score=0.805 total time=   0.1s\n"
          ]
        },
        {
          "output_type": "stream",
          "name": "stderr",
          "text": [
            "/usr/local/lib/python3.10/dist-packages/sklearn/ensemble/_forest.py:424: FutureWarning: `max_features='auto'` has been deprecated in 1.1 and will be removed in 1.3. To keep the past behaviour, explicitly set `max_features='sqrt'` or remove this parameter as it is also the default value for RandomForestClassifiers and ExtraTreesClassifiers.\n",
            "  warn(\n",
            "/usr/local/lib/python3.10/dist-packages/sklearn/ensemble/_forest.py:424: FutureWarning: `max_features='auto'` has been deprecated in 1.1 and will be removed in 1.3. To keep the past behaviour, explicitly set `max_features='sqrt'` or remove this parameter as it is also the default value for RandomForestClassifiers and ExtraTreesClassifiers.\n",
            "  warn(\n"
          ]
        },
        {
          "output_type": "stream",
          "name": "stdout",
          "text": [
            "[CV 4/5] END criterion=entropy, max_features=auto, min_samples_leaf=5, min_samples_split=4, n_estimators=115;, score=0.701 total time=   0.2s\n"
          ]
        },
        {
          "output_type": "stream",
          "name": "stderr",
          "text": [
            "/usr/local/lib/python3.10/dist-packages/sklearn/ensemble/_forest.py:424: FutureWarning: `max_features='auto'` has been deprecated in 1.1 and will be removed in 1.3. To keep the past behaviour, explicitly set `max_features='sqrt'` or remove this parameter as it is also the default value for RandomForestClassifiers and ExtraTreesClassifiers.\n",
            "  warn(\n"
          ]
        },
        {
          "output_type": "stream",
          "name": "stdout",
          "text": [
            "[CV 5/5] END criterion=entropy, max_features=auto, min_samples_leaf=5, min_samples_split=4, n_estimators=115;, score=0.789 total time=   0.3s\n",
            "[CV 1/5] END criterion=entropy, max_features=auto, min_samples_leaf=5, min_samples_split=5, n_estimators=90;, score=0.675 total time=   0.2s\n"
          ]
        },
        {
          "output_type": "stream",
          "name": "stderr",
          "text": [
            "/usr/local/lib/python3.10/dist-packages/sklearn/ensemble/_forest.py:424: FutureWarning: `max_features='auto'` has been deprecated in 1.1 and will be removed in 1.3. To keep the past behaviour, explicitly set `max_features='sqrt'` or remove this parameter as it is also the default value for RandomForestClassifiers and ExtraTreesClassifiers.\n",
            "  warn(\n",
            "/usr/local/lib/python3.10/dist-packages/sklearn/ensemble/_forest.py:424: FutureWarning: `max_features='auto'` has been deprecated in 1.1 and will be removed in 1.3. To keep the past behaviour, explicitly set `max_features='sqrt'` or remove this parameter as it is also the default value for RandomForestClassifiers and ExtraTreesClassifiers.\n",
            "  warn(\n"
          ]
        },
        {
          "output_type": "stream",
          "name": "stdout",
          "text": [
            "[CV 2/5] END criterion=entropy, max_features=auto, min_samples_leaf=5, min_samples_split=5, n_estimators=90;, score=0.740 total time=   0.2s\n",
            "[CV 3/5] END criterion=entropy, max_features=auto, min_samples_leaf=5, min_samples_split=5, n_estimators=90;, score=0.805 total time=   0.2s\n"
          ]
        },
        {
          "output_type": "stream",
          "name": "stderr",
          "text": [
            "/usr/local/lib/python3.10/dist-packages/sklearn/ensemble/_forest.py:424: FutureWarning: `max_features='auto'` has been deprecated in 1.1 and will be removed in 1.3. To keep the past behaviour, explicitly set `max_features='sqrt'` or remove this parameter as it is also the default value for RandomForestClassifiers and ExtraTreesClassifiers.\n",
            "  warn(\n",
            "/usr/local/lib/python3.10/dist-packages/sklearn/ensemble/_forest.py:424: FutureWarning: `max_features='auto'` has been deprecated in 1.1 and will be removed in 1.3. To keep the past behaviour, explicitly set `max_features='sqrt'` or remove this parameter as it is also the default value for RandomForestClassifiers and ExtraTreesClassifiers.\n",
            "  warn(\n"
          ]
        },
        {
          "output_type": "stream",
          "name": "stdout",
          "text": [
            "[CV 4/5] END criterion=entropy, max_features=auto, min_samples_leaf=5, min_samples_split=5, n_estimators=90;, score=0.701 total time=   0.2s\n",
            "[CV 5/5] END criterion=entropy, max_features=auto, min_samples_leaf=5, min_samples_split=5, n_estimators=90;, score=0.789 total time=   0.2s\n"
          ]
        },
        {
          "output_type": "stream",
          "name": "stderr",
          "text": [
            "/usr/local/lib/python3.10/dist-packages/sklearn/ensemble/_forest.py:424: FutureWarning: `max_features='auto'` has been deprecated in 1.1 and will be removed in 1.3. To keep the past behaviour, explicitly set `max_features='sqrt'` or remove this parameter as it is also the default value for RandomForestClassifiers and ExtraTreesClassifiers.\n",
            "  warn(\n",
            "/usr/local/lib/python3.10/dist-packages/sklearn/ensemble/_forest.py:424: FutureWarning: `max_features='auto'` has been deprecated in 1.1 and will be removed in 1.3. To keep the past behaviour, explicitly set `max_features='sqrt'` or remove this parameter as it is also the default value for RandomForestClassifiers and ExtraTreesClassifiers.\n",
            "  warn(\n"
          ]
        },
        {
          "output_type": "stream",
          "name": "stdout",
          "text": [
            "[CV 1/5] END criterion=entropy, max_features=auto, min_samples_leaf=5, min_samples_split=5, n_estimators=100;, score=0.675 total time=   0.2s\n"
          ]
        },
        {
          "output_type": "stream",
          "name": "stderr",
          "text": [
            "/usr/local/lib/python3.10/dist-packages/sklearn/ensemble/_forest.py:424: FutureWarning: `max_features='auto'` has been deprecated in 1.1 and will be removed in 1.3. To keep the past behaviour, explicitly set `max_features='sqrt'` or remove this parameter as it is also the default value for RandomForestClassifiers and ExtraTreesClassifiers.\n",
            "  warn(\n"
          ]
        },
        {
          "output_type": "stream",
          "name": "stdout",
          "text": [
            "[CV 2/5] END criterion=entropy, max_features=auto, min_samples_leaf=5, min_samples_split=5, n_estimators=100;, score=0.740 total time=   0.2s\n"
          ]
        },
        {
          "output_type": "stream",
          "name": "stderr",
          "text": [
            "/usr/local/lib/python3.10/dist-packages/sklearn/ensemble/_forest.py:424: FutureWarning: `max_features='auto'` has been deprecated in 1.1 and will be removed in 1.3. To keep the past behaviour, explicitly set `max_features='sqrt'` or remove this parameter as it is also the default value for RandomForestClassifiers and ExtraTreesClassifiers.\n",
            "  warn(\n"
          ]
        },
        {
          "output_type": "stream",
          "name": "stdout",
          "text": [
            "[CV 3/5] END criterion=entropy, max_features=auto, min_samples_leaf=5, min_samples_split=5, n_estimators=100;, score=0.805 total time=   0.2s\n"
          ]
        },
        {
          "output_type": "stream",
          "name": "stderr",
          "text": [
            "/usr/local/lib/python3.10/dist-packages/sklearn/ensemble/_forest.py:424: FutureWarning: `max_features='auto'` has been deprecated in 1.1 and will be removed in 1.3. To keep the past behaviour, explicitly set `max_features='sqrt'` or remove this parameter as it is also the default value for RandomForestClassifiers and ExtraTreesClassifiers.\n",
            "  warn(\n"
          ]
        },
        {
          "output_type": "stream",
          "name": "stdout",
          "text": [
            "[CV 4/5] END criterion=entropy, max_features=auto, min_samples_leaf=5, min_samples_split=5, n_estimators=100;, score=0.701 total time=   0.2s\n"
          ]
        },
        {
          "output_type": "stream",
          "name": "stderr",
          "text": [
            "/usr/local/lib/python3.10/dist-packages/sklearn/ensemble/_forest.py:424: FutureWarning: `max_features='auto'` has been deprecated in 1.1 and will be removed in 1.3. To keep the past behaviour, explicitly set `max_features='sqrt'` or remove this parameter as it is also the default value for RandomForestClassifiers and ExtraTreesClassifiers.\n",
            "  warn(\n"
          ]
        },
        {
          "output_type": "stream",
          "name": "stdout",
          "text": [
            "[CV 5/5] END criterion=entropy, max_features=auto, min_samples_leaf=5, min_samples_split=5, n_estimators=100;, score=0.789 total time=   0.2s\n"
          ]
        },
        {
          "output_type": "stream",
          "name": "stderr",
          "text": [
            "/usr/local/lib/python3.10/dist-packages/sklearn/ensemble/_forest.py:424: FutureWarning: `max_features='auto'` has been deprecated in 1.1 and will be removed in 1.3. To keep the past behaviour, explicitly set `max_features='sqrt'` or remove this parameter as it is also the default value for RandomForestClassifiers and ExtraTreesClassifiers.\n",
            "  warn(\n"
          ]
        },
        {
          "output_type": "stream",
          "name": "stdout",
          "text": [
            "[CV 1/5] END criterion=entropy, max_features=auto, min_samples_leaf=5, min_samples_split=5, n_estimators=115;, score=0.675 total time=   0.3s\n"
          ]
        },
        {
          "output_type": "stream",
          "name": "stderr",
          "text": [
            "/usr/local/lib/python3.10/dist-packages/sklearn/ensemble/_forest.py:424: FutureWarning: `max_features='auto'` has been deprecated in 1.1 and will be removed in 1.3. To keep the past behaviour, explicitly set `max_features='sqrt'` or remove this parameter as it is also the default value for RandomForestClassifiers and ExtraTreesClassifiers.\n",
            "  warn(\n"
          ]
        },
        {
          "output_type": "stream",
          "name": "stdout",
          "text": [
            "[CV 2/5] END criterion=entropy, max_features=auto, min_samples_leaf=5, min_samples_split=5, n_estimators=115;, score=0.740 total time=   0.2s\n",
            "[CV 3/5] END criterion=entropy, max_features=auto, min_samples_leaf=5, min_samples_split=5, n_estimators=115;, score=0.805 total time=   0.2s\n"
          ]
        },
        {
          "output_type": "stream",
          "name": "stderr",
          "text": [
            "/usr/local/lib/python3.10/dist-packages/sklearn/ensemble/_forest.py:424: FutureWarning: `max_features='auto'` has been deprecated in 1.1 and will be removed in 1.3. To keep the past behaviour, explicitly set `max_features='sqrt'` or remove this parameter as it is also the default value for RandomForestClassifiers and ExtraTreesClassifiers.\n",
            "  warn(\n",
            "/usr/local/lib/python3.10/dist-packages/sklearn/ensemble/_forest.py:424: FutureWarning: `max_features='auto'` has been deprecated in 1.1 and will be removed in 1.3. To keep the past behaviour, explicitly set `max_features='sqrt'` or remove this parameter as it is also the default value for RandomForestClassifiers and ExtraTreesClassifiers.\n",
            "  warn(\n"
          ]
        },
        {
          "output_type": "stream",
          "name": "stdout",
          "text": [
            "[CV 4/5] END criterion=entropy, max_features=auto, min_samples_leaf=5, min_samples_split=5, n_estimators=115;, score=0.701 total time=   0.2s\n",
            "[CV 5/5] END criterion=entropy, max_features=auto, min_samples_leaf=5, min_samples_split=5, n_estimators=115;, score=0.789 total time=   0.1s\n"
          ]
        },
        {
          "output_type": "stream",
          "name": "stderr",
          "text": [
            "/usr/local/lib/python3.10/dist-packages/sklearn/ensemble/_forest.py:424: FutureWarning: `max_features='auto'` has been deprecated in 1.1 and will be removed in 1.3. To keep the past behaviour, explicitly set `max_features='sqrt'` or remove this parameter as it is also the default value for RandomForestClassifiers and ExtraTreesClassifiers.\n",
            "  warn(\n",
            "/usr/local/lib/python3.10/dist-packages/sklearn/ensemble/_forest.py:424: FutureWarning: `max_features='auto'` has been deprecated in 1.1 and will be removed in 1.3. To keep the past behaviour, explicitly set `max_features='sqrt'` or remove this parameter as it is also the default value for RandomForestClassifiers and ExtraTreesClassifiers.\n",
            "  warn(\n"
          ]
        },
        {
          "output_type": "stream",
          "name": "stdout",
          "text": [
            "[CV 1/5] END criterion=entropy, max_features=auto, min_samples_leaf=5, min_samples_split=6, n_estimators=90;, score=0.675 total time=   0.1s\n",
            "[CV 2/5] END criterion=entropy, max_features=auto, min_samples_leaf=5, min_samples_split=6, n_estimators=90;, score=0.740 total time=   0.1s\n"
          ]
        },
        {
          "output_type": "stream",
          "name": "stderr",
          "text": [
            "/usr/local/lib/python3.10/dist-packages/sklearn/ensemble/_forest.py:424: FutureWarning: `max_features='auto'` has been deprecated in 1.1 and will be removed in 1.3. To keep the past behaviour, explicitly set `max_features='sqrt'` or remove this parameter as it is also the default value for RandomForestClassifiers and ExtraTreesClassifiers.\n",
            "  warn(\n",
            "/usr/local/lib/python3.10/dist-packages/sklearn/ensemble/_forest.py:424: FutureWarning: `max_features='auto'` has been deprecated in 1.1 and will be removed in 1.3. To keep the past behaviour, explicitly set `max_features='sqrt'` or remove this parameter as it is also the default value for RandomForestClassifiers and ExtraTreesClassifiers.\n",
            "  warn(\n"
          ]
        },
        {
          "output_type": "stream",
          "name": "stdout",
          "text": [
            "[CV 3/5] END criterion=entropy, max_features=auto, min_samples_leaf=5, min_samples_split=6, n_estimators=90;, score=0.805 total time=   0.1s\n",
            "[CV 4/5] END criterion=entropy, max_features=auto, min_samples_leaf=5, min_samples_split=6, n_estimators=90;, score=0.701 total time=   0.1s\n"
          ]
        },
        {
          "output_type": "stream",
          "name": "stderr",
          "text": [
            "/usr/local/lib/python3.10/dist-packages/sklearn/ensemble/_forest.py:424: FutureWarning: `max_features='auto'` has been deprecated in 1.1 and will be removed in 1.3. To keep the past behaviour, explicitly set `max_features='sqrt'` or remove this parameter as it is also the default value for RandomForestClassifiers and ExtraTreesClassifiers.\n",
            "  warn(\n",
            "/usr/local/lib/python3.10/dist-packages/sklearn/ensemble/_forest.py:424: FutureWarning: `max_features='auto'` has been deprecated in 1.1 and will be removed in 1.3. To keep the past behaviour, explicitly set `max_features='sqrt'` or remove this parameter as it is also the default value for RandomForestClassifiers and ExtraTreesClassifiers.\n",
            "  warn(\n"
          ]
        },
        {
          "output_type": "stream",
          "name": "stdout",
          "text": [
            "[CV 5/5] END criterion=entropy, max_features=auto, min_samples_leaf=5, min_samples_split=6, n_estimators=90;, score=0.789 total time=   0.1s\n",
            "[CV 1/5] END criterion=entropy, max_features=auto, min_samples_leaf=5, min_samples_split=6, n_estimators=100;, score=0.675 total time=   0.1s\n"
          ]
        },
        {
          "output_type": "stream",
          "name": "stderr",
          "text": [
            "/usr/local/lib/python3.10/dist-packages/sklearn/ensemble/_forest.py:424: FutureWarning: `max_features='auto'` has been deprecated in 1.1 and will be removed in 1.3. To keep the past behaviour, explicitly set `max_features='sqrt'` or remove this parameter as it is also the default value for RandomForestClassifiers and ExtraTreesClassifiers.\n",
            "  warn(\n",
            "/usr/local/lib/python3.10/dist-packages/sklearn/ensemble/_forest.py:424: FutureWarning: `max_features='auto'` has been deprecated in 1.1 and will be removed in 1.3. To keep the past behaviour, explicitly set `max_features='sqrt'` or remove this parameter as it is also the default value for RandomForestClassifiers and ExtraTreesClassifiers.\n",
            "  warn(\n"
          ]
        },
        {
          "output_type": "stream",
          "name": "stdout",
          "text": [
            "[CV 2/5] END criterion=entropy, max_features=auto, min_samples_leaf=5, min_samples_split=6, n_estimators=100;, score=0.740 total time=   0.1s\n",
            "[CV 3/5] END criterion=entropy, max_features=auto, min_samples_leaf=5, min_samples_split=6, n_estimators=100;, score=0.805 total time=   0.1s\n"
          ]
        },
        {
          "output_type": "stream",
          "name": "stderr",
          "text": [
            "/usr/local/lib/python3.10/dist-packages/sklearn/ensemble/_forest.py:424: FutureWarning: `max_features='auto'` has been deprecated in 1.1 and will be removed in 1.3. To keep the past behaviour, explicitly set `max_features='sqrt'` or remove this parameter as it is also the default value for RandomForestClassifiers and ExtraTreesClassifiers.\n",
            "  warn(\n",
            "/usr/local/lib/python3.10/dist-packages/sklearn/ensemble/_forest.py:424: FutureWarning: `max_features='auto'` has been deprecated in 1.1 and will be removed in 1.3. To keep the past behaviour, explicitly set `max_features='sqrt'` or remove this parameter as it is also the default value for RandomForestClassifiers and ExtraTreesClassifiers.\n",
            "  warn(\n"
          ]
        },
        {
          "output_type": "stream",
          "name": "stdout",
          "text": [
            "[CV 4/5] END criterion=entropy, max_features=auto, min_samples_leaf=5, min_samples_split=6, n_estimators=100;, score=0.701 total time=   0.1s\n",
            "[CV 5/5] END criterion=entropy, max_features=auto, min_samples_leaf=5, min_samples_split=6, n_estimators=100;, score=0.789 total time=   0.1s\n"
          ]
        },
        {
          "output_type": "stream",
          "name": "stderr",
          "text": [
            "/usr/local/lib/python3.10/dist-packages/sklearn/ensemble/_forest.py:424: FutureWarning: `max_features='auto'` has been deprecated in 1.1 and will be removed in 1.3. To keep the past behaviour, explicitly set `max_features='sqrt'` or remove this parameter as it is also the default value for RandomForestClassifiers and ExtraTreesClassifiers.\n",
            "  warn(\n",
            "/usr/local/lib/python3.10/dist-packages/sklearn/ensemble/_forest.py:424: FutureWarning: `max_features='auto'` has been deprecated in 1.1 and will be removed in 1.3. To keep the past behaviour, explicitly set `max_features='sqrt'` or remove this parameter as it is also the default value for RandomForestClassifiers and ExtraTreesClassifiers.\n",
            "  warn(\n"
          ]
        },
        {
          "output_type": "stream",
          "name": "stdout",
          "text": [
            "[CV 1/5] END criterion=entropy, max_features=auto, min_samples_leaf=5, min_samples_split=6, n_estimators=115;, score=0.675 total time=   0.2s\n",
            "[CV 2/5] END criterion=entropy, max_features=auto, min_samples_leaf=5, min_samples_split=6, n_estimators=115;, score=0.740 total time=   0.1s\n"
          ]
        },
        {
          "output_type": "stream",
          "name": "stderr",
          "text": [
            "/usr/local/lib/python3.10/dist-packages/sklearn/ensemble/_forest.py:424: FutureWarning: `max_features='auto'` has been deprecated in 1.1 and will be removed in 1.3. To keep the past behaviour, explicitly set `max_features='sqrt'` or remove this parameter as it is also the default value for RandomForestClassifiers and ExtraTreesClassifiers.\n",
            "  warn(\n",
            "/usr/local/lib/python3.10/dist-packages/sklearn/ensemble/_forest.py:424: FutureWarning: `max_features='auto'` has been deprecated in 1.1 and will be removed in 1.3. To keep the past behaviour, explicitly set `max_features='sqrt'` or remove this parameter as it is also the default value for RandomForestClassifiers and ExtraTreesClassifiers.\n",
            "  warn(\n"
          ]
        },
        {
          "output_type": "stream",
          "name": "stdout",
          "text": [
            "[CV 3/5] END criterion=entropy, max_features=auto, min_samples_leaf=5, min_samples_split=6, n_estimators=115;, score=0.805 total time=   0.2s\n",
            "[CV 4/5] END criterion=entropy, max_features=auto, min_samples_leaf=5, min_samples_split=6, n_estimators=115;, score=0.701 total time=   0.2s\n"
          ]
        },
        {
          "output_type": "stream",
          "name": "stderr",
          "text": [
            "/usr/local/lib/python3.10/dist-packages/sklearn/ensemble/_forest.py:424: FutureWarning: `max_features='auto'` has been deprecated in 1.1 and will be removed in 1.3. To keep the past behaviour, explicitly set `max_features='sqrt'` or remove this parameter as it is also the default value for RandomForestClassifiers and ExtraTreesClassifiers.\n",
            "  warn(\n",
            "/usr/local/lib/python3.10/dist-packages/sklearn/ensemble/_forest.py:424: FutureWarning: `max_features='auto'` has been deprecated in 1.1 and will be removed in 1.3. To keep the past behaviour, explicitly set `max_features='sqrt'` or remove this parameter as it is also the default value for RandomForestClassifiers and ExtraTreesClassifiers.\n",
            "  warn(\n"
          ]
        },
        {
          "output_type": "stream",
          "name": "stdout",
          "text": [
            "[CV 5/5] END criterion=entropy, max_features=auto, min_samples_leaf=5, min_samples_split=6, n_estimators=115;, score=0.789 total time=   0.2s\n",
            "[CV 1/5] END criterion=entropy, max_features=auto, min_samples_leaf=5, min_samples_split=7, n_estimators=90;, score=0.675 total time=   0.1s\n"
          ]
        },
        {
          "output_type": "stream",
          "name": "stderr",
          "text": [
            "/usr/local/lib/python3.10/dist-packages/sklearn/ensemble/_forest.py:424: FutureWarning: `max_features='auto'` has been deprecated in 1.1 and will be removed in 1.3. To keep the past behaviour, explicitly set `max_features='sqrt'` or remove this parameter as it is also the default value for RandomForestClassifiers and ExtraTreesClassifiers.\n",
            "  warn(\n",
            "/usr/local/lib/python3.10/dist-packages/sklearn/ensemble/_forest.py:424: FutureWarning: `max_features='auto'` has been deprecated in 1.1 and will be removed in 1.3. To keep the past behaviour, explicitly set `max_features='sqrt'` or remove this parameter as it is also the default value for RandomForestClassifiers and ExtraTreesClassifiers.\n",
            "  warn(\n"
          ]
        },
        {
          "output_type": "stream",
          "name": "stdout",
          "text": [
            "[CV 2/5] END criterion=entropy, max_features=auto, min_samples_leaf=5, min_samples_split=7, n_estimators=90;, score=0.740 total time=   0.1s\n",
            "[CV 3/5] END criterion=entropy, max_features=auto, min_samples_leaf=5, min_samples_split=7, n_estimators=90;, score=0.805 total time=   0.1s\n"
          ]
        },
        {
          "output_type": "stream",
          "name": "stderr",
          "text": [
            "/usr/local/lib/python3.10/dist-packages/sklearn/ensemble/_forest.py:424: FutureWarning: `max_features='auto'` has been deprecated in 1.1 and will be removed in 1.3. To keep the past behaviour, explicitly set `max_features='sqrt'` or remove this parameter as it is also the default value for RandomForestClassifiers and ExtraTreesClassifiers.\n",
            "  warn(\n",
            "/usr/local/lib/python3.10/dist-packages/sklearn/ensemble/_forest.py:424: FutureWarning: `max_features='auto'` has been deprecated in 1.1 and will be removed in 1.3. To keep the past behaviour, explicitly set `max_features='sqrt'` or remove this parameter as it is also the default value for RandomForestClassifiers and ExtraTreesClassifiers.\n",
            "  warn(\n"
          ]
        },
        {
          "output_type": "stream",
          "name": "stdout",
          "text": [
            "[CV 4/5] END criterion=entropy, max_features=auto, min_samples_leaf=5, min_samples_split=7, n_estimators=90;, score=0.701 total time=   0.1s\n",
            "[CV 5/5] END criterion=entropy, max_features=auto, min_samples_leaf=5, min_samples_split=7, n_estimators=90;, score=0.789 total time=   0.1s\n"
          ]
        },
        {
          "output_type": "stream",
          "name": "stderr",
          "text": [
            "/usr/local/lib/python3.10/dist-packages/sklearn/ensemble/_forest.py:424: FutureWarning: `max_features='auto'` has been deprecated in 1.1 and will be removed in 1.3. To keep the past behaviour, explicitly set `max_features='sqrt'` or remove this parameter as it is also the default value for RandomForestClassifiers and ExtraTreesClassifiers.\n",
            "  warn(\n",
            "/usr/local/lib/python3.10/dist-packages/sklearn/ensemble/_forest.py:424: FutureWarning: `max_features='auto'` has been deprecated in 1.1 and will be removed in 1.3. To keep the past behaviour, explicitly set `max_features='sqrt'` or remove this parameter as it is also the default value for RandomForestClassifiers and ExtraTreesClassifiers.\n",
            "  warn(\n"
          ]
        },
        {
          "output_type": "stream",
          "name": "stdout",
          "text": [
            "[CV 1/5] END criterion=entropy, max_features=auto, min_samples_leaf=5, min_samples_split=7, n_estimators=100;, score=0.675 total time=   0.1s\n",
            "[CV 2/5] END criterion=entropy, max_features=auto, min_samples_leaf=5, min_samples_split=7, n_estimators=100;, score=0.740 total time=   0.1s\n"
          ]
        },
        {
          "output_type": "stream",
          "name": "stderr",
          "text": [
            "/usr/local/lib/python3.10/dist-packages/sklearn/ensemble/_forest.py:424: FutureWarning: `max_features='auto'` has been deprecated in 1.1 and will be removed in 1.3. To keep the past behaviour, explicitly set `max_features='sqrt'` or remove this parameter as it is also the default value for RandomForestClassifiers and ExtraTreesClassifiers.\n",
            "  warn(\n",
            "/usr/local/lib/python3.10/dist-packages/sklearn/ensemble/_forest.py:424: FutureWarning: `max_features='auto'` has been deprecated in 1.1 and will be removed in 1.3. To keep the past behaviour, explicitly set `max_features='sqrt'` or remove this parameter as it is also the default value for RandomForestClassifiers and ExtraTreesClassifiers.\n",
            "  warn(\n"
          ]
        },
        {
          "output_type": "stream",
          "name": "stdout",
          "text": [
            "[CV 3/5] END criterion=entropy, max_features=auto, min_samples_leaf=5, min_samples_split=7, n_estimators=100;, score=0.805 total time=   0.1s\n",
            "[CV 4/5] END criterion=entropy, max_features=auto, min_samples_leaf=5, min_samples_split=7, n_estimators=100;, score=0.701 total time=   0.1s\n"
          ]
        },
        {
          "output_type": "stream",
          "name": "stderr",
          "text": [
            "/usr/local/lib/python3.10/dist-packages/sklearn/ensemble/_forest.py:424: FutureWarning: `max_features='auto'` has been deprecated in 1.1 and will be removed in 1.3. To keep the past behaviour, explicitly set `max_features='sqrt'` or remove this parameter as it is also the default value for RandomForestClassifiers and ExtraTreesClassifiers.\n",
            "  warn(\n",
            "/usr/local/lib/python3.10/dist-packages/sklearn/ensemble/_forest.py:424: FutureWarning: `max_features='auto'` has been deprecated in 1.1 and will be removed in 1.3. To keep the past behaviour, explicitly set `max_features='sqrt'` or remove this parameter as it is also the default value for RandomForestClassifiers and ExtraTreesClassifiers.\n",
            "  warn(\n"
          ]
        },
        {
          "output_type": "stream",
          "name": "stdout",
          "text": [
            "[CV 5/5] END criterion=entropy, max_features=auto, min_samples_leaf=5, min_samples_split=7, n_estimators=100;, score=0.789 total time=   0.1s\n",
            "[CV 1/5] END criterion=entropy, max_features=auto, min_samples_leaf=5, min_samples_split=7, n_estimators=115;, score=0.675 total time=   0.2s\n"
          ]
        },
        {
          "output_type": "stream",
          "name": "stderr",
          "text": [
            "/usr/local/lib/python3.10/dist-packages/sklearn/ensemble/_forest.py:424: FutureWarning: `max_features='auto'` has been deprecated in 1.1 and will be removed in 1.3. To keep the past behaviour, explicitly set `max_features='sqrt'` or remove this parameter as it is also the default value for RandomForestClassifiers and ExtraTreesClassifiers.\n",
            "  warn(\n",
            "/usr/local/lib/python3.10/dist-packages/sklearn/ensemble/_forest.py:424: FutureWarning: `max_features='auto'` has been deprecated in 1.1 and will be removed in 1.3. To keep the past behaviour, explicitly set `max_features='sqrt'` or remove this parameter as it is also the default value for RandomForestClassifiers and ExtraTreesClassifiers.\n",
            "  warn(\n"
          ]
        },
        {
          "output_type": "stream",
          "name": "stdout",
          "text": [
            "[CV 2/5] END criterion=entropy, max_features=auto, min_samples_leaf=5, min_samples_split=7, n_estimators=115;, score=0.740 total time=   0.2s\n",
            "[CV 3/5] END criterion=entropy, max_features=auto, min_samples_leaf=5, min_samples_split=7, n_estimators=115;, score=0.805 total time=   0.2s\n"
          ]
        },
        {
          "output_type": "stream",
          "name": "stderr",
          "text": [
            "/usr/local/lib/python3.10/dist-packages/sklearn/ensemble/_forest.py:424: FutureWarning: `max_features='auto'` has been deprecated in 1.1 and will be removed in 1.3. To keep the past behaviour, explicitly set `max_features='sqrt'` or remove this parameter as it is also the default value for RandomForestClassifiers and ExtraTreesClassifiers.\n",
            "  warn(\n",
            "/usr/local/lib/python3.10/dist-packages/sklearn/ensemble/_forest.py:424: FutureWarning: `max_features='auto'` has been deprecated in 1.1 and will be removed in 1.3. To keep the past behaviour, explicitly set `max_features='sqrt'` or remove this parameter as it is also the default value for RandomForestClassifiers and ExtraTreesClassifiers.\n",
            "  warn(\n"
          ]
        },
        {
          "output_type": "stream",
          "name": "stdout",
          "text": [
            "[CV 4/5] END criterion=entropy, max_features=auto, min_samples_leaf=5, min_samples_split=7, n_estimators=115;, score=0.701 total time=   0.2s\n",
            "[CV 5/5] END criterion=entropy, max_features=auto, min_samples_leaf=5, min_samples_split=7, n_estimators=115;, score=0.789 total time=   0.1s\n"
          ]
        },
        {
          "output_type": "stream",
          "name": "stderr",
          "text": [
            "/usr/local/lib/python3.10/dist-packages/sklearn/ensemble/_forest.py:424: FutureWarning: `max_features='auto'` has been deprecated in 1.1 and will be removed in 1.3. To keep the past behaviour, explicitly set `max_features='sqrt'` or remove this parameter as it is also the default value for RandomForestClassifiers and ExtraTreesClassifiers.\n",
            "  warn(\n",
            "/usr/local/lib/python3.10/dist-packages/sklearn/ensemble/_forest.py:424: FutureWarning: `max_features='auto'` has been deprecated in 1.1 and will be removed in 1.3. To keep the past behaviour, explicitly set `max_features='sqrt'` or remove this parameter as it is also the default value for RandomForestClassifiers and ExtraTreesClassifiers.\n",
            "  warn(\n"
          ]
        },
        {
          "output_type": "stream",
          "name": "stdout",
          "text": [
            "[CV 1/5] END criterion=entropy, max_features=auto, min_samples_leaf=5, min_samples_split=8, n_estimators=90;, score=0.675 total time=   0.1s\n",
            "[CV 2/5] END criterion=entropy, max_features=auto, min_samples_leaf=5, min_samples_split=8, n_estimators=90;, score=0.740 total time=   0.1s\n"
          ]
        },
        {
          "output_type": "stream",
          "name": "stderr",
          "text": [
            "/usr/local/lib/python3.10/dist-packages/sklearn/ensemble/_forest.py:424: FutureWarning: `max_features='auto'` has been deprecated in 1.1 and will be removed in 1.3. To keep the past behaviour, explicitly set `max_features='sqrt'` or remove this parameter as it is also the default value for RandomForestClassifiers and ExtraTreesClassifiers.\n",
            "  warn(\n",
            "/usr/local/lib/python3.10/dist-packages/sklearn/ensemble/_forest.py:424: FutureWarning: `max_features='auto'` has been deprecated in 1.1 and will be removed in 1.3. To keep the past behaviour, explicitly set `max_features='sqrt'` or remove this parameter as it is also the default value for RandomForestClassifiers and ExtraTreesClassifiers.\n",
            "  warn(\n"
          ]
        },
        {
          "output_type": "stream",
          "name": "stdout",
          "text": [
            "[CV 3/5] END criterion=entropy, max_features=auto, min_samples_leaf=5, min_samples_split=8, n_estimators=90;, score=0.805 total time=   0.1s\n",
            "[CV 4/5] END criterion=entropy, max_features=auto, min_samples_leaf=5, min_samples_split=8, n_estimators=90;, score=0.701 total time=   0.1s\n"
          ]
        },
        {
          "output_type": "stream",
          "name": "stderr",
          "text": [
            "/usr/local/lib/python3.10/dist-packages/sklearn/ensemble/_forest.py:424: FutureWarning: `max_features='auto'` has been deprecated in 1.1 and will be removed in 1.3. To keep the past behaviour, explicitly set `max_features='sqrt'` or remove this parameter as it is also the default value for RandomForestClassifiers and ExtraTreesClassifiers.\n",
            "  warn(\n",
            "/usr/local/lib/python3.10/dist-packages/sklearn/ensemble/_forest.py:424: FutureWarning: `max_features='auto'` has been deprecated in 1.1 and will be removed in 1.3. To keep the past behaviour, explicitly set `max_features='sqrt'` or remove this parameter as it is also the default value for RandomForestClassifiers and ExtraTreesClassifiers.\n",
            "  warn(\n"
          ]
        },
        {
          "output_type": "stream",
          "name": "stdout",
          "text": [
            "[CV 5/5] END criterion=entropy, max_features=auto, min_samples_leaf=5, min_samples_split=8, n_estimators=90;, score=0.789 total time=   0.1s\n",
            "[CV 1/5] END criterion=entropy, max_features=auto, min_samples_leaf=5, min_samples_split=8, n_estimators=100;, score=0.675 total time=   0.1s\n"
          ]
        },
        {
          "output_type": "stream",
          "name": "stderr",
          "text": [
            "/usr/local/lib/python3.10/dist-packages/sklearn/ensemble/_forest.py:424: FutureWarning: `max_features='auto'` has been deprecated in 1.1 and will be removed in 1.3. To keep the past behaviour, explicitly set `max_features='sqrt'` or remove this parameter as it is also the default value for RandomForestClassifiers and ExtraTreesClassifiers.\n",
            "  warn(\n",
            "/usr/local/lib/python3.10/dist-packages/sklearn/ensemble/_forest.py:424: FutureWarning: `max_features='auto'` has been deprecated in 1.1 and will be removed in 1.3. To keep the past behaviour, explicitly set `max_features='sqrt'` or remove this parameter as it is also the default value for RandomForestClassifiers and ExtraTreesClassifiers.\n",
            "  warn(\n"
          ]
        },
        {
          "output_type": "stream",
          "name": "stdout",
          "text": [
            "[CV 2/5] END criterion=entropy, max_features=auto, min_samples_leaf=5, min_samples_split=8, n_estimators=100;, score=0.740 total time=   0.1s\n",
            "[CV 3/5] END criterion=entropy, max_features=auto, min_samples_leaf=5, min_samples_split=8, n_estimators=100;, score=0.805 total time=   0.1s\n"
          ]
        },
        {
          "output_type": "stream",
          "name": "stderr",
          "text": [
            "/usr/local/lib/python3.10/dist-packages/sklearn/ensemble/_forest.py:424: FutureWarning: `max_features='auto'` has been deprecated in 1.1 and will be removed in 1.3. To keep the past behaviour, explicitly set `max_features='sqrt'` or remove this parameter as it is also the default value for RandomForestClassifiers and ExtraTreesClassifiers.\n",
            "  warn(\n",
            "/usr/local/lib/python3.10/dist-packages/sklearn/ensemble/_forest.py:424: FutureWarning: `max_features='auto'` has been deprecated in 1.1 and will be removed in 1.3. To keep the past behaviour, explicitly set `max_features='sqrt'` or remove this parameter as it is also the default value for RandomForestClassifiers and ExtraTreesClassifiers.\n",
            "  warn(\n"
          ]
        },
        {
          "output_type": "stream",
          "name": "stdout",
          "text": [
            "[CV 4/5] END criterion=entropy, max_features=auto, min_samples_leaf=5, min_samples_split=8, n_estimators=100;, score=0.701 total time=   0.2s\n",
            "[CV 5/5] END criterion=entropy, max_features=auto, min_samples_leaf=5, min_samples_split=8, n_estimators=100;, score=0.789 total time=   0.1s\n"
          ]
        },
        {
          "output_type": "stream",
          "name": "stderr",
          "text": [
            "/usr/local/lib/python3.10/dist-packages/sklearn/ensemble/_forest.py:424: FutureWarning: `max_features='auto'` has been deprecated in 1.1 and will be removed in 1.3. To keep the past behaviour, explicitly set `max_features='sqrt'` or remove this parameter as it is also the default value for RandomForestClassifiers and ExtraTreesClassifiers.\n",
            "  warn(\n",
            "/usr/local/lib/python3.10/dist-packages/sklearn/ensemble/_forest.py:424: FutureWarning: `max_features='auto'` has been deprecated in 1.1 and will be removed in 1.3. To keep the past behaviour, explicitly set `max_features='sqrt'` or remove this parameter as it is also the default value for RandomForestClassifiers and ExtraTreesClassifiers.\n",
            "  warn(\n"
          ]
        },
        {
          "output_type": "stream",
          "name": "stdout",
          "text": [
            "[CV 1/5] END criterion=entropy, max_features=auto, min_samples_leaf=5, min_samples_split=8, n_estimators=115;, score=0.675 total time=   0.2s\n",
            "[CV 2/5] END criterion=entropy, max_features=auto, min_samples_leaf=5, min_samples_split=8, n_estimators=115;, score=0.740 total time=   0.1s\n"
          ]
        },
        {
          "output_type": "stream",
          "name": "stderr",
          "text": [
            "/usr/local/lib/python3.10/dist-packages/sklearn/ensemble/_forest.py:424: FutureWarning: `max_features='auto'` has been deprecated in 1.1 and will be removed in 1.3. To keep the past behaviour, explicitly set `max_features='sqrt'` or remove this parameter as it is also the default value for RandomForestClassifiers and ExtraTreesClassifiers.\n",
            "  warn(\n",
            "/usr/local/lib/python3.10/dist-packages/sklearn/ensemble/_forest.py:424: FutureWarning: `max_features='auto'` has been deprecated in 1.1 and will be removed in 1.3. To keep the past behaviour, explicitly set `max_features='sqrt'` or remove this parameter as it is also the default value for RandomForestClassifiers and ExtraTreesClassifiers.\n",
            "  warn(\n"
          ]
        },
        {
          "output_type": "stream",
          "name": "stdout",
          "text": [
            "[CV 3/5] END criterion=entropy, max_features=auto, min_samples_leaf=5, min_samples_split=8, n_estimators=115;, score=0.805 total time=   0.2s\n",
            "[CV 4/5] END criterion=entropy, max_features=auto, min_samples_leaf=5, min_samples_split=8, n_estimators=115;, score=0.701 total time=   0.2s\n"
          ]
        },
        {
          "output_type": "stream",
          "name": "stderr",
          "text": [
            "/usr/local/lib/python3.10/dist-packages/sklearn/ensemble/_forest.py:424: FutureWarning: `max_features='auto'` has been deprecated in 1.1 and will be removed in 1.3. To keep the past behaviour, explicitly set `max_features='sqrt'` or remove this parameter as it is also the default value for RandomForestClassifiers and ExtraTreesClassifiers.\n",
            "  warn(\n",
            "/usr/local/lib/python3.10/dist-packages/sklearn/ensemble/_forest.py:424: FutureWarning: `max_features='auto'` has been deprecated in 1.1 and will be removed in 1.3. To keep the past behaviour, explicitly set `max_features='sqrt'` or remove this parameter as it is also the default value for RandomForestClassifiers and ExtraTreesClassifiers.\n",
            "  warn(\n"
          ]
        },
        {
          "output_type": "stream",
          "name": "stdout",
          "text": [
            "[CV 5/5] END criterion=entropy, max_features=auto, min_samples_leaf=5, min_samples_split=8, n_estimators=115;, score=0.789 total time=   0.2s\n",
            "[CV 1/5] END criterion=entropy, max_features=log2, min_samples_leaf=1, min_samples_split=4, n_estimators=90;, score=0.675 total time=   0.1s\n",
            "[CV 2/5] END criterion=entropy, max_features=log2, min_samples_leaf=1, min_samples_split=4, n_estimators=90;, score=0.740 total time=   0.1s\n",
            "[CV 3/5] END criterion=entropy, max_features=log2, min_samples_leaf=1, min_samples_split=4, n_estimators=90;, score=0.805 total time=   0.1s\n",
            "[CV 4/5] END criterion=entropy, max_features=log2, min_samples_leaf=1, min_samples_split=4, n_estimators=90;, score=0.701 total time=   0.1s\n",
            "[CV 5/5] END criterion=entropy, max_features=log2, min_samples_leaf=1, min_samples_split=4, n_estimators=90;, score=0.789 total time=   0.1s\n",
            "[CV 1/5] END criterion=entropy, max_features=log2, min_samples_leaf=1, min_samples_split=4, n_estimators=100;, score=0.675 total time=   0.1s\n",
            "[CV 2/5] END criterion=entropy, max_features=log2, min_samples_leaf=1, min_samples_split=4, n_estimators=100;, score=0.740 total time=   0.1s\n",
            "[CV 3/5] END criterion=entropy, max_features=log2, min_samples_leaf=1, min_samples_split=4, n_estimators=100;, score=0.805 total time=   0.1s\n",
            "[CV 4/5] END criterion=entropy, max_features=log2, min_samples_leaf=1, min_samples_split=4, n_estimators=100;, score=0.701 total time=   0.1s\n",
            "[CV 5/5] END criterion=entropy, max_features=log2, min_samples_leaf=1, min_samples_split=4, n_estimators=100;, score=0.789 total time=   0.1s\n",
            "[CV 1/5] END criterion=entropy, max_features=log2, min_samples_leaf=1, min_samples_split=4, n_estimators=115;, score=0.675 total time=   0.1s\n",
            "[CV 2/5] END criterion=entropy, max_features=log2, min_samples_leaf=1, min_samples_split=4, n_estimators=115;, score=0.740 total time=   0.2s\n",
            "[CV 3/5] END criterion=entropy, max_features=log2, min_samples_leaf=1, min_samples_split=4, n_estimators=115;, score=0.805 total time=   0.1s\n",
            "[CV 4/5] END criterion=entropy, max_features=log2, min_samples_leaf=1, min_samples_split=4, n_estimators=115;, score=0.701 total time=   0.2s\n",
            "[CV 5/5] END criterion=entropy, max_features=log2, min_samples_leaf=1, min_samples_split=4, n_estimators=115;, score=0.789 total time=   0.1s\n",
            "[CV 1/5] END criterion=entropy, max_features=log2, min_samples_leaf=1, min_samples_split=5, n_estimators=90;, score=0.675 total time=   0.1s\n",
            "[CV 2/5] END criterion=entropy, max_features=log2, min_samples_leaf=1, min_samples_split=5, n_estimators=90;, score=0.740 total time=   0.1s\n",
            "[CV 3/5] END criterion=entropy, max_features=log2, min_samples_leaf=1, min_samples_split=5, n_estimators=90;, score=0.805 total time=   0.1s\n",
            "[CV 4/5] END criterion=entropy, max_features=log2, min_samples_leaf=1, min_samples_split=5, n_estimators=90;, score=0.701 total time=   0.1s\n",
            "[CV 5/5] END criterion=entropy, max_features=log2, min_samples_leaf=1, min_samples_split=5, n_estimators=90;, score=0.789 total time=   0.1s\n",
            "[CV 1/5] END criterion=entropy, max_features=log2, min_samples_leaf=1, min_samples_split=5, n_estimators=100;, score=0.675 total time=   0.1s\n",
            "[CV 2/5] END criterion=entropy, max_features=log2, min_samples_leaf=1, min_samples_split=5, n_estimators=100;, score=0.740 total time=   0.1s\n",
            "[CV 3/5] END criterion=entropy, max_features=log2, min_samples_leaf=1, min_samples_split=5, n_estimators=100;, score=0.805 total time=   0.1s\n",
            "[CV 4/5] END criterion=entropy, max_features=log2, min_samples_leaf=1, min_samples_split=5, n_estimators=100;, score=0.701 total time=   0.2s\n",
            "[CV 5/5] END criterion=entropy, max_features=log2, min_samples_leaf=1, min_samples_split=5, n_estimators=100;, score=0.789 total time=   0.2s\n",
            "[CV 1/5] END criterion=entropy, max_features=log2, min_samples_leaf=1, min_samples_split=5, n_estimators=115;, score=0.675 total time=   0.3s\n",
            "[CV 2/5] END criterion=entropy, max_features=log2, min_samples_leaf=1, min_samples_split=5, n_estimators=115;, score=0.740 total time=   0.2s\n",
            "[CV 3/5] END criterion=entropy, max_features=log2, min_samples_leaf=1, min_samples_split=5, n_estimators=115;, score=0.805 total time=   0.2s\n",
            "[CV 4/5] END criterion=entropy, max_features=log2, min_samples_leaf=1, min_samples_split=5, n_estimators=115;, score=0.701 total time=   0.2s\n",
            "[CV 5/5] END criterion=entropy, max_features=log2, min_samples_leaf=1, min_samples_split=5, n_estimators=115;, score=0.789 total time=   0.2s\n",
            "[CV 1/5] END criterion=entropy, max_features=log2, min_samples_leaf=1, min_samples_split=6, n_estimators=90;, score=0.675 total time=   0.2s\n",
            "[CV 2/5] END criterion=entropy, max_features=log2, min_samples_leaf=1, min_samples_split=6, n_estimators=90;, score=0.740 total time=   0.2s\n",
            "[CV 3/5] END criterion=entropy, max_features=log2, min_samples_leaf=1, min_samples_split=6, n_estimators=90;, score=0.805 total time=   0.2s\n",
            "[CV 4/5] END criterion=entropy, max_features=log2, min_samples_leaf=1, min_samples_split=6, n_estimators=90;, score=0.701 total time=   0.2s\n",
            "[CV 5/5] END criterion=entropy, max_features=log2, min_samples_leaf=1, min_samples_split=6, n_estimators=90;, score=0.789 total time=   0.2s\n",
            "[CV 1/5] END criterion=entropy, max_features=log2, min_samples_leaf=1, min_samples_split=6, n_estimators=100;, score=0.675 total time=   0.2s\n",
            "[CV 2/5] END criterion=entropy, max_features=log2, min_samples_leaf=1, min_samples_split=6, n_estimators=100;, score=0.740 total time=   0.2s\n",
            "[CV 3/5] END criterion=entropy, max_features=log2, min_samples_leaf=1, min_samples_split=6, n_estimators=100;, score=0.805 total time=   0.1s\n",
            "[CV 4/5] END criterion=entropy, max_features=log2, min_samples_leaf=1, min_samples_split=6, n_estimators=100;, score=0.701 total time=   0.1s\n",
            "[CV 5/5] END criterion=entropy, max_features=log2, min_samples_leaf=1, min_samples_split=6, n_estimators=100;, score=0.789 total time=   0.1s\n",
            "[CV 1/5] END criterion=entropy, max_features=log2, min_samples_leaf=1, min_samples_split=6, n_estimators=115;, score=0.675 total time=   0.1s\n",
            "[CV 2/5] END criterion=entropy, max_features=log2, min_samples_leaf=1, min_samples_split=6, n_estimators=115;, score=0.740 total time=   0.1s\n",
            "[CV 3/5] END criterion=entropy, max_features=log2, min_samples_leaf=1, min_samples_split=6, n_estimators=115;, score=0.805 total time=   0.1s\n",
            "[CV 4/5] END criterion=entropy, max_features=log2, min_samples_leaf=1, min_samples_split=6, n_estimators=115;, score=0.701 total time=   0.1s\n",
            "[CV 5/5] END criterion=entropy, max_features=log2, min_samples_leaf=1, min_samples_split=6, n_estimators=115;, score=0.789 total time=   0.1s\n",
            "[CV 1/5] END criterion=entropy, max_features=log2, min_samples_leaf=1, min_samples_split=7, n_estimators=90;, score=0.675 total time=   0.1s\n",
            "[CV 2/5] END criterion=entropy, max_features=log2, min_samples_leaf=1, min_samples_split=7, n_estimators=90;, score=0.740 total time=   0.1s\n",
            "[CV 3/5] END criterion=entropy, max_features=log2, min_samples_leaf=1, min_samples_split=7, n_estimators=90;, score=0.805 total time=   0.1s\n",
            "[CV 4/5] END criterion=entropy, max_features=log2, min_samples_leaf=1, min_samples_split=7, n_estimators=90;, score=0.701 total time=   0.1s\n",
            "[CV 5/5] END criterion=entropy, max_features=log2, min_samples_leaf=1, min_samples_split=7, n_estimators=90;, score=0.789 total time=   0.1s\n",
            "[CV 1/5] END criterion=entropy, max_features=log2, min_samples_leaf=1, min_samples_split=7, n_estimators=100;, score=0.675 total time=   0.1s\n",
            "[CV 2/5] END criterion=entropy, max_features=log2, min_samples_leaf=1, min_samples_split=7, n_estimators=100;, score=0.740 total time=   0.1s\n",
            "[CV 3/5] END criterion=entropy, max_features=log2, min_samples_leaf=1, min_samples_split=7, n_estimators=100;, score=0.805 total time=   0.1s\n",
            "[CV 4/5] END criterion=entropy, max_features=log2, min_samples_leaf=1, min_samples_split=7, n_estimators=100;, score=0.701 total time=   0.1s\n",
            "[CV 5/5] END criterion=entropy, max_features=log2, min_samples_leaf=1, min_samples_split=7, n_estimators=100;, score=0.789 total time=   0.1s\n",
            "[CV 1/5] END criterion=entropy, max_features=log2, min_samples_leaf=1, min_samples_split=7, n_estimators=115;, score=0.675 total time=   0.2s\n",
            "[CV 2/5] END criterion=entropy, max_features=log2, min_samples_leaf=1, min_samples_split=7, n_estimators=115;, score=0.740 total time=   0.1s\n",
            "[CV 3/5] END criterion=entropy, max_features=log2, min_samples_leaf=1, min_samples_split=7, n_estimators=115;, score=0.805 total time=   0.2s\n",
            "[CV 4/5] END criterion=entropy, max_features=log2, min_samples_leaf=1, min_samples_split=7, n_estimators=115;, score=0.701 total time=   0.1s\n",
            "[CV 5/5] END criterion=entropy, max_features=log2, min_samples_leaf=1, min_samples_split=7, n_estimators=115;, score=0.789 total time=   0.2s\n",
            "[CV 1/5] END criterion=entropy, max_features=log2, min_samples_leaf=1, min_samples_split=8, n_estimators=90;, score=0.675 total time=   0.1s\n",
            "[CV 2/5] END criterion=entropy, max_features=log2, min_samples_leaf=1, min_samples_split=8, n_estimators=90;, score=0.740 total time=   0.1s\n",
            "[CV 3/5] END criterion=entropy, max_features=log2, min_samples_leaf=1, min_samples_split=8, n_estimators=90;, score=0.805 total time=   0.1s\n",
            "[CV 4/5] END criterion=entropy, max_features=log2, min_samples_leaf=1, min_samples_split=8, n_estimators=90;, score=0.701 total time=   0.1s\n",
            "[CV 5/5] END criterion=entropy, max_features=log2, min_samples_leaf=1, min_samples_split=8, n_estimators=90;, score=0.789 total time=   0.1s\n",
            "[CV 1/5] END criterion=entropy, max_features=log2, min_samples_leaf=1, min_samples_split=8, n_estimators=100;, score=0.675 total time=   0.1s\n",
            "[CV 2/5] END criterion=entropy, max_features=log2, min_samples_leaf=1, min_samples_split=8, n_estimators=100;, score=0.740 total time=   0.2s\n",
            "[CV 3/5] END criterion=entropy, max_features=log2, min_samples_leaf=1, min_samples_split=8, n_estimators=100;, score=0.805 total time=   0.1s\n",
            "[CV 4/5] END criterion=entropy, max_features=log2, min_samples_leaf=1, min_samples_split=8, n_estimators=100;, score=0.701 total time=   0.1s\n",
            "[CV 5/5] END criterion=entropy, max_features=log2, min_samples_leaf=1, min_samples_split=8, n_estimators=100;, score=0.789 total time=   0.1s\n",
            "[CV 1/5] END criterion=entropy, max_features=log2, min_samples_leaf=1, min_samples_split=8, n_estimators=115;, score=0.675 total time=   0.1s\n",
            "[CV 2/5] END criterion=entropy, max_features=log2, min_samples_leaf=1, min_samples_split=8, n_estimators=115;, score=0.740 total time=   0.2s\n",
            "[CV 3/5] END criterion=entropy, max_features=log2, min_samples_leaf=1, min_samples_split=8, n_estimators=115;, score=0.805 total time=   0.1s\n",
            "[CV 4/5] END criterion=entropy, max_features=log2, min_samples_leaf=1, min_samples_split=8, n_estimators=115;, score=0.701 total time=   0.2s\n",
            "[CV 5/5] END criterion=entropy, max_features=log2, min_samples_leaf=1, min_samples_split=8, n_estimators=115;, score=0.789 total time=   0.1s\n",
            "[CV 1/5] END criterion=entropy, max_features=log2, min_samples_leaf=2, min_samples_split=4, n_estimators=90;, score=0.675 total time=   0.1s\n",
            "[CV 2/5] END criterion=entropy, max_features=log2, min_samples_leaf=2, min_samples_split=4, n_estimators=90;, score=0.740 total time=   0.1s\n",
            "[CV 3/5] END criterion=entropy, max_features=log2, min_samples_leaf=2, min_samples_split=4, n_estimators=90;, score=0.805 total time=   0.1s\n",
            "[CV 4/5] END criterion=entropy, max_features=log2, min_samples_leaf=2, min_samples_split=4, n_estimators=90;, score=0.701 total time=   0.1s\n",
            "[CV 5/5] END criterion=entropy, max_features=log2, min_samples_leaf=2, min_samples_split=4, n_estimators=90;, score=0.789 total time=   0.1s\n",
            "[CV 1/5] END criterion=entropy, max_features=log2, min_samples_leaf=2, min_samples_split=4, n_estimators=100;, score=0.675 total time=   0.1s\n",
            "[CV 2/5] END criterion=entropy, max_features=log2, min_samples_leaf=2, min_samples_split=4, n_estimators=100;, score=0.740 total time=   0.1s\n",
            "[CV 3/5] END criterion=entropy, max_features=log2, min_samples_leaf=2, min_samples_split=4, n_estimators=100;, score=0.805 total time=   0.1s\n",
            "[CV 4/5] END criterion=entropy, max_features=log2, min_samples_leaf=2, min_samples_split=4, n_estimators=100;, score=0.701 total time=   0.1s\n",
            "[CV 5/5] END criterion=entropy, max_features=log2, min_samples_leaf=2, min_samples_split=4, n_estimators=100;, score=0.789 total time=   0.1s\n",
            "[CV 1/5] END criterion=entropy, max_features=log2, min_samples_leaf=2, min_samples_split=4, n_estimators=115;, score=0.675 total time=   0.2s\n",
            "[CV 2/5] END criterion=entropy, max_features=log2, min_samples_leaf=2, min_samples_split=4, n_estimators=115;, score=0.740 total time=   0.1s\n",
            "[CV 3/5] END criterion=entropy, max_features=log2, min_samples_leaf=2, min_samples_split=4, n_estimators=115;, score=0.805 total time=   0.1s\n",
            "[CV 4/5] END criterion=entropy, max_features=log2, min_samples_leaf=2, min_samples_split=4, n_estimators=115;, score=0.701 total time=   0.1s\n",
            "[CV 5/5] END criterion=entropy, max_features=log2, min_samples_leaf=2, min_samples_split=4, n_estimators=115;, score=0.789 total time=   0.2s\n",
            "[CV 1/5] END criterion=entropy, max_features=log2, min_samples_leaf=2, min_samples_split=5, n_estimators=90;, score=0.675 total time=   0.1s\n",
            "[CV 2/5] END criterion=entropy, max_features=log2, min_samples_leaf=2, min_samples_split=5, n_estimators=90;, score=0.740 total time=   0.1s\n",
            "[CV 3/5] END criterion=entropy, max_features=log2, min_samples_leaf=2, min_samples_split=5, n_estimators=90;, score=0.805 total time=   0.1s\n",
            "[CV 4/5] END criterion=entropy, max_features=log2, min_samples_leaf=2, min_samples_split=5, n_estimators=90;, score=0.701 total time=   0.1s\n",
            "[CV 5/5] END criterion=entropy, max_features=log2, min_samples_leaf=2, min_samples_split=5, n_estimators=90;, score=0.789 total time=   0.1s\n",
            "[CV 1/5] END criterion=entropy, max_features=log2, min_samples_leaf=2, min_samples_split=5, n_estimators=100;, score=0.675 total time=   0.1s\n",
            "[CV 2/5] END criterion=entropy, max_features=log2, min_samples_leaf=2, min_samples_split=5, n_estimators=100;, score=0.740 total time=   0.1s\n",
            "[CV 3/5] END criterion=entropy, max_features=log2, min_samples_leaf=2, min_samples_split=5, n_estimators=100;, score=0.805 total time=   0.1s\n",
            "[CV 4/5] END criterion=entropy, max_features=log2, min_samples_leaf=2, min_samples_split=5, n_estimators=100;, score=0.701 total time=   0.1s\n",
            "[CV 5/5] END criterion=entropy, max_features=log2, min_samples_leaf=2, min_samples_split=5, n_estimators=100;, score=0.789 total time=   0.1s\n",
            "[CV 1/5] END criterion=entropy, max_features=log2, min_samples_leaf=2, min_samples_split=5, n_estimators=115;, score=0.675 total time=   0.1s\n",
            "[CV 2/5] END criterion=entropy, max_features=log2, min_samples_leaf=2, min_samples_split=5, n_estimators=115;, score=0.740 total time=   0.2s\n",
            "[CV 3/5] END criterion=entropy, max_features=log2, min_samples_leaf=2, min_samples_split=5, n_estimators=115;, score=0.805 total time=   0.1s\n",
            "[CV 4/5] END criterion=entropy, max_features=log2, min_samples_leaf=2, min_samples_split=5, n_estimators=115;, score=0.701 total time=   0.1s\n",
            "[CV 5/5] END criterion=entropy, max_features=log2, min_samples_leaf=2, min_samples_split=5, n_estimators=115;, score=0.789 total time=   0.1s\n",
            "[CV 1/5] END criterion=entropy, max_features=log2, min_samples_leaf=2, min_samples_split=6, n_estimators=90;, score=0.675 total time=   0.1s\n",
            "[CV 2/5] END criterion=entropy, max_features=log2, min_samples_leaf=2, min_samples_split=6, n_estimators=90;, score=0.740 total time=   0.1s\n",
            "[CV 3/5] END criterion=entropy, max_features=log2, min_samples_leaf=2, min_samples_split=6, n_estimators=90;, score=0.805 total time=   0.1s\n",
            "[CV 4/5] END criterion=entropy, max_features=log2, min_samples_leaf=2, min_samples_split=6, n_estimators=90;, score=0.701 total time=   0.1s\n",
            "[CV 5/5] END criterion=entropy, max_features=log2, min_samples_leaf=2, min_samples_split=6, n_estimators=90;, score=0.789 total time=   0.1s\n",
            "[CV 1/5] END criterion=entropy, max_features=log2, min_samples_leaf=2, min_samples_split=6, n_estimators=100;, score=0.675 total time=   0.1s\n",
            "[CV 2/5] END criterion=entropy, max_features=log2, min_samples_leaf=2, min_samples_split=6, n_estimators=100;, score=0.740 total time=   0.2s\n",
            "[CV 3/5] END criterion=entropy, max_features=log2, min_samples_leaf=2, min_samples_split=6, n_estimators=100;, score=0.805 total time=   0.2s\n",
            "[CV 4/5] END criterion=entropy, max_features=log2, min_samples_leaf=2, min_samples_split=6, n_estimators=100;, score=0.701 total time=   0.2s\n",
            "[CV 5/5] END criterion=entropy, max_features=log2, min_samples_leaf=2, min_samples_split=6, n_estimators=100;, score=0.789 total time=   0.2s\n",
            "[CV 1/5] END criterion=entropy, max_features=log2, min_samples_leaf=2, min_samples_split=6, n_estimators=115;, score=0.675 total time=   0.2s\n",
            "[CV 2/5] END criterion=entropy, max_features=log2, min_samples_leaf=2, min_samples_split=6, n_estimators=115;, score=0.740 total time=   0.2s\n",
            "[CV 3/5] END criterion=entropy, max_features=log2, min_samples_leaf=2, min_samples_split=6, n_estimators=115;, score=0.805 total time=   0.2s\n",
            "[CV 4/5] END criterion=entropy, max_features=log2, min_samples_leaf=2, min_samples_split=6, n_estimators=115;, score=0.701 total time=   0.2s\n",
            "[CV 5/5] END criterion=entropy, max_features=log2, min_samples_leaf=2, min_samples_split=6, n_estimators=115;, score=0.789 total time=   0.2s\n",
            "[CV 1/5] END criterion=entropy, max_features=log2, min_samples_leaf=2, min_samples_split=7, n_estimators=90;, score=0.675 total time=   0.2s\n",
            "[CV 2/5] END criterion=entropy, max_features=log2, min_samples_leaf=2, min_samples_split=7, n_estimators=90;, score=0.740 total time=   0.2s\n",
            "[CV 3/5] END criterion=entropy, max_features=log2, min_samples_leaf=2, min_samples_split=7, n_estimators=90;, score=0.805 total time=   0.2s\n",
            "[CV 4/5] END criterion=entropy, max_features=log2, min_samples_leaf=2, min_samples_split=7, n_estimators=90;, score=0.701 total time=   0.2s\n",
            "[CV 5/5] END criterion=entropy, max_features=log2, min_samples_leaf=2, min_samples_split=7, n_estimators=90;, score=0.789 total time=   0.2s\n",
            "[CV 1/5] END criterion=entropy, max_features=log2, min_samples_leaf=2, min_samples_split=7, n_estimators=100;, score=0.675 total time=   0.2s\n",
            "[CV 2/5] END criterion=entropy, max_features=log2, min_samples_leaf=2, min_samples_split=7, n_estimators=100;, score=0.740 total time=   0.1s\n",
            "[CV 3/5] END criterion=entropy, max_features=log2, min_samples_leaf=2, min_samples_split=7, n_estimators=100;, score=0.805 total time=   0.1s\n",
            "[CV 4/5] END criterion=entropy, max_features=log2, min_samples_leaf=2, min_samples_split=7, n_estimators=100;, score=0.701 total time=   0.1s\n",
            "[CV 5/5] END criterion=entropy, max_features=log2, min_samples_leaf=2, min_samples_split=7, n_estimators=100;, score=0.789 total time=   0.1s\n",
            "[CV 1/5] END criterion=entropy, max_features=log2, min_samples_leaf=2, min_samples_split=7, n_estimators=115;, score=0.675 total time=   0.1s\n",
            "[CV 2/5] END criterion=entropy, max_features=log2, min_samples_leaf=2, min_samples_split=7, n_estimators=115;, score=0.740 total time=   0.2s\n",
            "[CV 3/5] END criterion=entropy, max_features=log2, min_samples_leaf=2, min_samples_split=7, n_estimators=115;, score=0.805 total time=   0.1s\n",
            "[CV 4/5] END criterion=entropy, max_features=log2, min_samples_leaf=2, min_samples_split=7, n_estimators=115;, score=0.701 total time=   0.2s\n",
            "[CV 5/5] END criterion=entropy, max_features=log2, min_samples_leaf=2, min_samples_split=7, n_estimators=115;, score=0.789 total time=   0.1s\n",
            "[CV 1/5] END criterion=entropy, max_features=log2, min_samples_leaf=2, min_samples_split=8, n_estimators=90;, score=0.675 total time=   0.1s\n",
            "[CV 2/5] END criterion=entropy, max_features=log2, min_samples_leaf=2, min_samples_split=8, n_estimators=90;, score=0.740 total time=   0.1s\n",
            "[CV 3/5] END criterion=entropy, max_features=log2, min_samples_leaf=2, min_samples_split=8, n_estimators=90;, score=0.805 total time=   0.1s\n",
            "[CV 4/5] END criterion=entropy, max_features=log2, min_samples_leaf=2, min_samples_split=8, n_estimators=90;, score=0.701 total time=   0.1s\n",
            "[CV 5/5] END criterion=entropy, max_features=log2, min_samples_leaf=2, min_samples_split=8, n_estimators=90;, score=0.789 total time=   0.1s\n",
            "[CV 1/5] END criterion=entropy, max_features=log2, min_samples_leaf=2, min_samples_split=8, n_estimators=100;, score=0.675 total time=   0.1s\n",
            "[CV 2/5] END criterion=entropy, max_features=log2, min_samples_leaf=2, min_samples_split=8, n_estimators=100;, score=0.740 total time=   0.1s\n",
            "[CV 3/5] END criterion=entropy, max_features=log2, min_samples_leaf=2, min_samples_split=8, n_estimators=100;, score=0.805 total time=   0.1s\n",
            "[CV 4/5] END criterion=entropy, max_features=log2, min_samples_leaf=2, min_samples_split=8, n_estimators=100;, score=0.701 total time=   0.1s\n",
            "[CV 5/5] END criterion=entropy, max_features=log2, min_samples_leaf=2, min_samples_split=8, n_estimators=100;, score=0.789 total time=   0.1s\n",
            "[CV 1/5] END criterion=entropy, max_features=log2, min_samples_leaf=2, min_samples_split=8, n_estimators=115;, score=0.675 total time=   0.1s\n",
            "[CV 2/5] END criterion=entropy, max_features=log2, min_samples_leaf=2, min_samples_split=8, n_estimators=115;, score=0.740 total time=   0.1s\n",
            "[CV 3/5] END criterion=entropy, max_features=log2, min_samples_leaf=2, min_samples_split=8, n_estimators=115;, score=0.805 total time=   0.2s\n",
            "[CV 4/5] END criterion=entropy, max_features=log2, min_samples_leaf=2, min_samples_split=8, n_estimators=115;, score=0.701 total time=   0.1s\n",
            "[CV 5/5] END criterion=entropy, max_features=log2, min_samples_leaf=2, min_samples_split=8, n_estimators=115;, score=0.789 total time=   0.2s\n",
            "[CV 1/5] END criterion=entropy, max_features=log2, min_samples_leaf=3, min_samples_split=4, n_estimators=90;, score=0.675 total time=   0.1s\n",
            "[CV 2/5] END criterion=entropy, max_features=log2, min_samples_leaf=3, min_samples_split=4, n_estimators=90;, score=0.740 total time=   0.1s\n",
            "[CV 3/5] END criterion=entropy, max_features=log2, min_samples_leaf=3, min_samples_split=4, n_estimators=90;, score=0.805 total time=   0.1s\n",
            "[CV 4/5] END criterion=entropy, max_features=log2, min_samples_leaf=3, min_samples_split=4, n_estimators=90;, score=0.701 total time=   0.1s\n",
            "[CV 5/5] END criterion=entropy, max_features=log2, min_samples_leaf=3, min_samples_split=4, n_estimators=90;, score=0.789 total time=   0.1s\n",
            "[CV 1/5] END criterion=entropy, max_features=log2, min_samples_leaf=3, min_samples_split=4, n_estimators=100;, score=0.675 total time=   0.1s\n",
            "[CV 2/5] END criterion=entropy, max_features=log2, min_samples_leaf=3, min_samples_split=4, n_estimators=100;, score=0.740 total time=   0.1s\n",
            "[CV 3/5] END criterion=entropy, max_features=log2, min_samples_leaf=3, min_samples_split=4, n_estimators=100;, score=0.805 total time=   0.1s\n",
            "[CV 4/5] END criterion=entropy, max_features=log2, min_samples_leaf=3, min_samples_split=4, n_estimators=100;, score=0.701 total time=   0.1s\n",
            "[CV 5/5] END criterion=entropy, max_features=log2, min_samples_leaf=3, min_samples_split=4, n_estimators=100;, score=0.789 total time=   0.1s\n",
            "[CV 1/5] END criterion=entropy, max_features=log2, min_samples_leaf=3, min_samples_split=4, n_estimators=115;, score=0.675 total time=   0.1s\n",
            "[CV 2/5] END criterion=entropy, max_features=log2, min_samples_leaf=3, min_samples_split=4, n_estimators=115;, score=0.740 total time=   0.2s\n",
            "[CV 3/5] END criterion=entropy, max_features=log2, min_samples_leaf=3, min_samples_split=4, n_estimators=115;, score=0.805 total time=   0.1s\n",
            "[CV 4/5] END criterion=entropy, max_features=log2, min_samples_leaf=3, min_samples_split=4, n_estimators=115;, score=0.701 total time=   0.2s\n",
            "[CV 5/5] END criterion=entropy, max_features=log2, min_samples_leaf=3, min_samples_split=4, n_estimators=115;, score=0.789 total time=   0.1s\n",
            "[CV 1/5] END criterion=entropy, max_features=log2, min_samples_leaf=3, min_samples_split=5, n_estimators=90;, score=0.675 total time=   0.1s\n",
            "[CV 2/5] END criterion=entropy, max_features=log2, min_samples_leaf=3, min_samples_split=5, n_estimators=90;, score=0.740 total time=   0.1s\n",
            "[CV 3/5] END criterion=entropy, max_features=log2, min_samples_leaf=3, min_samples_split=5, n_estimators=90;, score=0.805 total time=   0.1s\n",
            "[CV 4/5] END criterion=entropy, max_features=log2, min_samples_leaf=3, min_samples_split=5, n_estimators=90;, score=0.701 total time=   0.1s\n",
            "[CV 5/5] END criterion=entropy, max_features=log2, min_samples_leaf=3, min_samples_split=5, n_estimators=90;, score=0.789 total time=   0.1s\n",
            "[CV 1/5] END criterion=entropy, max_features=log2, min_samples_leaf=3, min_samples_split=5, n_estimators=100;, score=0.675 total time=   0.1s\n",
            "[CV 2/5] END criterion=entropy, max_features=log2, min_samples_leaf=3, min_samples_split=5, n_estimators=100;, score=0.740 total time=   0.1s\n",
            "[CV 3/5] END criterion=entropy, max_features=log2, min_samples_leaf=3, min_samples_split=5, n_estimators=100;, score=0.805 total time=   0.1s\n",
            "[CV 4/5] END criterion=entropy, max_features=log2, min_samples_leaf=3, min_samples_split=5, n_estimators=100;, score=0.701 total time=   0.1s\n",
            "[CV 5/5] END criterion=entropy, max_features=log2, min_samples_leaf=3, min_samples_split=5, n_estimators=100;, score=0.789 total time=   0.1s\n",
            "[CV 1/5] END criterion=entropy, max_features=log2, min_samples_leaf=3, min_samples_split=5, n_estimators=115;, score=0.675 total time=   0.2s\n",
            "[CV 2/5] END criterion=entropy, max_features=log2, min_samples_leaf=3, min_samples_split=5, n_estimators=115;, score=0.740 total time=   0.1s\n",
            "[CV 3/5] END criterion=entropy, max_features=log2, min_samples_leaf=3, min_samples_split=5, n_estimators=115;, score=0.805 total time=   0.2s\n",
            "[CV 4/5] END criterion=entropy, max_features=log2, min_samples_leaf=3, min_samples_split=5, n_estimators=115;, score=0.701 total time=   0.1s\n",
            "[CV 5/5] END criterion=entropy, max_features=log2, min_samples_leaf=3, min_samples_split=5, n_estimators=115;, score=0.789 total time=   0.2s\n",
            "[CV 1/5] END criterion=entropy, max_features=log2, min_samples_leaf=3, min_samples_split=6, n_estimators=90;, score=0.675 total time=   0.1s\n",
            "[CV 2/5] END criterion=entropy, max_features=log2, min_samples_leaf=3, min_samples_split=6, n_estimators=90;, score=0.740 total time=   0.1s\n",
            "[CV 3/5] END criterion=entropy, max_features=log2, min_samples_leaf=3, min_samples_split=6, n_estimators=90;, score=0.805 total time=   0.1s\n",
            "[CV 4/5] END criterion=entropy, max_features=log2, min_samples_leaf=3, min_samples_split=6, n_estimators=90;, score=0.701 total time=   0.1s\n",
            "[CV 5/5] END criterion=entropy, max_features=log2, min_samples_leaf=3, min_samples_split=6, n_estimators=90;, score=0.789 total time=   0.1s\n",
            "[CV 1/5] END criterion=entropy, max_features=log2, min_samples_leaf=3, min_samples_split=6, n_estimators=100;, score=0.675 total time=   0.1s\n",
            "[CV 2/5] END criterion=entropy, max_features=log2, min_samples_leaf=3, min_samples_split=6, n_estimators=100;, score=0.740 total time=   0.1s\n",
            "[CV 3/5] END criterion=entropy, max_features=log2, min_samples_leaf=3, min_samples_split=6, n_estimators=100;, score=0.805 total time=   0.1s\n",
            "[CV 4/5] END criterion=entropy, max_features=log2, min_samples_leaf=3, min_samples_split=6, n_estimators=100;, score=0.701 total time=   0.1s\n",
            "[CV 5/5] END criterion=entropy, max_features=log2, min_samples_leaf=3, min_samples_split=6, n_estimators=100;, score=0.789 total time=   0.1s\n",
            "[CV 1/5] END criterion=entropy, max_features=log2, min_samples_leaf=3, min_samples_split=6, n_estimators=115;, score=0.675 total time=   0.1s\n",
            "[CV 2/5] END criterion=entropy, max_features=log2, min_samples_leaf=3, min_samples_split=6, n_estimators=115;, score=0.740 total time=   0.2s\n",
            "[CV 3/5] END criterion=entropy, max_features=log2, min_samples_leaf=3, min_samples_split=6, n_estimators=115;, score=0.805 total time=   0.1s\n",
            "[CV 4/5] END criterion=entropy, max_features=log2, min_samples_leaf=3, min_samples_split=6, n_estimators=115;, score=0.701 total time=   0.2s\n",
            "[CV 5/5] END criterion=entropy, max_features=log2, min_samples_leaf=3, min_samples_split=6, n_estimators=115;, score=0.789 total time=   0.1s\n",
            "[CV 1/5] END criterion=entropy, max_features=log2, min_samples_leaf=3, min_samples_split=7, n_estimators=90;, score=0.675 total time=   0.1s\n",
            "[CV 2/5] END criterion=entropy, max_features=log2, min_samples_leaf=3, min_samples_split=7, n_estimators=90;, score=0.740 total time=   0.1s\n",
            "[CV 3/5] END criterion=entropy, max_features=log2, min_samples_leaf=3, min_samples_split=7, n_estimators=90;, score=0.805 total time=   0.1s\n",
            "[CV 4/5] END criterion=entropy, max_features=log2, min_samples_leaf=3, min_samples_split=7, n_estimators=90;, score=0.701 total time=   0.1s\n",
            "[CV 5/5] END criterion=entropy, max_features=log2, min_samples_leaf=3, min_samples_split=7, n_estimators=90;, score=0.789 total time=   0.1s\n",
            "[CV 1/5] END criterion=entropy, max_features=log2, min_samples_leaf=3, min_samples_split=7, n_estimators=100;, score=0.675 total time=   0.1s\n",
            "[CV 2/5] END criterion=entropy, max_features=log2, min_samples_leaf=3, min_samples_split=7, n_estimators=100;, score=0.740 total time=   0.2s\n",
            "[CV 3/5] END criterion=entropy, max_features=log2, min_samples_leaf=3, min_samples_split=7, n_estimators=100;, score=0.805 total time=   0.2s\n",
            "[CV 4/5] END criterion=entropy, max_features=log2, min_samples_leaf=3, min_samples_split=7, n_estimators=100;, score=0.701 total time=   0.2s\n",
            "[CV 5/5] END criterion=entropy, max_features=log2, min_samples_leaf=3, min_samples_split=7, n_estimators=100;, score=0.789 total time=   0.2s\n",
            "[CV 1/5] END criterion=entropy, max_features=log2, min_samples_leaf=3, min_samples_split=7, n_estimators=115;, score=0.675 total time=   0.2s\n",
            "[CV 2/5] END criterion=entropy, max_features=log2, min_samples_leaf=3, min_samples_split=7, n_estimators=115;, score=0.740 total time=   0.2s\n",
            "[CV 3/5] END criterion=entropy, max_features=log2, min_samples_leaf=3, min_samples_split=7, n_estimators=115;, score=0.805 total time=   0.2s\n",
            "[CV 4/5] END criterion=entropy, max_features=log2, min_samples_leaf=3, min_samples_split=7, n_estimators=115;, score=0.701 total time=   0.2s\n",
            "[CV 5/5] END criterion=entropy, max_features=log2, min_samples_leaf=3, min_samples_split=7, n_estimators=115;, score=0.789 total time=   0.2s\n",
            "[CV 1/5] END criterion=entropy, max_features=log2, min_samples_leaf=3, min_samples_split=8, n_estimators=90;, score=0.675 total time=   0.2s\n",
            "[CV 2/5] END criterion=entropy, max_features=log2, min_samples_leaf=3, min_samples_split=8, n_estimators=90;, score=0.740 total time=   0.2s\n",
            "[CV 3/5] END criterion=entropy, max_features=log2, min_samples_leaf=3, min_samples_split=8, n_estimators=90;, score=0.805 total time=   0.2s\n",
            "[CV 4/5] END criterion=entropy, max_features=log2, min_samples_leaf=3, min_samples_split=8, n_estimators=90;, score=0.701 total time=   0.2s\n",
            "[CV 5/5] END criterion=entropy, max_features=log2, min_samples_leaf=3, min_samples_split=8, n_estimators=90;, score=0.789 total time=   0.2s\n",
            "[CV 1/5] END criterion=entropy, max_features=log2, min_samples_leaf=3, min_samples_split=8, n_estimators=100;, score=0.675 total time=   0.2s\n",
            "[CV 2/5] END criterion=entropy, max_features=log2, min_samples_leaf=3, min_samples_split=8, n_estimators=100;, score=0.740 total time=   0.2s\n",
            "[CV 3/5] END criterion=entropy, max_features=log2, min_samples_leaf=3, min_samples_split=8, n_estimators=100;, score=0.805 total time=   0.1s\n",
            "[CV 4/5] END criterion=entropy, max_features=log2, min_samples_leaf=3, min_samples_split=8, n_estimators=100;, score=0.701 total time=   0.1s\n",
            "[CV 5/5] END criterion=entropy, max_features=log2, min_samples_leaf=3, min_samples_split=8, n_estimators=100;, score=0.789 total time=   0.1s\n",
            "[CV 1/5] END criterion=entropy, max_features=log2, min_samples_leaf=3, min_samples_split=8, n_estimators=115;, score=0.675 total time=   0.1s\n",
            "[CV 2/5] END criterion=entropy, max_features=log2, min_samples_leaf=3, min_samples_split=8, n_estimators=115;, score=0.740 total time=   0.2s\n",
            "[CV 3/5] END criterion=entropy, max_features=log2, min_samples_leaf=3, min_samples_split=8, n_estimators=115;, score=0.805 total time=   0.2s\n",
            "[CV 4/5] END criterion=entropy, max_features=log2, min_samples_leaf=3, min_samples_split=8, n_estimators=115;, score=0.701 total time=   0.2s\n",
            "[CV 5/5] END criterion=entropy, max_features=log2, min_samples_leaf=3, min_samples_split=8, n_estimators=115;, score=0.789 total time=   0.1s\n",
            "[CV 1/5] END criterion=entropy, max_features=log2, min_samples_leaf=4, min_samples_split=4, n_estimators=90;, score=0.675 total time=   0.1s\n",
            "[CV 2/5] END criterion=entropy, max_features=log2, min_samples_leaf=4, min_samples_split=4, n_estimators=90;, score=0.740 total time=   0.1s\n",
            "[CV 3/5] END criterion=entropy, max_features=log2, min_samples_leaf=4, min_samples_split=4, n_estimators=90;, score=0.805 total time=   0.1s\n",
            "[CV 4/5] END criterion=entropy, max_features=log2, min_samples_leaf=4, min_samples_split=4, n_estimators=90;, score=0.701 total time=   0.1s\n",
            "[CV 5/5] END criterion=entropy, max_features=log2, min_samples_leaf=4, min_samples_split=4, n_estimators=90;, score=0.789 total time=   0.1s\n",
            "[CV 1/5] END criterion=entropy, max_features=log2, min_samples_leaf=4, min_samples_split=4, n_estimators=100;, score=0.675 total time=   0.1s\n",
            "[CV 2/5] END criterion=entropy, max_features=log2, min_samples_leaf=4, min_samples_split=4, n_estimators=100;, score=0.740 total time=   0.1s\n",
            "[CV 3/5] END criterion=entropy, max_features=log2, min_samples_leaf=4, min_samples_split=4, n_estimators=100;, score=0.805 total time=   0.1s\n",
            "[CV 4/5] END criterion=entropy, max_features=log2, min_samples_leaf=4, min_samples_split=4, n_estimators=100;, score=0.701 total time=   0.1s\n",
            "[CV 5/5] END criterion=entropy, max_features=log2, min_samples_leaf=4, min_samples_split=4, n_estimators=100;, score=0.789 total time=   0.1s\n",
            "[CV 1/5] END criterion=entropy, max_features=log2, min_samples_leaf=4, min_samples_split=4, n_estimators=115;, score=0.675 total time=   0.1s\n",
            "[CV 2/5] END criterion=entropy, max_features=log2, min_samples_leaf=4, min_samples_split=4, n_estimators=115;, score=0.740 total time=   0.1s\n",
            "[CV 3/5] END criterion=entropy, max_features=log2, min_samples_leaf=4, min_samples_split=4, n_estimators=115;, score=0.805 total time=   0.2s\n",
            "[CV 4/5] END criterion=entropy, max_features=log2, min_samples_leaf=4, min_samples_split=4, n_estimators=115;, score=0.701 total time=   0.1s\n",
            "[CV 5/5] END criterion=entropy, max_features=log2, min_samples_leaf=4, min_samples_split=4, n_estimators=115;, score=0.789 total time=   0.2s\n",
            "[CV 1/5] END criterion=entropy, max_features=log2, min_samples_leaf=4, min_samples_split=5, n_estimators=90;, score=0.675 total time=   0.1s\n",
            "[CV 2/5] END criterion=entropy, max_features=log2, min_samples_leaf=4, min_samples_split=5, n_estimators=90;, score=0.740 total time=   0.1s\n",
            "[CV 3/5] END criterion=entropy, max_features=log2, min_samples_leaf=4, min_samples_split=5, n_estimators=90;, score=0.805 total time=   0.1s\n",
            "[CV 4/5] END criterion=entropy, max_features=log2, min_samples_leaf=4, min_samples_split=5, n_estimators=90;, score=0.701 total time=   0.1s\n",
            "[CV 5/5] END criterion=entropy, max_features=log2, min_samples_leaf=4, min_samples_split=5, n_estimators=90;, score=0.789 total time=   0.1s\n",
            "[CV 1/5] END criterion=entropy, max_features=log2, min_samples_leaf=4, min_samples_split=5, n_estimators=100;, score=0.675 total time=   0.1s\n",
            "[CV 2/5] END criterion=entropy, max_features=log2, min_samples_leaf=4, min_samples_split=5, n_estimators=100;, score=0.740 total time=   0.1s\n",
            "[CV 3/5] END criterion=entropy, max_features=log2, min_samples_leaf=4, min_samples_split=5, n_estimators=100;, score=0.805 total time=   0.1s\n",
            "[CV 4/5] END criterion=entropy, max_features=log2, min_samples_leaf=4, min_samples_split=5, n_estimators=100;, score=0.701 total time=   0.1s\n",
            "[CV 5/5] END criterion=entropy, max_features=log2, min_samples_leaf=4, min_samples_split=5, n_estimators=100;, score=0.789 total time=   0.1s\n",
            "[CV 1/5] END criterion=entropy, max_features=log2, min_samples_leaf=4, min_samples_split=5, n_estimators=115;, score=0.675 total time=   0.1s\n",
            "[CV 2/5] END criterion=entropy, max_features=log2, min_samples_leaf=4, min_samples_split=5, n_estimators=115;, score=0.740 total time=   0.1s\n",
            "[CV 3/5] END criterion=entropy, max_features=log2, min_samples_leaf=4, min_samples_split=5, n_estimators=115;, score=0.805 total time=   0.1s\n",
            "[CV 4/5] END criterion=entropy, max_features=log2, min_samples_leaf=4, min_samples_split=5, n_estimators=115;, score=0.701 total time=   0.2s\n",
            "[CV 5/5] END criterion=entropy, max_features=log2, min_samples_leaf=4, min_samples_split=5, n_estimators=115;, score=0.789 total time=   0.1s\n",
            "[CV 1/5] END criterion=entropy, max_features=log2, min_samples_leaf=4, min_samples_split=6, n_estimators=90;, score=0.675 total time=   0.1s\n",
            "[CV 2/5] END criterion=entropy, max_features=log2, min_samples_leaf=4, min_samples_split=6, n_estimators=90;, score=0.740 total time=   0.1s\n",
            "[CV 3/5] END criterion=entropy, max_features=log2, min_samples_leaf=4, min_samples_split=6, n_estimators=90;, score=0.805 total time=   0.1s\n",
            "[CV 4/5] END criterion=entropy, max_features=log2, min_samples_leaf=4, min_samples_split=6, n_estimators=90;, score=0.701 total time=   0.1s\n",
            "[CV 5/5] END criterion=entropy, max_features=log2, min_samples_leaf=4, min_samples_split=6, n_estimators=90;, score=0.789 total time=   0.1s\n",
            "[CV 1/5] END criterion=entropy, max_features=log2, min_samples_leaf=4, min_samples_split=6, n_estimators=100;, score=0.675 total time=   0.1s\n",
            "[CV 2/5] END criterion=entropy, max_features=log2, min_samples_leaf=4, min_samples_split=6, n_estimators=100;, score=0.740 total time=   0.1s\n",
            "[CV 3/5] END criterion=entropy, max_features=log2, min_samples_leaf=4, min_samples_split=6, n_estimators=100;, score=0.805 total time=   0.1s\n",
            "[CV 4/5] END criterion=entropy, max_features=log2, min_samples_leaf=4, min_samples_split=6, n_estimators=100;, score=0.701 total time=   0.1s\n",
            "[CV 5/5] END criterion=entropy, max_features=log2, min_samples_leaf=4, min_samples_split=6, n_estimators=100;, score=0.789 total time=   0.1s\n",
            "[CV 1/5] END criterion=entropy, max_features=log2, min_samples_leaf=4, min_samples_split=6, n_estimators=115;, score=0.675 total time=   0.2s\n",
            "[CV 2/5] END criterion=entropy, max_features=log2, min_samples_leaf=4, min_samples_split=6, n_estimators=115;, score=0.740 total time=   0.1s\n",
            "[CV 3/5] END criterion=entropy, max_features=log2, min_samples_leaf=4, min_samples_split=6, n_estimators=115;, score=0.805 total time=   0.2s\n",
            "[CV 4/5] END criterion=entropy, max_features=log2, min_samples_leaf=4, min_samples_split=6, n_estimators=115;, score=0.701 total time=   0.1s\n",
            "[CV 5/5] END criterion=entropy, max_features=log2, min_samples_leaf=4, min_samples_split=6, n_estimators=115;, score=0.789 total time=   0.2s\n",
            "[CV 1/5] END criterion=entropy, max_features=log2, min_samples_leaf=4, min_samples_split=7, n_estimators=90;, score=0.675 total time=   0.1s\n",
            "[CV 2/5] END criterion=entropy, max_features=log2, min_samples_leaf=4, min_samples_split=7, n_estimators=90;, score=0.740 total time=   0.1s\n",
            "[CV 3/5] END criterion=entropy, max_features=log2, min_samples_leaf=4, min_samples_split=7, n_estimators=90;, score=0.805 total time=   0.1s\n",
            "[CV 4/5] END criterion=entropy, max_features=log2, min_samples_leaf=4, min_samples_split=7, n_estimators=90;, score=0.701 total time=   0.1s\n",
            "[CV 5/5] END criterion=entropy, max_features=log2, min_samples_leaf=4, min_samples_split=7, n_estimators=90;, score=0.789 total time=   0.1s\n",
            "[CV 1/5] END criterion=entropy, max_features=log2, min_samples_leaf=4, min_samples_split=7, n_estimators=100;, score=0.675 total time=   0.2s\n",
            "[CV 2/5] END criterion=entropy, max_features=log2, min_samples_leaf=4, min_samples_split=7, n_estimators=100;, score=0.740 total time=   0.1s\n",
            "[CV 3/5] END criterion=entropy, max_features=log2, min_samples_leaf=4, min_samples_split=7, n_estimators=100;, score=0.805 total time=   0.1s\n",
            "[CV 4/5] END criterion=entropy, max_features=log2, min_samples_leaf=4, min_samples_split=7, n_estimators=100;, score=0.701 total time=   0.1s\n",
            "[CV 5/5] END criterion=entropy, max_features=log2, min_samples_leaf=4, min_samples_split=7, n_estimators=100;, score=0.789 total time=   0.1s\n",
            "[CV 1/5] END criterion=entropy, max_features=log2, min_samples_leaf=4, min_samples_split=7, n_estimators=115;, score=0.675 total time=   0.1s\n",
            "[CV 2/5] END criterion=entropy, max_features=log2, min_samples_leaf=4, min_samples_split=7, n_estimators=115;, score=0.740 total time=   0.1s\n",
            "[CV 3/5] END criterion=entropy, max_features=log2, min_samples_leaf=4, min_samples_split=7, n_estimators=115;, score=0.805 total time=   0.2s\n",
            "[CV 4/5] END criterion=entropy, max_features=log2, min_samples_leaf=4, min_samples_split=7, n_estimators=115;, score=0.701 total time=   0.2s\n",
            "[CV 5/5] END criterion=entropy, max_features=log2, min_samples_leaf=4, min_samples_split=7, n_estimators=115;, score=0.789 total time=   0.2s\n",
            "[CV 1/5] END criterion=entropy, max_features=log2, min_samples_leaf=4, min_samples_split=8, n_estimators=90;, score=0.675 total time=   0.1s\n",
            "[CV 2/5] END criterion=entropy, max_features=log2, min_samples_leaf=4, min_samples_split=8, n_estimators=90;, score=0.740 total time=   0.1s\n",
            "[CV 3/5] END criterion=entropy, max_features=log2, min_samples_leaf=4, min_samples_split=8, n_estimators=90;, score=0.805 total time=   0.1s\n",
            "[CV 4/5] END criterion=entropy, max_features=log2, min_samples_leaf=4, min_samples_split=8, n_estimators=90;, score=0.701 total time=   0.1s\n",
            "[CV 5/5] END criterion=entropy, max_features=log2, min_samples_leaf=4, min_samples_split=8, n_estimators=90;, score=0.789 total time=   0.1s\n",
            "[CV 1/5] END criterion=entropy, max_features=log2, min_samples_leaf=4, min_samples_split=8, n_estimators=100;, score=0.675 total time=   0.1s\n",
            "[CV 2/5] END criterion=entropy, max_features=log2, min_samples_leaf=4, min_samples_split=8, n_estimators=100;, score=0.740 total time=   0.2s\n",
            "[CV 3/5] END criterion=entropy, max_features=log2, min_samples_leaf=4, min_samples_split=8, n_estimators=100;, score=0.805 total time=   0.2s\n",
            "[CV 4/5] END criterion=entropy, max_features=log2, min_samples_leaf=4, min_samples_split=8, n_estimators=100;, score=0.701 total time=   0.2s\n",
            "[CV 5/5] END criterion=entropy, max_features=log2, min_samples_leaf=4, min_samples_split=8, n_estimators=100;, score=0.789 total time=   0.2s\n",
            "[CV 1/5] END criterion=entropy, max_features=log2, min_samples_leaf=4, min_samples_split=8, n_estimators=115;, score=0.675 total time=   0.2s\n",
            "[CV 2/5] END criterion=entropy, max_features=log2, min_samples_leaf=4, min_samples_split=8, n_estimators=115;, score=0.740 total time=   0.2s\n",
            "[CV 3/5] END criterion=entropy, max_features=log2, min_samples_leaf=4, min_samples_split=8, n_estimators=115;, score=0.805 total time=   0.2s\n",
            "[CV 4/5] END criterion=entropy, max_features=log2, min_samples_leaf=4, min_samples_split=8, n_estimators=115;, score=0.701 total time=   0.2s\n",
            "[CV 5/5] END criterion=entropy, max_features=log2, min_samples_leaf=4, min_samples_split=8, n_estimators=115;, score=0.789 total time=   0.2s\n",
            "[CV 1/5] END criterion=entropy, max_features=log2, min_samples_leaf=5, min_samples_split=4, n_estimators=90;, score=0.675 total time=   0.2s\n",
            "[CV 2/5] END criterion=entropy, max_features=log2, min_samples_leaf=5, min_samples_split=4, n_estimators=90;, score=0.740 total time=   0.2s\n",
            "[CV 3/5] END criterion=entropy, max_features=log2, min_samples_leaf=5, min_samples_split=4, n_estimators=90;, score=0.805 total time=   0.2s\n",
            "[CV 4/5] END criterion=entropy, max_features=log2, min_samples_leaf=5, min_samples_split=4, n_estimators=90;, score=0.701 total time=   0.2s\n",
            "[CV 5/5] END criterion=entropy, max_features=log2, min_samples_leaf=5, min_samples_split=4, n_estimators=90;, score=0.789 total time=   0.2s\n",
            "[CV 1/5] END criterion=entropy, max_features=log2, min_samples_leaf=5, min_samples_split=4, n_estimators=100;, score=0.675 total time=   0.1s\n",
            "[CV 2/5] END criterion=entropy, max_features=log2, min_samples_leaf=5, min_samples_split=4, n_estimators=100;, score=0.740 total time=   0.1s\n",
            "[CV 3/5] END criterion=entropy, max_features=log2, min_samples_leaf=5, min_samples_split=4, n_estimators=100;, score=0.805 total time=   0.1s\n",
            "[CV 4/5] END criterion=entropy, max_features=log2, min_samples_leaf=5, min_samples_split=4, n_estimators=100;, score=0.701 total time=   0.1s\n",
            "[CV 5/5] END criterion=entropy, max_features=log2, min_samples_leaf=5, min_samples_split=4, n_estimators=100;, score=0.789 total time=   0.1s\n",
            "[CV 1/5] END criterion=entropy, max_features=log2, min_samples_leaf=5, min_samples_split=4, n_estimators=115;, score=0.675 total time=   0.1s\n",
            "[CV 2/5] END criterion=entropy, max_features=log2, min_samples_leaf=5, min_samples_split=4, n_estimators=115;, score=0.740 total time=   0.2s\n",
            "[CV 3/5] END criterion=entropy, max_features=log2, min_samples_leaf=5, min_samples_split=4, n_estimators=115;, score=0.805 total time=   0.2s\n",
            "[CV 4/5] END criterion=entropy, max_features=log2, min_samples_leaf=5, min_samples_split=4, n_estimators=115;, score=0.701 total time=   0.2s\n",
            "[CV 5/5] END criterion=entropy, max_features=log2, min_samples_leaf=5, min_samples_split=4, n_estimators=115;, score=0.789 total time=   0.1s\n",
            "[CV 1/5] END criterion=entropy, max_features=log2, min_samples_leaf=5, min_samples_split=5, n_estimators=90;, score=0.675 total time=   0.1s\n",
            "[CV 2/5] END criterion=entropy, max_features=log2, min_samples_leaf=5, min_samples_split=5, n_estimators=90;, score=0.740 total time=   0.1s\n",
            "[CV 3/5] END criterion=entropy, max_features=log2, min_samples_leaf=5, min_samples_split=5, n_estimators=90;, score=0.805 total time=   0.1s\n",
            "[CV 4/5] END criterion=entropy, max_features=log2, min_samples_leaf=5, min_samples_split=5, n_estimators=90;, score=0.701 total time=   0.1s\n",
            "[CV 5/5] END criterion=entropy, max_features=log2, min_samples_leaf=5, min_samples_split=5, n_estimators=90;, score=0.789 total time=   0.1s\n",
            "[CV 1/5] END criterion=entropy, max_features=log2, min_samples_leaf=5, min_samples_split=5, n_estimators=100;, score=0.675 total time=   0.1s\n",
            "[CV 2/5] END criterion=entropy, max_features=log2, min_samples_leaf=5, min_samples_split=5, n_estimators=100;, score=0.740 total time=   0.1s\n",
            "[CV 3/5] END criterion=entropy, max_features=log2, min_samples_leaf=5, min_samples_split=5, n_estimators=100;, score=0.805 total time=   0.1s\n",
            "[CV 4/5] END criterion=entropy, max_features=log2, min_samples_leaf=5, min_samples_split=5, n_estimators=100;, score=0.701 total time=   0.1s\n",
            "[CV 5/5] END criterion=entropy, max_features=log2, min_samples_leaf=5, min_samples_split=5, n_estimators=100;, score=0.789 total time=   0.1s\n",
            "[CV 1/5] END criterion=entropy, max_features=log2, min_samples_leaf=5, min_samples_split=5, n_estimators=115;, score=0.675 total time=   0.1s\n",
            "[CV 2/5] END criterion=entropy, max_features=log2, min_samples_leaf=5, min_samples_split=5, n_estimators=115;, score=0.740 total time=   0.1s\n",
            "[CV 3/5] END criterion=entropy, max_features=log2, min_samples_leaf=5, min_samples_split=5, n_estimators=115;, score=0.805 total time=   0.2s\n",
            "[CV 4/5] END criterion=entropy, max_features=log2, min_samples_leaf=5, min_samples_split=5, n_estimators=115;, score=0.701 total time=   0.1s\n",
            "[CV 5/5] END criterion=entropy, max_features=log2, min_samples_leaf=5, min_samples_split=5, n_estimators=115;, score=0.789 total time=   0.2s\n",
            "[CV 1/5] END criterion=entropy, max_features=log2, min_samples_leaf=5, min_samples_split=6, n_estimators=90;, score=0.675 total time=   0.1s\n",
            "[CV 2/5] END criterion=entropy, max_features=log2, min_samples_leaf=5, min_samples_split=6, n_estimators=90;, score=0.740 total time=   0.1s\n",
            "[CV 3/5] END criterion=entropy, max_features=log2, min_samples_leaf=5, min_samples_split=6, n_estimators=90;, score=0.805 total time=   0.1s\n",
            "[CV 4/5] END criterion=entropy, max_features=log2, min_samples_leaf=5, min_samples_split=6, n_estimators=90;, score=0.701 total time=   0.1s\n",
            "[CV 5/5] END criterion=entropy, max_features=log2, min_samples_leaf=5, min_samples_split=6, n_estimators=90;, score=0.789 total time=   0.1s\n",
            "[CV 1/5] END criterion=entropy, max_features=log2, min_samples_leaf=5, min_samples_split=6, n_estimators=100;, score=0.675 total time=   0.1s\n",
            "[CV 2/5] END criterion=entropy, max_features=log2, min_samples_leaf=5, min_samples_split=6, n_estimators=100;, score=0.740 total time=   0.1s\n",
            "[CV 3/5] END criterion=entropy, max_features=log2, min_samples_leaf=5, min_samples_split=6, n_estimators=100;, score=0.805 total time=   0.1s\n",
            "[CV 4/5] END criterion=entropy, max_features=log2, min_samples_leaf=5, min_samples_split=6, n_estimators=100;, score=0.701 total time=   0.1s\n",
            "[CV 5/5] END criterion=entropy, max_features=log2, min_samples_leaf=5, min_samples_split=6, n_estimators=100;, score=0.789 total time=   0.1s\n",
            "[CV 1/5] END criterion=entropy, max_features=log2, min_samples_leaf=5, min_samples_split=6, n_estimators=115;, score=0.675 total time=   0.1s\n",
            "[CV 2/5] END criterion=entropy, max_features=log2, min_samples_leaf=5, min_samples_split=6, n_estimators=115;, score=0.740 total time=   0.2s\n",
            "[CV 3/5] END criterion=entropy, max_features=log2, min_samples_leaf=5, min_samples_split=6, n_estimators=115;, score=0.805 total time=   0.1s\n",
            "[CV 4/5] END criterion=entropy, max_features=log2, min_samples_leaf=5, min_samples_split=6, n_estimators=115;, score=0.701 total time=   0.2s\n",
            "[CV 5/5] END criterion=entropy, max_features=log2, min_samples_leaf=5, min_samples_split=6, n_estimators=115;, score=0.789 total time=   0.1s\n",
            "[CV 1/5] END criterion=entropy, max_features=log2, min_samples_leaf=5, min_samples_split=7, n_estimators=90;, score=0.675 total time=   0.1s\n",
            "[CV 2/5] END criterion=entropy, max_features=log2, min_samples_leaf=5, min_samples_split=7, n_estimators=90;, score=0.740 total time=   0.1s\n",
            "[CV 3/5] END criterion=entropy, max_features=log2, min_samples_leaf=5, min_samples_split=7, n_estimators=90;, score=0.805 total time=   0.1s\n",
            "[CV 4/5] END criterion=entropy, max_features=log2, min_samples_leaf=5, min_samples_split=7, n_estimators=90;, score=0.701 total time=   0.1s\n",
            "[CV 5/5] END criterion=entropy, max_features=log2, min_samples_leaf=5, min_samples_split=7, n_estimators=90;, score=0.789 total time=   0.1s\n",
            "[CV 1/5] END criterion=entropy, max_features=log2, min_samples_leaf=5, min_samples_split=7, n_estimators=100;, score=0.675 total time=   0.1s\n",
            "[CV 2/5] END criterion=entropy, max_features=log2, min_samples_leaf=5, min_samples_split=7, n_estimators=100;, score=0.740 total time=   0.1s\n",
            "[CV 3/5] END criterion=entropy, max_features=log2, min_samples_leaf=5, min_samples_split=7, n_estimators=100;, score=0.805 total time=   0.1s\n",
            "[CV 4/5] END criterion=entropy, max_features=log2, min_samples_leaf=5, min_samples_split=7, n_estimators=100;, score=0.701 total time=   0.1s\n",
            "[CV 5/5] END criterion=entropy, max_features=log2, min_samples_leaf=5, min_samples_split=7, n_estimators=100;, score=0.789 total time=   0.1s\n",
            "[CV 1/5] END criterion=entropy, max_features=log2, min_samples_leaf=5, min_samples_split=7, n_estimators=115;, score=0.675 total time=   0.1s\n",
            "[CV 2/5] END criterion=entropy, max_features=log2, min_samples_leaf=5, min_samples_split=7, n_estimators=115;, score=0.740 total time=   0.1s\n",
            "[CV 3/5] END criterion=entropy, max_features=log2, min_samples_leaf=5, min_samples_split=7, n_estimators=115;, score=0.805 total time=   0.1s\n",
            "[CV 4/5] END criterion=entropy, max_features=log2, min_samples_leaf=5, min_samples_split=7, n_estimators=115;, score=0.701 total time=   0.1s\n",
            "[CV 5/5] END criterion=entropy, max_features=log2, min_samples_leaf=5, min_samples_split=7, n_estimators=115;, score=0.789 total time=   0.2s\n",
            "[CV 1/5] END criterion=entropy, max_features=log2, min_samples_leaf=5, min_samples_split=8, n_estimators=90;, score=0.675 total time=   0.1s\n",
            "[CV 2/5] END criterion=entropy, max_features=log2, min_samples_leaf=5, min_samples_split=8, n_estimators=90;, score=0.740 total time=   0.1s\n",
            "[CV 3/5] END criterion=entropy, max_features=log2, min_samples_leaf=5, min_samples_split=8, n_estimators=90;, score=0.805 total time=   0.1s\n",
            "[CV 4/5] END criterion=entropy, max_features=log2, min_samples_leaf=5, min_samples_split=8, n_estimators=90;, score=0.701 total time=   0.1s\n",
            "[CV 5/5] END criterion=entropy, max_features=log2, min_samples_leaf=5, min_samples_split=8, n_estimators=90;, score=0.789 total time=   0.1s\n",
            "[CV 1/5] END criterion=entropy, max_features=log2, min_samples_leaf=5, min_samples_split=8, n_estimators=100;, score=0.675 total time=   0.1s\n",
            "[CV 2/5] END criterion=entropy, max_features=log2, min_samples_leaf=5, min_samples_split=8, n_estimators=100;, score=0.740 total time=   0.1s\n",
            "[CV 3/5] END criterion=entropy, max_features=log2, min_samples_leaf=5, min_samples_split=8, n_estimators=100;, score=0.805 total time=   0.1s\n",
            "[CV 4/5] END criterion=entropy, max_features=log2, min_samples_leaf=5, min_samples_split=8, n_estimators=100;, score=0.701 total time=   0.1s\n",
            "[CV 5/5] END criterion=entropy, max_features=log2, min_samples_leaf=5, min_samples_split=8, n_estimators=100;, score=0.789 total time=   0.1s\n",
            "[CV 1/5] END criterion=entropy, max_features=log2, min_samples_leaf=5, min_samples_split=8, n_estimators=115;, score=0.675 total time=   0.1s\n",
            "[CV 2/5] END criterion=entropy, max_features=log2, min_samples_leaf=5, min_samples_split=8, n_estimators=115;, score=0.740 total time=   0.2s\n",
            "[CV 3/5] END criterion=entropy, max_features=log2, min_samples_leaf=5, min_samples_split=8, n_estimators=115;, score=0.805 total time=   0.1s\n",
            "[CV 4/5] END criterion=entropy, max_features=log2, min_samples_leaf=5, min_samples_split=8, n_estimators=115;, score=0.701 total time=   0.2s\n",
            "[CV 5/5] END criterion=entropy, max_features=log2, min_samples_leaf=5, min_samples_split=8, n_estimators=115;, score=0.789 total time=   0.1s\n"
          ]
        },
        {
          "output_type": "stream",
          "name": "stderr",
          "text": [
            "/usr/local/lib/python3.10/dist-packages/sklearn/ensemble/_forest.py:424: FutureWarning: `max_features='auto'` has been deprecated in 1.1 and will be removed in 1.3. To keep the past behaviour, explicitly set `max_features='sqrt'` or remove this parameter as it is also the default value for RandomForestClassifiers and ExtraTreesClassifiers.\n",
            "  warn(\n"
          ]
        },
        {
          "output_type": "execute_result",
          "data": {
            "text/plain": [
              "GridSearchCV(cv=5, estimator=RandomForestClassifier(),\n",
              "             param_grid={'criterion': ['gini', 'entropy'],\n",
              "                         'max_features': ['auto', 'log2'],\n",
              "                         'min_samples_leaf': [1, 2, 3, 4, 5],\n",
              "                         'min_samples_split': [4, 5, 6, 7, 8],\n",
              "                         'n_estimators': [90, 100, 115]},\n",
              "             verbose=3)"
            ],
            "text/html": [
              "<style>#sk-container-id-7 {color: black;background-color: white;}#sk-container-id-7 pre{padding: 0;}#sk-container-id-7 div.sk-toggleable {background-color: white;}#sk-container-id-7 label.sk-toggleable__label {cursor: pointer;display: block;width: 100%;margin-bottom: 0;padding: 0.3em;box-sizing: border-box;text-align: center;}#sk-container-id-7 label.sk-toggleable__label-arrow:before {content: \"▸\";float: left;margin-right: 0.25em;color: #696969;}#sk-container-id-7 label.sk-toggleable__label-arrow:hover:before {color: black;}#sk-container-id-7 div.sk-estimator:hover label.sk-toggleable__label-arrow:before {color: black;}#sk-container-id-7 div.sk-toggleable__content {max-height: 0;max-width: 0;overflow: hidden;text-align: left;background-color: #f0f8ff;}#sk-container-id-7 div.sk-toggleable__content pre {margin: 0.2em;color: black;border-radius: 0.25em;background-color: #f0f8ff;}#sk-container-id-7 input.sk-toggleable__control:checked~div.sk-toggleable__content {max-height: 200px;max-width: 100%;overflow: auto;}#sk-container-id-7 input.sk-toggleable__control:checked~label.sk-toggleable__label-arrow:before {content: \"▾\";}#sk-container-id-7 div.sk-estimator input.sk-toggleable__control:checked~label.sk-toggleable__label {background-color: #d4ebff;}#sk-container-id-7 div.sk-label input.sk-toggleable__control:checked~label.sk-toggleable__label {background-color: #d4ebff;}#sk-container-id-7 input.sk-hidden--visually {border: 0;clip: rect(1px 1px 1px 1px);clip: rect(1px, 1px, 1px, 1px);height: 1px;margin: -1px;overflow: hidden;padding: 0;position: absolute;width: 1px;}#sk-container-id-7 div.sk-estimator {font-family: monospace;background-color: #f0f8ff;border: 1px dotted black;border-radius: 0.25em;box-sizing: border-box;margin-bottom: 0.5em;}#sk-container-id-7 div.sk-estimator:hover {background-color: #d4ebff;}#sk-container-id-7 div.sk-parallel-item::after {content: \"\";width: 100%;border-bottom: 1px solid gray;flex-grow: 1;}#sk-container-id-7 div.sk-label:hover label.sk-toggleable__label {background-color: #d4ebff;}#sk-container-id-7 div.sk-serial::before {content: \"\";position: absolute;border-left: 1px solid gray;box-sizing: border-box;top: 0;bottom: 0;left: 50%;z-index: 0;}#sk-container-id-7 div.sk-serial {display: flex;flex-direction: column;align-items: center;background-color: white;padding-right: 0.2em;padding-left: 0.2em;position: relative;}#sk-container-id-7 div.sk-item {position: relative;z-index: 1;}#sk-container-id-7 div.sk-parallel {display: flex;align-items: stretch;justify-content: center;background-color: white;position: relative;}#sk-container-id-7 div.sk-item::before, #sk-container-id-7 div.sk-parallel-item::before {content: \"\";position: absolute;border-left: 1px solid gray;box-sizing: border-box;top: 0;bottom: 0;left: 50%;z-index: -1;}#sk-container-id-7 div.sk-parallel-item {display: flex;flex-direction: column;z-index: 1;position: relative;background-color: white;}#sk-container-id-7 div.sk-parallel-item:first-child::after {align-self: flex-end;width: 50%;}#sk-container-id-7 div.sk-parallel-item:last-child::after {align-self: flex-start;width: 50%;}#sk-container-id-7 div.sk-parallel-item:only-child::after {width: 0;}#sk-container-id-7 div.sk-dashed-wrapped {border: 1px dashed gray;margin: 0 0.4em 0.5em 0.4em;box-sizing: border-box;padding-bottom: 0.4em;background-color: white;}#sk-container-id-7 div.sk-label label {font-family: monospace;font-weight: bold;display: inline-block;line-height: 1.2em;}#sk-container-id-7 div.sk-label-container {text-align: center;}#sk-container-id-7 div.sk-container {/* jupyter's `normalize.less` sets `[hidden] { display: none; }` but bootstrap.min.css set `[hidden] { display: none !important; }` so we also need the `!important` here to be able to override the default hidden behavior on the sphinx rendered scikit-learn.org. See: https://github.com/scikit-learn/scikit-learn/issues/21755 */display: inline-block !important;position: relative;}#sk-container-id-7 div.sk-text-repr-fallback {display: none;}</style><div id=\"sk-container-id-7\" class=\"sk-top-container\"><div class=\"sk-text-repr-fallback\"><pre>GridSearchCV(cv=5, estimator=RandomForestClassifier(),\n",
              "             param_grid={&#x27;criterion&#x27;: [&#x27;gini&#x27;, &#x27;entropy&#x27;],\n",
              "                         &#x27;max_features&#x27;: [&#x27;auto&#x27;, &#x27;log2&#x27;],\n",
              "                         &#x27;min_samples_leaf&#x27;: [1, 2, 3, 4, 5],\n",
              "                         &#x27;min_samples_split&#x27;: [4, 5, 6, 7, 8],\n",
              "                         &#x27;n_estimators&#x27;: [90, 100, 115]},\n",
              "             verbose=3)</pre><b>In a Jupyter environment, please rerun this cell to show the HTML representation or trust the notebook. <br />On GitHub, the HTML representation is unable to render, please try loading this page with nbviewer.org.</b></div><div class=\"sk-container\" hidden><div class=\"sk-item sk-dashed-wrapped\"><div class=\"sk-label-container\"><div class=\"sk-label sk-toggleable\"><input class=\"sk-toggleable__control sk-hidden--visually\" id=\"sk-estimator-id-7\" type=\"checkbox\" ><label for=\"sk-estimator-id-7\" class=\"sk-toggleable__label sk-toggleable__label-arrow\">GridSearchCV</label><div class=\"sk-toggleable__content\"><pre>GridSearchCV(cv=5, estimator=RandomForestClassifier(),\n",
              "             param_grid={&#x27;criterion&#x27;: [&#x27;gini&#x27;, &#x27;entropy&#x27;],\n",
              "                         &#x27;max_features&#x27;: [&#x27;auto&#x27;, &#x27;log2&#x27;],\n",
              "                         &#x27;min_samples_leaf&#x27;: [1, 2, 3, 4, 5],\n",
              "                         &#x27;min_samples_split&#x27;: [4, 5, 6, 7, 8],\n",
              "                         &#x27;n_estimators&#x27;: [90, 100, 115]},\n",
              "             verbose=3)</pre></div></div></div><div class=\"sk-parallel\"><div class=\"sk-parallel-item\"><div class=\"sk-item\"><div class=\"sk-label-container\"><div class=\"sk-label sk-toggleable\"><input class=\"sk-toggleable__control sk-hidden--visually\" id=\"sk-estimator-id-8\" type=\"checkbox\" ><label for=\"sk-estimator-id-8\" class=\"sk-toggleable__label sk-toggleable__label-arrow\">estimator: RandomForestClassifier</label><div class=\"sk-toggleable__content\"><pre>RandomForestClassifier()</pre></div></div></div><div class=\"sk-serial\"><div class=\"sk-item\"><div class=\"sk-estimator sk-toggleable\"><input class=\"sk-toggleable__control sk-hidden--visually\" id=\"sk-estimator-id-9\" type=\"checkbox\" ><label for=\"sk-estimator-id-9\" class=\"sk-toggleable__label sk-toggleable__label-arrow\">RandomForestClassifier</label><div class=\"sk-toggleable__content\"><pre>RandomForestClassifier()</pre></div></div></div></div></div></div></div></div></div></div>"
            ]
          },
          "metadata": {},
          "execution_count": 40
        }
      ]
    },
    {
      "cell_type": "code",
      "source": [
        "grid_search.best_params_"
      ],
      "metadata": {
        "colab": {
          "base_uri": "https://localhost:8080/"
        },
        "id": "nBGtajYdBv-L",
        "outputId": "4aefda57-499d-42f8-c1f8-6fa61ac28c55"
      },
      "execution_count": 41,
      "outputs": [
        {
          "output_type": "execute_result",
          "data": {
            "text/plain": [
              "{'criterion': 'gini',\n",
              " 'max_features': 'auto',\n",
              " 'min_samples_leaf': 1,\n",
              " 'min_samples_split': 4,\n",
              " 'n_estimators': 90}"
            ]
          },
          "metadata": {},
          "execution_count": 41
        }
      ]
    },
    {
      "cell_type": "code",
      "source": [
        "rand_clf=RandomForestClassifier(criterion='gini',max_features='auto',min_samples_leaf=1,min_samples_split=4,n_estimators=90)"
      ],
      "metadata": {
        "id": "sNzDifZaC56Q"
      },
      "execution_count": 44,
      "outputs": []
    },
    {
      "cell_type": "code",
      "source": [
        "rand_clf.fit(predict_val,validation_test)\n",
        "rand_clf.score(predict_test,y_test)"
      ],
      "metadata": {
        "colab": {
          "base_uri": "https://localhost:8080/"
        },
        "id": "nLnK-d7sDR6i",
        "outputId": "a277d030-46e1-4e5f-9046-0e84acdfd8fb"
      },
      "execution_count": 47,
      "outputs": [
        {
          "output_type": "stream",
          "name": "stderr",
          "text": [
            "/usr/local/lib/python3.10/dist-packages/sklearn/ensemble/_forest.py:424: FutureWarning: `max_features='auto'` has been deprecated in 1.1 and will be removed in 1.3. To keep the past behaviour, explicitly set `max_features='sqrt'` or remove this parameter as it is also the default value for RandomForestClassifiers and ExtraTreesClassifiers.\n",
            "  warn(\n"
          ]
        },
        {
          "output_type": "execute_result",
          "data": {
            "text/plain": [
              "0.7402597402597403"
            ]
          },
          "metadata": {},
          "execution_count": 47
        }
      ]
    },
    {
      "cell_type": "code",
      "source": [],
      "metadata": {
        "id": "_OF3bpSIDbiu"
      },
      "execution_count": null,
      "outputs": []
    }
  ]
}